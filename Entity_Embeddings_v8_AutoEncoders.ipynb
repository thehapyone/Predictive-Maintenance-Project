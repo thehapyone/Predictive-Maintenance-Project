{
  "nbformat": 4,
  "nbformat_minor": 0,
  "metadata": {
    "colab": {
      "name": "Entity Embeddings_v8 - AutoEncoders.ipynb",
      "provenance": [],
      "collapsed_sections": [],
      "machine_shape": "hm",
      "include_colab_link": true
    },
    "kernelspec": {
      "name": "python3",
      "display_name": "Python 3"
    }
  },
  "cells": [
    {
      "cell_type": "markdown",
      "metadata": {
        "id": "view-in-github",
        "colab_type": "text"
      },
      "source": [
        "<a href=\"https://colab.research.google.com/github/thehapyone/Thesis_Project/blob/master/Entity_Embeddings_v8_AutoEncoders.ipynb\" target=\"_parent\"><img src=\"https://colab.research.google.com/assets/colab-badge.svg\" alt=\"Open In Colab\"/></a>"
      ]
    },
    {
      "cell_type": "markdown",
      "metadata": {
        "id": "UBH4RjYX1OGw",
        "colab_type": "text"
      },
      "source": [
        "# Learned Embeddings - AutoEncoders\n",
        "This program will attempt to create embeddings for the categorical features using the pipelines code developed."
      ]
    },
    {
      "cell_type": "markdown",
      "metadata": {
        "id": "1kS2iuLi1tCV",
        "colab_type": "text"
      },
      "source": [
        "function ClickConnect(){\n",
        "console.log(\"Working\");\n",
        "document.querySelector(\"colab-connect-button\").shadowRoot.getElementById('connect').click()\n",
        "}\n",
        "setInterval(ClickConnect,60000)"
      ]
    },
    {
      "cell_type": "code",
      "metadata": {
        "id": "R7mCtb7J1TX8",
        "colab_type": "code",
        "outputId": "0b67fc9e-a6a0-46ae-b930-a3515a16f7c6",
        "colab": {
          "base_uri": "https://localhost:8080/",
          "height": 123
        }
      },
      "source": [
        "from google.colab import drive\n",
        "drive.mount('/content/drive', force_remount=False)"
      ],
      "execution_count": 0,
      "outputs": [
        {
          "output_type": "stream",
          "text": [
            "Go to this URL in a browser: https://accounts.google.com/o/oauth2/auth?client_id=947318989803-6bn6qk8qdgf4n4g3pfee6491hc0brc4i.apps.googleusercontent.com&redirect_uri=urn%3aietf%3awg%3aoauth%3a2.0%3aoob&response_type=code&scope=email%20https%3a%2f%2fwww.googleapis.com%2fauth%2fdocs.test%20https%3a%2f%2fwww.googleapis.com%2fauth%2fdrive%20https%3a%2f%2fwww.googleapis.com%2fauth%2fdrive.photos.readonly%20https%3a%2f%2fwww.googleapis.com%2fauth%2fpeopleapi.readonly\n",
            "\n",
            "Enter your authorization code:\n",
            "··········\n",
            "Mounted at /content/drive\n"
          ],
          "name": "stdout"
        }
      ]
    },
    {
      "cell_type": "code",
      "metadata": {
        "id": "kc1JPb4v074V",
        "colab_type": "code",
        "outputId": "b659d3f9-d25a-480c-8199-e402c158517d",
        "colab": {
          "base_uri": "https://localhost:8080/",
          "height": 51
        }
      },
      "source": [
        "import pandas as pd\n",
        "import numpy as np\n",
        "import seaborn as sns\n",
        "import matplotlib.pyplot as plt\n",
        "import copy as copy"
      ],
      "execution_count": 0,
      "outputs": [
        {
          "output_type": "stream",
          "text": [
            "/usr/local/lib/python3.6/dist-packages/statsmodels/tools/_testing.py:19: FutureWarning: pandas.util.testing is deprecated. Use the functions in the public API at pandas.testing instead.\n",
            "  import pandas.util.testing as tm\n"
          ],
          "name": "stderr"
        }
      ]
    },
    {
      "cell_type": "code",
      "metadata": {
        "id": "BRGnXWAW-rXj",
        "colab_type": "code",
        "colab": {}
      },
      "source": [
        "import sys\n",
        "sys.path.append('drive/My Drive/Thesis/Collab Notebooks/')"
      ],
      "execution_count": 0,
      "outputs": []
    },
    {
      "cell_type": "code",
      "metadata": {
        "id": "mVU9EuJE-O1U",
        "colab_type": "code",
        "colab": {}
      },
      "source": [
        "#%run drive/\"My Drive\"/Thesis/\"Collab Notebooks\"/category_pipeline.ipynb\n",
        "#%load"
      ],
      "execution_count": 0,
      "outputs": []
    },
    {
      "cell_type": "code",
      "metadata": {
        "id": "OjSOi7PZ1VFx",
        "colab_type": "code",
        "colab": {}
      },
      "source": [
        "# using the latest updated file\n",
        "#data = pd.read_csv(\"drive/My Drive/Thesis/data/Data_Engineering/Edited_Raw_Data/v3_Sorted_Raw_Db_with_RUL.csv\", sep=',', low_memory=False)\n",
        "#data = pd.read_csv(\"drive/My Drive/Thesis/data/Feature_Engineering/KNN_Imputed_Datasets/KNN_Imputed_k_40.csv\", sep=',', low_memory=False)\n",
        "#data = pd.read_csv(\"drive/My Drive/Thesis/data/Data_Engineering/Edited_Raw_Data/v2_Sorted_Database.csv\", sep=',', low_memory=False)\n",
        "#ata = pd.read_csv(\"drive/My Drive/Thesis/data/Data_Engineering/Edited_Raw_Data/v4_Sorted_Raw_Db_with_RUL_imputed.csv\", sep=',', low_memory=False)\n",
        "#data = pd.read_csv(\"drive/My Drive/Thesis/data/Embedding_Data/sorted_data_new_full.csv\", sep=',', low_memory=False)\n",
        "data = pd.read_csv(\"drive/My Drive/Thesis/data/Embedding_Data/v2_sorted_data_new.csv\", sep=',', low_memory=False)\n",
        "data2 = pd.read_csv(\"drive/My Drive/Thesis/data/Data_Engineering/Edited_Raw_Data/v5_Sorted_Raw_Db_with_RUL_imputed.csv\", sep=',', low_memory=False)\n",
        "\n",
        "\n"
      ],
      "execution_count": 0,
      "outputs": []
    },
    {
      "cell_type": "markdown",
      "metadata": {
        "id": "QP0LunVOA0up",
        "colab_type": "text"
      },
      "source": [
        "## Pipeline Extraction"
      ]
    },
    {
      "cell_type": "code",
      "metadata": {
        "id": "A9yR1sOn3G2v",
        "colab_type": "code",
        "colab": {}
      },
      "source": [
        "# Applying the Extraction pipeline\n",
        "# first stage of the pipeline\n",
        "from extraction_pipeline import *\n",
        "from category_pipeline import *"
      ],
      "execution_count": 0,
      "outputs": []
    },
    {
      "cell_type": "code",
      "metadata": {
        "id": "1OslT0fhAvY7",
        "colab_type": "code",
        "outputId": "14abfe10-2ab7-4059-c3b2-c98e5e12987f",
        "colab": {
          "base_uri": "https://localhost:8080/",
          "height": 34
        }
      },
      "source": [
        "'''\n",
        "# remove duplicates\n",
        "#data = removeDuplicates(data, debug=True)\n",
        "data = data.drop(labels=['DELIVERY_DATE.1'], axis=1)\n",
        "print ('After duplicates removal - ',data.shape)\n",
        "\n",
        "# the only duplicate column discovered was - ['DELIVERY_DATE.1']\n",
        "print ('After duplicates removal - ',data.shape)\n",
        "# Remove zero variance\n",
        "data = removeZeroVariance(data, debug=True)\n",
        "print ('After Zero Variance removal - ',data.shape)\n",
        "'''\n",
        "# drop redundant features\n",
        "#data = dropRedundantFeatures(data)\n",
        "print ('After Redundant Drop removal - ',data.shape)\n"
      ],
      "execution_count": 0,
      "outputs": [
        {
          "output_type": "stream",
          "text": [
            "After Redundant Drop removal -  (19954, 75)\n"
          ],
          "name": "stdout"
        }
      ]
    },
    {
      "cell_type": "code",
      "metadata": {
        "id": "yEc9TSQTatHZ",
        "colab_type": "code",
        "colab": {}
      },
      "source": [
        ""
      ],
      "execution_count": 0,
      "outputs": []
    },
    {
      "cell_type": "code",
      "metadata": {
        "id": "9VO1pnQzS3Y6",
        "colab_type": "code",
        "outputId": "b82c0b36-30a1-4160-9962-6812e31d40b5",
        "colab": {
          "base_uri": "https://localhost:8080/",
          "height": 34
        }
      },
      "source": [
        "# date extractor\n",
        "# data = dateInfoExtractor(raw_data=data, debug=False)\n",
        "print ('After date extractor - ',data.shape)"
      ],
      "execution_count": 0,
      "outputs": [
        {
          "output_type": "stream",
          "text": [
            "After date extractor -  (19954, 75)\n"
          ],
          "name": "stdout"
        }
      ]
    },
    {
      "cell_type": "code",
      "metadata": {
        "id": "omgICBK5CRHm",
        "colab_type": "code",
        "outputId": "1b60ddf7-8add-4743-befb-bcb6511a16cb",
        "colab": {
          "base_uri": "https://localhost:8080/",
          "height": 433
        }
      },
      "source": [
        "# missing values analysis\n",
        "#\n",
        "print (\"missing values rate before: \", 100 * (data.isnull().sum().sort_values(ascending=False) / data.shape[0]) )\n",
        "#data = fillMissingValues(data)\n",
        "print (\"missing values rate after: \", 100 * (data.isnull().sum().sort_values(ascending=False) / data.shape[0]) )\n"
      ],
      "execution_count": 0,
      "outputs": [
        {
          "output_type": "stream",
          "text": [
            "missing values rate before:  T_CHASSIS                              0.0\n",
            "VAR_2DX_REAR_CAB_SUSPENSION            0.0\n",
            "VAR_FFX_PUSHER_AXLE_FEATURES           0.0\n",
            "VAR_5CB_AIR_SUSP_FEATURE_SOFTWARE      0.0\n",
            "VAR_2GB_CLUTCHABLE_AIR_COMPRESSOR      0.0\n",
            "                                      ... \n",
            "VAR_T3X_PTO_ENGINE_REAR_MOUNTED        0.0\n",
            "VAR_PJX_ALTERNATOR_CAPACITY            0.0\n",
            "VAR_41X_PARKING_HEATER                 0.0\n",
            "VAR_D7C_WHOLE_VEHICLE_TYPE_APPROVAL    0.0\n",
            "DAY                                    0.0\n",
            "Length: 75, dtype: float64\n",
            "missing values rate after:  T_CHASSIS                              0.0\n",
            "VAR_2DX_REAR_CAB_SUSPENSION            0.0\n",
            "VAR_FFX_PUSHER_AXLE_FEATURES           0.0\n",
            "VAR_5CB_AIR_SUSP_FEATURE_SOFTWARE      0.0\n",
            "VAR_2GB_CLUTCHABLE_AIR_COMPRESSOR      0.0\n",
            "                                      ... \n",
            "VAR_T3X_PTO_ENGINE_REAR_MOUNTED        0.0\n",
            "VAR_PJX_ALTERNATOR_CAPACITY            0.0\n",
            "VAR_41X_PARKING_HEATER                 0.0\n",
            "VAR_D7C_WHOLE_VEHICLE_TYPE_APPROVAL    0.0\n",
            "DAY                                    0.0\n",
            "Length: 75, dtype: float64\n"
          ],
          "name": "stdout"
        }
      ]
    },
    {
      "cell_type": "markdown",
      "metadata": {
        "id": "d14TT33eD3Qb",
        "colab_type": "text"
      },
      "source": [
        "## Category Pipeline\n"
      ]
    },
    {
      "cell_type": "code",
      "metadata": {
        "id": "EsHVm38hD5V_",
        "colab_type": "code",
        "outputId": "c6e4618b-55ae-45b8-aa0f-529591db653c",
        "colab": {
          "base_uri": "https://localhost:8080/",
          "height": 34
        }
      },
      "source": [
        "# Date transformation\n",
        "#data = extraTrasfromToCategory(data, debug=True)\n",
        "\n",
        "'''\n",
        "# Zero Variance removal\n",
        "data = removeZeroCategory(data)\n",
        "print ('After all removal pipeline - ',data.shape)\n",
        "'''"
      ],
      "execution_count": 0,
      "outputs": [
        {
          "output_type": "execute_result",
          "data": {
            "text/plain": [
              "\"\\n# Zero Variance removal\\ndata = removeZeroCategory(data)\\nprint ('After all removal pipeline - ',data.shape)\\n\""
            ]
          },
          "metadata": {
            "tags": []
          },
          "execution_count": 177
        }
      ]
    },
    {
      "cell_type": "code",
      "metadata": {
        "id": "uF2B3mwOqYOD",
        "colab_type": "code",
        "colab": {}
      },
      "source": [
        "'''# First time \n",
        "# find all categorical features.\n",
        "data_cat = data.select_dtypes(include='object')\n",
        "cat_features_df = embeddingSizeExtract(data_categorical=data_cat)\n",
        "cat_features_df\n",
        "\n",
        "# save this embedding dataframe information to a csv file\n",
        "cat_features_df.to_csv(\"drive/My Drive/Thesis/data/Embedding_Data/cat_embedding_details.csv\", sep=',', index=False)\n",
        "'''\n",
        "# load this information from the save csv file\n",
        "cat_features_df = pd.read_csv(\"drive/My Drive/Thesis/data/Embedding_Data/cat_embedding_details.csv\", sep=',', low_memory=False)"
      ],
      "execution_count": 0,
      "outputs": []
    },
    {
      "cell_type": "code",
      "metadata": {
        "id": "XT3qQRpsgrEO",
        "colab_type": "code",
        "outputId": "f9df9e01-970b-4bd7-944d-c6ec19550daf",
        "colab": {
          "base_uri": "https://localhost:8080/",
          "height": 415
        }
      },
      "source": [
        "cat_features_df"
      ],
      "execution_count": 0,
      "outputs": [
        {
          "output_type": "execute_result",
          "data": {
            "text/html": [
              "<div>\n",
              "<style scoped>\n",
              "    .dataframe tbody tr th:only-of-type {\n",
              "        vertical-align: middle;\n",
              "    }\n",
              "\n",
              "    .dataframe tbody tr th {\n",
              "        vertical-align: top;\n",
              "    }\n",
              "\n",
              "    .dataframe thead th {\n",
              "        text-align: right;\n",
              "    }\n",
              "</style>\n",
              "<table border=\"1\" class=\"dataframe\">\n",
              "  <thead>\n",
              "    <tr style=\"text-align: right;\">\n",
              "      <th></th>\n",
              "      <th>Feature</th>\n",
              "      <th>Cardinality</th>\n",
              "      <th>Embedding_Size</th>\n",
              "    </tr>\n",
              "  </thead>\n",
              "  <tbody>\n",
              "    <tr>\n",
              "      <th>0</th>\n",
              "      <td>DAY</td>\n",
              "      <td>2</td>\n",
              "      <td>1</td>\n",
              "    </tr>\n",
              "    <tr>\n",
              "      <th>1</th>\n",
              "      <td>MONTH</td>\n",
              "      <td>12</td>\n",
              "      <td>6</td>\n",
              "    </tr>\n",
              "    <tr>\n",
              "      <th>2</th>\n",
              "      <td>YEAR</td>\n",
              "      <td>4</td>\n",
              "      <td>2</td>\n",
              "    </tr>\n",
              "    <tr>\n",
              "      <th>3</th>\n",
              "      <td>VAR_7MA_FRONT_AXLE_TYPE</td>\n",
              "      <td>2</td>\n",
              "      <td>1</td>\n",
              "    </tr>\n",
              "    <tr>\n",
              "      <th>4</th>\n",
              "      <td>VAR_DPX_ENGINE_TYPE</td>\n",
              "      <td>3</td>\n",
              "      <td>2</td>\n",
              "    </tr>\n",
              "    <tr>\n",
              "      <th>...</th>\n",
              "      <td>...</td>\n",
              "      <td>...</td>\n",
              "      <td>...</td>\n",
              "    </tr>\n",
              "    <tr>\n",
              "      <th>69</th>\n",
              "      <td>VFE_0009_LTVF_TYPE</td>\n",
              "      <td>6</td>\n",
              "      <td>3</td>\n",
              "    </tr>\n",
              "    <tr>\n",
              "      <th>70</th>\n",
              "      <td>VFE_0005_VEHICLE_OPERATION_DIGIT1</td>\n",
              "      <td>5</td>\n",
              "      <td>3</td>\n",
              "    </tr>\n",
              "    <tr>\n",
              "      <th>71</th>\n",
              "      <td>VFE_0006_VEHICLE_OPERATION_DIGIT2</td>\n",
              "      <td>9</td>\n",
              "      <td>5</td>\n",
              "    </tr>\n",
              "    <tr>\n",
              "      <th>72</th>\n",
              "      <td>VFE_0007_CAB_HEIGHT</td>\n",
              "      <td>7</td>\n",
              "      <td>4</td>\n",
              "    </tr>\n",
              "    <tr>\n",
              "      <th>73</th>\n",
              "      <td>VFE_0008_HAS_PTO</td>\n",
              "      <td>2</td>\n",
              "      <td>1</td>\n",
              "    </tr>\n",
              "  </tbody>\n",
              "</table>\n",
              "<p>74 rows × 3 columns</p>\n",
              "</div>"
            ],
            "text/plain": [
              "                              Feature  Cardinality  Embedding_Size\n",
              "0                                 DAY            2               1\n",
              "1                               MONTH           12               6\n",
              "2                                YEAR            4               2\n",
              "3             VAR_7MA_FRONT_AXLE_TYPE            2               1\n",
              "4                 VAR_DPX_ENGINE_TYPE            3               2\n",
              "..                                ...          ...             ...\n",
              "69                 VFE_0009_LTVF_TYPE            6               3\n",
              "70  VFE_0005_VEHICLE_OPERATION_DIGIT1            5               3\n",
              "71  VFE_0006_VEHICLE_OPERATION_DIGIT2            9               5\n",
              "72                VFE_0007_CAB_HEIGHT            7               4\n",
              "73                   VFE_0008_HAS_PTO            2               1\n",
              "\n",
              "[74 rows x 3 columns]"
            ]
          },
          "metadata": {
            "tags": []
          },
          "execution_count": 179
        }
      ]
    },
    {
      "cell_type": "markdown",
      "metadata": {
        "id": "tZaoYjIUgqtx",
        "colab_type": "text"
      },
      "source": [
        ""
      ]
    },
    {
      "cell_type": "code",
      "metadata": {
        "id": "E3OwJu5BMlcU",
        "colab_type": "code",
        "outputId": "9a14d964-6a2d-4439-b3df-396393fdcc6a",
        "colab": {
          "base_uri": "https://localhost:8080/",
          "height": 34
        }
      },
      "source": [
        "data.shape"
      ],
      "execution_count": 0,
      "outputs": [
        {
          "output_type": "execute_result",
          "data": {
            "text/plain": [
              "(19954, 75)"
            ]
          },
          "metadata": {
            "tags": []
          },
          "execution_count": 180
        }
      ]
    },
    {
      "cell_type": "markdown",
      "metadata": {
        "id": "JyCRLRt0TouM",
        "colab_type": "text"
      },
      "source": [
        "(336677, 449)"
      ]
    },
    {
      "cell_type": "markdown",
      "metadata": {
        "id": "GdiyToTSLkgr",
        "colab_type": "text"
      },
      "source": [
        "# Training and Validation Data Extraction\n",
        "Based on the previous understanding. We are going to have to nature of data\n",
        "- Numerical Features and Catgorical Features.\n",
        "The Numerical features have a total of 362 features while the Categorical feature has 74 features.\n",
        "\n",
        "We will have Training and Validation data."
      ]
    },
    {
      "cell_type": "code",
      "metadata": {
        "id": "7B7KXV8TMb4P",
        "colab_type": "code",
        "colab": {}
      },
      "source": [
        "'''\n",
        "# extracting the categorical features\n",
        "# extracting the categorical features\n",
        "cat_features = cat_features_df['Feature'].values\n",
        "# numerical features are\n",
        "num_features = data.select_dtypes(exclude='object').columns\n",
        "\n",
        "# create a dataframe of the numerical and categorical features and store the result\n",
        "feature_names_cat = pd.DataFrame(data=None)\n",
        "feature_names_num = pd.DataFrame(data=None)\n",
        "feature_names_num['Numerical'] = num_features\n",
        "feature_names_cat['Categorical'] = cat_features\n",
        "\n",
        "# save this feature names of categorical and numerical features to a csv files\n",
        "feature_names_cat.to_csv(\"drive/My Drive/Thesis/data/Embedding_Data/feature_names_cat.csv\", sep=',', index=False)\n",
        "# save this feature names of categorical and numerical features to a csv files\n",
        "feature_names_num.to_csv(\"drive/My Drive/Thesis/data/Embedding_Data/feature_names_num.csv\", sep=',', index=False)\n",
        "'''\n",
        "# load feature names from db\n",
        "feature_names_cat = pd.read_csv(\"drive/My Drive/Thesis/data/Embedding_Data/feature_names_cat.csv\", sep=',', low_memory=False)\n",
        "feature_names_num = pd.read_csv(\"drive/My Drive/Thesis/data/Embedding_Data/feature_names_num.csv\", sep=',', low_memory=False)\n"
      ],
      "execution_count": 0,
      "outputs": []
    },
    {
      "cell_type": "code",
      "metadata": {
        "id": "8CXhVQs-IA5a",
        "colab_type": "code",
        "colab": {}
      },
      "source": [
        "# fetch the categorical and numerical features\n",
        "cat_features = feature_names_cat['Categorical'].values\n",
        "num_features = feature_names_num['Numerical'].values\n"
      ],
      "execution_count": 0,
      "outputs": []
    },
    {
      "cell_type": "code",
      "metadata": {
        "id": "MUXnA-Sw-dkA",
        "colab_type": "code",
        "colab": {}
      },
      "source": [
        "features = list(cat_features)\n",
        "features.append('T_CHASSIS')"
      ],
      "execution_count": 0,
      "outputs": []
    },
    {
      "cell_type": "code",
      "metadata": {
        "id": "n8CwhZ8b8U1v",
        "colab_type": "code",
        "colab": {}
      },
      "source": [
        "data = data[features].dropna()"
      ],
      "execution_count": 0,
      "outputs": []
    },
    {
      "cell_type": "code",
      "metadata": {
        "id": "ESuQ3azizCCd",
        "colab_type": "code",
        "colab": {}
      },
      "source": [
        "from sklearn.model_selection import train_test_split, GroupShuffleSplit\n",
        "# for cross validation, we can use Group KFold spliting - GroupShuffleSplit\n"
      ],
      "execution_count": 0,
      "outputs": []
    },
    {
      "cell_type": "code",
      "metadata": {
        "id": "W9Y43CX2QWmC",
        "colab_type": "code",
        "colab": {}
      },
      "source": [
        "# Function for assisting in spliting the data\n",
        "def validationSplit(data_in, split=0.2, toShuffle=False):\n",
        "  # here we will split the data\n",
        "  # splitting by chassis\n",
        "  chassis_data = data_in['T_CHASSIS'].unique()\n",
        "  # splitting the chassis data\n",
        "  c_train, c_val = train_test_split(chassis_data, test_size=split, random_state=42, shuffle=toShuffle)\n",
        "  # extracting out the training and testing\n",
        "  train_data = data_in[data_in['T_CHASSIS'].isin(c_train)].reset_index(drop=True)\n",
        "  test_data = data_in[data_in['T_CHASSIS'].isin(c_val)].reset_index(drop=True)\n",
        "  return train_data, test_data\n"
      ],
      "execution_count": 0,
      "outputs": []
    },
    {
      "cell_type": "code",
      "metadata": {
        "id": "bvmIGc_l5Itv",
        "colab_type": "code",
        "colab": {}
      },
      "source": [
        "# Function for assisting in spliting the data\n",
        "def crossValidationSplit(data_in, split=0.2, toShuffle=False):\n",
        "  # here we will split the data based on their chassis grouping\n",
        "  chassis_group = data['T_CHASSIS'].values\n",
        "  ## generating the Group Parameters\n",
        "  c_split = GroupShuffleSplit(n_splits=2, test_size=0.2, random_state=42)\n",
        "  '''\n",
        "  # splitting the data\n",
        "  for train_idx, test_idx in c_split.split(data.values, groups=chassis_group):\n",
        "    print(\"TRAIN:\", data.values[train_idx].shape, \"TEST:\", data.values[test_idx].shape)\n",
        "  '''\n",
        "  return c_split"
      ],
      "execution_count": 0,
      "outputs": []
    },
    {
      "cell_type": "markdown",
      "metadata": {
        "id": "haaA1p20Q61b",
        "colab_type": "text"
      },
      "source": [
        "### Train Splitting"
      ]
    },
    {
      "cell_type": "code",
      "metadata": {
        "id": "bkZbVVhbQCU5",
        "colab_type": "code",
        "outputId": "a086de48-6a9f-4c94-d764-a1c8bbb05bdd",
        "colab": {
          "base_uri": "https://localhost:8080/",
          "height": 34
        }
      },
      "source": [
        "#data_t.to_csv(\"drive/My Drive/Thesis/data/Embedding_Data/chassis_training_data.csv\", sep=',', index=False)\n",
        "#data_v.to_csv(\"drive/My Drive/Thesis/data/Embedding_Data/chassis_testing_data.csv\", sep=',', index=False)\n",
        "\n",
        "data_t, data_v = validationSplit(data, split=0.2)\n",
        "data_t.shape, data_v.shape"
      ],
      "execution_count": 0,
      "outputs": [
        {
          "output_type": "execute_result",
          "data": {
            "text/plain": [
              "((16131, 75), (3823, 75))"
            ]
          },
          "metadata": {
            "tags": []
          },
          "execution_count": 188
        }
      ]
    },
    {
      "cell_type": "markdown",
      "metadata": {
        "id": "twp6hyyLNLHg",
        "colab_type": "text"
      },
      "source": [
        "## Category Summary\n",
        "In summary, we have a total of 74 categories. They can be used to filter new data sources instead of going through the whole extaction and category pipeline all over again."
      ]
    },
    {
      "cell_type": "markdown",
      "metadata": {
        "id": "nyyKppBvVfuA",
        "colab_type": "text"
      },
      "source": [
        "## Handling numerical features\n",
        "We have a total of 362 numerical features"
      ]
    },
    {
      "cell_type": "markdown",
      "metadata": {
        "id": "pXfQPjtd2Heq",
        "colab_type": "text"
      },
      "source": [
        "## Embeddings"
      ]
    },
    {
      "cell_type": "markdown",
      "metadata": {
        "id": "ODkykfeJQUuB",
        "colab_type": "text"
      },
      "source": [
        "In order to apply embeddings for out categorical variables. We need to first determine which features are categorical variable and which are not. We need to ensure we caputure all possible cases of the categorical features. \n",
        "\n",
        "Okay, then for each categorical variable we need to capture the cardinalty of the feature iteself."
      ]
    },
    {
      "cell_type": "code",
      "metadata": {
        "id": "RAZb5vWk2Je9",
        "colab_type": "code",
        "colab": {}
      },
      "source": [
        "# use tensorflow version 2\n",
        "%tensorflow_version 2.x"
      ],
      "execution_count": 0,
      "outputs": []
    },
    {
      "cell_type": "code",
      "metadata": {
        "id": "t0-PSyCt2P6e",
        "colab_type": "code",
        "colab": {}
      },
      "source": [
        "from tensorflow.keras.models import Sequential, Model\n",
        "from tensorflow.keras.layers import Embedding, Input, Reshape, Concatenate, Dense, Flatten, Dropout\n",
        "\n",
        "from tensorflow.keras.callbacks import TensorBoard\n",
        "import os\n",
        "import datetime\n",
        "\n",
        "from tensorflow.keras.utils import plot_model\n",
        "from tensorflow.keras.callbacks import EarlyStopping"
      ],
      "execution_count": 0,
      "outputs": []
    },
    {
      "cell_type": "code",
      "metadata": {
        "id": "I8_MlT2hIjbM",
        "colab_type": "code",
        "colab": {}
      },
      "source": [
        "#from tensorflow.summary import create_file_writer\n",
        "#  TensorFlow and the TensorBoard HParams plugin:\n",
        "import tensorflow as tf\n",
        "from tensorboard.plugins.hparams import api as hp\n"
      ],
      "execution_count": 0,
      "outputs": []
    },
    {
      "cell_type": "code",
      "metadata": {
        "id": "2dpOOuoP4VqX",
        "colab_type": "code",
        "colab": {}
      },
      "source": [
        "### Write metadata file for embeddings\n",
        "def write_metadata(filename, labels):\n",
        "    \"\"\"\n",
        "            Create a metadata file image consisting of sample indices and labels\n",
        "            :param filename: name of the file to save on disk\n",
        "            :param shape: tensor of labels\n",
        "    \"\"\"\n",
        "    with open(filename, 'w') as f:\n",
        "        f.write(\"Index\\tLabel\\n\")\n",
        "        for index, label in enumerate(labels):\n",
        "            f.write(\"{}\\t{}\\n\".format(index, label))\n",
        "\n",
        "    print('Metadata file saved in {}'.format(filename))\n",
        "    "
      ],
      "execution_count": 0,
      "outputs": []
    },
    {
      "cell_type": "code",
      "metadata": {
        "id": "RnxmI0JS5LB0",
        "colab_type": "code",
        "colab": {}
      },
      "source": [
        "#data_t[cat_features].nunique()"
      ],
      "execution_count": 0,
      "outputs": []
    },
    {
      "cell_type": "code",
      "metadata": {
        "id": "MzbfaxgV5CeK",
        "colab_type": "code",
        "colab": {}
      },
      "source": [
        "feature_col_labels = pd.factorize(data_t.loc[:, 'VFE_0007_CAB_HEIGHT'].values)[0]\n",
        "metadata_path = \"drive/My Drive/Thesis/data/Embedding_Data/metadata_CAB_HEIGHT.tsv\"\n",
        "#write_metadata(metadata_path, feature_col_labels)"
      ],
      "execution_count": 0,
      "outputs": []
    },
    {
      "cell_type": "code",
      "metadata": {
        "id": "TJoBX4JQ9j6A",
        "colab_type": "code",
        "colab": {}
      },
      "source": [
        "embeddings_meta = {'Embedding_layer_VFE_0007_CAB_HEIGHT':metadata_path}\n"
      ],
      "execution_count": 0,
      "outputs": []
    },
    {
      "cell_type": "markdown",
      "metadata": {
        "id": "fZ7QrIuDcXd6",
        "colab_type": "text"
      },
      "source": [
        "### Saving and Loading Embeddings"
      ]
    },
    {
      "cell_type": "code",
      "metadata": {
        "id": "VWQrVg012oYE",
        "colab_type": "code",
        "colab": {}
      },
      "source": [
        "# Goal\n",
        "'''\n",
        "Write a function, when given a categorical variable, it will generate the vector representation for that variable.\n",
        "In order to achieve that, we first need to map very categorical variable to some numerical index value. This value \n",
        "has to be unique and not random. \n",
        "'''\n",
        "\n",
        "def transfromForEmbed(data_cat, cat_feature_name='', cat_mapping=''):\n",
        "  # find the cat_index for all the features\n",
        "  def findCatIndex(x):\n",
        "    return int(cat_mapping[cat_mapping[cat_feature_name] == x][cat_feature_name+'_index'].values[0])\n",
        "  output = data_cat[cat_feature_name].apply(findCatIndex) \n",
        "  return output\n",
        "\n",
        "def embedTransform(model=None, variable='', cat_feature_name='', cat_mapping='', return_type=1):\n",
        "  # Given a categorical variable, produce the embedded vector\n",
        "  # Find the index of the categorical variable in the cat_mapping dataframe\n",
        "  cat_index = int(cat_mapping[cat_mapping[cat_feature_name] == variable][cat_feature_name+'_index'].values[0])\n",
        "  if return_type == 0:\n",
        "    return cat_index\n",
        "  # fetch the embeddings weights\n",
        "  pre_embedding = \"Embedding_layer_\"\n",
        "  embed_layer = model.get_layer(name=pre_embedding+cat_feature_name)\n",
        "  embedd_vector = embed_layer.get_weights()[0][cat_index]\n",
        "  return embedd_vector\n",
        "\n",
        "def createCatMapping(data_cat):\n",
        "  # this function will create a mapping dataframe\n",
        "  cat_size = data_cat.shape[1]\n",
        "  feature_names = data_cat.columns\n",
        "\n",
        "  cat_mapping = pd.DataFrame()\n",
        "\n",
        "  col_mapping_list = list()\n",
        "  col_mapping_cols = list()\n",
        "  # try for all dataframes\n",
        "  for i in range(cat_size):\n",
        "    col_indexs = list(pd.factorize(data_cat.iloc[:, i].unique())[0])\n",
        "    # save to list\n",
        "    col_mapping_list.append(list(data_cat.iloc[:, i].unique()))\n",
        "    col_mapping_list.append(col_indexs)\n",
        "    # save the column name as well\n",
        "    col_mapping_cols.append(feature_names[i])\n",
        "    col_mapping_cols.append(feature_names[i]+'_index')\n",
        "\n",
        "  # now we need to save the list to a dataframe\n",
        "  cat_mapping = pd.DataFrame(col_mapping_list)\n",
        "  # transpose it\n",
        "  cat_mapping = cat_mapping.transpose()\n",
        "  # update the columns names\n",
        "  cat_mapping.columns = col_mapping_cols\n",
        "\n",
        "  # save to the dataframe\n",
        "  cat_mapping.to_csv(\"drive/My Drive/Thesis/data/Embedding_Data/cat_mappings.csv\", sep=',', index=False)\n",
        "\n",
        "#createCatMapping(data[cat_features]) "
      ],
      "execution_count": 0,
      "outputs": []
    },
    {
      "cell_type": "code",
      "metadata": {
        "id": "qCbbzW_yCym1",
        "colab_type": "code",
        "colab": {}
      },
      "source": [
        "# load from file\n",
        "cat_mappings = pd.read_csv(\"drive/My Drive/Thesis/data/Embedding_Data/cat_mappings.csv\", sep=',', low_memory=False)\n"
      ],
      "execution_count": 0,
      "outputs": []
    },
    {
      "cell_type": "code",
      "metadata": {
        "id": "1s75tA5dU1H3",
        "colab_type": "code",
        "outputId": "f192c745-5f61-4a0e-8330-d7ef70d7c2e3",
        "colab": {
          "base_uri": "https://localhost:8080/",
          "height": 69
        }
      },
      "source": [
        "# load the embedding model\n",
        "from tensorflow.keras.models import load_model\n",
        "# identical to the previous one\n",
        "embed_model = load_model(\"drive/My Drive/Thesis/data/Embedding_Data/embedding_model.h5\")\n",
        "embed_model2 = load_model(\"drive/My Drive/Thesis/data/Embedding_Data/embedding_model2.h5\")\n",
        "embed_model3 = load_model(\"drive/My Drive/Thesis/data/Embedding_Data/embedding_model_low_mae.h5\")\n"
      ],
      "execution_count": 0,
      "outputs": [
        {
          "output_type": "stream",
          "text": [
            "WARNING:tensorflow:Error in loading the saved optimizer state. As a result, your model is starting with a freshly initialized optimizer.\n",
            "WARNING:tensorflow:Error in loading the saved optimizer state. As a result, your model is starting with a freshly initialized optimizer.\n",
            "WARNING:tensorflow:Error in loading the saved optimizer state. As a result, your model is starting with a freshly initialized optimizer.\n"
          ],
          "name": "stdout"
        }
      ]
    },
    {
      "cell_type": "code",
      "metadata": {
        "id": "oTvqsge8UG5F",
        "colab_type": "code",
        "outputId": "c2e1f92c-9cab-4a84-dec9-1fc1a57b4c83",
        "colab": {
          "base_uri": "https://localhost:8080/",
          "height": 54
        }
      },
      "source": [
        "# find the embedding vector for feature CABH210 in VFE_0007_CAB_HEIGHT\n",
        "'''\n",
        "my_vector1 = embedTransform(embed_model, variable='CABH175', cat_feature_name='VFE_0007_CAB_HEIGHT', cat_mapping=cat_mappings)\n",
        "my_vector2 = embedTransform(embed_model, variable='CABH165', cat_feature_name='VFE_0007_CAB_HEIGHT', cat_mapping=cat_mappings)\n",
        "my_vector3 = embedTransform(embed_model, variable='CABH210', cat_feature_name='VFE_0007_CAB_HEIGHT', cat_mapping=cat_mappings)\n",
        "my_vector4 = embedTransform(embed_model, variable='CABH230', cat_feature_name='VFE_0007_CAB_HEIGHT', cat_mapping=cat_mappings)\n",
        "my_vector5 = embedTransform(embed_model, variable='Low', cat_feature_name='VFE_0007_CAB_HEIGHT', cat_mapping=cat_mappings)\n",
        "'''\n",
        "'''\n",
        "x1 = output_embeddings[0]\n",
        "x2 = output_embeddings[1]\n",
        "\n",
        "# calculating the cosing similarity of two vectors in the orginal space\n",
        "a_dot = np.dot(x1, x2)\n",
        "similar = a_dot / (np.linalg.norm(x1) * np.linalg.norm(x2))\n",
        "similar\n",
        "'''"
      ],
      "execution_count": 0,
      "outputs": [
        {
          "output_type": "execute_result",
          "data": {
            "text/plain": [
              "'\\nx1 = output_embeddings[0]\\nx2 = output_embeddings[1]\\n\\n# calculating the cosing similarity of two vectors in the orginal space\\na_dot = np.dot(x1, x2)\\nsimilar = a_dot / (np.linalg.norm(x1) * np.linalg.norm(x2))\\nsimilar\\n'"
            ]
          },
          "metadata": {
            "tags": []
          },
          "execution_count": 199
        }
      ]
    },
    {
      "cell_type": "code",
      "metadata": {
        "id": "JH2htn2kekMI",
        "colab_type": "code",
        "colab": {}
      },
      "source": [
        "# betwen CABH175 and CABH165, i have 0.867487\n",
        "# betwen CABH175 and CABH210, i have 0.11280868\n",
        "# betwen CABH175 and CABH230, i have -0.5284594\n",
        "# betwen CABH175 and Low, i have -0.36939222\n"
      ],
      "execution_count": 0,
      "outputs": []
    },
    {
      "cell_type": "markdown",
      "metadata": {
        "colab_type": "text",
        "id": "Pekm8BKhFocu"
      },
      "source": [
        "### Creating the Keras Embeddings"
      ]
    },
    {
      "cell_type": "code",
      "metadata": {
        "colab_type": "code",
        "id": "3ZS29ptVFn6s",
        "outputId": "5ee5f426-d992-44af-b427-e550e7e1e01b",
        "colab": {
          "base_uri": "https://localhost:8080/",
          "height": 51
        }
      },
      "source": [
        "# Load the TensorBoard notebook extension\n",
        "%load_ext tensorboard\n"
      ],
      "execution_count": 0,
      "outputs": [
        {
          "output_type": "stream",
          "text": [
            "The tensorboard extension is already loaded. To reload it, use:\n",
            "  %reload_ext tensorboard\n"
          ],
          "name": "stdout"
        }
      ]
    },
    {
      "cell_type": "code",
      "metadata": {
        "id": "NF1787pgD22Y",
        "colab_type": "code",
        "colab": {}
      },
      "source": [
        "# Clear any logs from previous runs\n",
        "!rm -rf ./logs/ "
      ],
      "execution_count": 0,
      "outputs": []
    },
    {
      "cell_type": "code",
      "metadata": {
        "id": "mKSt_HeoNnGj",
        "colab_type": "code",
        "colab": {}
      },
      "source": [
        "logdir = os.path.join(\"logs\", datetime.datetime.now().strftime(\"%Y%m%d-%H%M%S\"))\n",
        "#tensorboard_callback = TensorBoard(logdir, histogram_freq=1, embeddings_freq=1, embeddings_metadata=embeddings_meta, write_images=True)\n",
        "tensorboard_callback = TensorBoard(logdir, histogram_freq=1, embeddings_freq=1,\n",
        "                                   write_images=False)\n"
      ],
      "execution_count": 0,
      "outputs": []
    },
    {
      "cell_type": "code",
      "metadata": {
        "id": "f6JUt7abZXbW",
        "colab_type": "code",
        "colab": {}
      },
      "source": [
        "### Creating the Keras Embeddings Mode\n",
        "\n",
        "def create_model(saved_model=None):\n",
        "  # IDs representing 1-hot encodings\n",
        "  # Need to create the input for all features\n",
        "  cat_embedding_input_layers = []\n",
        "\n",
        "  cat_reshape_layers = []\n",
        "  # Embeddings for the first cat feature\n",
        "  id_feature = 0\n",
        "  # create an array of embeddings layers\n",
        "  cat_embedding_layers = []\n",
        "\n",
        "  # interate through categorical varaibles\n",
        "  for id_feature in range(cat_features_df.shape[0]):\n",
        "    # creating the input layer for the embeddings\n",
        "    #input_layer = Input(shape=(1,), name=\"Input_layer_\"+cat_features_df.loc[id_feature, 'Feature'])\n",
        "    input_layer = Input(shape=(1,), name=\"Input_layer_\"+cat_features_df.loc[id_feature, 'Feature'])\n",
        "    cat_embedding_input_layers.append(input_layer)\n",
        "    # embedding size \n",
        "    layer_embedding_size = cat_features_df.loc[id_feature, 'Embedding_Size']\n",
        "    # create the embedding layers\n",
        "    embed_weights = saved_model.get_layer(name=\"Embedding_layer_\"+cat_features_df.loc[id_feature, 'Feature']).get_weights()\n",
        "    #embedded_layer.trainable = False\n",
        "    embedded_layer = Embedding(input_dim=cat_features_df.loc[id_feature, 'Cardinality'], output_dim=layer_embedding_size, \n",
        "                               name=\"Embedding_layer_\"+cat_features_df.loc[id_feature, 'Feature'], input_length = 1, trainable=False, weights=embed_weights)(input_layer)\n",
        "    cat_embedding_layers.append(embedded_layer)\n",
        "    # add a reshape of the embedding layers\n",
        "    reshape_layer = Reshape(target_shape=(layer_embedding_size,))(embedded_layer)\n",
        "    # appends the rehshape models together\n",
        "    cat_reshape_layers.append(reshape_layer)\n",
        "\n",
        "  ### Create A combined embedding layers only\n",
        "  combined_emb = Concatenate(axis=1, name='combined_embeddings')(cat_reshape_layers)\n",
        "  \n",
        "  ### the output of the combine embedding model is 169 vectors\n",
        "\n",
        "  ### creating a model based on the trained weights\n",
        "  model_emb = Model(inputs=cat_embedding_input_layers, outputs=combined_emb, name=\"Categorical_Embeddings\")\n",
        "\n",
        "  # compile the model - for a regression model\n",
        "  model_emb.compile(optimizer='adam', loss='mean_absolute_error', metrics=['mean_absolute_error'])\n",
        "  # compile the model - for a classification problem\n",
        "  # model.compile(loss='binary_crossentropy', optimizer='adam')\n",
        "  return model_emb\n",
        "\n",
        "def train_model(model, x_train, y_train, x_test, y_test, epochs, batch_size, early_stop_callback=None, tensorboard_callback=None):\n",
        "  # fitting the model\n",
        "  #model.fit(x=x_train, y=y_train, epochs=epochs, batch_size=batch_size, verbose=2, validation_data=(XTest, yTest), callbacks=[early_stop, tensorboard_callback])\n",
        "  model.fit(x=x_train, y=y_train, epochs=epochs, batch_size=batch_size, verbose=2, callbacks=[early_stop_callback, tensorboard_callback])\n",
        "  return model"
      ],
      "execution_count": 0,
      "outputs": []
    },
    {
      "cell_type": "code",
      "metadata": {
        "id": "R4WFSz0kSuuC",
        "colab_type": "code",
        "colab": {}
      },
      "source": [
        "## For each run, log an hparams summary with the hyperparameters and final accuracy:\n",
        "def run(my_model, x_train, y_train, epochs, batch_size, early_stop_callback, tensorboard_log):\n",
        "  model = None\n",
        "  model = create_model(my_model)\n",
        "  model_output = train_model(model, x_train, y_train, epochs, batch_size, early_stop_callback=early_stop_callback, tensorboard_callback=tensorboard_log)\n",
        "  # do something with the metrics\n",
        "  return model_output"
      ],
      "execution_count": 0,
      "outputs": []
    },
    {
      "cell_type": "code",
      "metadata": {
        "id": "5U5QWCikuL4e",
        "colab_type": "code",
        "colab": {}
      },
      "source": [
        "# plot the model\n",
        "#plot_model(model=model_emb, to_file='drive/My Drive/Thesis/data/Embedding_Data/model_image.png', show_shapes=True, dpi=300)\n",
        "#plot_model(model=model_emb, to_file='drive/My Drive/Thesis/data/Embedding_Data/model_new.png', show_shapes=True, dpi=300)"
      ],
      "execution_count": 0,
      "outputs": []
    },
    {
      "cell_type": "markdown",
      "metadata": {
        "id": "yeLd1zwzoXat",
        "colab_type": "text"
      },
      "source": [
        "## Inputs to the Network\n",
        "\n",
        "We need to create a list of inputs, such that each categorical feature has it's own list of values and the last list will be a 2D array of the continous values. As shown above.\n",
        "\n",
        "The size of the list of inputs : ip = n_cat + 1\n",
        "\n",
        "Remember for each of the embedding network we had set input-size =1 we are taking 1 value each from all the list (except the last list) and sending it to the combined network for training. For the last list, each value itself is a list having the other columns values, and this is sent to the models_rest network"
      ]
    },
    {
      "cell_type": "code",
      "metadata": {
        "id": "GbuVc8kGWYqV",
        "colab_type": "code",
        "colab": {}
      },
      "source": [
        "from sklearn.preprocessing import RobustScaler, MinMaxScaler"
      ],
      "execution_count": 0,
      "outputs": []
    },
    {
      "cell_type": "code",
      "metadata": {
        "id": "aUlRi7_CozT4",
        "colab_type": "code",
        "colab": {}
      },
      "source": [
        "def transfromForEmbed(data_cat, cat_feature_name='', cat_mapping='', type=None):\n",
        "  # find the cat_index for all the features\n",
        "  def findCatIndex(x):\n",
        "    return int(cat_mapping[cat_mapping[cat_feature_name] == x][cat_feature_name+'_index'].values[0])\n",
        "  if type is not None:\n",
        "    output = findCatIndex(data_cat[cat_feature_name])\n",
        "    return np.array([output])\n",
        "  else:\n",
        "    output = data_cat[cat_feature_name].apply(findCatIndex) \n",
        "    return output.values\n",
        "\n",
        "# function to reformat the input data into the necessary input data for our network to be trained on.\n",
        "def network_input_process(data_num=None, data_cols=None, y_output=None, input_type=1):\n",
        "  # create a list of inputs. \n",
        "  try:\n",
        "    cat_size = data_cols.shape[1]\n",
        "    columns_name = data_cols.columns\n",
        "    col_type = None\n",
        "  except:\n",
        "    cat_size = data_cols.shape[0]\n",
        "    columns_name = data_cols.index\n",
        "    col_type = 1\n",
        "\n",
        "  # define the size of the network list inputs\n",
        "  network_inputs = [None] * (cat_size)\n",
        "\n",
        "  # add inputs to the list\n",
        "  # for the categorical inputs\n",
        "\n",
        "  for i in range(cat_size):\n",
        "    #network_inputs[i] = pd.factorize(data_cols.iloc[:, i].values)[0]\n",
        "    # map each categorical variable to their respective index values\n",
        "    #print (columns_name[i])\n",
        "    #network_inputs[i] = transfromForEmbed(data_cols, cat_feature_name=columns_name[i], cat_mapping=cat_mappings, type=col_type)\n",
        "    network_inputs[i] = data_cols.loc[:, columns_name[i]].values\n",
        "\n",
        "  return network_inputs, y_output.values"
      ],
      "execution_count": 0,
      "outputs": []
    },
    {
      "cell_type": "code",
      "metadata": {
        "id": "nU5bAd6zC49-",
        "colab_type": "code",
        "outputId": "5c3f2df5-1279-4bd6-e1c6-c0487cf4555c",
        "colab": {
          "base_uri": "https://localhost:8080/",
          "height": 54
        }
      },
      "source": [
        "'''\n",
        "data_embed = network_input_process(data_num=None, data_cols=data[cat_features], y_output=None)\n",
        "data_embed = np.array(data_embed).transpose()\n",
        "data_embed.shape\n",
        "# create a new pandas dataframe with this embedding encoding\n",
        "new_data = copy.copy(data)\n",
        "new_data.loc[:, list(cat_features)] = data_embed\n",
        "# save to db\n",
        "new_data.to_csv(\"drive/My Drive/Thesis/data/Embedding_Data/v2_sorted_data_new.csv\", sep=',', index=False)\n",
        "'''"
      ],
      "execution_count": 0,
      "outputs": [
        {
          "output_type": "execute_result",
          "data": {
            "text/plain": [
              "'\\ndata_embed = network_input_process(data_num=None, data_cols=data[cat_features], y_output=None)\\ndata_embed = np.array(data_embed).transpose()\\ndata_embed.shape\\n# create a new pandas dataframe with this embedding encoding\\nnew_data = copy.copy(data)\\nnew_data.loc[:, list(cat_features)] = data_embed\\n# save to db\\nnew_data.to_csv(\"drive/My Drive/Thesis/data/Embedding_Data/v2_sorted_data_new.csv\", sep=\\',\\', index=False)\\n'"
            ]
          },
          "metadata": {
            "tags": []
          },
          "execution_count": 208
        }
      ]
    },
    {
      "cell_type": "code",
      "metadata": {
        "id": "CrWAcN-cEVN3",
        "colab_type": "code",
        "colab": {}
      },
      "source": [
        ""
      ],
      "execution_count": 0,
      "outputs": []
    },
    {
      "cell_type": "code",
      "metadata": {
        "id": "x_hvo4n8st89",
        "colab_type": "code",
        "colab": {}
      },
      "source": [
        "# creating the training inputs\n",
        "scaler = RobustScaler()\n",
        "# scale and fit\n",
        "#scaler.fit(data_t.loc[:, num_features].values)\n",
        "#data_t.loc[:, num_features] = scaler.transform(data_t.loc[:, num_features].values)\n",
        "#data_v.loc[:, num_features] = scaler.transform(data_v.loc[:, num_features].values)\n",
        "\n",
        "# create the requirment for the embedding model\n",
        "XTrain, yTrain = network_input_process(data_num=None, data_cols=data[cat_features], y_output=data.iloc[:,3])"
      ],
      "execution_count": 0,
      "outputs": []
    },
    {
      "cell_type": "code",
      "metadata": {
        "id": "JyU6HtRjftU3",
        "colab_type": "code",
        "outputId": "ed904d80-5475-435b-fe19-d1d75a859675",
        "colab": {
          "base_uri": "https://localhost:8080/",
          "height": 34
        }
      },
      "source": [
        "XTrain[10].shape"
      ],
      "execution_count": 0,
      "outputs": [
        {
          "output_type": "execute_result",
          "data": {
            "text/plain": [
              "(19954,)"
            ]
          },
          "metadata": {
            "tags": []
          },
          "execution_count": 210
        }
      ]
    },
    {
      "cell_type": "markdown",
      "metadata": {
        "id": "5jmf037rcf2H",
        "colab_type": "text"
      },
      "source": [
        ""
      ]
    },
    {
      "cell_type": "markdown",
      "metadata": {
        "id": "JZCa-El4Fgta",
        "colab_type": "text"
      },
      "source": [
        "## Embedding Model"
      ]
    },
    {
      "cell_type": "code",
      "metadata": {
        "id": "Z2T9WJ4s3965",
        "colab_type": "code",
        "colab": {}
      },
      "source": [
        "#fetch our the trained embedding model the model\n",
        "model_embeddings = None\n",
        "model_embeddings = create_model(saved_model=embed_model3)"
      ],
      "execution_count": 0,
      "outputs": []
    },
    {
      "cell_type": "code",
      "metadata": {
        "id": "HbW47-Z7g8vt",
        "colab_type": "code",
        "colab": {}
      },
      "source": [
        "#model_embeddings.fit(XTrain, yTrain, epochs=1, workers=-1)"
      ],
      "execution_count": 0,
      "outputs": []
    },
    {
      "cell_type": "code",
      "metadata": {
        "id": "xJ_fkZ1lcN4R",
        "colab_type": "code",
        "colab": {}
      },
      "source": [
        "# Embedding Prediction\n",
        "embed_data = model_embeddings.predict(XTrain)"
      ],
      "execution_count": 0,
      "outputs": []
    },
    {
      "cell_type": "markdown",
      "metadata": {
        "id": "fDNabEtWiv7R",
        "colab_type": "text"
      },
      "source": [
        "## AutoEncoders Training and Testing Data"
      ]
    },
    {
      "cell_type": "code",
      "metadata": {
        "id": "Y5yXCrrBirTu",
        "colab_type": "code",
        "outputId": "c638b36f-1fff-46e3-8bec-2286d094233f",
        "colab": {
          "base_uri": "https://localhost:8080/",
          "height": 435
        }
      },
      "source": [
        "# now I need to be able to split the embed predictions by chassis wise\n",
        "data_embed = pd.DataFrame(embed_data)\n",
        "# add chassis information as well\n",
        "data_embed['T_CHASSIS'] = data['T_CHASSIS'].values\n",
        "data_embed"
      ],
      "execution_count": 0,
      "outputs": [
        {
          "output_type": "execute_result",
          "data": {
            "text/html": [
              "<div>\n",
              "<style scoped>\n",
              "    .dataframe tbody tr th:only-of-type {\n",
              "        vertical-align: middle;\n",
              "    }\n",
              "\n",
              "    .dataframe tbody tr th {\n",
              "        vertical-align: top;\n",
              "    }\n",
              "\n",
              "    .dataframe thead th {\n",
              "        text-align: right;\n",
              "    }\n",
              "</style>\n",
              "<table border=\"1\" class=\"dataframe\">\n",
              "  <thead>\n",
              "    <tr style=\"text-align: right;\">\n",
              "      <th></th>\n",
              "      <th>0</th>\n",
              "      <th>1</th>\n",
              "      <th>2</th>\n",
              "      <th>3</th>\n",
              "      <th>4</th>\n",
              "      <th>5</th>\n",
              "      <th>6</th>\n",
              "      <th>7</th>\n",
              "      <th>8</th>\n",
              "      <th>9</th>\n",
              "      <th>10</th>\n",
              "      <th>11</th>\n",
              "      <th>12</th>\n",
              "      <th>13</th>\n",
              "      <th>14</th>\n",
              "      <th>15</th>\n",
              "      <th>16</th>\n",
              "      <th>17</th>\n",
              "      <th>18</th>\n",
              "      <th>19</th>\n",
              "      <th>20</th>\n",
              "      <th>21</th>\n",
              "      <th>22</th>\n",
              "      <th>23</th>\n",
              "      <th>24</th>\n",
              "      <th>25</th>\n",
              "      <th>26</th>\n",
              "      <th>27</th>\n",
              "      <th>28</th>\n",
              "      <th>29</th>\n",
              "      <th>30</th>\n",
              "      <th>31</th>\n",
              "      <th>32</th>\n",
              "      <th>33</th>\n",
              "      <th>34</th>\n",
              "      <th>35</th>\n",
              "      <th>36</th>\n",
              "      <th>37</th>\n",
              "      <th>38</th>\n",
              "      <th>39</th>\n",
              "      <th>...</th>\n",
              "      <th>130</th>\n",
              "      <th>131</th>\n",
              "      <th>132</th>\n",
              "      <th>133</th>\n",
              "      <th>134</th>\n",
              "      <th>135</th>\n",
              "      <th>136</th>\n",
              "      <th>137</th>\n",
              "      <th>138</th>\n",
              "      <th>139</th>\n",
              "      <th>140</th>\n",
              "      <th>141</th>\n",
              "      <th>142</th>\n",
              "      <th>143</th>\n",
              "      <th>144</th>\n",
              "      <th>145</th>\n",
              "      <th>146</th>\n",
              "      <th>147</th>\n",
              "      <th>148</th>\n",
              "      <th>149</th>\n",
              "      <th>150</th>\n",
              "      <th>151</th>\n",
              "      <th>152</th>\n",
              "      <th>153</th>\n",
              "      <th>154</th>\n",
              "      <th>155</th>\n",
              "      <th>156</th>\n",
              "      <th>157</th>\n",
              "      <th>158</th>\n",
              "      <th>159</th>\n",
              "      <th>160</th>\n",
              "      <th>161</th>\n",
              "      <th>162</th>\n",
              "      <th>163</th>\n",
              "      <th>164</th>\n",
              "      <th>165</th>\n",
              "      <th>166</th>\n",
              "      <th>167</th>\n",
              "      <th>168</th>\n",
              "      <th>T_CHASSIS</th>\n",
              "    </tr>\n",
              "  </thead>\n",
              "  <tbody>\n",
              "    <tr>\n",
              "      <th>0</th>\n",
              "      <td>-1.234109</td>\n",
              "      <td>-0.697370</td>\n",
              "      <td>0.714877</td>\n",
              "      <td>0.653386</td>\n",
              "      <td>-0.772234</td>\n",
              "      <td>0.700770</td>\n",
              "      <td>0.762629</td>\n",
              "      <td>-3.934501</td>\n",
              "      <td>3.970100</td>\n",
              "      <td>0.673552</td>\n",
              "      <td>0.004826</td>\n",
              "      <td>-0.264730</td>\n",
              "      <td>-3.021100</td>\n",
              "      <td>1.457807</td>\n",
              "      <td>1.375269</td>\n",
              "      <td>-0.295043</td>\n",
              "      <td>-0.265554</td>\n",
              "      <td>0.216641</td>\n",
              "      <td>-0.241359</td>\n",
              "      <td>-0.284145</td>\n",
              "      <td>0.253092</td>\n",
              "      <td>0.251186</td>\n",
              "      <td>-0.344482</td>\n",
              "      <td>-1.394487</td>\n",
              "      <td>-1.378180</td>\n",
              "      <td>-1.725686</td>\n",
              "      <td>-0.920988</td>\n",
              "      <td>0.67186</td>\n",
              "      <td>-0.345708</td>\n",
              "      <td>0.439936</td>\n",
              "      <td>0.254296</td>\n",
              "      <td>0.300465</td>\n",
              "      <td>-0.334895</td>\n",
              "      <td>-0.810912</td>\n",
              "      <td>0.664676</td>\n",
              "      <td>0.610671</td>\n",
              "      <td>0.653336</td>\n",
              "      <td>0.619054</td>\n",
              "      <td>-0.629043</td>\n",
              "      <td>0.638070</td>\n",
              "      <td>...</td>\n",
              "      <td>0.20192</td>\n",
              "      <td>-0.029441</td>\n",
              "      <td>-0.126622</td>\n",
              "      <td>-0.920954</td>\n",
              "      <td>-0.713661</td>\n",
              "      <td>0.707486</td>\n",
              "      <td>0.713659</td>\n",
              "      <td>0.716963</td>\n",
              "      <td>-0.681261</td>\n",
              "      <td>0.655834</td>\n",
              "      <td>0.767159</td>\n",
              "      <td>-0.652030</td>\n",
              "      <td>0.707653</td>\n",
              "      <td>0.750655</td>\n",
              "      <td>-0.643130</td>\n",
              "      <td>1.017256</td>\n",
              "      <td>-1.083456</td>\n",
              "      <td>-1.067941</td>\n",
              "      <td>1.050774</td>\n",
              "      <td>-1.069795</td>\n",
              "      <td>1.143325</td>\n",
              "      <td>1.170105</td>\n",
              "      <td>1.172047</td>\n",
              "      <td>0.083617</td>\n",
              "      <td>0.178936</td>\n",
              "      <td>-0.079424</td>\n",
              "      <td>-0.194775</td>\n",
              "      <td>0.154949</td>\n",
              "      <td>-0.217352</td>\n",
              "      <td>0.278163</td>\n",
              "      <td>0.071185</td>\n",
              "      <td>0.232516</td>\n",
              "      <td>-0.821379</td>\n",
              "      <td>-0.679284</td>\n",
              "      <td>0.893964</td>\n",
              "      <td>-0.976621</td>\n",
              "      <td>0.920223</td>\n",
              "      <td>-0.955038</td>\n",
              "      <td>2.050150</td>\n",
              "      <td>N-767941</td>\n",
              "    </tr>\n",
              "    <tr>\n",
              "      <th>1</th>\n",
              "      <td>0.135513</td>\n",
              "      <td>-0.697370</td>\n",
              "      <td>0.714877</td>\n",
              "      <td>0.653386</td>\n",
              "      <td>-0.772234</td>\n",
              "      <td>0.700770</td>\n",
              "      <td>0.762629</td>\n",
              "      <td>-3.934501</td>\n",
              "      <td>3.970100</td>\n",
              "      <td>0.673552</td>\n",
              "      <td>0.004826</td>\n",
              "      <td>-0.264730</td>\n",
              "      <td>-3.021100</td>\n",
              "      <td>1.457807</td>\n",
              "      <td>1.375269</td>\n",
              "      <td>-0.295043</td>\n",
              "      <td>-0.265554</td>\n",
              "      <td>0.216641</td>\n",
              "      <td>-0.241359</td>\n",
              "      <td>-0.284145</td>\n",
              "      <td>0.253092</td>\n",
              "      <td>0.251186</td>\n",
              "      <td>-0.344482</td>\n",
              "      <td>-1.394487</td>\n",
              "      <td>-1.378180</td>\n",
              "      <td>-1.725686</td>\n",
              "      <td>-0.920988</td>\n",
              "      <td>0.67186</td>\n",
              "      <td>-0.345708</td>\n",
              "      <td>0.439936</td>\n",
              "      <td>0.254296</td>\n",
              "      <td>0.300465</td>\n",
              "      <td>-0.334895</td>\n",
              "      <td>-0.810912</td>\n",
              "      <td>0.664676</td>\n",
              "      <td>0.610671</td>\n",
              "      <td>0.653336</td>\n",
              "      <td>0.619054</td>\n",
              "      <td>-0.629043</td>\n",
              "      <td>0.638070</td>\n",
              "      <td>...</td>\n",
              "      <td>0.20192</td>\n",
              "      <td>-0.029441</td>\n",
              "      <td>-0.126622</td>\n",
              "      <td>-0.920954</td>\n",
              "      <td>-0.713661</td>\n",
              "      <td>0.707486</td>\n",
              "      <td>0.713659</td>\n",
              "      <td>0.716963</td>\n",
              "      <td>-0.681261</td>\n",
              "      <td>0.655834</td>\n",
              "      <td>0.767159</td>\n",
              "      <td>-0.652030</td>\n",
              "      <td>0.707653</td>\n",
              "      <td>0.750655</td>\n",
              "      <td>-0.643130</td>\n",
              "      <td>1.017256</td>\n",
              "      <td>-1.083456</td>\n",
              "      <td>-1.067941</td>\n",
              "      <td>1.050774</td>\n",
              "      <td>-1.069795</td>\n",
              "      <td>1.143325</td>\n",
              "      <td>1.170105</td>\n",
              "      <td>1.172047</td>\n",
              "      <td>0.083617</td>\n",
              "      <td>0.178936</td>\n",
              "      <td>-0.079424</td>\n",
              "      <td>-0.194775</td>\n",
              "      <td>0.154949</td>\n",
              "      <td>-0.217352</td>\n",
              "      <td>0.278163</td>\n",
              "      <td>0.071185</td>\n",
              "      <td>0.232516</td>\n",
              "      <td>-0.821379</td>\n",
              "      <td>-0.679284</td>\n",
              "      <td>0.893964</td>\n",
              "      <td>-0.976621</td>\n",
              "      <td>0.920223</td>\n",
              "      <td>-0.955038</td>\n",
              "      <td>2.050150</td>\n",
              "      <td>N-767941</td>\n",
              "    </tr>\n",
              "    <tr>\n",
              "      <th>2</th>\n",
              "      <td>-1.234109</td>\n",
              "      <td>-0.399654</td>\n",
              "      <td>0.505620</td>\n",
              "      <td>0.449210</td>\n",
              "      <td>-0.563275</td>\n",
              "      <td>0.469933</td>\n",
              "      <td>0.520440</td>\n",
              "      <td>-3.934501</td>\n",
              "      <td>3.970100</td>\n",
              "      <td>0.673552</td>\n",
              "      <td>0.004826</td>\n",
              "      <td>-0.264730</td>\n",
              "      <td>-3.021100</td>\n",
              "      <td>1.457807</td>\n",
              "      <td>1.375269</td>\n",
              "      <td>-0.295043</td>\n",
              "      <td>-0.265554</td>\n",
              "      <td>0.216641</td>\n",
              "      <td>-0.241359</td>\n",
              "      <td>-0.284145</td>\n",
              "      <td>0.253092</td>\n",
              "      <td>0.251186</td>\n",
              "      <td>-0.344482</td>\n",
              "      <td>-1.394487</td>\n",
              "      <td>-1.378180</td>\n",
              "      <td>-1.725686</td>\n",
              "      <td>-0.920988</td>\n",
              "      <td>0.67186</td>\n",
              "      <td>-0.345708</td>\n",
              "      <td>0.439936</td>\n",
              "      <td>0.254296</td>\n",
              "      <td>0.300465</td>\n",
              "      <td>-0.334895</td>\n",
              "      <td>-0.810912</td>\n",
              "      <td>0.664676</td>\n",
              "      <td>0.610671</td>\n",
              "      <td>0.653336</td>\n",
              "      <td>0.619054</td>\n",
              "      <td>-0.629043</td>\n",
              "      <td>0.638070</td>\n",
              "      <td>...</td>\n",
              "      <td>0.20192</td>\n",
              "      <td>-0.029441</td>\n",
              "      <td>-0.126622</td>\n",
              "      <td>-0.920954</td>\n",
              "      <td>-0.713661</td>\n",
              "      <td>0.707486</td>\n",
              "      <td>0.713659</td>\n",
              "      <td>0.716963</td>\n",
              "      <td>-0.681261</td>\n",
              "      <td>0.655834</td>\n",
              "      <td>0.767159</td>\n",
              "      <td>-0.652030</td>\n",
              "      <td>0.707653</td>\n",
              "      <td>0.750655</td>\n",
              "      <td>-0.643130</td>\n",
              "      <td>1.017256</td>\n",
              "      <td>-1.083456</td>\n",
              "      <td>-1.067941</td>\n",
              "      <td>1.050774</td>\n",
              "      <td>-1.069795</td>\n",
              "      <td>1.143325</td>\n",
              "      <td>1.170105</td>\n",
              "      <td>1.172047</td>\n",
              "      <td>0.083617</td>\n",
              "      <td>0.178936</td>\n",
              "      <td>-0.079424</td>\n",
              "      <td>-0.194775</td>\n",
              "      <td>0.154949</td>\n",
              "      <td>-0.217352</td>\n",
              "      <td>0.278163</td>\n",
              "      <td>0.071185</td>\n",
              "      <td>0.232516</td>\n",
              "      <td>-0.821379</td>\n",
              "      <td>-0.679284</td>\n",
              "      <td>0.893964</td>\n",
              "      <td>-0.976621</td>\n",
              "      <td>0.920223</td>\n",
              "      <td>-0.955038</td>\n",
              "      <td>2.050150</td>\n",
              "      <td>N-767941</td>\n",
              "    </tr>\n",
              "    <tr>\n",
              "      <th>3</th>\n",
              "      <td>-1.234109</td>\n",
              "      <td>-0.697370</td>\n",
              "      <td>0.714877</td>\n",
              "      <td>0.653386</td>\n",
              "      <td>-0.772234</td>\n",
              "      <td>0.700770</td>\n",
              "      <td>0.762629</td>\n",
              "      <td>-3.934501</td>\n",
              "      <td>3.970100</td>\n",
              "      <td>0.673552</td>\n",
              "      <td>-0.644657</td>\n",
              "      <td>0.312112</td>\n",
              "      <td>-3.021100</td>\n",
              "      <td>0.188720</td>\n",
              "      <td>0.205785</td>\n",
              "      <td>1.017806</td>\n",
              "      <td>0.993190</td>\n",
              "      <td>-1.143419</td>\n",
              "      <td>1.088624</td>\n",
              "      <td>1.006365</td>\n",
              "      <td>-0.979181</td>\n",
              "      <td>-0.986671</td>\n",
              "      <td>1.060256</td>\n",
              "      <td>-2.057751</td>\n",
              "      <td>-2.039500</td>\n",
              "      <td>-1.838523</td>\n",
              "      <td>0.311505</td>\n",
              "      <td>0.67186</td>\n",
              "      <td>-0.345708</td>\n",
              "      <td>0.439936</td>\n",
              "      <td>0.254296</td>\n",
              "      <td>0.300465</td>\n",
              "      <td>-0.334895</td>\n",
              "      <td>-0.810912</td>\n",
              "      <td>0.664676</td>\n",
              "      <td>0.610671</td>\n",
              "      <td>0.653336</td>\n",
              "      <td>0.619054</td>\n",
              "      <td>-0.629043</td>\n",
              "      <td>0.638070</td>\n",
              "      <td>...</td>\n",
              "      <td>0.20192</td>\n",
              "      <td>-0.029441</td>\n",
              "      <td>-0.126622</td>\n",
              "      <td>1.198863</td>\n",
              "      <td>1.274828</td>\n",
              "      <td>0.707486</td>\n",
              "      <td>0.713659</td>\n",
              "      <td>0.716963</td>\n",
              "      <td>-0.681261</td>\n",
              "      <td>-0.950146</td>\n",
              "      <td>-1.012852</td>\n",
              "      <td>0.978774</td>\n",
              "      <td>-1.047768</td>\n",
              "      <td>-1.045116</td>\n",
              "      <td>1.059602</td>\n",
              "      <td>-1.082118</td>\n",
              "      <td>1.089086</td>\n",
              "      <td>0.961589</td>\n",
              "      <td>-1.036058</td>\n",
              "      <td>1.065631</td>\n",
              "      <td>-1.100016</td>\n",
              "      <td>-1.041421</td>\n",
              "      <td>-1.104740</td>\n",
              "      <td>-0.051324</td>\n",
              "      <td>0.005839</td>\n",
              "      <td>-0.092837</td>\n",
              "      <td>1.085503</td>\n",
              "      <td>-1.080401</td>\n",
              "      <td>1.149480</td>\n",
              "      <td>0.206473</td>\n",
              "      <td>-0.549154</td>\n",
              "      <td>-0.616239</td>\n",
              "      <td>0.167539</td>\n",
              "      <td>0.267476</td>\n",
              "      <td>0.016797</td>\n",
              "      <td>-0.312811</td>\n",
              "      <td>0.005171</td>\n",
              "      <td>-0.118996</td>\n",
              "      <td>2.050150</td>\n",
              "      <td>O-731397</td>\n",
              "    </tr>\n",
              "    <tr>\n",
              "      <th>4</th>\n",
              "      <td>0.135513</td>\n",
              "      <td>-0.697370</td>\n",
              "      <td>0.714877</td>\n",
              "      <td>0.653386</td>\n",
              "      <td>-0.772234</td>\n",
              "      <td>0.700770</td>\n",
              "      <td>0.762629</td>\n",
              "      <td>-3.934501</td>\n",
              "      <td>3.970100</td>\n",
              "      <td>0.673552</td>\n",
              "      <td>-0.644657</td>\n",
              "      <td>0.312112</td>\n",
              "      <td>-3.021100</td>\n",
              "      <td>0.188720</td>\n",
              "      <td>0.205785</td>\n",
              "      <td>1.017806</td>\n",
              "      <td>0.993190</td>\n",
              "      <td>-1.143419</td>\n",
              "      <td>1.088624</td>\n",
              "      <td>1.006365</td>\n",
              "      <td>-0.979181</td>\n",
              "      <td>-0.986671</td>\n",
              "      <td>1.060256</td>\n",
              "      <td>-2.057751</td>\n",
              "      <td>-2.039500</td>\n",
              "      <td>-1.838523</td>\n",
              "      <td>0.311505</td>\n",
              "      <td>0.67186</td>\n",
              "      <td>-0.345708</td>\n",
              "      <td>0.439936</td>\n",
              "      <td>0.254296</td>\n",
              "      <td>0.300465</td>\n",
              "      <td>-0.334895</td>\n",
              "      <td>-0.810912</td>\n",
              "      <td>0.664676</td>\n",
              "      <td>0.610671</td>\n",
              "      <td>0.653336</td>\n",
              "      <td>0.619054</td>\n",
              "      <td>-0.629043</td>\n",
              "      <td>0.638070</td>\n",
              "      <td>...</td>\n",
              "      <td>0.20192</td>\n",
              "      <td>-0.029441</td>\n",
              "      <td>-0.126622</td>\n",
              "      <td>1.198863</td>\n",
              "      <td>1.274828</td>\n",
              "      <td>0.707486</td>\n",
              "      <td>0.713659</td>\n",
              "      <td>0.716963</td>\n",
              "      <td>-0.681261</td>\n",
              "      <td>-0.950146</td>\n",
              "      <td>-1.012852</td>\n",
              "      <td>0.978774</td>\n",
              "      <td>-1.047768</td>\n",
              "      <td>-1.045116</td>\n",
              "      <td>1.059602</td>\n",
              "      <td>-1.082118</td>\n",
              "      <td>1.089086</td>\n",
              "      <td>0.961589</td>\n",
              "      <td>-1.036058</td>\n",
              "      <td>1.065631</td>\n",
              "      <td>-1.100016</td>\n",
              "      <td>-1.041421</td>\n",
              "      <td>-1.104740</td>\n",
              "      <td>-0.051324</td>\n",
              "      <td>0.005839</td>\n",
              "      <td>-0.092837</td>\n",
              "      <td>1.085503</td>\n",
              "      <td>-1.080401</td>\n",
              "      <td>1.149480</td>\n",
              "      <td>0.206473</td>\n",
              "      <td>-0.549154</td>\n",
              "      <td>-0.616239</td>\n",
              "      <td>0.167539</td>\n",
              "      <td>0.267476</td>\n",
              "      <td>0.016797</td>\n",
              "      <td>-0.312811</td>\n",
              "      <td>0.005171</td>\n",
              "      <td>-0.118996</td>\n",
              "      <td>2.050150</td>\n",
              "      <td>O-731397</td>\n",
              "    </tr>\n",
              "    <tr>\n",
              "      <th>...</th>\n",
              "      <td>...</td>\n",
              "      <td>...</td>\n",
              "      <td>...</td>\n",
              "      <td>...</td>\n",
              "      <td>...</td>\n",
              "      <td>...</td>\n",
              "      <td>...</td>\n",
              "      <td>...</td>\n",
              "      <td>...</td>\n",
              "      <td>...</td>\n",
              "      <td>...</td>\n",
              "      <td>...</td>\n",
              "      <td>...</td>\n",
              "      <td>...</td>\n",
              "      <td>...</td>\n",
              "      <td>...</td>\n",
              "      <td>...</td>\n",
              "      <td>...</td>\n",
              "      <td>...</td>\n",
              "      <td>...</td>\n",
              "      <td>...</td>\n",
              "      <td>...</td>\n",
              "      <td>...</td>\n",
              "      <td>...</td>\n",
              "      <td>...</td>\n",
              "      <td>...</td>\n",
              "      <td>...</td>\n",
              "      <td>...</td>\n",
              "      <td>...</td>\n",
              "      <td>...</td>\n",
              "      <td>...</td>\n",
              "      <td>...</td>\n",
              "      <td>...</td>\n",
              "      <td>...</td>\n",
              "      <td>...</td>\n",
              "      <td>...</td>\n",
              "      <td>...</td>\n",
              "      <td>...</td>\n",
              "      <td>...</td>\n",
              "      <td>...</td>\n",
              "      <td>...</td>\n",
              "      <td>...</td>\n",
              "      <td>...</td>\n",
              "      <td>...</td>\n",
              "      <td>...</td>\n",
              "      <td>...</td>\n",
              "      <td>...</td>\n",
              "      <td>...</td>\n",
              "      <td>...</td>\n",
              "      <td>...</td>\n",
              "      <td>...</td>\n",
              "      <td>...</td>\n",
              "      <td>...</td>\n",
              "      <td>...</td>\n",
              "      <td>...</td>\n",
              "      <td>...</td>\n",
              "      <td>...</td>\n",
              "      <td>...</td>\n",
              "      <td>...</td>\n",
              "      <td>...</td>\n",
              "      <td>...</td>\n",
              "      <td>...</td>\n",
              "      <td>...</td>\n",
              "      <td>...</td>\n",
              "      <td>...</td>\n",
              "      <td>...</td>\n",
              "      <td>...</td>\n",
              "      <td>...</td>\n",
              "      <td>...</td>\n",
              "      <td>...</td>\n",
              "      <td>...</td>\n",
              "      <td>...</td>\n",
              "      <td>...</td>\n",
              "      <td>...</td>\n",
              "      <td>...</td>\n",
              "      <td>...</td>\n",
              "      <td>...</td>\n",
              "      <td>...</td>\n",
              "      <td>...</td>\n",
              "      <td>...</td>\n",
              "      <td>...</td>\n",
              "    </tr>\n",
              "    <tr>\n",
              "      <th>19949</th>\n",
              "      <td>0.135513</td>\n",
              "      <td>0.363524</td>\n",
              "      <td>-0.313654</td>\n",
              "      <td>-0.339675</td>\n",
              "      <td>0.236895</td>\n",
              "      <td>-0.319799</td>\n",
              "      <td>-0.383684</td>\n",
              "      <td>2.684303</td>\n",
              "      <td>-2.616724</td>\n",
              "      <td>0.673552</td>\n",
              "      <td>-0.667124</td>\n",
              "      <td>0.806901</td>\n",
              "      <td>-3.021100</td>\n",
              "      <td>0.188720</td>\n",
              "      <td>0.205785</td>\n",
              "      <td>-2.411414</td>\n",
              "      <td>-2.433864</td>\n",
              "      <td>2.344734</td>\n",
              "      <td>-2.335041</td>\n",
              "      <td>-2.391412</td>\n",
              "      <td>2.343171</td>\n",
              "      <td>2.364866</td>\n",
              "      <td>-2.335758</td>\n",
              "      <td>-1.394487</td>\n",
              "      <td>-1.378180</td>\n",
              "      <td>-1.725686</td>\n",
              "      <td>-0.920988</td>\n",
              "      <td>0.67186</td>\n",
              "      <td>-0.345708</td>\n",
              "      <td>0.439936</td>\n",
              "      <td>0.254296</td>\n",
              "      <td>0.300465</td>\n",
              "      <td>-0.334895</td>\n",
              "      <td>-0.810912</td>\n",
              "      <td>1.109365</td>\n",
              "      <td>1.214341</td>\n",
              "      <td>1.176967</td>\n",
              "      <td>1.154556</td>\n",
              "      <td>-1.129065</td>\n",
              "      <td>1.174216</td>\n",
              "      <td>...</td>\n",
              "      <td>0.20192</td>\n",
              "      <td>-0.029441</td>\n",
              "      <td>-0.126622</td>\n",
              "      <td>-0.920954</td>\n",
              "      <td>-0.713661</td>\n",
              "      <td>0.190917</td>\n",
              "      <td>0.247009</td>\n",
              "      <td>0.716963</td>\n",
              "      <td>-0.681261</td>\n",
              "      <td>0.655834</td>\n",
              "      <td>0.767159</td>\n",
              "      <td>-0.652030</td>\n",
              "      <td>0.707653</td>\n",
              "      <td>0.750655</td>\n",
              "      <td>-0.643130</td>\n",
              "      <td>2.404605</td>\n",
              "      <td>-2.442804</td>\n",
              "      <td>-2.406676</td>\n",
              "      <td>2.426123</td>\n",
              "      <td>-2.408371</td>\n",
              "      <td>2.424020</td>\n",
              "      <td>2.425406</td>\n",
              "      <td>2.467242</td>\n",
              "      <td>0.083617</td>\n",
              "      <td>0.178936</td>\n",
              "      <td>-0.079424</td>\n",
              "      <td>-0.194775</td>\n",
              "      <td>0.154949</td>\n",
              "      <td>-0.217352</td>\n",
              "      <td>0.206473</td>\n",
              "      <td>-0.549154</td>\n",
              "      <td>-0.616239</td>\n",
              "      <td>0.167539</td>\n",
              "      <td>0.267476</td>\n",
              "      <td>-0.329355</td>\n",
              "      <td>0.599573</td>\n",
              "      <td>-0.446544</td>\n",
              "      <td>0.376415</td>\n",
              "      <td>2.050150</td>\n",
              "      <td>O-845569</td>\n",
              "    </tr>\n",
              "    <tr>\n",
              "      <th>19950</th>\n",
              "      <td>-1.234109</td>\n",
              "      <td>0.669487</td>\n",
              "      <td>-0.570346</td>\n",
              "      <td>-0.611847</td>\n",
              "      <td>0.580660</td>\n",
              "      <td>-0.549834</td>\n",
              "      <td>-0.604932</td>\n",
              "      <td>2.684303</td>\n",
              "      <td>-2.616724</td>\n",
              "      <td>0.673552</td>\n",
              "      <td>-0.667124</td>\n",
              "      <td>0.806901</td>\n",
              "      <td>-3.021100</td>\n",
              "      <td>0.188720</td>\n",
              "      <td>0.205785</td>\n",
              "      <td>-2.411414</td>\n",
              "      <td>-2.433864</td>\n",
              "      <td>2.344734</td>\n",
              "      <td>-2.335041</td>\n",
              "      <td>-2.391412</td>\n",
              "      <td>2.343171</td>\n",
              "      <td>2.364866</td>\n",
              "      <td>-2.335758</td>\n",
              "      <td>-1.394487</td>\n",
              "      <td>-1.378180</td>\n",
              "      <td>-1.725686</td>\n",
              "      <td>-0.920988</td>\n",
              "      <td>0.67186</td>\n",
              "      <td>-0.345708</td>\n",
              "      <td>0.439936</td>\n",
              "      <td>0.254296</td>\n",
              "      <td>0.300465</td>\n",
              "      <td>-0.334895</td>\n",
              "      <td>-0.810912</td>\n",
              "      <td>1.109365</td>\n",
              "      <td>1.214341</td>\n",
              "      <td>1.176967</td>\n",
              "      <td>1.154556</td>\n",
              "      <td>-1.129065</td>\n",
              "      <td>1.174216</td>\n",
              "      <td>...</td>\n",
              "      <td>0.20192</td>\n",
              "      <td>-0.029441</td>\n",
              "      <td>-0.126622</td>\n",
              "      <td>-0.920954</td>\n",
              "      <td>-0.713661</td>\n",
              "      <td>0.190917</td>\n",
              "      <td>0.247009</td>\n",
              "      <td>0.716963</td>\n",
              "      <td>-0.681261</td>\n",
              "      <td>0.655834</td>\n",
              "      <td>0.767159</td>\n",
              "      <td>-0.652030</td>\n",
              "      <td>0.707653</td>\n",
              "      <td>0.750655</td>\n",
              "      <td>-0.643130</td>\n",
              "      <td>2.404605</td>\n",
              "      <td>-2.442804</td>\n",
              "      <td>-2.406676</td>\n",
              "      <td>2.426123</td>\n",
              "      <td>-2.408371</td>\n",
              "      <td>2.424020</td>\n",
              "      <td>2.425406</td>\n",
              "      <td>2.467242</td>\n",
              "      <td>0.083617</td>\n",
              "      <td>0.178936</td>\n",
              "      <td>-0.079424</td>\n",
              "      <td>-0.194775</td>\n",
              "      <td>0.154949</td>\n",
              "      <td>-0.217352</td>\n",
              "      <td>0.206473</td>\n",
              "      <td>-0.549154</td>\n",
              "      <td>-0.616239</td>\n",
              "      <td>0.167539</td>\n",
              "      <td>0.267476</td>\n",
              "      <td>-0.329355</td>\n",
              "      <td>0.599573</td>\n",
              "      <td>-0.446544</td>\n",
              "      <td>0.376415</td>\n",
              "      <td>2.050150</td>\n",
              "      <td>O-845569</td>\n",
              "    </tr>\n",
              "    <tr>\n",
              "      <th>19951</th>\n",
              "      <td>-1.234109</td>\n",
              "      <td>-1.483421</td>\n",
              "      <td>1.503841</td>\n",
              "      <td>1.507529</td>\n",
              "      <td>-1.523718</td>\n",
              "      <td>1.503937</td>\n",
              "      <td>1.449239</td>\n",
              "      <td>6.349127</td>\n",
              "      <td>-6.358327</td>\n",
              "      <td>0.673552</td>\n",
              "      <td>-0.667124</td>\n",
              "      <td>0.806901</td>\n",
              "      <td>-0.237391</td>\n",
              "      <td>0.188720</td>\n",
              "      <td>0.205785</td>\n",
              "      <td>0.147040</td>\n",
              "      <td>0.256891</td>\n",
              "      <td>-0.166453</td>\n",
              "      <td>0.205018</td>\n",
              "      <td>0.210529</td>\n",
              "      <td>-0.214484</td>\n",
              "      <td>-0.230535</td>\n",
              "      <td>0.154516</td>\n",
              "      <td>0.607786</td>\n",
              "      <td>0.517864</td>\n",
              "      <td>0.548589</td>\n",
              "      <td>-0.920988</td>\n",
              "      <td>0.67186</td>\n",
              "      <td>-0.345708</td>\n",
              "      <td>0.439936</td>\n",
              "      <td>0.254296</td>\n",
              "      <td>0.300465</td>\n",
              "      <td>-0.334895</td>\n",
              "      <td>-0.810912</td>\n",
              "      <td>0.664676</td>\n",
              "      <td>0.610671</td>\n",
              "      <td>0.653336</td>\n",
              "      <td>0.619054</td>\n",
              "      <td>-0.629043</td>\n",
              "      <td>0.638070</td>\n",
              "      <td>...</td>\n",
              "      <td>0.20192</td>\n",
              "      <td>-0.029441</td>\n",
              "      <td>-0.126622</td>\n",
              "      <td>1.198863</td>\n",
              "      <td>1.274828</td>\n",
              "      <td>0.707486</td>\n",
              "      <td>0.713659</td>\n",
              "      <td>0.716963</td>\n",
              "      <td>-0.681261</td>\n",
              "      <td>-0.182552</td>\n",
              "      <td>-0.189796</td>\n",
              "      <td>0.188793</td>\n",
              "      <td>-0.118878</td>\n",
              "      <td>-0.217947</td>\n",
              "      <td>0.082055</td>\n",
              "      <td>-0.151545</td>\n",
              "      <td>0.137351</td>\n",
              "      <td>0.198495</td>\n",
              "      <td>-0.164900</td>\n",
              "      <td>0.209618</td>\n",
              "      <td>-0.059715</td>\n",
              "      <td>-0.130632</td>\n",
              "      <td>-0.121160</td>\n",
              "      <td>-0.372971</td>\n",
              "      <td>-0.356701</td>\n",
              "      <td>0.395844</td>\n",
              "      <td>-0.194775</td>\n",
              "      <td>0.154949</td>\n",
              "      <td>-0.217352</td>\n",
              "      <td>0.278163</td>\n",
              "      <td>0.071185</td>\n",
              "      <td>0.232516</td>\n",
              "      <td>-0.821379</td>\n",
              "      <td>-0.679284</td>\n",
              "      <td>-0.329355</td>\n",
              "      <td>0.599573</td>\n",
              "      <td>-0.446544</td>\n",
              "      <td>0.376415</td>\n",
              "      <td>-0.717907</td>\n",
              "      <td>O-884023</td>\n",
              "    </tr>\n",
              "    <tr>\n",
              "      <th>19952</th>\n",
              "      <td>-1.234109</td>\n",
              "      <td>-0.697370</td>\n",
              "      <td>0.714877</td>\n",
              "      <td>0.653386</td>\n",
              "      <td>-0.772234</td>\n",
              "      <td>0.700770</td>\n",
              "      <td>0.762629</td>\n",
              "      <td>-3.934501</td>\n",
              "      <td>3.970100</td>\n",
              "      <td>0.673552</td>\n",
              "      <td>-0.667124</td>\n",
              "      <td>0.806901</td>\n",
              "      <td>-0.237391</td>\n",
              "      <td>0.188720</td>\n",
              "      <td>0.205785</td>\n",
              "      <td>1.017806</td>\n",
              "      <td>0.993190</td>\n",
              "      <td>-1.143419</td>\n",
              "      <td>1.088624</td>\n",
              "      <td>1.006365</td>\n",
              "      <td>-0.979181</td>\n",
              "      <td>-0.986671</td>\n",
              "      <td>1.060256</td>\n",
              "      <td>-2.057751</td>\n",
              "      <td>-2.039500</td>\n",
              "      <td>-1.838523</td>\n",
              "      <td>-0.920988</td>\n",
              "      <td>0.67186</td>\n",
              "      <td>-0.345708</td>\n",
              "      <td>0.439936</td>\n",
              "      <td>0.254296</td>\n",
              "      <td>0.300465</td>\n",
              "      <td>-0.334895</td>\n",
              "      <td>-0.810912</td>\n",
              "      <td>0.664676</td>\n",
              "      <td>0.610671</td>\n",
              "      <td>0.653336</td>\n",
              "      <td>0.619054</td>\n",
              "      <td>-0.629043</td>\n",
              "      <td>0.638070</td>\n",
              "      <td>...</td>\n",
              "      <td>0.20192</td>\n",
              "      <td>-0.029441</td>\n",
              "      <td>-0.126622</td>\n",
              "      <td>1.198863</td>\n",
              "      <td>1.274828</td>\n",
              "      <td>0.707486</td>\n",
              "      <td>0.713659</td>\n",
              "      <td>0.716963</td>\n",
              "      <td>-0.681261</td>\n",
              "      <td>-0.950146</td>\n",
              "      <td>-1.012852</td>\n",
              "      <td>0.978774</td>\n",
              "      <td>-1.047768</td>\n",
              "      <td>-1.045116</td>\n",
              "      <td>1.059602</td>\n",
              "      <td>-1.082118</td>\n",
              "      <td>1.089086</td>\n",
              "      <td>0.961589</td>\n",
              "      <td>-1.036058</td>\n",
              "      <td>1.065631</td>\n",
              "      <td>-1.100016</td>\n",
              "      <td>-1.041421</td>\n",
              "      <td>-1.104740</td>\n",
              "      <td>-0.372971</td>\n",
              "      <td>-0.356701</td>\n",
              "      <td>0.395844</td>\n",
              "      <td>1.085503</td>\n",
              "      <td>-1.080401</td>\n",
              "      <td>1.149480</td>\n",
              "      <td>0.278163</td>\n",
              "      <td>0.071185</td>\n",
              "      <td>0.232516</td>\n",
              "      <td>-0.821379</td>\n",
              "      <td>-0.679284</td>\n",
              "      <td>0.893964</td>\n",
              "      <td>-0.976621</td>\n",
              "      <td>0.920223</td>\n",
              "      <td>-0.955038</td>\n",
              "      <td>-0.717907</td>\n",
              "      <td>O-684939</td>\n",
              "    </tr>\n",
              "    <tr>\n",
              "      <th>19953</th>\n",
              "      <td>-1.234109</td>\n",
              "      <td>-0.697370</td>\n",
              "      <td>0.714877</td>\n",
              "      <td>0.653386</td>\n",
              "      <td>-0.772234</td>\n",
              "      <td>0.700770</td>\n",
              "      <td>0.762629</td>\n",
              "      <td>-3.934501</td>\n",
              "      <td>3.970100</td>\n",
              "      <td>0.673552</td>\n",
              "      <td>-0.667124</td>\n",
              "      <td>0.806901</td>\n",
              "      <td>-0.237391</td>\n",
              "      <td>0.188720</td>\n",
              "      <td>0.205785</td>\n",
              "      <td>0.147040</td>\n",
              "      <td>0.256891</td>\n",
              "      <td>-0.166453</td>\n",
              "      <td>0.205018</td>\n",
              "      <td>0.210529</td>\n",
              "      <td>-0.214484</td>\n",
              "      <td>-0.230535</td>\n",
              "      <td>0.154516</td>\n",
              "      <td>0.607786</td>\n",
              "      <td>0.517864</td>\n",
              "      <td>0.548589</td>\n",
              "      <td>-0.920988</td>\n",
              "      <td>0.67186</td>\n",
              "      <td>-0.345708</td>\n",
              "      <td>0.439936</td>\n",
              "      <td>0.254296</td>\n",
              "      <td>0.300465</td>\n",
              "      <td>-0.334895</td>\n",
              "      <td>-0.810912</td>\n",
              "      <td>0.664676</td>\n",
              "      <td>0.610671</td>\n",
              "      <td>0.653336</td>\n",
              "      <td>0.619054</td>\n",
              "      <td>-0.629043</td>\n",
              "      <td>0.638070</td>\n",
              "      <td>...</td>\n",
              "      <td>0.20192</td>\n",
              "      <td>-0.029441</td>\n",
              "      <td>-0.126622</td>\n",
              "      <td>1.198863</td>\n",
              "      <td>1.274828</td>\n",
              "      <td>0.707486</td>\n",
              "      <td>0.713659</td>\n",
              "      <td>0.716963</td>\n",
              "      <td>-0.681261</td>\n",
              "      <td>-0.182552</td>\n",
              "      <td>-0.189796</td>\n",
              "      <td>0.188793</td>\n",
              "      <td>-0.118878</td>\n",
              "      <td>-0.217947</td>\n",
              "      <td>0.082055</td>\n",
              "      <td>-0.151545</td>\n",
              "      <td>0.137351</td>\n",
              "      <td>0.198495</td>\n",
              "      <td>-0.164900</td>\n",
              "      <td>0.209618</td>\n",
              "      <td>-0.059715</td>\n",
              "      <td>-0.130632</td>\n",
              "      <td>-0.121160</td>\n",
              "      <td>-0.372971</td>\n",
              "      <td>-0.356701</td>\n",
              "      <td>0.395844</td>\n",
              "      <td>-0.194775</td>\n",
              "      <td>0.154949</td>\n",
              "      <td>-0.217352</td>\n",
              "      <td>0.206473</td>\n",
              "      <td>-0.549154</td>\n",
              "      <td>-0.616239</td>\n",
              "      <td>0.167539</td>\n",
              "      <td>0.267476</td>\n",
              "      <td>-0.329355</td>\n",
              "      <td>0.599573</td>\n",
              "      <td>-0.446544</td>\n",
              "      <td>0.376415</td>\n",
              "      <td>-0.717907</td>\n",
              "      <td>O-694033</td>\n",
              "    </tr>\n",
              "  </tbody>\n",
              "</table>\n",
              "<p>19954 rows × 170 columns</p>\n",
              "</div>"
            ],
            "text/plain": [
              "              0         1         2  ...       167       168  T_CHASSIS\n",
              "0     -1.234109 -0.697370  0.714877  ... -0.955038  2.050150   N-767941\n",
              "1      0.135513 -0.697370  0.714877  ... -0.955038  2.050150   N-767941\n",
              "2     -1.234109 -0.399654  0.505620  ... -0.955038  2.050150   N-767941\n",
              "3     -1.234109 -0.697370  0.714877  ... -0.118996  2.050150   O-731397\n",
              "4      0.135513 -0.697370  0.714877  ... -0.118996  2.050150   O-731397\n",
              "...         ...       ...       ...  ...       ...       ...        ...\n",
              "19949  0.135513  0.363524 -0.313654  ...  0.376415  2.050150   O-845569\n",
              "19950 -1.234109  0.669487 -0.570346  ...  0.376415  2.050150   O-845569\n",
              "19951 -1.234109 -1.483421  1.503841  ...  0.376415 -0.717907   O-884023\n",
              "19952 -1.234109 -0.697370  0.714877  ... -0.955038 -0.717907   O-684939\n",
              "19953 -1.234109 -0.697370  0.714877  ...  0.376415 -0.717907   O-694033\n",
              "\n",
              "[19954 rows x 170 columns]"
            ]
          },
          "metadata": {
            "tags": []
          },
          "execution_count": 214
        }
      ]
    },
    {
      "cell_type": "code",
      "metadata": {
        "id": "vFxdBa0ljsTK",
        "colab_type": "code",
        "colab": {}
      },
      "source": [
        "# I can decide to save the embedds if I want to\n",
        "#data_embed.to_csv(\"drive/My Drive/Thesis/data/Embedding_Data/sorted_data_full_embeds.csv\", sep=',', index=False)\n"
      ],
      "execution_count": 0,
      "outputs": []
    },
    {
      "cell_type": "code",
      "metadata": {
        "id": "eVdUq_8ukDUz",
        "colab_type": "code",
        "colab": {}
      },
      "source": [
        "# Split embedding data based on Chassis information\n",
        "train_embed, test_embed = validationSplit(data_embed, split=0.2)\n",
        "# extract train and test data\n",
        "XTrain_embed = train_embed.iloc[:, :169].values\n",
        "XTest_embed = test_embed.iloc[:, :169].values"
      ],
      "execution_count": 0,
      "outputs": []
    },
    {
      "cell_type": "code",
      "metadata": {
        "id": "amQH2G8OiOTc",
        "colab_type": "code",
        "colab": {}
      },
      "source": [
        ""
      ],
      "execution_count": 0,
      "outputs": []
    },
    {
      "cell_type": "markdown",
      "metadata": {
        "id": "w5bEW3Z1lT8W",
        "colab_type": "text"
      },
      "source": [
        "### Building the AutoEncoder models"
      ]
    },
    {
      "cell_type": "code",
      "metadata": {
        "id": "tpt5aBpnLrx5",
        "colab_type": "code",
        "colab": {}
      },
      "source": [
        "from tensorflow.keras.layers import PReLU, ReLU, BatchNormalization, ELU\n",
        "from keras.initializers import Constant\n",
        "from keras import regularizers\n"
      ],
      "execution_count": 0,
      "outputs": []
    },
    {
      "cell_type": "code",
      "metadata": {
        "id": "9geqPJ8VS7g8",
        "colab_type": "code",
        "colab": {}
      },
      "source": [
        "### Good AE model\n",
        "# 169 --> 85 --> 169\n",
        "# Using PReLu activation. getting training accuracy of 91% and val accuracy of 89%"
      ],
      "execution_count": 0,
      "outputs": []
    },
    {
      "cell_type": "code",
      "metadata": {
        "id": "3o60Yl4gN7of",
        "colab_type": "code",
        "outputId": "80a939d0-a41d-4a49-b82a-faf9fde3f92c",
        "colab": {
          "base_uri": "https://localhost:8080/",
          "height": 54
        }
      },
      "source": [
        "# create the encoder model\n",
        "'''\n",
        "input_encoder = Input(shape=(169,), name=\"encoder_input_layer\")\n",
        "# create the first encoder layer\n",
        "#encoder_layer1 = Dense(units=85, name='encoder_layer1', activity_regularizer=regularizers.l1(10e-5))(input_encoder)\n",
        "encoder_layer1 = Dense(units=11, name='encoder_layer1', )(input_encoder)\n",
        "\n",
        "layer_1 = PReLU(alpha_initializer=Constant(value=0.3))(encoder_layer1)\n",
        "#layer_1 = ELU()(encoder_layer1)\n",
        "\n",
        "encoder = Model(inputs=input_encoder, outputs=layer_1, name='Encoder_Model')\n",
        "\n",
        "# Create the Decoder model\n",
        "input_decoder = Input(shape=(2,), name=\"Decoder_input_layer\")\n",
        "# decoder 2nd decoder layer\n",
        "decoder_layer1 = Dense(units=169, name='decoder_layer1')(layer_1)\n",
        "layer_2 = PReLU(alpha_initializer=Constant(value=0.3))(decoder_layer1)\n",
        "#layer_2 = ELU()(decoder_layer1)\n",
        "\n",
        "#decoder = Model(inputs=input_decoder, outputs=decoder_layer1)\n",
        "\n",
        "# create the AE model\n",
        "autoencoder = Model(inputs=input_encoder, outputs=layer_2, name=\"AutoEncoder_Model\")\n",
        "\n",
        "# compile the AE model\n",
        "autoencoder.compile(optimizer='adam', loss='mse', metrics=['accuracy', 'mse'])\n",
        "'''"
      ],
      "execution_count": 0,
      "outputs": [
        {
          "output_type": "execute_result",
          "data": {
            "text/plain": [
              "'\\ninput_encoder = Input(shape=(169,), name=\"encoder_input_layer\")\\n# create the first encoder layer\\n#encoder_layer1 = Dense(units=85, name=\\'encoder_layer1\\', activity_regularizer=regularizers.l1(10e-5))(input_encoder)\\nencoder_layer1 = Dense(units=11, name=\\'encoder_layer1\\', )(input_encoder)\\n\\nlayer_1 = PReLU(alpha_initializer=Constant(value=0.3))(encoder_layer1)\\n#layer_1 = ELU()(encoder_layer1)\\n\\nencoder = Model(inputs=input_encoder, outputs=layer_1, name=\\'Encoder_Model\\')\\n\\n# Create the Decoder model\\ninput_decoder = Input(shape=(2,), name=\"Decoder_input_layer\")\\n# decoder 2nd decoder layer\\ndecoder_layer1 = Dense(units=169, name=\\'decoder_layer1\\')(layer_1)\\nlayer_2 = PReLU(alpha_initializer=Constant(value=0.3))(decoder_layer1)\\n#layer_2 = ELU()(decoder_layer1)\\n\\n#decoder = Model(inputs=input_decoder, outputs=decoder_layer1)\\n\\n# create the AE model\\nautoencoder = Model(inputs=input_encoder, outputs=layer_2, name=\"AutoEncoder_Model\")\\n\\n# compile the AE model\\nautoencoder.compile(optimizer=\\'adam\\', loss=\\'mse\\', metrics=[\\'accuracy\\', \\'mse\\'])\\n'"
            ]
          },
          "metadata": {
            "tags": []
          },
          "execution_count": 218
        }
      ]
    },
    {
      "cell_type": "code",
      "metadata": {
        "id": "XyOZtGWUruXY",
        "colab_type": "code",
        "colab": {}
      },
      "source": [
        "input_encoder = Input(shape=(169,), name=\"encoder_input_layer\")\n",
        "# create the first encoder layer\n",
        "#encoder_layer1 = Dense(units=85, name='encoder_layer1', activity_regularizer=regularizers.l1(10e-5))(input_encoder)\n",
        "encoder_layer1 = Dense(units=43, name='encoder_layer1', )(input_encoder)\n",
        "\n",
        "layer_1 = PReLU(alpha_initializer=Constant(value=0.3), name='enc_layer1_PReLU_Activation')(encoder_layer1)\n",
        "#layer_1 = ELU()(encoder_layer1)\n",
        "\n",
        "encoder_model = Model(inputs=input_encoder, outputs=layer_1, name='Encoder_Model')\n",
        "\n",
        "# Create the Decoder model\n",
        "input_decoder = Input(shape=(43,), name=\"Decoder_input_layer\")\n",
        "# decoder 2nd decoder layer\n",
        "decoder_layer1 = Dense(units=169, name='decoder_layer1')(layer_1)\n",
        "layer_2 = PReLU(alpha_initializer=Constant(value=0.3), name='dec_layer1_PReLU_Activation')(decoder_layer1)\n",
        "#layer_2 = ELU()(decoder_layer1)\n",
        "\n",
        "#decoder = Model(inputs=input_decoder, outputs=decoder_layer1)\n",
        "\n",
        "# create the AE model\n",
        "autoencoder = Model(inputs=input_encoder, outputs=layer_2, name=\"AutoEncoder_Model\")\n",
        "\n",
        "# compile the AE model\n",
        "autoencoder.compile(optimizer='adam', loss='mse', metrics=['accuracy', 'mse'])"
      ],
      "execution_count": 0,
      "outputs": []
    },
    {
      "cell_type": "code",
      "metadata": {
        "id": "C9cUYsWYsS0h",
        "colab_type": "code",
        "outputId": "9c7223dc-3c10-4180-8f0e-659c183983aa",
        "colab": {
          "base_uri": "https://localhost:8080/",
          "height": 329
        }
      },
      "source": [
        "autoencoder.summary()"
      ],
      "execution_count": 0,
      "outputs": [
        {
          "output_type": "stream",
          "text": [
            "Model: \"AutoEncoder_Model\"\n",
            "_________________________________________________________________\n",
            "Layer (type)                 Output Shape              Param #   \n",
            "=================================================================\n",
            "encoder_input_layer (InputLa [(None, 169)]             0         \n",
            "_________________________________________________________________\n",
            "encoder_layer1 (Dense)       (None, 43)                7310      \n",
            "_________________________________________________________________\n",
            "enc_layer1_PReLU_Activation  (None, 43)                43        \n",
            "_________________________________________________________________\n",
            "decoder_layer1 (Dense)       (None, 169)               7436      \n",
            "_________________________________________________________________\n",
            "dec_layer1_PReLU_Activation  (None, 169)               169       \n",
            "=================================================================\n",
            "Total params: 14,958\n",
            "Trainable params: 14,958\n",
            "Non-trainable params: 0\n",
            "_________________________________________________________________\n"
          ],
          "name": "stdout"
        }
      ]
    },
    {
      "cell_type": "code",
      "metadata": {
        "id": "G3IuzeKXvfVz",
        "colab_type": "code",
        "colab": {}
      },
      "source": [
        "#plot_model(model=autoencoder, to_file='drive/My Drive/Thesis/data/Embedding_Data/ae_model_image.png', show_shapes=True, dpi=300)"
      ],
      "execution_count": 0,
      "outputs": []
    },
    {
      "cell_type": "code",
      "metadata": {
        "id": "pTOAM7OnIZjE",
        "colab_type": "code",
        "colab": {}
      },
      "source": [
        "early_stop = EarlyStopping(monitor='val_accuracy', mode='max', verbose=1, patience=3)"
      ],
      "execution_count": 0,
      "outputs": []
    },
    {
      "cell_type": "code",
      "metadata": {
        "id": "_8xLwQ61t7eG",
        "colab_type": "code",
        "outputId": "365e4f2a-b85f-49ad-a6c6-019abe629c7b",
        "colab": {
          "base_uri": "https://localhost:8080/",
          "height": 467
        }
      },
      "source": [
        "autoencoder.fit(XTrain_embed, XTrain_embed, batch_size=128, epochs=100, validation_data=(XTest_embed, XTest_embed), workers=-1, callbacks=[early_stop])"
      ],
      "execution_count": 0,
      "outputs": [
        {
          "output_type": "stream",
          "text": [
            "Epoch 1/100\n",
            "127/127 [==============================] - 0s 3ms/step - loss: 0.4422 - accuracy: 0.3030 - mse: 0.4441 - val_loss: 0.2568 - val_accuracy: 0.5284 - val_mse: 0.2566\n",
            "Epoch 2/100\n",
            "127/127 [==============================] - 0s 3ms/step - loss: 0.1593 - accuracy: 0.5848 - mse: 0.1602 - val_loss: 0.1450 - val_accuracy: 0.6335 - val_mse: 0.1450\n",
            "Epoch 3/100\n",
            "127/127 [==============================] - 0s 3ms/step - loss: 0.0863 - accuracy: 0.6710 - mse: 0.0864 - val_loss: 0.0937 - val_accuracy: 0.6641 - val_mse: 0.0937\n",
            "Epoch 4/100\n",
            "127/127 [==============================] - 0s 3ms/step - loss: 0.0546 - accuracy: 0.7331 - mse: 0.0543 - val_loss: 0.0685 - val_accuracy: 0.7068 - val_mse: 0.0685\n",
            "Epoch 5/100\n",
            "127/127 [==============================] - 0s 3ms/step - loss: 0.0390 - accuracy: 0.7781 - mse: 0.0392 - val_loss: 0.0539 - val_accuracy: 0.7261 - val_mse: 0.0539\n",
            "Epoch 6/100\n",
            "127/127 [==============================] - 0s 3ms/step - loss: 0.0305 - accuracy: 0.7982 - mse: 0.0305 - val_loss: 0.0457 - val_accuracy: 0.7345 - val_mse: 0.0457\n",
            "Epoch 7/100\n",
            "127/127 [==============================] - 0s 3ms/step - loss: 0.0248 - accuracy: 0.8177 - mse: 0.0248 - val_loss: 0.0384 - val_accuracy: 0.7353 - val_mse: 0.0384\n",
            "Epoch 8/100\n",
            "127/127 [==============================] - 0s 3ms/step - loss: 0.0204 - accuracy: 0.8345 - mse: 0.0204 - val_loss: 0.0337 - val_accuracy: 0.7497 - val_mse: 0.0337\n",
            "Epoch 9/100\n",
            "127/127 [==============================] - 0s 3ms/step - loss: 0.0174 - accuracy: 0.8408 - mse: 0.0174 - val_loss: 0.0301 - val_accuracy: 0.7528 - val_mse: 0.0301\n",
            "Epoch 10/100\n",
            "127/127 [==============================] - 0s 3ms/step - loss: 0.0151 - accuracy: 0.8456 - mse: 0.0152 - val_loss: 0.0270 - val_accuracy: 0.7392 - val_mse: 0.0270\n",
            "Epoch 11/100\n",
            "127/127 [==============================] - 0s 3ms/step - loss: 0.0133 - accuracy: 0.8547 - mse: 0.0134 - val_loss: 0.0250 - val_accuracy: 0.7405 - val_mse: 0.0250\n",
            "Epoch 12/100\n",
            "127/127 [==============================] - 0s 3ms/step - loss: 0.0120 - accuracy: 0.8598 - mse: 0.0121 - val_loss: 0.0234 - val_accuracy: 0.7287 - val_mse: 0.0235\n",
            "Epoch 00012: early stopping\n"
          ],
          "name": "stdout"
        },
        {
          "output_type": "execute_result",
          "data": {
            "text/plain": [
              "<tensorflow.python.keras.callbacks.History at 0x7f6eb7d3eac8>"
            ]
          },
          "metadata": {
            "tags": []
          },
          "execution_count": 234
        }
      ]
    },
    {
      "cell_type": "code",
      "metadata": {
        "id": "wrWoqS-gs4OG",
        "colab_type": "code",
        "outputId": "9bb62f92-53ed-4b9b-ac53-cf16e1140077",
        "colab": {
          "base_uri": "https://localhost:8080/",
          "height": 171
        }
      },
      "source": [
        "losses = pd.DataFrame(autoencoder.history.history)\n",
        "losses = losses[['loss', 'accuracy', 'val_loss', 'val_accuracy']]\n",
        "losses.tail(4)"
      ],
      "execution_count": 0,
      "outputs": [
        {
          "output_type": "execute_result",
          "data": {
            "text/html": [
              "<div>\n",
              "<style scoped>\n",
              "    .dataframe tbody tr th:only-of-type {\n",
              "        vertical-align: middle;\n",
              "    }\n",
              "\n",
              "    .dataframe tbody tr th {\n",
              "        vertical-align: top;\n",
              "    }\n",
              "\n",
              "    .dataframe thead th {\n",
              "        text-align: right;\n",
              "    }\n",
              "</style>\n",
              "<table border=\"1\" class=\"dataframe\">\n",
              "  <thead>\n",
              "    <tr style=\"text-align: right;\">\n",
              "      <th></th>\n",
              "      <th>loss</th>\n",
              "      <th>accuracy</th>\n",
              "      <th>val_loss</th>\n",
              "      <th>val_accuracy</th>\n",
              "    </tr>\n",
              "  </thead>\n",
              "  <tbody>\n",
              "    <tr>\n",
              "      <th>8</th>\n",
              "      <td>0.018239</td>\n",
              "      <td>0.847003</td>\n",
              "      <td>0.035632</td>\n",
              "      <td>0.737379</td>\n",
              "    </tr>\n",
              "    <tr>\n",
              "      <th>9</th>\n",
              "      <td>0.016487</td>\n",
              "      <td>0.850288</td>\n",
              "      <td>0.033941</td>\n",
              "      <td>0.715668</td>\n",
              "    </tr>\n",
              "    <tr>\n",
              "      <th>10</th>\n",
              "      <td>0.014980</td>\n",
              "      <td>0.852086</td>\n",
              "      <td>0.031552</td>\n",
              "      <td>0.720377</td>\n",
              "    </tr>\n",
              "    <tr>\n",
              "      <th>11</th>\n",
              "      <td>0.013529</td>\n",
              "      <td>0.850846</td>\n",
              "      <td>0.029135</td>\n",
              "      <td>0.729793</td>\n",
              "    </tr>\n",
              "  </tbody>\n",
              "</table>\n",
              "</div>"
            ],
            "text/plain": [
              "        loss  accuracy  val_loss  val_accuracy\n",
              "8   0.018239  0.847003  0.035632      0.737379\n",
              "9   0.016487  0.850288  0.033941      0.715668\n",
              "10  0.014980  0.852086  0.031552      0.720377\n",
              "11  0.013529  0.850846  0.029135      0.729793"
            ]
          },
          "metadata": {
            "tags": []
          },
          "execution_count": 226
        }
      ]
    },
    {
      "cell_type": "code",
      "metadata": {
        "id": "0hcwHsRHtzhm",
        "colab_type": "code",
        "outputId": "5c687ec3-9f3b-470c-a761-93b041748b8b",
        "colab": {
          "base_uri": "https://localhost:8080/",
          "height": 475
        }
      },
      "source": [
        "# plot the losses loss metrics\n",
        "losses[['loss', 'val_loss']].plot(figsize=(15,7))\n",
        "plt.xlabel('Epochs')\n",
        "plt.ylabel('MSE')\n",
        "plt.title('Training and Validation Loss - PReLU')\n",
        "plt.grid()\n",
        "plt.legend()"
      ],
      "execution_count": 0,
      "outputs": [
        {
          "output_type": "execute_result",
          "data": {
            "text/plain": [
              "<matplotlib.legend.Legend at 0x7f6ecba851d0>"
            ]
          },
          "metadata": {
            "tags": []
          },
          "execution_count": 227
        },
        {
          "output_type": "display_data",
          "data": {
            "image/png": "[encoded data removed]",
            "text/plain": [
              "<Figure size 1080x504 with 1 Axes>"
            ]
          },
          "metadata": {
            "tags": [],
            "needs_background": "light"
          }
        }
      ]
    },
    {
      "cell_type": "code",
      "metadata": {
        "id": "W4p7I6m7xP_i",
        "colab_type": "code",
        "colab": {}
      },
      "source": [
        ""
      ],
      "execution_count": 0,
      "outputs": []
    },
    {
      "cell_type": "code",
      "metadata": {
        "id": "ItBi7yf1uLaA",
        "colab_type": "code",
        "outputId": "5d184597-562b-49e3-fcf5-9152622d2d28",
        "colab": {
          "base_uri": "https://localhost:8080/",
          "height": 458
        }
      },
      "source": [
        "# plot the accuracy metrics\n",
        "losses[['accuracy', 'val_accuracy']].plot(figsize=(15,7))\n",
        "plt.xlabel('Epochs')\n",
        "plt.ylabel('Accuracy')\n",
        "plt.title('Training and Validation Accuracy - PReLu')\n",
        "plt.legend()\n",
        "plt.grid()"
      ],
      "execution_count": 0,
      "outputs": [
        {
          "output_type": "display_data",
          "data": {
            "image/png": "[encoded data removed]",
            "text/plain": [
              "<Figure size 1080x504 with 1 Axes>"
            ]
          },
          "metadata": {
            "tags": [],
            "needs_background": "light"
          }
        }
      ]
    },
    {
      "cell_type": "code",
      "metadata": {
        "id": "S_XVdZmZsogj",
        "colab_type": "code",
        "outputId": "33ace289-5d60-46af-869c-e56bf7148c4f",
        "colab": {
          "base_uri": "https://localhost:8080/",
          "height": 34
        }
      },
      "source": [
        "# also save the encoder model\n",
        "# encoder_model.save(\"drive/My Drive/Thesis/data/Embedding_Data/embedding_encoder_22.h5\")\n",
        "# load the encoder model\n",
        "encoder_model = load_model(\"drive/My Drive/Thesis/data/Embedding_Data/embedding_encoder_43.h5\")"
      ],
      "execution_count": 0,
      "outputs": [
        {
          "output_type": "stream",
          "text": [
            "WARNING:tensorflow:No training configuration found in the save file, so the model was *not* compiled. Compile it manually.\n"
          ],
          "name": "stdout"
        }
      ]
    },
    {
      "cell_type": "code",
      "metadata": {
        "id": "XGz9h5lptc6d",
        "colab_type": "code",
        "colab": {}
      },
      "source": [
        "# Fetch the embeddings from the Encoder Model\n",
        "encoder_embed_train = encoder_model.predict(XTrain_embed)\n",
        "encoder_embed_test = encoder_model.predict(XTest_embed)"
      ],
      "execution_count": 0,
      "outputs": []
    },
    {
      "cell_type": "code",
      "metadata": {
        "id": "bpcFWB0LWziQ",
        "colab_type": "code",
        "colab": {}
      },
      "source": [
        "# remove old logs\n",
        "!rm -rf ./logs/ "
      ],
      "execution_count": 0,
      "outputs": []
    },
    {
      "cell_type": "markdown",
      "metadata": {
        "id": "2qTsN7a7Ozp1",
        "colab_type": "text"
      },
      "source": [
        "## Testing Embeddings\n",
        "Here we test our embeddings"
      ]
    },
    {
      "cell_type": "markdown",
      "metadata": {
        "id": "q7t-Cz6hBIQ4",
        "colab_type": "text"
      },
      "source": [
        "### Random Forest RUL Evaluation"
      ]
    },
    {
      "cell_type": "code",
      "metadata": {
        "id": "pcytydcKDszd",
        "colab_type": "code",
        "colab": {}
      },
      "source": [
        "# Split embedding data based on Chassis information\n",
        "train_dd, test_dd = validationSplit(data2, split=0.2)\n",
        "# extract train and test data\n",
        "#XTrain_embed = train_embed.iloc[:, :169].values\n",
        "#XTest_embed = test_embed.iloc[:, :169].values"
      ],
      "execution_count": 0,
      "outputs": []
    },
    {
      "cell_type": "code",
      "metadata": {
        "id": "AWNaqT2SD3Rd",
        "colab_type": "code",
        "colab": {}
      },
      "source": [
        "yTrain_dd = train_dd['RUL'].values\n",
        "yTest_dd = test_dd['RUL'].values"
      ],
      "execution_count": 0,
      "outputs": []
    },
    {
      "cell_type": "code",
      "metadata": {
        "id": "iRbEOVwtBP82",
        "colab_type": "code",
        "colab": {}
      },
      "source": [
        "from sklearn.ensemble import RandomForestRegressor"
      ],
      "execution_count": 0,
      "outputs": []
    },
    {
      "cell_type": "code",
      "metadata": {
        "id": "5Pi6_m1cBj0L",
        "colab_type": "code",
        "colab": {}
      },
      "source": [
        "regr = RandomForestRegressor(random_state=42, n_jobs=-1, n_estimators=100, criterion='mae', max_depth=100, verbose=2) "
      ],
      "execution_count": 0,
      "outputs": []
    },
    {
      "cell_type": "code",
      "metadata": {
        "id": "BPERqgP-BvVu",
        "colab_type": "code",
        "colab": {}
      },
      "source": [
        "regr.fit(encoder_embed_train, yTrain_dd)"
      ],
      "execution_count": 0,
      "outputs": []
    },
    {
      "cell_type": "code",
      "metadata": {
        "id": "icpIJO2eBwc5",
        "colab_type": "code",
        "outputId": "b20cd98f-b197-409f-81fb-039b7110d3b0",
        "colab": {
          "base_uri": "https://localhost:8080/",
          "height": 69
        }
      },
      "source": [
        "predictions = regr.predict(encoder_embed_test)"
      ],
      "execution_count": 0,
      "outputs": [
        {
          "output_type": "stream",
          "text": [
            "[Parallel(n_jobs=4)]: Using backend ThreadingBackend with 4 concurrent workers.\n",
            "[Parallel(n_jobs=4)]: Done  33 tasks      | elapsed:    0.0s\n",
            "[Parallel(n_jobs=4)]: Done 100 out of 100 | elapsed:    0.0s finished\n"
          ],
          "name": "stderr"
        }
      ]
    },
    {
      "cell_type": "code",
      "metadata": {
        "id": "s5vLlrioByk8",
        "colab_type": "code",
        "colab": {}
      },
      "source": [
        "# plotting our prediction result\n",
        "test_predictions = pd.Series(predictions.reshape(3823,))\n",
        "pred_df = pd.DataFrame(yTest_dd, columns=['True RUL'])\n",
        "pred_df = pd.concat([pred_df, test_predictions], axis=1)\n",
        "pred_df.columns = ['True RUL', 'Predicted RUL']"
      ],
      "execution_count": 0,
      "outputs": []
    },
    {
      "cell_type": "code",
      "metadata": {
        "id": "BbJ8H-npB2fa",
        "colab_type": "code",
        "outputId": "aa16e33f-6d72-4d09-ad35-247c6328c883",
        "colab": {
          "base_uri": "https://localhost:8080/",
          "height": 655
        }
      },
      "source": [
        "plt.figure()\n",
        "pred_df[:1000].plot(figsize=(20,10))\n",
        "plt.xlabel('Data Samples')\n",
        "plt.ylabel('RUL')\n",
        "plt.title('Random Forest Prediction on AE Embeddings')"
      ],
      "execution_count": 0,
      "outputs": [
        {
          "output_type": "execute_result",
          "data": {
            "text/plain": [
              "Text(0.5, 1.0, 'Random Forest Prediction on AE Embeddings')"
            ]
          },
          "metadata": {
            "tags": []
          },
          "execution_count": 300
        },
        {
          "output_type": "display_data",
          "data": {
            "text/plain": [
              "<Figure size 432x288 with 0 Axes>"
            ]
          },
          "metadata": {
            "tags": []
          }
        },
        {
          "output_type": "display_data",
          "data": {
            "image/png": "[encoded data removed]",
            "text/plain": [
              "<Figure size 1440x720 with 1 Axes>"
            ]
          },
          "metadata": {
            "tags": [],
            "needs_background": "light"
          }
        }
      ]
    },
    {
      "cell_type": "code",
      "metadata": {
        "id": "0F8p0OLNB402",
        "colab_type": "code",
        "colab": {}
      },
      "source": [
        "from sklearn.metrics import mean_absolute_error, explained_variance_score"
      ],
      "execution_count": 0,
      "outputs": []
    },
    {
      "cell_type": "code",
      "metadata": {
        "id": "10VTeENFB-mn",
        "colab_type": "code",
        "outputId": "be4641f5-88f0-4fb9-f08d-b392c7600b97",
        "colab": {
          "base_uri": "https://localhost:8080/",
          "height": 34
        }
      },
      "source": [
        "# mean absolute error for our predictions\n",
        "mean_absolute_error(pred_df['True RUL'], pred_df['Predicted RUL'])"
      ],
      "execution_count": 0,
      "outputs": [
        {
          "output_type": "execute_result",
          "data": {
            "text/plain": [
              "181.2998875228878"
            ]
          },
          "metadata": {
            "tags": []
          },
          "execution_count": 302
        }
      ]
    },
    {
      "cell_type": "code",
      "metadata": {
        "id": "DA7YLPPNCBog",
        "colab_type": "code",
        "outputId": "011dee76-7fb5-4459-88ea-08d95c287a50",
        "colab": {
          "base_uri": "https://localhost:8080/",
          "height": 34
        }
      },
      "source": [
        "# explained variance score\n",
        "explained_variance_score(pred_df['True RUL'].values, pred_df['Predicted RUL'].values)"
      ],
      "execution_count": 0,
      "outputs": [
        {
          "output_type": "execute_result",
          "data": {
            "text/plain": [
              "0.243707707344629"
            ]
          },
          "metadata": {
            "tags": []
          },
          "execution_count": 303
        }
      ]
    },
    {
      "cell_type": "markdown",
      "metadata": {
        "id": "_v_VUyHq7lwT",
        "colab_type": "text"
      },
      "source": [
        "# View Embeddings"
      ]
    },
    {
      "cell_type": "code",
      "metadata": {
        "id": "7qzc12637p3w",
        "colab_type": "code",
        "colab": {}
      },
      "source": [
        "# import TSNE and PCA\n",
        "from sklearn.manifold import TSNE\n",
        "from sklearn.decomposition import PCA\n",
        "\n",
        "import matplotlib.pyplot as plt"
      ],
      "execution_count": 0,
      "outputs": []
    },
    {
      "cell_type": "code",
      "metadata": {
        "id": "VebPV__P8XDQ",
        "colab_type": "code",
        "colab": {}
      },
      "source": [
        "tsne = TSNE(n_components=2, n_iter=1000, perplexity=50)\n",
        "reduced_tsne = tsne.fit_transform(encoder_embed_test)\n",
        "\n",
        "pca = PCA(n_components=2)\n",
        "pca_data = pca.fit_transform(encoder_embed_test)"
      ],
      "execution_count": 0,
      "outputs": []
    },
    {
      "cell_type": "code",
      "metadata": {
        "id": "RSz51FgU9ak0",
        "colab_type": "code",
        "outputId": "8dfa0491-89f9-4557-e6c1-4cffd31e5183",
        "colab": {
          "base_uri": "https://localhost:8080/",
          "height": 34
        }
      },
      "source": [
        "# label encoding for the chassis\n",
        "chassis_target = pd.factorize(test_embed.loc[:, 'T_CHASSIS'].values)[0]\n",
        "chassis_target.shape"
      ],
      "execution_count": 0,
      "outputs": [
        {
          "output_type": "execute_result",
          "data": {
            "text/plain": [
              "(3823,)"
            ]
          },
          "metadata": {
            "tags": []
          },
          "execution_count": 374
        }
      ]
    },
    {
      "cell_type": "code",
      "metadata": {
        "id": "M7yq54hBw0rx",
        "colab_type": "code",
        "colab": {}
      },
      "source": [
        "codes, uniques = pd.factorize(test_embed.loc[:, 'T_CHASSIS'].values)"
      ],
      "execution_count": 0,
      "outputs": []
    },
    {
      "cell_type": "code",
      "metadata": {
        "id": "6pCd0trsBctV",
        "colab_type": "code",
        "outputId": "9c2a0925-ba4b-4ad2-de56-dcc21be69d23",
        "colab": {
          "base_uri": "https://localhost:8080/",
          "height": 34
        }
      },
      "source": [
        "x1 = encoder_embed_test[1013]\n",
        "x2 = encoder_embed_test[3000]\n",
        "\n",
        "\n",
        "# calculating the cosing similarity of two vectors in the orginal space\n",
        "a_dot = np.dot(x1, x2)\n",
        "similar = a_dot / (np.linalg.norm(x1) * np.linalg.norm(x2))\n",
        "similar\n"
      ],
      "execution_count": 0,
      "outputs": [
        {
          "output_type": "execute_result",
          "data": {
            "text/plain": [
              "0.649555"
            ]
          },
          "metadata": {
            "tags": []
          },
          "execution_count": 376
        }
      ]
    },
    {
      "cell_type": "code",
      "metadata": {
        "id": "W9bA9lUB1roq",
        "colab_type": "code",
        "outputId": "f6982cb4-1d10-4082-f3eb-c79db93d344c",
        "colab": {
          "base_uri": "https://localhost:8080/",
          "height": 34
        }
      },
      "source": [
        "'''\n",
        "0-746402 and O-678360, 0-778558\n",
        "Chekc distance from \n",
        "O-803915 and O-719898\n",
        "O-719156 and O-753014\n",
        "'''"
      ],
      "execution_count": 0,
      "outputs": [
        {
          "output_type": "execute_result",
          "data": {
            "text/plain": [
              "'\\n0-746402 and O-678360, 0-778558\\nChekc distance from \\nO-803915 and O-719898\\nO-719156 and O-753014\\n'"
            ]
          },
          "metadata": {
            "tags": []
          },
          "execution_count": 377
        }
      ]
    },
    {
      "cell_type": "markdown",
      "metadata": {
        "id": "ZS9Ak3cD4Hjc",
        "colab_type": "text"
      },
      "source": [
        "Observation between 0-746402 and O-678360. Calculating the cosine similarity between those two embedding points shows a value of 0.75161475. The farthest point to this is O-803915 and the similarity value is 0.25650138"
      ]
    },
    {
      "cell_type": "markdown",
      "metadata": {
        "id": "ilObnFbEHjXC",
        "colab_type": "text"
      },
      "source": [
        "0.7942, 0.6742973 (ElU), 0.4070125 (PReLU)"
      ]
    },
    {
      "cell_type": "code",
      "metadata": {
        "id": "9wldXNhluBdg",
        "colab_type": "code",
        "outputId": "57da89f0-a147-42bd-ee61-b03b9889b72d",
        "colab": {
          "base_uri": "https://localhost:8080/",
          "height": 34
        }
      },
      "source": [
        "x1 = XTest_embed[956]\n",
        "x2 = XTest_embed[805]\n",
        "#O-719898\n",
        "\n",
        "# calculating the cosing similarity of two vectors in the orginal space\n",
        "a_dot = np.dot(x1, x2)\n",
        "similar = a_dot / (np.linalg.norm(x1) * np.linalg.norm(x2))\n",
        "similar\n"
      ],
      "execution_count": 0,
      "outputs": [
        {
          "output_type": "execute_result",
          "data": {
            "text/plain": [
              "0.6811176"
            ]
          },
          "metadata": {
            "tags": []
          },
          "execution_count": 378
        }
      ]
    },
    {
      "cell_type": "code",
      "metadata": {
        "id": "O3zW109Avutl",
        "colab_type": "code",
        "outputId": "a9649731-25f5-434b-ed50-ecf31359d114",
        "colab": {
          "base_uri": "https://localhost:8080/",
          "height": 34
        }
      },
      "source": [
        "np.unique(chassis_target[900:1000])"
      ],
      "execution_count": 0,
      "outputs": [
        {
          "output_type": "execute_result",
          "data": {
            "text/plain": [
              "array([18, 19, 20])"
            ]
          },
          "metadata": {
            "tags": []
          },
          "execution_count": 379
        }
      ]
    },
    {
      "cell_type": "code",
      "metadata": {
        "id": "GSZbBQ3Gz0uF",
        "colab_type": "code",
        "outputId": "70a4eea6-7102-4d47-8305-02a2326739fb",
        "colab": {
          "base_uri": "https://localhost:8080/",
          "height": 624
        }
      },
      "source": [
        "fig = plt.figure(figsize=(15,10))\n",
        "scatter = plt.scatter(reduced_tsne[900:1000,0], reduced_tsne[900:1000,1], c=chassis_target[900:1000], marker='.', label=np.unique(chassis_target[900:1000]))\n",
        "plt.title('Chassis - TSNE Embeddings Reduction')\n",
        "plt.legend(handles=scatter.legend_elements()[0], labels=list(np.unique(chassis_target[900:1000])))"
      ],
      "execution_count": 0,
      "outputs": [
        {
          "output_type": "execute_result",
          "data": {
            "text/plain": [
              "<matplotlib.legend.Legend at 0x7f6eae627518>"
            ]
          },
          "metadata": {
            "tags": []
          },
          "execution_count": 380
        },
        {
          "output_type": "display_data",
          "data": {
            "image/png": "[encoded data removed]",
            "text/plain": [
              "<Figure size 1080x720 with 1 Axes>"
            ]
          },
          "metadata": {
            "tags": [],
            "needs_background": "light"
          }
        }
      ]
    },
    {
      "cell_type": "code",
      "metadata": {
        "id": "_qdrpP4CEaxO",
        "colab_type": "code",
        "outputId": "e2c35915-ae60-4400-a0a5-029b3dedd3e3",
        "colab": {
          "base_uri": "https://localhost:8080/",
          "height": 624
        }
      },
      "source": [
        "fig = plt.figure(figsize=(15,10))\n",
        "scatter = plt.scatter(pca_data[900:1000,0], pca_data[900:1000,1], c=chassis_target[900:1000], marker='.', label=np.unique(chassis_target[900:1000]))\n",
        "plt.title('Chassis - PCA Embeddings Reduction')\n",
        "plt.legend(handles=scatter.legend_elements()[0], labels=list(np.unique(chassis_target[900:1000])))"
      ],
      "execution_count": 0,
      "outputs": [
        {
          "output_type": "execute_result",
          "data": {
            "text/plain": [
              "<matplotlib.legend.Legend at 0x7f6eae83f828>"
            ]
          },
          "metadata": {
            "tags": []
          },
          "execution_count": 381
        },
        {
          "output_type": "display_data",
          "data": {
            "image/png": "[encoded data removed]",
            "text/plain": [
              "<Figure size 1080x720 with 1 Axes>"
            ]
          },
          "metadata": {
            "tags": [],
            "needs_background": "light"
          }
        }
      ]
    },
    {
      "cell_type": "code",
      "metadata": {
        "id": "sMuB5Ae_w_yJ",
        "colab_type": "code",
        "outputId": "d3078f20-3706-4746-dc23-4a76fc3e103f",
        "colab": {
          "base_uri": "https://localhost:8080/",
          "height": 34
        }
      },
      "source": [
        "## \n",
        "'''\n",
        "0-746402 and O-678360, 0-778558\n",
        "Chekc distance from \n",
        "O-803915 and O-719898\n",
        "O-719156 and O-753014\n",
        "'''\n",
        "## '''"
      ],
      "execution_count": 0,
      "outputs": [
        {
          "output_type": "execute_result",
          "data": {
            "text/plain": [
              "'\\n0-746402 and O-678360, 0-778558\\nChekc distance from \\nO-803915 and O-719898\\nO-719156 and O-753014\\n'"
            ]
          },
          "metadata": {
            "tags": []
          },
          "execution_count": 382
        }
      ]
    },
    {
      "cell_type": "code",
      "metadata": {
        "id": "EQvB56JkSgqj",
        "colab_type": "code",
        "outputId": "ccd7d67c-3c7f-4413-9fda-b55143482eb5",
        "colab": {
          "base_uri": "https://localhost:8080/",
          "height": 51
        }
      },
      "source": [
        "np.unique(chassis_target[:1000])"
      ],
      "execution_count": 0,
      "outputs": [
        {
          "output_type": "execute_result",
          "data": {
            "text/plain": [
              "array([ 0,  1,  2,  3,  4,  5,  6,  7,  8,  9, 10, 11, 12, 13, 14, 15, 16,\n",
              "       17, 18, 19, 20])"
            ]
          },
          "metadata": {
            "tags": []
          },
          "execution_count": 383
        }
      ]
    },
    {
      "cell_type": "code",
      "metadata": {
        "id": "3843W8vx7tY6",
        "colab_type": "code",
        "outputId": "affb7a02-ff73-4353-ab56-c3db3c781bf2",
        "colab": {
          "base_uri": "https://localhost:8080/",
          "height": 607
        }
      },
      "source": [
        "fig = plt.figure(figsize=(20, 10))\n",
        "scatter2 = plt.scatter(reduced_tsne[:1000,0], reduced_tsne[:1000,1], c=chassis_target[:1000], cmap=plt.cm.get_cmap(\"gist_ncar\"), marker='.')\n",
        "plt.title('Chassis - TSNE Embeddings ')\n",
        "\n",
        "counter = []\n",
        "for i, txt in enumerate(test_embed.loc[:1000, 'T_CHASSIS'].values):\n",
        "  if txt not in counter:\n",
        "    plt.annotate(txt, (reduced_tsne[i,0], reduced_tsne[i,1]))\n",
        "    counter.append(txt)"
      ],
      "execution_count": 0,
      "outputs": [
        {
          "output_type": "display_data",
          "data": {
            "image/png": "[encoded data removed]",
            "text/plain": [
              "<Figure size 1440x720 with 1 Axes>"
            ]
          },
          "metadata": {
            "tags": [],
            "needs_background": "light"
          }
        }
      ]
    },
    {
      "cell_type": "code",
      "metadata": {
        "id": "tzParyfnEcam",
        "colab_type": "code",
        "outputId": "dbdf17c5-728f-414f-dc66-c541915495c1",
        "colab": {
          "base_uri": "https://localhost:8080/",
          "height": 607
        }
      },
      "source": [
        "fig = plt.figure(figsize=(20,10))\n",
        "plt.scatter(pca_data[:1000,0], pca_data[:1000,1], c=chassis_target[:1000], marker='.')\n",
        "plt.title('Chassis - PCA Embeddings Reduction')\n",
        "counter = []\n",
        "for i, txt in enumerate(test_embed.loc[:1000, 'T_CHASSIS'].values):\n",
        "  if txt not in counter:\n",
        "    plt.annotate(txt, (pca_data[i,0], pca_data[i,1]))\n",
        "    counter.append(txt) "
      ],
      "execution_count": 0,
      "outputs": [
        {
          "output_type": "display_data",
          "data": {
            "image/png": "[encoded data removed]",
            "text/plain": [
              "<Figure size 1440x720 with 1 Axes>"
            ]
          },
          "metadata": {
            "tags": [],
            "needs_background": "light"
          }
        }
      ]
    },
    {
      "cell_type": "code",
      "metadata": {
        "id": "Gp7G2cg0xy5v",
        "colab_type": "code",
        "outputId": "c6fe232c-7747-4d8b-b0b9-49e7dbec101c",
        "colab": {
          "base_uri": "https://localhost:8080/",
          "height": 34
        }
      },
      "source": [
        "'''\n",
        "Chekc distance from \n",
        "O-803915 and O-719898\n",
        "O-719156 and O-753014\n",
        "'''"
      ],
      "execution_count": 0,
      "outputs": [
        {
          "output_type": "execute_result",
          "data": {
            "text/plain": [
              "'\\nChekc distance from \\nO-803915 and O-719898\\nO-719156 and O-753014\\n'"
            ]
          },
          "metadata": {
            "tags": []
          },
          "execution_count": 386
        }
      ]
    },
    {
      "cell_type": "code",
      "metadata": {
        "id": "sY_jCcXI_cuQ",
        "colab_type": "code",
        "colab": {}
      },
      "source": [
        ""
      ],
      "execution_count": 0,
      "outputs": []
    }
  ]
}