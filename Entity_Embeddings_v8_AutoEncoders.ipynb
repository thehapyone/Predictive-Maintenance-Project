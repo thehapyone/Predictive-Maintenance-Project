{
  "nbformat": 4,
  "nbformat_minor": 0,
  "metadata": {
    "colab": {
      "name": "Entity Embeddings_v8 - AutoEncoders.ipynb",
      "provenance": [],
      "collapsed_sections": [],
      "machine_shape": "hm",
      "mount_file_id": "1dNbjhBsFetQAx_cu72cb-256k1TR8XEl",
      "authorship_tag": "ABX9TyPxKuDXjH6hjlkQaHAGri1a",
      "include_colab_link": true
    },
    "kernelspec": {
      "name": "python3",
      "display_name": "Python 3"
    },
    "accelerator": "GPU"
  },
  "cells": [
    {
      "cell_type": "markdown",
      "metadata": {
        "id": "view-in-github",
        "colab_type": "text"
      },
      "source": [
        "<a href=\"https://colab.research.google.com/github/thehapyone/Thesis_Project/blob/master/Entity_Embeddings_v8_AutoEncoders.ipynb\" target=\"_parent\"><img src=\"https://colab.research.google.com/assets/colab-badge.svg\" alt=\"Open In Colab\"/></a>"
      ]
    },
    {
      "cell_type": "markdown",
      "metadata": {
        "id": "UBH4RjYX1OGw",
        "colab_type": "text"
      },
      "source": [
        "# Learned Embeddings - AutoEncoders\n",
        "This program will attempt to create embeddings for the categorical features using the pipelines code developed."
      ]
    },
    {
      "cell_type": "markdown",
      "metadata": {
        "id": "1kS2iuLi1tCV",
        "colab_type": "text"
      },
      "source": [
        "function ClickConnect(){\n",
        "console.log(\"Working\");\n",
        "document.querySelector(\"colab-connect-button\").shadowRoot.getElementById('connect').click()\n",
        "}\n",
        "setInterval(ClickConnect,60000)"
      ]
    },
    {
      "cell_type": "code",
      "metadata": {
        "id": "R7mCtb7J1TX8",
        "colab_type": "code",
        "outputId": "01ad1ae7-6c43-44e5-fcd1-4539e95851a4",
        "colab": {
          "base_uri": "https://localhost:8080/",
          "height": 123
        }
      },
      "source": [
        "from google.colab import drive\n",
        "drive.mount('/content/drive', force_remount=False)"
      ],
      "execution_count": 1,
      "outputs": [
        {
          "output_type": "stream",
          "text": [
            "Go to this URL in a browser: https://accounts.google.com/o/oauth2/auth?client_id=947318989803-6bn6qk8qdgf4n4g3pfee6491hc0brc4i.apps.googleusercontent.com&redirect_uri=urn%3aietf%3awg%3aoauth%3a2.0%3aoob&response_type=code&scope=email%20https%3a%2f%2fwww.googleapis.com%2fauth%2fdocs.test%20https%3a%2f%2fwww.googleapis.com%2fauth%2fdrive%20https%3a%2f%2fwww.googleapis.com%2fauth%2fdrive.photos.readonly%20https%3a%2f%2fwww.googleapis.com%2fauth%2fpeopleapi.readonly\n",
            "\n",
            "Enter your authorization code:\n",
            "··········\n",
            "Mounted at /content/drive\n"
          ],
          "name": "stdout"
        }
      ]
    },
    {
      "cell_type": "code",
      "metadata": {
        "id": "kc1JPb4v074V",
        "colab_type": "code",
        "outputId": "8dfedf09-82c8-4698-fa15-f58ab691ef03",
        "colab": {
          "base_uri": "https://localhost:8080/",
          "height": 51
        }
      },
      "source": [
        "import pandas as pd\n",
        "import numpy as np\n",
        "import seaborn as sns\n",
        "import matplotlib.pyplot as plt\n",
        "import copy as copy"
      ],
      "execution_count": 2,
      "outputs": [
        {
          "output_type": "stream",
          "text": [
            "/usr/local/lib/python3.6/dist-packages/statsmodels/tools/_testing.py:19: FutureWarning: pandas.util.testing is deprecated. Use the functions in the public API at pandas.testing instead.\n",
            "  import pandas.util.testing as tm\n"
          ],
          "name": "stderr"
        }
      ]
    },
    {
      "cell_type": "code",
      "metadata": {
        "id": "BRGnXWAW-rXj",
        "colab_type": "code",
        "colab": {}
      },
      "source": [
        "import sys\n",
        "sys.path.append('drive/My Drive/Thesis/Collab Notebooks/')"
      ],
      "execution_count": 0,
      "outputs": []
    },
    {
      "cell_type": "code",
      "metadata": {
        "id": "mVU9EuJE-O1U",
        "colab_type": "code",
        "colab": {}
      },
      "source": [
        "#%run drive/\"My Drive\"/Thesis/\"Collab Notebooks\"/category_pipeline.ipynb\n",
        "#%load"
      ],
      "execution_count": 0,
      "outputs": []
    },
    {
      "cell_type": "code",
      "metadata": {
        "id": "OjSOi7PZ1VFx",
        "colab_type": "code",
        "colab": {}
      },
      "source": [
        "# using the latest updated file\n",
        "#data = pd.read_csv(\"drive/My Drive/Thesis/data/Data_Engineering/Edited_Raw_Data/v3_Sorted_Raw_Db_with_RUL.csv\", sep=',', low_memory=False)\n",
        "#data = pd.read_csv(\"drive/My Drive/Thesis/data/Feature_Engineering/KNN_Imputed_Datasets/KNN_Imputed_k_40.csv\", sep=',', low_memory=False)\n",
        "#data = pd.read_csv(\"drive/My Drive/Thesis/data/Data_Engineering/Edited_Raw_Data/v2_Sorted_Database.csv\", sep=',', low_memory=False)\n",
        "#data = pd.read_csv(\"drive/My Drive/Thesis/data/Data_Engineering/Edited_Raw_Data/v4_Sorted_Raw_Db_with_RUL_imputed.csv\", sep=',', low_memory=False)\n",
        "#data = pd.read_csv(\"drive/My Drive/Thesis/data/Embedding_Data/sorted_data_new_full.csv\", sep=',', low_memory=False)\n",
        "data = pd.read_csv(\"drive/My Drive/Thesis/data/Embedding_Data/sorted_data_new.csv\", sep=',', low_memory=False)\n",
        "\n"
      ],
      "execution_count": 0,
      "outputs": []
    },
    {
      "cell_type": "code",
      "metadata": {
        "id": "Bu3oJqxA1520",
        "colab_type": "code",
        "outputId": "4d7e0ba0-0eee-47f3-80ff-e730150c005c",
        "colab": {
          "base_uri": "https://localhost:8080/",
          "height": 34
        }
      },
      "source": [
        "data.shape"
      ],
      "execution_count": 398,
      "outputs": [
        {
          "output_type": "execute_result",
          "data": {
            "text/plain": [
              "(18316, 75)"
            ]
          },
          "metadata": {
            "tags": []
          },
          "execution_count": 398
        }
      ]
    },
    {
      "cell_type": "markdown",
      "metadata": {
        "id": "QP0LunVOA0up",
        "colab_type": "text"
      },
      "source": [
        "## Pipeline Extraction"
      ]
    },
    {
      "cell_type": "code",
      "metadata": {
        "id": "A9yR1sOn3G2v",
        "colab_type": "code",
        "colab": {}
      },
      "source": [
        "# Applying the Extraction pipeline\n",
        "# first stage of the pipeline\n",
        "from extraction_pipeline import *\n",
        "from category_pipeline import *"
      ],
      "execution_count": 0,
      "outputs": []
    },
    {
      "cell_type": "code",
      "metadata": {
        "id": "1OslT0fhAvY7",
        "colab_type": "code",
        "outputId": "e708719f-51a7-4cc9-a7e1-f05601579ce2",
        "colab": {
          "base_uri": "https://localhost:8080/",
          "height": 34
        }
      },
      "source": [
        "'''\n",
        "# remove duplicates\n",
        "#data = removeDuplicates(data, debug=True)\n",
        "data = data.drop(labels=['DELIVERY_DATE.1'], axis=1)\n",
        "print ('After duplicates removal - ',data.shape)\n",
        "\n",
        "# the only duplicate column discovered was - ['DELIVERY_DATE.1']\n",
        "print ('After duplicates removal - ',data.shape)\n",
        "# Remove zero variance\n",
        "data = removeZeroVariance(data, debug=True)\n",
        "print ('After Zero Variance removal - ',data.shape)\n",
        "'''\n",
        "# drop redundant features\n",
        "#data = dropRedundantFeatures(data)\n",
        "print ('After Redundant Drop removal - ',data.shape)\n"
      ],
      "execution_count": 400,
      "outputs": [
        {
          "output_type": "stream",
          "text": [
            "After Redundant Drop removal -  (18316, 75)\n"
          ],
          "name": "stdout"
        }
      ]
    },
    {
      "cell_type": "code",
      "metadata": {
        "id": "yEc9TSQTatHZ",
        "colab_type": "code",
        "colab": {}
      },
      "source": [
        ""
      ],
      "execution_count": 0,
      "outputs": []
    },
    {
      "cell_type": "code",
      "metadata": {
        "id": "9VO1pnQzS3Y6",
        "colab_type": "code",
        "outputId": "61f6839b-4322-48ae-fc88-ee61d9d6c6c0",
        "colab": {
          "base_uri": "https://localhost:8080/",
          "height": 34
        }
      },
      "source": [
        "# date extractor\n",
        "# data = dateInfoExtractor(raw_data=data, debug=False)\n",
        "print ('After date extractor - ',data.shape)"
      ],
      "execution_count": 401,
      "outputs": [
        {
          "output_type": "stream",
          "text": [
            "After date extractor -  (18316, 75)\n"
          ],
          "name": "stdout"
        }
      ]
    },
    {
      "cell_type": "code",
      "metadata": {
        "id": "omgICBK5CRHm",
        "colab_type": "code",
        "outputId": "813e8bd2-873e-4636-9d6f-83515152c590",
        "colab": {
          "base_uri": "https://localhost:8080/",
          "height": 433
        }
      },
      "source": [
        "# missing values analysis\n",
        "#\n",
        "print (\"missing values rate before: \", 100 * (data.isnull().sum().sort_values(ascending=False) / data.shape[0]) )\n",
        "#data = fillMissingValues(data)\n",
        "print (\"missing values rate after: \", 100 * (data.isnull().sum().sort_values(ascending=False) / data.shape[0]) )\n"
      ],
      "execution_count": 402,
      "outputs": [
        {
          "output_type": "stream",
          "text": [
            "missing values rate before:  T_CHASSIS                              0.0\n",
            "VAR_2DX_REAR_CAB_SUSPENSION            0.0\n",
            "VAR_FFX_PUSHER_AXLE_FEATURES           0.0\n",
            "VAR_5CB_AIR_SUSP_FEATURE_SOFTWARE      0.0\n",
            "VAR_2GB_CLUTCHABLE_AIR_COMPRESSOR      0.0\n",
            "                                      ... \n",
            "VAR_T3X_PTO_ENGINE_REAR_MOUNTED        0.0\n",
            "VAR_PJX_ALTERNATOR_CAPACITY            0.0\n",
            "VAR_41X_PARKING_HEATER                 0.0\n",
            "VAR_D7C_WHOLE_VEHICLE_TYPE_APPROVAL    0.0\n",
            "DAY                                    0.0\n",
            "Length: 75, dtype: float64\n",
            "missing values rate after:  T_CHASSIS                              0.0\n",
            "VAR_2DX_REAR_CAB_SUSPENSION            0.0\n",
            "VAR_FFX_PUSHER_AXLE_FEATURES           0.0\n",
            "VAR_5CB_AIR_SUSP_FEATURE_SOFTWARE      0.0\n",
            "VAR_2GB_CLUTCHABLE_AIR_COMPRESSOR      0.0\n",
            "                                      ... \n",
            "VAR_T3X_PTO_ENGINE_REAR_MOUNTED        0.0\n",
            "VAR_PJX_ALTERNATOR_CAPACITY            0.0\n",
            "VAR_41X_PARKING_HEATER                 0.0\n",
            "VAR_D7C_WHOLE_VEHICLE_TYPE_APPROVAL    0.0\n",
            "DAY                                    0.0\n",
            "Length: 75, dtype: float64\n"
          ],
          "name": "stdout"
        }
      ]
    },
    {
      "cell_type": "markdown",
      "metadata": {
        "id": "d14TT33eD3Qb",
        "colab_type": "text"
      },
      "source": [
        "## Category Pipeline\n"
      ]
    },
    {
      "cell_type": "code",
      "metadata": {
        "id": "EsHVm38hD5V_",
        "colab_type": "code",
        "outputId": "e10b235f-3014-455c-858a-fd88f84750f0",
        "colab": {
          "base_uri": "https://localhost:8080/",
          "height": 34
        }
      },
      "source": [
        "# Date transformation\n",
        "#data = extraTrasfromToCategory(data, debug=True)\n",
        "\n",
        "'''\n",
        "# Zero Variance removal\n",
        "data = removeZeroCategory(data)\n",
        "print ('After all removal pipeline - ',data.shape)\n",
        "'''"
      ],
      "execution_count": 403,
      "outputs": [
        {
          "output_type": "execute_result",
          "data": {
            "text/plain": [
              "\"\\n# Zero Variance removal\\ndata = removeZeroCategory(data)\\nprint ('After all removal pipeline - ',data.shape)\\n\""
            ]
          },
          "metadata": {
            "tags": []
          },
          "execution_count": 403
        }
      ]
    },
    {
      "cell_type": "code",
      "metadata": {
        "id": "uF2B3mwOqYOD",
        "colab_type": "code",
        "colab": {}
      },
      "source": [
        "'''# First time \n",
        "# find all categorical features.\n",
        "data_cat = data.select_dtypes(include='object')\n",
        "cat_features_df = embeddingSizeExtract(data_categorical=data_cat)\n",
        "cat_features_df\n",
        "\n",
        "# save this embedding dataframe information to a csv file\n",
        "cat_features_df.to_csv(\"drive/My Drive/Thesis/data/Embedding_Data/cat_embedding_details.csv\", sep=',', index=False)\n",
        "'''\n",
        "# load this information from the save csv file\n",
        "cat_features_df = pd.read_csv(\"drive/My Drive/Thesis/data/Embedding_Data/cat_embedding_details.csv\", sep=',', low_memory=False)"
      ],
      "execution_count": 0,
      "outputs": []
    },
    {
      "cell_type": "code",
      "metadata": {
        "id": "XT3qQRpsgrEO",
        "colab_type": "code",
        "outputId": "9a745a27-c207-4f66-e6ba-6e793e0b819e",
        "colab": {
          "base_uri": "https://localhost:8080/",
          "height": 415
        }
      },
      "source": [
        "cat_features_df"
      ],
      "execution_count": 405,
      "outputs": [
        {
          "output_type": "execute_result",
          "data": {
            "text/html": [
              "<div>\n",
              "<style scoped>\n",
              "    .dataframe tbody tr th:only-of-type {\n",
              "        vertical-align: middle;\n",
              "    }\n",
              "\n",
              "    .dataframe tbody tr th {\n",
              "        vertical-align: top;\n",
              "    }\n",
              "\n",
              "    .dataframe thead th {\n",
              "        text-align: right;\n",
              "    }\n",
              "</style>\n",
              "<table border=\"1\" class=\"dataframe\">\n",
              "  <thead>\n",
              "    <tr style=\"text-align: right;\">\n",
              "      <th></th>\n",
              "      <th>Feature</th>\n",
              "      <th>Cardinality</th>\n",
              "      <th>Embedding_Size</th>\n",
              "    </tr>\n",
              "  </thead>\n",
              "  <tbody>\n",
              "    <tr>\n",
              "      <th>0</th>\n",
              "      <td>DAY</td>\n",
              "      <td>2</td>\n",
              "      <td>1</td>\n",
              "    </tr>\n",
              "    <tr>\n",
              "      <th>1</th>\n",
              "      <td>MONTH</td>\n",
              "      <td>12</td>\n",
              "      <td>6</td>\n",
              "    </tr>\n",
              "    <tr>\n",
              "      <th>2</th>\n",
              "      <td>YEAR</td>\n",
              "      <td>4</td>\n",
              "      <td>2</td>\n",
              "    </tr>\n",
              "    <tr>\n",
              "      <th>3</th>\n",
              "      <td>VAR_7MA_FRONT_AXLE_TYPE</td>\n",
              "      <td>2</td>\n",
              "      <td>1</td>\n",
              "    </tr>\n",
              "    <tr>\n",
              "      <th>4</th>\n",
              "      <td>VAR_DPX_ENGINE_TYPE</td>\n",
              "      <td>3</td>\n",
              "      <td>2</td>\n",
              "    </tr>\n",
              "    <tr>\n",
              "      <th>...</th>\n",
              "      <td>...</td>\n",
              "      <td>...</td>\n",
              "      <td>...</td>\n",
              "    </tr>\n",
              "    <tr>\n",
              "      <th>69</th>\n",
              "      <td>VFE_0009_LTVF_TYPE</td>\n",
              "      <td>6</td>\n",
              "      <td>3</td>\n",
              "    </tr>\n",
              "    <tr>\n",
              "      <th>70</th>\n",
              "      <td>VFE_0005_VEHICLE_OPERATION_DIGIT1</td>\n",
              "      <td>5</td>\n",
              "      <td>3</td>\n",
              "    </tr>\n",
              "    <tr>\n",
              "      <th>71</th>\n",
              "      <td>VFE_0006_VEHICLE_OPERATION_DIGIT2</td>\n",
              "      <td>9</td>\n",
              "      <td>5</td>\n",
              "    </tr>\n",
              "    <tr>\n",
              "      <th>72</th>\n",
              "      <td>VFE_0007_CAB_HEIGHT</td>\n",
              "      <td>7</td>\n",
              "      <td>4</td>\n",
              "    </tr>\n",
              "    <tr>\n",
              "      <th>73</th>\n",
              "      <td>VFE_0008_HAS_PTO</td>\n",
              "      <td>2</td>\n",
              "      <td>1</td>\n",
              "    </tr>\n",
              "  </tbody>\n",
              "</table>\n",
              "<p>74 rows × 3 columns</p>\n",
              "</div>"
            ],
            "text/plain": [
              "                              Feature  Cardinality  Embedding_Size\n",
              "0                                 DAY            2               1\n",
              "1                               MONTH           12               6\n",
              "2                                YEAR            4               2\n",
              "3             VAR_7MA_FRONT_AXLE_TYPE            2               1\n",
              "4                 VAR_DPX_ENGINE_TYPE            3               2\n",
              "..                                ...          ...             ...\n",
              "69                 VFE_0009_LTVF_TYPE            6               3\n",
              "70  VFE_0005_VEHICLE_OPERATION_DIGIT1            5               3\n",
              "71  VFE_0006_VEHICLE_OPERATION_DIGIT2            9               5\n",
              "72                VFE_0007_CAB_HEIGHT            7               4\n",
              "73                   VFE_0008_HAS_PTO            2               1\n",
              "\n",
              "[74 rows x 3 columns]"
            ]
          },
          "metadata": {
            "tags": []
          },
          "execution_count": 405
        }
      ]
    },
    {
      "cell_type": "markdown",
      "metadata": {
        "id": "tZaoYjIUgqtx",
        "colab_type": "text"
      },
      "source": [
        ""
      ]
    },
    {
      "cell_type": "code",
      "metadata": {
        "id": "E3OwJu5BMlcU",
        "colab_type": "code",
        "outputId": "02456374-d8ff-460d-dde1-1d72de92eeca",
        "colab": {
          "base_uri": "https://localhost:8080/",
          "height": 34
        }
      },
      "source": [
        "data.shape"
      ],
      "execution_count": 406,
      "outputs": [
        {
          "output_type": "execute_result",
          "data": {
            "text/plain": [
              "(18316, 75)"
            ]
          },
          "metadata": {
            "tags": []
          },
          "execution_count": 406
        }
      ]
    },
    {
      "cell_type": "markdown",
      "metadata": {
        "id": "JyCRLRt0TouM",
        "colab_type": "text"
      },
      "source": [
        "(336677, 449)"
      ]
    },
    {
      "cell_type": "markdown",
      "metadata": {
        "id": "GdiyToTSLkgr",
        "colab_type": "text"
      },
      "source": [
        "# Training and Validation Data Extraction\n",
        "Based on the previous understanding. We are going to have to nature of data\n",
        "- Numerical Features and Catgorical Features.\n",
        "The Numerical features have a total of 362 features while the Categorical feature has 74 features.\n",
        "\n",
        "We will have Training and Validation data."
      ]
    },
    {
      "cell_type": "code",
      "metadata": {
        "id": "7B7KXV8TMb4P",
        "colab_type": "code",
        "colab": {}
      },
      "source": [
        "'''\n",
        "# extracting the categorical features\n",
        "# extracting the categorical features\n",
        "cat_features = cat_features_df['Feature'].values\n",
        "# numerical features are\n",
        "num_features = data.select_dtypes(exclude='object').columns\n",
        "\n",
        "# create a dataframe of the numerical and categorical features and store the result\n",
        "feature_names_cat = pd.DataFrame(data=None)\n",
        "feature_names_num = pd.DataFrame(data=None)\n",
        "feature_names_num['Numerical'] = num_features\n",
        "feature_names_cat['Categorical'] = cat_features\n",
        "\n",
        "# save this feature names of categorical and numerical features to a csv files\n",
        "feature_names_cat.to_csv(\"drive/My Drive/Thesis/data/Embedding_Data/feature_names_cat.csv\", sep=',', index=False)\n",
        "# save this feature names of categorical and numerical features to a csv files\n",
        "feature_names_num.to_csv(\"drive/My Drive/Thesis/data/Embedding_Data/feature_names_num.csv\", sep=',', index=False)\n",
        "'''\n",
        "# load feature names from db\n",
        "feature_names_cat = pd.read_csv(\"drive/My Drive/Thesis/data/Embedding_Data/feature_names_cat.csv\", sep=',', low_memory=False)\n",
        "feature_names_num = pd.read_csv(\"drive/My Drive/Thesis/data/Embedding_Data/feature_names_num.csv\", sep=',', low_memory=False)\n"
      ],
      "execution_count": 0,
      "outputs": []
    },
    {
      "cell_type": "code",
      "metadata": {
        "id": "8CXhVQs-IA5a",
        "colab_type": "code",
        "colab": {}
      },
      "source": [
        "# fetch the categorical and numerical features\n",
        "cat_features = feature_names_cat['Categorical'].values\n",
        "num_features = feature_names_num['Numerical'].values\n"
      ],
      "execution_count": 0,
      "outputs": []
    },
    {
      "cell_type": "code",
      "metadata": {
        "id": "KlkJq-7lPpRw",
        "colab_type": "code",
        "outputId": "f7dc490c-ea4c-4d82-cd1a-9d4d35b21210",
        "colab": {
          "base_uri": "https://localhost:8080/",
          "height": 34
        }
      },
      "source": [
        "num_features.shape"
      ],
      "execution_count": 409,
      "outputs": [
        {
          "output_type": "execute_result",
          "data": {
            "text/plain": [
              "(362,)"
            ]
          },
          "metadata": {
            "tags": []
          },
          "execution_count": 409
        }
      ]
    },
    {
      "cell_type": "code",
      "metadata": {
        "id": "MUXnA-Sw-dkA",
        "colab_type": "code",
        "colab": {}
      },
      "source": [
        "features = list(cat_features)\n",
        "features.append('T_CHASSIS')"
      ],
      "execution_count": 0,
      "outputs": []
    },
    {
      "cell_type": "code",
      "metadata": {
        "id": "n8CwhZ8b8U1v",
        "colab_type": "code",
        "colab": {}
      },
      "source": [
        "data = data[features].dropna()"
      ],
      "execution_count": 0,
      "outputs": []
    },
    {
      "cell_type": "code",
      "metadata": {
        "id": "ESuQ3azizCCd",
        "colab_type": "code",
        "colab": {}
      },
      "source": [
        "from sklearn.model_selection import train_test_split, GroupShuffleSplit\n",
        "# for cross validation, we can use Group KFold spliting - GroupShuffleSplit\n"
      ],
      "execution_count": 0,
      "outputs": []
    },
    {
      "cell_type": "code",
      "metadata": {
        "id": "W9Y43CX2QWmC",
        "colab_type": "code",
        "colab": {}
      },
      "source": [
        "# Function for assisting in spliting the data\n",
        "def validationSplit(data_in, split=0.2, toShuffle=False):\n",
        "  # here we will split the data\n",
        "  # splitting by chassis\n",
        "  chassis_data = data_in['T_CHASSIS'].unique()\n",
        "  # splitting the chassis data\n",
        "  c_train, c_val = train_test_split(chassis_data, test_size=split, random_state=42, shuffle=toShuffle)\n",
        "  # extracting out the training and testing\n",
        "  train_data = data_in[data_in['T_CHASSIS'].isin(c_train)].reset_index(drop=True)\n",
        "  test_data = data_in[data_in['T_CHASSIS'].isin(c_val)].reset_index(drop=True)\n",
        "  return train_data, test_data\n"
      ],
      "execution_count": 0,
      "outputs": []
    },
    {
      "cell_type": "code",
      "metadata": {
        "id": "bvmIGc_l5Itv",
        "colab_type": "code",
        "colab": {}
      },
      "source": [
        "# Function for assisting in spliting the data\n",
        "def crossValidationSplit(data_in, split=0.2, toShuffle=False):\n",
        "  # here we will split the data based on their chassis grouping\n",
        "  chassis_group = data['T_CHASSIS'].values\n",
        "  ## generating the Group Parameters\n",
        "  c_split = GroupShuffleSplit(n_splits=2, test_size=0.2, random_state=42)\n",
        "  '''\n",
        "  # splitting the data\n",
        "  for train_idx, test_idx in c_split.split(data.values, groups=chassis_group):\n",
        "    print(\"TRAIN:\", data.values[train_idx].shape, \"TEST:\", data.values[test_idx].shape)\n",
        "  '''\n",
        "  return c_split"
      ],
      "execution_count": 0,
      "outputs": []
    },
    {
      "cell_type": "markdown",
      "metadata": {
        "id": "haaA1p20Q61b",
        "colab_type": "text"
      },
      "source": [
        "### Train Splitting"
      ]
    },
    {
      "cell_type": "code",
      "metadata": {
        "id": "s41BsPBlQ9pz",
        "colab_type": "code",
        "outputId": "196f0544-f4af-494f-b5d6-83b3c3f84a72",
        "colab": {
          "base_uri": "https://localhost:8080/",
          "height": 34
        }
      },
      "source": [
        "data_t, data_v = validationSplit(data, split=0.2)\n",
        "data_t.shape, data_v.shape"
      ],
      "execution_count": 415,
      "outputs": [
        {
          "output_type": "execute_result",
          "data": {
            "text/plain": [
              "((14851, 75), (3465, 75))"
            ]
          },
          "metadata": {
            "tags": []
          },
          "execution_count": 415
        }
      ]
    },
    {
      "cell_type": "code",
      "metadata": {
        "id": "bkZbVVhbQCU5",
        "colab_type": "code",
        "colab": {}
      },
      "source": [
        "#data_t.to_csv(\"drive/My Drive/Thesis/data/Embedding_Data/chassis_testing_data.csv\", sep=',', index=False)\n",
        "#data_v.to_csv(\"drive/My Drive/Thesis/data/Embedding_Data/chassis_training_data.csv\", sep=',', index=False)"
      ],
      "execution_count": 0,
      "outputs": []
    },
    {
      "cell_type": "markdown",
      "metadata": {
        "id": "twp6hyyLNLHg",
        "colab_type": "text"
      },
      "source": [
        "## Category Summary\n",
        "In summary, we have a total of 74 categories. They can be used to filter new data sources instead of going through the whole extaction and category pipeline all over again."
      ]
    },
    {
      "cell_type": "markdown",
      "metadata": {
        "id": "nyyKppBvVfuA",
        "colab_type": "text"
      },
      "source": [
        "## Handling numerical features\n",
        "We have a total of 362 numerical features"
      ]
    },
    {
      "cell_type": "markdown",
      "metadata": {
        "id": "pXfQPjtd2Heq",
        "colab_type": "text"
      },
      "source": [
        "## Embeddings"
      ]
    },
    {
      "cell_type": "markdown",
      "metadata": {
        "id": "ODkykfeJQUuB",
        "colab_type": "text"
      },
      "source": [
        "In order to apply embeddings for out categorical variables. We need to first determine which features are categorical variable and which are not. We need to ensure we caputure all possible cases of the categorical features. \n",
        "\n",
        "Okay, then for each categorical variable we need to capture the cardinalty of the feature iteself."
      ]
    },
    {
      "cell_type": "code",
      "metadata": {
        "id": "RAZb5vWk2Je9",
        "colab_type": "code",
        "colab": {}
      },
      "source": [
        "# use tensorflow version 2\n",
        "%tensorflow_version 2.x"
      ],
      "execution_count": 0,
      "outputs": []
    },
    {
      "cell_type": "code",
      "metadata": {
        "id": "t0-PSyCt2P6e",
        "colab_type": "code",
        "colab": {}
      },
      "source": [
        "from tensorflow.keras.models import Sequential, Model\n",
        "from tensorflow.keras.layers import Embedding, Input, Reshape, Concatenate, Dense, Flatten, Dropout\n",
        "\n",
        "from tensorflow.keras.callbacks import TensorBoard\n",
        "import os\n",
        "import datetime\n",
        "\n",
        "from tensorflow.keras.utils import plot_model\n",
        "from tensorflow.keras.callbacks import EarlyStopping"
      ],
      "execution_count": 0,
      "outputs": []
    },
    {
      "cell_type": "code",
      "metadata": {
        "id": "I8_MlT2hIjbM",
        "colab_type": "code",
        "colab": {}
      },
      "source": [
        "#from tensorflow.summary import create_file_writer\n",
        "#  TensorFlow and the TensorBoard HParams plugin:\n",
        "import tensorflow as tf\n",
        "from tensorboard.plugins.hparams import api as hp\n"
      ],
      "execution_count": 0,
      "outputs": []
    },
    {
      "cell_type": "code",
      "metadata": {
        "id": "2dpOOuoP4VqX",
        "colab_type": "code",
        "colab": {}
      },
      "source": [
        "### Write metadata file for embeddings\n",
        "def write_metadata(filename, labels):\n",
        "    \"\"\"\n",
        "            Create a metadata file image consisting of sample indices and labels\n",
        "            :param filename: name of the file to save on disk\n",
        "            :param shape: tensor of labels\n",
        "    \"\"\"\n",
        "    with open(filename, 'w') as f:\n",
        "        f.write(\"Index\\tLabel\\n\")\n",
        "        for index, label in enumerate(labels):\n",
        "            f.write(\"{}\\t{}\\n\".format(index, label))\n",
        "\n",
        "    print('Metadata file saved in {}'.format(filename))\n",
        "    "
      ],
      "execution_count": 0,
      "outputs": []
    },
    {
      "cell_type": "code",
      "metadata": {
        "id": "RnxmI0JS5LB0",
        "colab_type": "code",
        "colab": {}
      },
      "source": [
        "#data_t[cat_features].nunique()"
      ],
      "execution_count": 0,
      "outputs": []
    },
    {
      "cell_type": "code",
      "metadata": {
        "id": "6_Lt2Sz76c3e",
        "colab_type": "code",
        "outputId": "692dc158-9a21-45f1-ada0-7a0288c5d9fc",
        "colab": {
          "base_uri": "https://localhost:8080/",
          "height": 34
        }
      },
      "source": [
        "data_t['VFE_0007_CAB_HEIGHT'].unique()"
      ],
      "execution_count": 422,
      "outputs": [
        {
          "output_type": "execute_result",
          "data": {
            "text/plain": [
              "array([1, 2, 0, 3, 4, 6, 5])"
            ]
          },
          "metadata": {
            "tags": []
          },
          "execution_count": 422
        }
      ]
    },
    {
      "cell_type": "code",
      "metadata": {
        "id": "MzbfaxgV5CeK",
        "colab_type": "code",
        "colab": {}
      },
      "source": [
        "feature_col_labels = pd.factorize(data_t.loc[:, 'VFE_0007_CAB_HEIGHT'].values)[0]\n",
        "metadata_path = \"drive/My Drive/Thesis/data/Embedding_Data/metadata_CAB_HEIGHT.tsv\"\n",
        "#write_metadata(metadata_path, feature_col_labels)"
      ],
      "execution_count": 0,
      "outputs": []
    },
    {
      "cell_type": "code",
      "metadata": {
        "id": "TJoBX4JQ9j6A",
        "colab_type": "code",
        "colab": {}
      },
      "source": [
        "embeddings_meta = {'Embedding_layer_VFE_0007_CAB_HEIGHT':metadata_path}\n"
      ],
      "execution_count": 0,
      "outputs": []
    },
    {
      "cell_type": "markdown",
      "metadata": {
        "id": "fZ7QrIuDcXd6",
        "colab_type": "text"
      },
      "source": [
        "### Saving and Loading Embeddings"
      ]
    },
    {
      "cell_type": "code",
      "metadata": {
        "id": "VWQrVg012oYE",
        "colab_type": "code",
        "colab": {}
      },
      "source": [
        "# Goal\n",
        "'''\n",
        "Write a function, when given a categorical variable, it will generate the vector representation for that variable.\n",
        "In order to achieve that, we first need to map very categorical variable to some numerical index value. This value \n",
        "has to be unique and not random. \n",
        "'''\n",
        "\n",
        "def transfromForEmbed(data_cat, cat_feature_name='', cat_mapping=''):\n",
        "  # find the cat_index for all the features\n",
        "  def findCatIndex(x):\n",
        "    return int(cat_mapping[cat_mapping[cat_feature_name] == x][cat_feature_name+'_index'].values[0])\n",
        "  output = data_cat[cat_feature_name].apply(findCatIndex) \n",
        "  return output\n",
        "\n",
        "def embedTransform(model=None, variable='', cat_feature_name='', cat_mapping='', return_type=1):\n",
        "  # Given a categorical variable, produce the embedded vector\n",
        "  # Find the index of the categorical variable in the cat_mapping dataframe\n",
        "  cat_index = int(cat_mapping[cat_mapping[cat_feature_name] == variable][cat_feature_name+'_index'].values[0])\n",
        "  if return_type == 0:\n",
        "    return cat_index\n",
        "  # fetch the embeddings weights\n",
        "  pre_embedding = \"Embedding_layer_\"\n",
        "  embed_layer = model.get_layer(name=pre_embedding+cat_feature_name)\n",
        "  embedd_vector = embed_layer.get_weights()[0][cat_index]\n",
        "  return embedd_vector\n",
        "\n",
        "def createCatMapping(data_cat):\n",
        "  # this function will create a mapping dataframe\n",
        "  cat_size = data_cat.shape[1]\n",
        "  feature_names = data_cat.columns\n",
        "\n",
        "  cat_mapping = pd.DataFrame()\n",
        "\n",
        "  col_mapping_list = list()\n",
        "  col_mapping_cols = list()\n",
        "  # try for all dataframes\n",
        "  for i in range(cat_size):\n",
        "    col_indexs = list(pd.factorize(data_cat.iloc[:, i].unique())[0])\n",
        "    # save to list\n",
        "    col_mapping_list.append(list(data_cat.iloc[:, i].unique()))\n",
        "    col_mapping_list.append(col_indexs)\n",
        "    # save the column name as well\n",
        "    col_mapping_cols.append(feature_names[i])\n",
        "    col_mapping_cols.append(feature_names[i]+'_index')\n",
        "\n",
        "  # now we need to save the list to a dataframe\n",
        "  cat_mapping = pd.DataFrame(col_mapping_list)\n",
        "  # transpose it\n",
        "  cat_mapping = cat_mapping.transpose()\n",
        "  # update the columns names\n",
        "  cat_mapping.columns = col_mapping_cols\n",
        "\n",
        "  # save to the dataframe\n",
        "  cat_mapping.to_csv(\"drive/My Drive/Thesis/data/Embedding_Data/cat_mappings.csv\", sep=',', index=False)\n",
        "\n",
        "#createCatMapping(data[cat_features]) "
      ],
      "execution_count": 0,
      "outputs": []
    },
    {
      "cell_type": "code",
      "metadata": {
        "id": "qCbbzW_yCym1",
        "colab_type": "code",
        "colab": {}
      },
      "source": [
        "# load from file\n",
        "cat_mappings = pd.read_csv(\"drive/My Drive/Thesis/data/Embedding_Data/cat_mappings.csv\", sep=',', low_memory=False)\n"
      ],
      "execution_count": 0,
      "outputs": []
    },
    {
      "cell_type": "code",
      "metadata": {
        "id": "1s75tA5dU1H3",
        "colab_type": "code",
        "outputId": "5de1364a-3e50-4cc4-ba84-52905d4d6af6",
        "colab": {
          "base_uri": "https://localhost:8080/",
          "height": 51
        }
      },
      "source": [
        "# load the embedding model\n",
        "from tensorflow.keras.models import load_model\n",
        "# identical to the previous one\n",
        "embed_model = load_model(\"drive/My Drive/Thesis/data/Embedding_Data/embedding_model.h5\")\n",
        "embed_model2 = load_model(\"drive/My Drive/Thesis/data/Embedding_Data/embedding_model2.h5\")\n"
      ],
      "execution_count": 427,
      "outputs": [
        {
          "output_type": "stream",
          "text": [
            "WARNING:tensorflow:Error in loading the saved optimizer state. As a result, your model is starting with a freshly initialized optimizer.\n",
            "WARNING:tensorflow:Error in loading the saved optimizer state. As a result, your model is starting with a freshly initialized optimizer.\n"
          ],
          "name": "stdout"
        }
      ]
    },
    {
      "cell_type": "code",
      "metadata": {
        "id": "oTvqsge8UG5F",
        "colab_type": "code",
        "outputId": "6fa129bb-d0e6-43f6-ef8d-d89275e87cb1",
        "colab": {
          "base_uri": "https://localhost:8080/",
          "height": 54
        }
      },
      "source": [
        "# find the embedding vector for feature CABH210 in VFE_0007_CAB_HEIGHT\n",
        "'''\n",
        "my_vector1 = embedTransform(embed_model, variable='CABH175', cat_feature_name='VFE_0007_CAB_HEIGHT', cat_mapping=cat_mappings)\n",
        "my_vector2 = embedTransform(embed_model, variable='CABH165', cat_feature_name='VFE_0007_CAB_HEIGHT', cat_mapping=cat_mappings)\n",
        "my_vector3 = embedTransform(embed_model, variable='CABH210', cat_feature_name='VFE_0007_CAB_HEIGHT', cat_mapping=cat_mappings)\n",
        "my_vector4 = embedTransform(embed_model, variable='CABH230', cat_feature_name='VFE_0007_CAB_HEIGHT', cat_mapping=cat_mappings)\n",
        "my_vector5 = embedTransform(embed_model, variable='Low', cat_feature_name='VFE_0007_CAB_HEIGHT', cat_mapping=cat_mappings)\n",
        "'''\n",
        "'''\n",
        "x1 = output_embeddings[0]\n",
        "x2 = output_embeddings[1]\n",
        "\n",
        "# calculating the cosing similarity of two vectors in the orginal space\n",
        "a_dot = np.dot(x1, x2)\n",
        "similar = a_dot / (np.linalg.norm(x1) * np.linalg.norm(x2))\n",
        "similar\n",
        "'''"
      ],
      "execution_count": 428,
      "outputs": [
        {
          "output_type": "execute_result",
          "data": {
            "text/plain": [
              "'\\nx1 = output_embeddings[0]\\nx2 = output_embeddings[1]\\n\\n# calculating the cosing similarity of two vectors in the orginal space\\na_dot = np.dot(x1, x2)\\nsimilar = a_dot / (np.linalg.norm(x1) * np.linalg.norm(x2))\\nsimilar\\n'"
            ]
          },
          "metadata": {
            "tags": []
          },
          "execution_count": 428
        }
      ]
    },
    {
      "cell_type": "code",
      "metadata": {
        "id": "JH2htn2kekMI",
        "colab_type": "code",
        "colab": {}
      },
      "source": [
        "# betwen CABH175 and CABH165, i have 0.867487\n",
        "# betwen CABH175 and CABH210, i have 0.11280868\n",
        "# betwen CABH175 and CABH230, i have -0.5284594\n",
        "# betwen CABH175 and Low, i have -0.36939222\n"
      ],
      "execution_count": 0,
      "outputs": []
    },
    {
      "cell_type": "markdown",
      "metadata": {
        "colab_type": "text",
        "id": "Pekm8BKhFocu"
      },
      "source": [
        "### Creating the Keras Embeddings"
      ]
    },
    {
      "cell_type": "code",
      "metadata": {
        "colab_type": "code",
        "id": "3ZS29ptVFn6s",
        "colab": {
          "base_uri": "https://localhost:8080/",
          "height": 51
        },
        "outputId": "4f05cf6a-accf-4847-c319-1897e3c624c1"
      },
      "source": [
        "# Load the TensorBoard notebook extension\n",
        "%load_ext tensorboard\n"
      ],
      "execution_count": 429,
      "outputs": [
        {
          "output_type": "stream",
          "text": [
            "The tensorboard extension is already loaded. To reload it, use:\n",
            "  %reload_ext tensorboard\n"
          ],
          "name": "stdout"
        }
      ]
    },
    {
      "cell_type": "code",
      "metadata": {
        "id": "NF1787pgD22Y",
        "colab_type": "code",
        "colab": {}
      },
      "source": [
        "# Clear any logs from previous runs\n",
        "!rm -rf ./logs/ "
      ],
      "execution_count": 0,
      "outputs": []
    },
    {
      "cell_type": "code",
      "metadata": {
        "id": "mKSt_HeoNnGj",
        "colab_type": "code",
        "colab": {}
      },
      "source": [
        "logdir = os.path.join(\"logs\", datetime.datetime.now().strftime(\"%Y%m%d-%H%M%S\"))\n",
        "#tensorboard_callback = TensorBoard(logdir, histogram_freq=1, embeddings_freq=1, embeddings_metadata=embeddings_meta, write_images=True)\n",
        "tensorboard_callback = TensorBoard(logdir, histogram_freq=1, embeddings_freq=1,\n",
        "                                   write_images=False)\n"
      ],
      "execution_count": 0,
      "outputs": []
    },
    {
      "cell_type": "code",
      "metadata": {
        "id": "f6JUt7abZXbW",
        "colab_type": "code",
        "colab": {}
      },
      "source": [
        "### Creating the Keras Embeddings Mode\n",
        "\n",
        "def create_model(saved_model=None):\n",
        "  # IDs representing 1-hot encodings\n",
        "  # Need to create the input for all features\n",
        "  cat_embedding_input_layers = []\n",
        "\n",
        "  cat_reshape_layers = []\n",
        "  # Embeddings for the first cat feature\n",
        "  id_feature = 0\n",
        "  # create an array of embeddings layers\n",
        "  cat_embedding_layers = []\n",
        "\n",
        "  # interate through categorical varaibles\n",
        "  for id_feature in range(cat_features_df.shape[0]):\n",
        "    # creating the input layer for the embeddings\n",
        "    #input_layer = Input(shape=(1,), name=\"Input_layer_\"+cat_features_df.loc[id_feature, 'Feature'])\n",
        "    input_layer = Input(shape=(1,), name=\"Input_layer_\"+cat_features_df.loc[id_feature, 'Feature'])\n",
        "    cat_embedding_input_layers.append(input_layer)\n",
        "    # embedding size \n",
        "    layer_embedding_size = cat_features_df.loc[id_feature, 'Embedding_Size']\n",
        "    # create the embedding layers\n",
        "    embed_weights = saved_model.get_layer(name=\"Embedding_layer_\"+cat_features_df.loc[id_feature, 'Feature']).get_weights()\n",
        "    #embedded_layer.trainable = False\n",
        "    embedded_layer = Embedding(input_dim=cat_features_df.loc[id_feature, 'Cardinality'], output_dim=layer_embedding_size, \n",
        "                               name=\"Embedding_layer_\"+cat_features_df.loc[id_feature, 'Feature'], input_length = 1, trainable=False, weights=embed_weights)(input_layer)\n",
        "    cat_embedding_layers.append(embedded_layer)\n",
        "    # add a reshape of the embedding layers\n",
        "    reshape_layer = Reshape(target_shape=(layer_embedding_size,))(embedded_layer)\n",
        "    # appends the rehshape models together\n",
        "    cat_reshape_layers.append(reshape_layer)\n",
        "\n",
        "  ### Create A combined embedding layers only\n",
        "  combined_emb = Concatenate(axis=1, name='combined_embeddings')(cat_reshape_layers)\n",
        "  \n",
        "  ### the output of the combine embedding model is 169 vectors\n",
        "\n",
        "  ### creating a model based on the trained weights\n",
        "  model_emb = Model(inputs=cat_embedding_input_layers, outputs=combined_emb, name=\"Categorical_Embeddings\")\n",
        "\n",
        "  # compile the model - for a regression model\n",
        "  model_emb.compile(optimizer='adam', loss='mean_absolute_error', metrics=['mean_absolute_error'])\n",
        "  # compile the model - for a classification problem\n",
        "  # model.compile(loss='binary_crossentropy', optimizer='adam')\n",
        "  return model_emb\n",
        "\n",
        "def train_model(model, x_train, y_train, x_test, y_test, epochs, batch_size, early_stop_callback=None, tensorboard_callback=None):\n",
        "  # fitting the model\n",
        "  #model.fit(x=x_train, y=y_train, epochs=epochs, batch_size=batch_size, verbose=2, validation_data=(XTest, yTest), callbacks=[early_stop, tensorboard_callback])\n",
        "  model.fit(x=x_train, y=y_train, epochs=epochs, batch_size=batch_size, verbose=2, callbacks=[early_stop_callback, tensorboard_callback])\n",
        "  return model"
      ],
      "execution_count": 0,
      "outputs": []
    },
    {
      "cell_type": "code",
      "metadata": {
        "id": "R4WFSz0kSuuC",
        "colab_type": "code",
        "colab": {}
      },
      "source": [
        "## For each run, log an hparams summary with the hyperparameters and final accuracy:\n",
        "def run(my_model, x_train, y_train, epochs, batch_size, early_stop_callback, tensorboard_log):\n",
        "  model = None\n",
        "  model = create_model(my_model)\n",
        "  model_output = train_model(model, x_train, y_train, epochs, batch_size, early_stop_callback=early_stop_callback, tensorboard_callback=tensorboard_log)\n",
        "  # do something with the metrics\n",
        "  return model_output"
      ],
      "execution_count": 0,
      "outputs": []
    },
    {
      "cell_type": "code",
      "metadata": {
        "id": "5U5QWCikuL4e",
        "colab_type": "code",
        "colab": {}
      },
      "source": [
        "# plot the model\n",
        "#plot_model(model=model_emb, to_file='drive/My Drive/Thesis/data/Embedding_Data/model_image.png', show_shapes=True, dpi=300)\n",
        "#plot_model(model=model_emb, to_file='drive/My Drive/Thesis/data/Embedding_Data/model_new.png', show_shapes=True, dpi=300)"
      ],
      "execution_count": 0,
      "outputs": []
    },
    {
      "cell_type": "markdown",
      "metadata": {
        "id": "yeLd1zwzoXat",
        "colab_type": "text"
      },
      "source": [
        "## Inputs to the Network\n",
        "\n",
        "We need to create a list of inputs, such that each categorical feature has it's own list of values and the last list will be a 2D array of the continous values. As shown above.\n",
        "\n",
        "The size of the list of inputs : ip = n_cat + 1\n",
        "\n",
        "Remember for each of the embedding network we had set input-size =1 we are taking 1 value each from all the list (except the last list) and sending it to the combined network for training. For the last list, each value itself is a list having the other columns values, and this is sent to the models_rest network"
      ]
    },
    {
      "cell_type": "code",
      "metadata": {
        "id": "GbuVc8kGWYqV",
        "colab_type": "code",
        "colab": {}
      },
      "source": [
        "from sklearn.preprocessing import RobustScaler, MinMaxScaler"
      ],
      "execution_count": 0,
      "outputs": []
    },
    {
      "cell_type": "code",
      "metadata": {
        "id": "aUlRi7_CozT4",
        "colab_type": "code",
        "colab": {}
      },
      "source": [
        "def transfromForEmbed(data_cat, cat_feature_name='', cat_mapping='', type=None):\n",
        "  # find the cat_index for all the features\n",
        "  def findCatIndex(x):\n",
        "    return int(cat_mapping[cat_mapping[cat_feature_name] == x][cat_feature_name+'_index'].values[0])\n",
        "  if type is not None:\n",
        "    output = findCatIndex(data_cat[cat_feature_name])\n",
        "    return np.array([output])\n",
        "  else:\n",
        "    output = data_cat[cat_feature_name].apply(findCatIndex) \n",
        "    return output.values\n",
        "\n",
        "# function to reformat the input data into the necessary input data for our network to be trained on.\n",
        "def network_input_process(data_num=None, data_cols=None, y_output=None, input_type=1):\n",
        "  # create a list of inputs. \n",
        "  try:\n",
        "    cat_size = data_cols.shape[1]\n",
        "    columns_name = data_cols.columns\n",
        "    col_type = None\n",
        "  except:\n",
        "    cat_size = data_cols.shape[0]\n",
        "    columns_name = data_cols.index\n",
        "    col_type = 1\n",
        "\n",
        "  # define the size of the network list inputs\n",
        "  network_inputs = [None] * (cat_size)\n",
        "\n",
        "  # add inputs to the list\n",
        "  # for the categorical inputs\n",
        "\n",
        "  for i in range(cat_size):\n",
        "    #network_inputs[i] = pd.factorize(data_cols.iloc[:, i].values)[0]\n",
        "    # map each categorical variable to their respective index values\n",
        "    #print (columns_name[i])\n",
        "    #network_inputs[i] = transfromForEmbed(data_cols, cat_feature_name=columns_name[i], cat_mapping=cat_mappings, type=col_type)\n",
        "    network_inputs[i] = data_cols.loc[:, columns_name[i]].values\n",
        "\n",
        "  return network_inputs, y_output.values"
      ],
      "execution_count": 0,
      "outputs": []
    },
    {
      "cell_type": "code",
      "metadata": {
        "id": "CrWAcN-cEVN3",
        "colab_type": "code",
        "outputId": "c81e3b40-5d25-4b0c-bc65-4242daa60eb1",
        "colab": {
          "base_uri": "https://localhost:8080/",
          "height": 435
        }
      },
      "source": [
        "data"
      ],
      "execution_count": 437,
      "outputs": [
        {
          "output_type": "execute_result",
          "data": {
            "text/html": [
              "<div>\n",
              "<style scoped>\n",
              "    .dataframe tbody tr th:only-of-type {\n",
              "        vertical-align: middle;\n",
              "    }\n",
              "\n",
              "    .dataframe tbody tr th {\n",
              "        vertical-align: top;\n",
              "    }\n",
              "\n",
              "    .dataframe thead th {\n",
              "        text-align: right;\n",
              "    }\n",
              "</style>\n",
              "<table border=\"1\" class=\"dataframe\">\n",
              "  <thead>\n",
              "    <tr style=\"text-align: right;\">\n",
              "      <th></th>\n",
              "      <th>DAY</th>\n",
              "      <th>MONTH</th>\n",
              "      <th>YEAR</th>\n",
              "      <th>VAR_7MA_FRONT_AXLE_TYPE</th>\n",
              "      <th>VAR_DPX_ENGINE_TYPE</th>\n",
              "      <th>VAR_T1X_PTO_ENGINE_MOUNTED_REAR</th>\n",
              "      <th>VAR_4DX_FRONT_BUMPER</th>\n",
              "      <th>VAR_F1X_REAR_AXLE_LOAD</th>\n",
              "      <th>VAR_FTX_GROUND_CLEARANCE_FA</th>\n",
              "      <th>VAR_CKX_VEHICLE_PROFILE</th>\n",
              "      <th>VAR_KTX_ENGINE_EMISSION_CONTROL</th>\n",
              "      <th>VAR_3ZB_TRANSMISSION_PTO_TORQUE_CAP</th>\n",
              "      <th>VAR_QCX_TOPOGRAPHY</th>\n",
              "      <th>VAR_YLX_REAR_SUSPENSION_SYSTEM</th>\n",
              "      <th>VAR_DKX_GROSS_COMBINATION_WEIGHT</th>\n",
              "      <th>VAR_2RB_BATTERY_MAINTENANCE</th>\n",
              "      <th>VAR_FAX_STEERING_WHEEL_POS</th>\n",
              "      <th>VAR_2CX_CAB_VERSION</th>\n",
              "      <th>VAR_2DX_REAR_CAB_SUSPENSION</th>\n",
              "      <th>VAR_GSX_CHASSIS_HEIGHT</th>\n",
              "      <th>VAR_FFX_PUSHER_AXLE_FEATURES</th>\n",
              "      <th>VAR_5CB_AIR_SUSP_FEATURE_SOFTWARE</th>\n",
              "      <th>VAR_2GB_CLUTCHABLE_AIR_COMPRESSOR</th>\n",
              "      <th>VAR_5NX_ENGINE_BLOCK_HEATER</th>\n",
              "      <th>VAR_TAX_REAR_AXLE_RATIO</th>\n",
              "      <th>VAR_A3A_IDLE_SHUTDOWN</th>\n",
              "      <th>VAR_2LX_FRONT_CAB_SUSPENSION</th>\n",
              "      <th>VAR_RUX_GEAR_SHIFTING_SYSTEM</th>\n",
              "      <th>VAR_U3X_BRAKE_FRONT</th>\n",
              "      <th>VAR_T4X_PTO_TRANSM_MOUNTED</th>\n",
              "      <th>VAR_UBX_HYDRAULIC_PUMP_ENG_MTD</th>\n",
              "      <th>VAR_4QB_BODYBUILDER_EL_INTERFCAB_CHAS</th>\n",
              "      <th>VAR_REX_CRANK_CASE_VENTILATION</th>\n",
              "      <th>VAR_78X_TRANSPORT_CYCLE</th>\n",
              "      <th>VAR_T2X_TRANSMISSIONRETARDER_COOLER</th>\n",
              "      <th>VAR_U4X_BRAKE_DRIVE_REAR</th>\n",
              "      <th>VAR_FVX_FRONT_AXLE_LOAD</th>\n",
              "      <th>VAR_VWX_COMPRESSOR_CAPACITY</th>\n",
              "      <th>VAR_DAX_AXLE_ARRANGEMENT</th>\n",
              "      <th>VAR_H1B_TURBO_APPLICATION</th>\n",
              "      <th>VAR_FDX_REAR_AXLE_ARRANGEMENT</th>\n",
              "      <th>VAR_7PX_HYDRAULIC_PUMP_GEARBOX_MOUNTED</th>\n",
              "      <th>VAR_7NA_FRONT_SUSPENSION_INSTALLATION</th>\n",
              "      <th>VAR_LKX_DRIVER_STATE_SENSING_SYSTEM</th>\n",
              "      <th>VAR_QWX_TURBO</th>\n",
              "      <th>VAR_FZX_FRONT_AXLE_ARRANGEMENT</th>\n",
              "      <th>VAR_V6X_RETARDER</th>\n",
              "      <th>VAR_K4C_VEHICLE_UPTIME_SETTINGS</th>\n",
              "      <th>VAR_0RA_REGENERATION_CONTROLS_DPF</th>\n",
              "      <th>VAR_YKX_FRONT_SUSPENSION_SYSTEM</th>\n",
              "      <th>VAR_T3X_PTO_ENGINE_REAR_MOUNTED</th>\n",
              "      <th>VAR_PJX_ALTERNATOR_CAPACITY</th>\n",
              "      <th>VAR_41X_PARKING_HEATER</th>\n",
              "      <th>VAR_D7C_WHOLE_VEHICLE_TYPE_APPROVAL</th>\n",
              "      <th>VAR_5JB_TELEMATICS_COMMUNICAT_GATEWAYS</th>\n",
              "      <th>VAR_RWX_TRANSMISSION</th>\n",
              "      <th>VAR_DHX_ROAD_CONDITION</th>\n",
              "      <th>VAR_2EX_CAB_TILT_PUMP</th>\n",
              "      <th>VAR_D9C_EMISSION_LEVEL</th>\n",
              "      <th>VAR_DDX_CHASSIS_TYPE</th>\n",
              "      <th>VAR_O8A_ENGINE_PTO_TORQUE_CAPACITY</th>\n",
              "      <th>VAR_33A_CAB_HEIGHT</th>\n",
              "      <th>VAR_J2A_ACTIVE_STEERING</th>\n",
              "      <th>VAR_N9C_ADR_CLASSIFICATION</th>\n",
              "      <th>VFE_0001_HORSE_POWER</th>\n",
              "      <th>VFE_0002_GROSS_COMBINATION_WEIGHT_BIN</th>\n",
              "      <th>VFE_0003_ENGINE_GENERATION</th>\n",
              "      <th>VFE_0004_REAR_AXLE_LOAD_BIN</th>\n",
              "      <th>VFE_0005_REAR_AXLE_RATIO_BIN</th>\n",
              "      <th>VFE_0009_LTVF_TYPE</th>\n",
              "      <th>VFE_0005_VEHICLE_OPERATION_DIGIT1</th>\n",
              "      <th>VFE_0006_VEHICLE_OPERATION_DIGIT2</th>\n",
              "      <th>VFE_0007_CAB_HEIGHT</th>\n",
              "      <th>VFE_0008_HAS_PTO</th>\n",
              "      <th>T_CHASSIS</th>\n",
              "    </tr>\n",
              "  </thead>\n",
              "  <tbody>\n",
              "    <tr>\n",
              "      <th>0</th>\n",
              "      <td>1</td>\n",
              "      <td>11</td>\n",
              "      <td>0</td>\n",
              "      <td>0</td>\n",
              "      <td>2</td>\n",
              "      <td>1</td>\n",
              "      <td>0</td>\n",
              "      <td>2</td>\n",
              "      <td>2</td>\n",
              "      <td>1</td>\n",
              "      <td>0</td>\n",
              "      <td>1</td>\n",
              "      <td>0</td>\n",
              "      <td>0</td>\n",
              "      <td>0</td>\n",
              "      <td>0</td>\n",
              "      <td>0</td>\n",
              "      <td>1</td>\n",
              "      <td>0</td>\n",
              "      <td>0</td>\n",
              "      <td>0</td>\n",
              "      <td>0</td>\n",
              "      <td>0</td>\n",
              "      <td>0</td>\n",
              "      <td>2</td>\n",
              "      <td>0</td>\n",
              "      <td>0</td>\n",
              "      <td>0</td>\n",
              "      <td>1</td>\n",
              "      <td>1</td>\n",
              "      <td>0</td>\n",
              "      <td>2</td>\n",
              "      <td>0</td>\n",
              "      <td>2</td>\n",
              "      <td>0</td>\n",
              "      <td>1</td>\n",
              "      <td>2</td>\n",
              "      <td>1</td>\n",
              "      <td>2</td>\n",
              "      <td>0</td>\n",
              "      <td>2</td>\n",
              "      <td>0</td>\n",
              "      <td>1</td>\n",
              "      <td>0</td>\n",
              "      <td>0</td>\n",
              "      <td>0</td>\n",
              "      <td>0</td>\n",
              "      <td>1</td>\n",
              "      <td>1</td>\n",
              "      <td>1</td>\n",
              "      <td>1</td>\n",
              "      <td>0</td>\n",
              "      <td>0</td>\n",
              "      <td>0</td>\n",
              "      <td>0</td>\n",
              "      <td>0</td>\n",
              "      <td>0</td>\n",
              "      <td>0</td>\n",
              "      <td>0</td>\n",
              "      <td>1</td>\n",
              "      <td>1</td>\n",
              "      <td>1</td>\n",
              "      <td>0</td>\n",
              "      <td>1</td>\n",
              "      <td>2</td>\n",
              "      <td>0</td>\n",
              "      <td>0</td>\n",
              "      <td>2</td>\n",
              "      <td>2</td>\n",
              "      <td>0</td>\n",
              "      <td>2</td>\n",
              "      <td>0</td>\n",
              "      <td>1</td>\n",
              "      <td>0</td>\n",
              "      <td>O-731397</td>\n",
              "    </tr>\n",
              "    <tr>\n",
              "      <th>1</th>\n",
              "      <td>0</td>\n",
              "      <td>11</td>\n",
              "      <td>0</td>\n",
              "      <td>0</td>\n",
              "      <td>2</td>\n",
              "      <td>1</td>\n",
              "      <td>0</td>\n",
              "      <td>2</td>\n",
              "      <td>2</td>\n",
              "      <td>1</td>\n",
              "      <td>0</td>\n",
              "      <td>1</td>\n",
              "      <td>0</td>\n",
              "      <td>0</td>\n",
              "      <td>0</td>\n",
              "      <td>0</td>\n",
              "      <td>0</td>\n",
              "      <td>1</td>\n",
              "      <td>0</td>\n",
              "      <td>0</td>\n",
              "      <td>0</td>\n",
              "      <td>0</td>\n",
              "      <td>0</td>\n",
              "      <td>0</td>\n",
              "      <td>2</td>\n",
              "      <td>0</td>\n",
              "      <td>0</td>\n",
              "      <td>0</td>\n",
              "      <td>1</td>\n",
              "      <td>1</td>\n",
              "      <td>0</td>\n",
              "      <td>2</td>\n",
              "      <td>0</td>\n",
              "      <td>2</td>\n",
              "      <td>0</td>\n",
              "      <td>1</td>\n",
              "      <td>2</td>\n",
              "      <td>1</td>\n",
              "      <td>2</td>\n",
              "      <td>0</td>\n",
              "      <td>2</td>\n",
              "      <td>0</td>\n",
              "      <td>1</td>\n",
              "      <td>0</td>\n",
              "      <td>0</td>\n",
              "      <td>0</td>\n",
              "      <td>0</td>\n",
              "      <td>1</td>\n",
              "      <td>1</td>\n",
              "      <td>1</td>\n",
              "      <td>1</td>\n",
              "      <td>0</td>\n",
              "      <td>0</td>\n",
              "      <td>0</td>\n",
              "      <td>0</td>\n",
              "      <td>0</td>\n",
              "      <td>0</td>\n",
              "      <td>0</td>\n",
              "      <td>0</td>\n",
              "      <td>1</td>\n",
              "      <td>1</td>\n",
              "      <td>1</td>\n",
              "      <td>0</td>\n",
              "      <td>1</td>\n",
              "      <td>2</td>\n",
              "      <td>0</td>\n",
              "      <td>0</td>\n",
              "      <td>2</td>\n",
              "      <td>2</td>\n",
              "      <td>0</td>\n",
              "      <td>2</td>\n",
              "      <td>0</td>\n",
              "      <td>1</td>\n",
              "      <td>0</td>\n",
              "      <td>O-731397</td>\n",
              "    </tr>\n",
              "    <tr>\n",
              "      <th>2</th>\n",
              "      <td>1</td>\n",
              "      <td>0</td>\n",
              "      <td>0</td>\n",
              "      <td>0</td>\n",
              "      <td>2</td>\n",
              "      <td>1</td>\n",
              "      <td>0</td>\n",
              "      <td>2</td>\n",
              "      <td>2</td>\n",
              "      <td>1</td>\n",
              "      <td>0</td>\n",
              "      <td>1</td>\n",
              "      <td>0</td>\n",
              "      <td>0</td>\n",
              "      <td>0</td>\n",
              "      <td>0</td>\n",
              "      <td>0</td>\n",
              "      <td>1</td>\n",
              "      <td>0</td>\n",
              "      <td>0</td>\n",
              "      <td>0</td>\n",
              "      <td>0</td>\n",
              "      <td>0</td>\n",
              "      <td>0</td>\n",
              "      <td>2</td>\n",
              "      <td>0</td>\n",
              "      <td>0</td>\n",
              "      <td>0</td>\n",
              "      <td>1</td>\n",
              "      <td>1</td>\n",
              "      <td>0</td>\n",
              "      <td>2</td>\n",
              "      <td>0</td>\n",
              "      <td>2</td>\n",
              "      <td>0</td>\n",
              "      <td>1</td>\n",
              "      <td>2</td>\n",
              "      <td>1</td>\n",
              "      <td>2</td>\n",
              "      <td>0</td>\n",
              "      <td>2</td>\n",
              "      <td>0</td>\n",
              "      <td>1</td>\n",
              "      <td>0</td>\n",
              "      <td>0</td>\n",
              "      <td>0</td>\n",
              "      <td>0</td>\n",
              "      <td>1</td>\n",
              "      <td>1</td>\n",
              "      <td>1</td>\n",
              "      <td>1</td>\n",
              "      <td>0</td>\n",
              "      <td>0</td>\n",
              "      <td>0</td>\n",
              "      <td>0</td>\n",
              "      <td>0</td>\n",
              "      <td>0</td>\n",
              "      <td>0</td>\n",
              "      <td>0</td>\n",
              "      <td>1</td>\n",
              "      <td>1</td>\n",
              "      <td>1</td>\n",
              "      <td>0</td>\n",
              "      <td>1</td>\n",
              "      <td>2</td>\n",
              "      <td>0</td>\n",
              "      <td>0</td>\n",
              "      <td>2</td>\n",
              "      <td>2</td>\n",
              "      <td>0</td>\n",
              "      <td>2</td>\n",
              "      <td>0</td>\n",
              "      <td>1</td>\n",
              "      <td>0</td>\n",
              "      <td>O-731397</td>\n",
              "    </tr>\n",
              "    <tr>\n",
              "      <th>3</th>\n",
              "      <td>0</td>\n",
              "      <td>0</td>\n",
              "      <td>0</td>\n",
              "      <td>0</td>\n",
              "      <td>2</td>\n",
              "      <td>1</td>\n",
              "      <td>0</td>\n",
              "      <td>2</td>\n",
              "      <td>2</td>\n",
              "      <td>1</td>\n",
              "      <td>0</td>\n",
              "      <td>1</td>\n",
              "      <td>0</td>\n",
              "      <td>0</td>\n",
              "      <td>0</td>\n",
              "      <td>0</td>\n",
              "      <td>0</td>\n",
              "      <td>1</td>\n",
              "      <td>0</td>\n",
              "      <td>0</td>\n",
              "      <td>0</td>\n",
              "      <td>0</td>\n",
              "      <td>0</td>\n",
              "      <td>0</td>\n",
              "      <td>2</td>\n",
              "      <td>0</td>\n",
              "      <td>0</td>\n",
              "      <td>0</td>\n",
              "      <td>1</td>\n",
              "      <td>1</td>\n",
              "      <td>0</td>\n",
              "      <td>2</td>\n",
              "      <td>0</td>\n",
              "      <td>2</td>\n",
              "      <td>0</td>\n",
              "      <td>1</td>\n",
              "      <td>2</td>\n",
              "      <td>1</td>\n",
              "      <td>2</td>\n",
              "      <td>0</td>\n",
              "      <td>2</td>\n",
              "      <td>0</td>\n",
              "      <td>1</td>\n",
              "      <td>0</td>\n",
              "      <td>0</td>\n",
              "      <td>0</td>\n",
              "      <td>0</td>\n",
              "      <td>1</td>\n",
              "      <td>1</td>\n",
              "      <td>1</td>\n",
              "      <td>1</td>\n",
              "      <td>0</td>\n",
              "      <td>0</td>\n",
              "      <td>0</td>\n",
              "      <td>0</td>\n",
              "      <td>0</td>\n",
              "      <td>0</td>\n",
              "      <td>0</td>\n",
              "      <td>0</td>\n",
              "      <td>1</td>\n",
              "      <td>1</td>\n",
              "      <td>1</td>\n",
              "      <td>0</td>\n",
              "      <td>1</td>\n",
              "      <td>2</td>\n",
              "      <td>0</td>\n",
              "      <td>0</td>\n",
              "      <td>2</td>\n",
              "      <td>2</td>\n",
              "      <td>0</td>\n",
              "      <td>2</td>\n",
              "      <td>0</td>\n",
              "      <td>1</td>\n",
              "      <td>0</td>\n",
              "      <td>O-731397</td>\n",
              "    </tr>\n",
              "    <tr>\n",
              "      <th>4</th>\n",
              "      <td>1</td>\n",
              "      <td>1</td>\n",
              "      <td>0</td>\n",
              "      <td>0</td>\n",
              "      <td>2</td>\n",
              "      <td>1</td>\n",
              "      <td>0</td>\n",
              "      <td>2</td>\n",
              "      <td>2</td>\n",
              "      <td>1</td>\n",
              "      <td>0</td>\n",
              "      <td>1</td>\n",
              "      <td>0</td>\n",
              "      <td>0</td>\n",
              "      <td>0</td>\n",
              "      <td>0</td>\n",
              "      <td>0</td>\n",
              "      <td>1</td>\n",
              "      <td>0</td>\n",
              "      <td>0</td>\n",
              "      <td>0</td>\n",
              "      <td>0</td>\n",
              "      <td>0</td>\n",
              "      <td>0</td>\n",
              "      <td>2</td>\n",
              "      <td>0</td>\n",
              "      <td>0</td>\n",
              "      <td>0</td>\n",
              "      <td>1</td>\n",
              "      <td>1</td>\n",
              "      <td>0</td>\n",
              "      <td>2</td>\n",
              "      <td>0</td>\n",
              "      <td>2</td>\n",
              "      <td>0</td>\n",
              "      <td>1</td>\n",
              "      <td>2</td>\n",
              "      <td>1</td>\n",
              "      <td>2</td>\n",
              "      <td>0</td>\n",
              "      <td>2</td>\n",
              "      <td>0</td>\n",
              "      <td>1</td>\n",
              "      <td>0</td>\n",
              "      <td>0</td>\n",
              "      <td>0</td>\n",
              "      <td>0</td>\n",
              "      <td>1</td>\n",
              "      <td>1</td>\n",
              "      <td>1</td>\n",
              "      <td>1</td>\n",
              "      <td>0</td>\n",
              "      <td>0</td>\n",
              "      <td>0</td>\n",
              "      <td>0</td>\n",
              "      <td>0</td>\n",
              "      <td>0</td>\n",
              "      <td>0</td>\n",
              "      <td>0</td>\n",
              "      <td>1</td>\n",
              "      <td>1</td>\n",
              "      <td>1</td>\n",
              "      <td>0</td>\n",
              "      <td>1</td>\n",
              "      <td>2</td>\n",
              "      <td>0</td>\n",
              "      <td>0</td>\n",
              "      <td>2</td>\n",
              "      <td>2</td>\n",
              "      <td>0</td>\n",
              "      <td>2</td>\n",
              "      <td>0</td>\n",
              "      <td>1</td>\n",
              "      <td>0</td>\n",
              "      <td>O-731397</td>\n",
              "    </tr>\n",
              "    <tr>\n",
              "      <th>...</th>\n",
              "      <td>...</td>\n",
              "      <td>...</td>\n",
              "      <td>...</td>\n",
              "      <td>...</td>\n",
              "      <td>...</td>\n",
              "      <td>...</td>\n",
              "      <td>...</td>\n",
              "      <td>...</td>\n",
              "      <td>...</td>\n",
              "      <td>...</td>\n",
              "      <td>...</td>\n",
              "      <td>...</td>\n",
              "      <td>...</td>\n",
              "      <td>...</td>\n",
              "      <td>...</td>\n",
              "      <td>...</td>\n",
              "      <td>...</td>\n",
              "      <td>...</td>\n",
              "      <td>...</td>\n",
              "      <td>...</td>\n",
              "      <td>...</td>\n",
              "      <td>...</td>\n",
              "      <td>...</td>\n",
              "      <td>...</td>\n",
              "      <td>...</td>\n",
              "      <td>...</td>\n",
              "      <td>...</td>\n",
              "      <td>...</td>\n",
              "      <td>...</td>\n",
              "      <td>...</td>\n",
              "      <td>...</td>\n",
              "      <td>...</td>\n",
              "      <td>...</td>\n",
              "      <td>...</td>\n",
              "      <td>...</td>\n",
              "      <td>...</td>\n",
              "      <td>...</td>\n",
              "      <td>...</td>\n",
              "      <td>...</td>\n",
              "      <td>...</td>\n",
              "      <td>...</td>\n",
              "      <td>...</td>\n",
              "      <td>...</td>\n",
              "      <td>...</td>\n",
              "      <td>...</td>\n",
              "      <td>...</td>\n",
              "      <td>...</td>\n",
              "      <td>...</td>\n",
              "      <td>...</td>\n",
              "      <td>...</td>\n",
              "      <td>...</td>\n",
              "      <td>...</td>\n",
              "      <td>...</td>\n",
              "      <td>...</td>\n",
              "      <td>...</td>\n",
              "      <td>...</td>\n",
              "      <td>...</td>\n",
              "      <td>...</td>\n",
              "      <td>...</td>\n",
              "      <td>...</td>\n",
              "      <td>...</td>\n",
              "      <td>...</td>\n",
              "      <td>...</td>\n",
              "      <td>...</td>\n",
              "      <td>...</td>\n",
              "      <td>...</td>\n",
              "      <td>...</td>\n",
              "      <td>...</td>\n",
              "      <td>...</td>\n",
              "      <td>...</td>\n",
              "      <td>...</td>\n",
              "      <td>...</td>\n",
              "      <td>...</td>\n",
              "      <td>...</td>\n",
              "      <td>...</td>\n",
              "    </tr>\n",
              "    <tr>\n",
              "      <th>18311</th>\n",
              "      <td>0</td>\n",
              "      <td>3</td>\n",
              "      <td>2</td>\n",
              "      <td>0</td>\n",
              "      <td>0</td>\n",
              "      <td>1</td>\n",
              "      <td>0</td>\n",
              "      <td>6</td>\n",
              "      <td>1</td>\n",
              "      <td>0</td>\n",
              "      <td>0</td>\n",
              "      <td>1</td>\n",
              "      <td>0</td>\n",
              "      <td>0</td>\n",
              "      <td>4</td>\n",
              "      <td>0</td>\n",
              "      <td>0</td>\n",
              "      <td>2</td>\n",
              "      <td>1</td>\n",
              "      <td>1</td>\n",
              "      <td>1</td>\n",
              "      <td>1</td>\n",
              "      <td>0</td>\n",
              "      <td>0</td>\n",
              "      <td>17</td>\n",
              "      <td>1</td>\n",
              "      <td>1</td>\n",
              "      <td>0</td>\n",
              "      <td>1</td>\n",
              "      <td>1</td>\n",
              "      <td>1</td>\n",
              "      <td>1</td>\n",
              "      <td>0</td>\n",
              "      <td>0</td>\n",
              "      <td>1</td>\n",
              "      <td>1</td>\n",
              "      <td>1</td>\n",
              "      <td>1</td>\n",
              "      <td>3</td>\n",
              "      <td>0</td>\n",
              "      <td>5</td>\n",
              "      <td>0</td>\n",
              "      <td>0</td>\n",
              "      <td>0</td>\n",
              "      <td>0</td>\n",
              "      <td>0</td>\n",
              "      <td>1</td>\n",
              "      <td>0</td>\n",
              "      <td>2</td>\n",
              "      <td>0</td>\n",
              "      <td>1</td>\n",
              "      <td>0</td>\n",
              "      <td>0</td>\n",
              "      <td>1</td>\n",
              "      <td>0</td>\n",
              "      <td>0</td>\n",
              "      <td>0</td>\n",
              "      <td>0</td>\n",
              "      <td>0</td>\n",
              "      <td>0</td>\n",
              "      <td>1</td>\n",
              "      <td>2</td>\n",
              "      <td>0</td>\n",
              "      <td>1</td>\n",
              "      <td>1</td>\n",
              "      <td>1</td>\n",
              "      <td>0</td>\n",
              "      <td>1</td>\n",
              "      <td>9</td>\n",
              "      <td>1</td>\n",
              "      <td>1</td>\n",
              "      <td>0</td>\n",
              "      <td>2</td>\n",
              "      <td>0</td>\n",
              "      <td>O-845569</td>\n",
              "    </tr>\n",
              "    <tr>\n",
              "      <th>18312</th>\n",
              "      <td>1</td>\n",
              "      <td>4</td>\n",
              "      <td>2</td>\n",
              "      <td>0</td>\n",
              "      <td>0</td>\n",
              "      <td>1</td>\n",
              "      <td>0</td>\n",
              "      <td>6</td>\n",
              "      <td>1</td>\n",
              "      <td>0</td>\n",
              "      <td>0</td>\n",
              "      <td>1</td>\n",
              "      <td>0</td>\n",
              "      <td>0</td>\n",
              "      <td>4</td>\n",
              "      <td>0</td>\n",
              "      <td>0</td>\n",
              "      <td>2</td>\n",
              "      <td>1</td>\n",
              "      <td>1</td>\n",
              "      <td>1</td>\n",
              "      <td>1</td>\n",
              "      <td>0</td>\n",
              "      <td>0</td>\n",
              "      <td>17</td>\n",
              "      <td>1</td>\n",
              "      <td>1</td>\n",
              "      <td>0</td>\n",
              "      <td>1</td>\n",
              "      <td>1</td>\n",
              "      <td>1</td>\n",
              "      <td>1</td>\n",
              "      <td>0</td>\n",
              "      <td>0</td>\n",
              "      <td>1</td>\n",
              "      <td>1</td>\n",
              "      <td>1</td>\n",
              "      <td>1</td>\n",
              "      <td>3</td>\n",
              "      <td>0</td>\n",
              "      <td>5</td>\n",
              "      <td>0</td>\n",
              "      <td>0</td>\n",
              "      <td>0</td>\n",
              "      <td>0</td>\n",
              "      <td>0</td>\n",
              "      <td>1</td>\n",
              "      <td>0</td>\n",
              "      <td>2</td>\n",
              "      <td>0</td>\n",
              "      <td>1</td>\n",
              "      <td>0</td>\n",
              "      <td>0</td>\n",
              "      <td>1</td>\n",
              "      <td>0</td>\n",
              "      <td>0</td>\n",
              "      <td>0</td>\n",
              "      <td>0</td>\n",
              "      <td>0</td>\n",
              "      <td>0</td>\n",
              "      <td>1</td>\n",
              "      <td>2</td>\n",
              "      <td>0</td>\n",
              "      <td>1</td>\n",
              "      <td>1</td>\n",
              "      <td>1</td>\n",
              "      <td>0</td>\n",
              "      <td>1</td>\n",
              "      <td>9</td>\n",
              "      <td>1</td>\n",
              "      <td>1</td>\n",
              "      <td>0</td>\n",
              "      <td>2</td>\n",
              "      <td>0</td>\n",
              "      <td>O-845569</td>\n",
              "    </tr>\n",
              "    <tr>\n",
              "      <th>18313</th>\n",
              "      <td>1</td>\n",
              "      <td>8</td>\n",
              "      <td>3</td>\n",
              "      <td>0</td>\n",
              "      <td>0</td>\n",
              "      <td>0</td>\n",
              "      <td>0</td>\n",
              "      <td>0</td>\n",
              "      <td>0</td>\n",
              "      <td>0</td>\n",
              "      <td>0</td>\n",
              "      <td>1</td>\n",
              "      <td>0</td>\n",
              "      <td>0</td>\n",
              "      <td>0</td>\n",
              "      <td>0</td>\n",
              "      <td>0</td>\n",
              "      <td>2</td>\n",
              "      <td>1</td>\n",
              "      <td>0</td>\n",
              "      <td>0</td>\n",
              "      <td>0</td>\n",
              "      <td>0</td>\n",
              "      <td>0</td>\n",
              "      <td>0</td>\n",
              "      <td>0</td>\n",
              "      <td>0</td>\n",
              "      <td>0</td>\n",
              "      <td>1</td>\n",
              "      <td>1</td>\n",
              "      <td>0</td>\n",
              "      <td>0</td>\n",
              "      <td>1</td>\n",
              "      <td>0</td>\n",
              "      <td>0</td>\n",
              "      <td>1</td>\n",
              "      <td>0</td>\n",
              "      <td>0</td>\n",
              "      <td>0</td>\n",
              "      <td>0</td>\n",
              "      <td>0</td>\n",
              "      <td>0</td>\n",
              "      <td>0</td>\n",
              "      <td>0</td>\n",
              "      <td>0</td>\n",
              "      <td>0</td>\n",
              "      <td>0</td>\n",
              "      <td>0</td>\n",
              "      <td>2</td>\n",
              "      <td>0</td>\n",
              "      <td>0</td>\n",
              "      <td>0</td>\n",
              "      <td>0</td>\n",
              "      <td>0</td>\n",
              "      <td>0</td>\n",
              "      <td>0</td>\n",
              "      <td>0</td>\n",
              "      <td>0</td>\n",
              "      <td>0</td>\n",
              "      <td>0</td>\n",
              "      <td>0</td>\n",
              "      <td>2</td>\n",
              "      <td>0</td>\n",
              "      <td>1</td>\n",
              "      <td>2</td>\n",
              "      <td>0</td>\n",
              "      <td>0</td>\n",
              "      <td>0</td>\n",
              "      <td>0</td>\n",
              "      <td>2</td>\n",
              "      <td>1</td>\n",
              "      <td>1</td>\n",
              "      <td>2</td>\n",
              "      <td>1</td>\n",
              "      <td>O-884023</td>\n",
              "    </tr>\n",
              "    <tr>\n",
              "      <th>18314</th>\n",
              "      <td>1</td>\n",
              "      <td>11</td>\n",
              "      <td>0</td>\n",
              "      <td>0</td>\n",
              "      <td>0</td>\n",
              "      <td>0</td>\n",
              "      <td>0</td>\n",
              "      <td>2</td>\n",
              "      <td>2</td>\n",
              "      <td>0</td>\n",
              "      <td>0</td>\n",
              "      <td>1</td>\n",
              "      <td>0</td>\n",
              "      <td>0</td>\n",
              "      <td>0</td>\n",
              "      <td>0</td>\n",
              "      <td>0</td>\n",
              "      <td>0</td>\n",
              "      <td>1</td>\n",
              "      <td>1</td>\n",
              "      <td>0</td>\n",
              "      <td>0</td>\n",
              "      <td>1</td>\n",
              "      <td>0</td>\n",
              "      <td>7</td>\n",
              "      <td>1</td>\n",
              "      <td>0</td>\n",
              "      <td>0</td>\n",
              "      <td>1</td>\n",
              "      <td>1</td>\n",
              "      <td>0</td>\n",
              "      <td>2</td>\n",
              "      <td>0</td>\n",
              "      <td>0</td>\n",
              "      <td>1</td>\n",
              "      <td>1</td>\n",
              "      <td>2</td>\n",
              "      <td>0</td>\n",
              "      <td>2</td>\n",
              "      <td>0</td>\n",
              "      <td>2</td>\n",
              "      <td>0</td>\n",
              "      <td>1</td>\n",
              "      <td>1</td>\n",
              "      <td>0</td>\n",
              "      <td>0</td>\n",
              "      <td>1</td>\n",
              "      <td>0</td>\n",
              "      <td>1</td>\n",
              "      <td>1</td>\n",
              "      <td>0</td>\n",
              "      <td>0</td>\n",
              "      <td>0</td>\n",
              "      <td>1</td>\n",
              "      <td>0</td>\n",
              "      <td>0</td>\n",
              "      <td>0</td>\n",
              "      <td>0</td>\n",
              "      <td>0</td>\n",
              "      <td>1</td>\n",
              "      <td>0</td>\n",
              "      <td>0</td>\n",
              "      <td>0</td>\n",
              "      <td>1</td>\n",
              "      <td>2</td>\n",
              "      <td>0</td>\n",
              "      <td>0</td>\n",
              "      <td>2</td>\n",
              "      <td>2</td>\n",
              "      <td>2</td>\n",
              "      <td>2</td>\n",
              "      <td>1</td>\n",
              "      <td>0</td>\n",
              "      <td>1</td>\n",
              "      <td>O-684939</td>\n",
              "    </tr>\n",
              "    <tr>\n",
              "      <th>18315</th>\n",
              "      <td>1</td>\n",
              "      <td>11</td>\n",
              "      <td>0</td>\n",
              "      <td>0</td>\n",
              "      <td>0</td>\n",
              "      <td>0</td>\n",
              "      <td>0</td>\n",
              "      <td>0</td>\n",
              "      <td>0</td>\n",
              "      <td>0</td>\n",
              "      <td>0</td>\n",
              "      <td>1</td>\n",
              "      <td>0</td>\n",
              "      <td>0</td>\n",
              "      <td>0</td>\n",
              "      <td>0</td>\n",
              "      <td>0</td>\n",
              "      <td>2</td>\n",
              "      <td>1</td>\n",
              "      <td>0</td>\n",
              "      <td>0</td>\n",
              "      <td>0</td>\n",
              "      <td>0</td>\n",
              "      <td>0</td>\n",
              "      <td>0</td>\n",
              "      <td>0</td>\n",
              "      <td>0</td>\n",
              "      <td>0</td>\n",
              "      <td>1</td>\n",
              "      <td>1</td>\n",
              "      <td>0</td>\n",
              "      <td>0</td>\n",
              "      <td>0</td>\n",
              "      <td>0</td>\n",
              "      <td>0</td>\n",
              "      <td>1</td>\n",
              "      <td>0</td>\n",
              "      <td>0</td>\n",
              "      <td>0</td>\n",
              "      <td>0</td>\n",
              "      <td>0</td>\n",
              "      <td>0</td>\n",
              "      <td>0</td>\n",
              "      <td>0</td>\n",
              "      <td>0</td>\n",
              "      <td>0</td>\n",
              "      <td>0</td>\n",
              "      <td>1</td>\n",
              "      <td>1</td>\n",
              "      <td>0</td>\n",
              "      <td>0</td>\n",
              "      <td>0</td>\n",
              "      <td>0</td>\n",
              "      <td>0</td>\n",
              "      <td>0</td>\n",
              "      <td>0</td>\n",
              "      <td>0</td>\n",
              "      <td>0</td>\n",
              "      <td>0</td>\n",
              "      <td>0</td>\n",
              "      <td>0</td>\n",
              "      <td>2</td>\n",
              "      <td>0</td>\n",
              "      <td>1</td>\n",
              "      <td>2</td>\n",
              "      <td>0</td>\n",
              "      <td>0</td>\n",
              "      <td>0</td>\n",
              "      <td>0</td>\n",
              "      <td>2</td>\n",
              "      <td>1</td>\n",
              "      <td>0</td>\n",
              "      <td>2</td>\n",
              "      <td>1</td>\n",
              "      <td>O-694033</td>\n",
              "    </tr>\n",
              "  </tbody>\n",
              "</table>\n",
              "<p>18316 rows × 75 columns</p>\n",
              "</div>"
            ],
            "text/plain": [
              "       DAY  MONTH  YEAR  ...  VFE_0007_CAB_HEIGHT  VFE_0008_HAS_PTO  T_CHASSIS\n",
              "0        1     11     0  ...                    1                 0   O-731397\n",
              "1        0     11     0  ...                    1                 0   O-731397\n",
              "2        1      0     0  ...                    1                 0   O-731397\n",
              "3        0      0     0  ...                    1                 0   O-731397\n",
              "4        1      1     0  ...                    1                 0   O-731397\n",
              "...    ...    ...   ...  ...                  ...               ...        ...\n",
              "18311    0      3     2  ...                    2                 0   O-845569\n",
              "18312    1      4     2  ...                    2                 0   O-845569\n",
              "18313    1      8     3  ...                    2                 1   O-884023\n",
              "18314    1     11     0  ...                    0                 1   O-684939\n",
              "18315    1     11     0  ...                    2                 1   O-694033\n",
              "\n",
              "[18316 rows x 75 columns]"
            ]
          },
          "metadata": {
            "tags": []
          },
          "execution_count": 437
        }
      ]
    },
    {
      "cell_type": "code",
      "metadata": {
        "id": "nU5bAd6zC49-",
        "colab_type": "code",
        "outputId": "8a079c32-a02f-4f38-c060-da5f5b8e2b04",
        "colab": {
          "base_uri": "https://localhost:8080/",
          "height": 54
        }
      },
      "source": [
        "'''\n",
        "data_embed = network_input_process(data_num=None, data_cols=data[cat_features], y_output=None)\n",
        "data_embed = np.array(data_embed).transpose()\n",
        "data_embed.shape\n",
        "# create a new pandas dataframe with this embedding encoding\n",
        "new_data = copy.copy(data)\n",
        "new_data.loc[:, list(cat_features)] = data_embed\n",
        "# save to db\n",
        "new_data.to_csv(\"drive/My Drive/Thesis/data/Embedding_Data/sorted_data_new_full.csv\", sep=',', index=False)\n",
        "'''"
      ],
      "execution_count": 438,
      "outputs": [
        {
          "output_type": "execute_result",
          "data": {
            "text/plain": [
              "'\\ndata_embed = network_input_process(data_num=None, data_cols=data[cat_features], y_output=None)\\ndata_embed = np.array(data_embed).transpose()\\ndata_embed.shape\\n# create a new pandas dataframe with this embedding encoding\\nnew_data = copy.copy(data)\\nnew_data.loc[:, list(cat_features)] = data_embed\\n# save to db\\nnew_data.to_csv(\"drive/My Drive/Thesis/data/Embedding_Data/sorted_data_new_full.csv\", sep=\\',\\', index=False)\\n'"
            ]
          },
          "metadata": {
            "tags": []
          },
          "execution_count": 438
        }
      ]
    },
    {
      "cell_type": "code",
      "metadata": {
        "id": "x_hvo4n8st89",
        "colab_type": "code",
        "colab": {}
      },
      "source": [
        "# creating the training inputs\n",
        "scaler = RobustScaler()\n",
        "# scale and fit\n",
        "#scaler.fit(data_t.loc[:, num_features].values)\n",
        "#data_t.loc[:, num_features] = scaler.transform(data_t.loc[:, num_features].values)\n",
        "#data_v.loc[:, num_features] = scaler.transform(data_v.loc[:, num_features].values)\n",
        "\n",
        "# create the requirment for the embedding model\n",
        "XTrain, yTrain = network_input_process(data_num=None, data_cols=data[cat_features], y_output=data.iloc[:,3])"
      ],
      "execution_count": 0,
      "outputs": []
    },
    {
      "cell_type": "code",
      "metadata": {
        "id": "JyU6HtRjftU3",
        "colab_type": "code",
        "outputId": "f5cf49da-ad2d-4d3f-a4ea-0b3cde95d92d",
        "colab": {
          "base_uri": "https://localhost:8080/",
          "height": 34
        }
      },
      "source": [
        "XTrain[10].shape"
      ],
      "execution_count": 440,
      "outputs": [
        {
          "output_type": "execute_result",
          "data": {
            "text/plain": [
              "(18316,)"
            ]
          },
          "metadata": {
            "tags": []
          },
          "execution_count": 440
        }
      ]
    },
    {
      "cell_type": "markdown",
      "metadata": {
        "id": "5jmf037rcf2H",
        "colab_type": "text"
      },
      "source": [
        ""
      ]
    },
    {
      "cell_type": "markdown",
      "metadata": {
        "id": "JZCa-El4Fgta",
        "colab_type": "text"
      },
      "source": [
        "## Embedding Model"
      ]
    },
    {
      "cell_type": "code",
      "metadata": {
        "id": "Z2T9WJ4s3965",
        "colab_type": "code",
        "colab": {}
      },
      "source": [
        "#fetch our the trained embedding model the model\n",
        "model_embeddings = None\n",
        "model_embeddings = create_model(saved_model=embed_model2)"
      ],
      "execution_count": 0,
      "outputs": []
    },
    {
      "cell_type": "code",
      "metadata": {
        "id": "HbW47-Z7g8vt",
        "colab_type": "code",
        "outputId": "d860d9ce-eff7-49fe-c40d-739a2fa3acee",
        "colab": {
          "base_uri": "https://localhost:8080/",
          "height": 51
        }
      },
      "source": [
        "model_embeddings.fit(XTrain, yTrain, epochs=1, workers=-1)"
      ],
      "execution_count": 442,
      "outputs": [
        {
          "output_type": "stream",
          "text": [
            "573/573 [==============================] - 8s 13ms/step - loss: 0.7791 - mean_absolute_error: 0.7791\n"
          ],
          "name": "stdout"
        },
        {
          "output_type": "execute_result",
          "data": {
            "text/plain": [
              "<tensorflow.python.keras.callbacks.History at 0x7f1cef55a860>"
            ]
          },
          "metadata": {
            "tags": []
          },
          "execution_count": 442
        }
      ]
    },
    {
      "cell_type": "code",
      "metadata": {
        "id": "xJ_fkZ1lcN4R",
        "colab_type": "code",
        "colab": {}
      },
      "source": [
        "# Embedding Prediction\n",
        "embed_data = model_embeddings.predict(XTrain)"
      ],
      "execution_count": 0,
      "outputs": []
    },
    {
      "cell_type": "markdown",
      "metadata": {
        "id": "fDNabEtWiv7R",
        "colab_type": "text"
      },
      "source": [
        "## AutoEncoders Training and Testing Data"
      ]
    },
    {
      "cell_type": "code",
      "metadata": {
        "id": "Y5yXCrrBirTu",
        "colab_type": "code",
        "outputId": "aa044b4f-3a82-471c-d439-bffa37d16231",
        "colab": {
          "base_uri": "https://localhost:8080/",
          "height": 435
        }
      },
      "source": [
        "# now I need to be able to split the embed predictions by chassis wise\n",
        "data_embed = pd.DataFrame(embed_data)\n",
        "# add chassis information as well\n",
        "data_embed['T_CHASSIS'] = data['T_CHASSIS'].values\n",
        "data_embed"
      ],
      "execution_count": 444,
      "outputs": [
        {
          "output_type": "execute_result",
          "data": {
            "text/html": [
              "<div>\n",
              "<style scoped>\n",
              "    .dataframe tbody tr th:only-of-type {\n",
              "        vertical-align: middle;\n",
              "    }\n",
              "\n",
              "    .dataframe tbody tr th {\n",
              "        vertical-align: top;\n",
              "    }\n",
              "\n",
              "    .dataframe thead th {\n",
              "        text-align: right;\n",
              "    }\n",
              "</style>\n",
              "<table border=\"1\" class=\"dataframe\">\n",
              "  <thead>\n",
              "    <tr style=\"text-align: right;\">\n",
              "      <th></th>\n",
              "      <th>0</th>\n",
              "      <th>1</th>\n",
              "      <th>2</th>\n",
              "      <th>3</th>\n",
              "      <th>4</th>\n",
              "      <th>5</th>\n",
              "      <th>6</th>\n",
              "      <th>7</th>\n",
              "      <th>8</th>\n",
              "      <th>9</th>\n",
              "      <th>10</th>\n",
              "      <th>11</th>\n",
              "      <th>12</th>\n",
              "      <th>13</th>\n",
              "      <th>14</th>\n",
              "      <th>15</th>\n",
              "      <th>16</th>\n",
              "      <th>17</th>\n",
              "      <th>18</th>\n",
              "      <th>19</th>\n",
              "      <th>20</th>\n",
              "      <th>21</th>\n",
              "      <th>22</th>\n",
              "      <th>23</th>\n",
              "      <th>24</th>\n",
              "      <th>25</th>\n",
              "      <th>26</th>\n",
              "      <th>27</th>\n",
              "      <th>28</th>\n",
              "      <th>29</th>\n",
              "      <th>30</th>\n",
              "      <th>31</th>\n",
              "      <th>32</th>\n",
              "      <th>33</th>\n",
              "      <th>34</th>\n",
              "      <th>35</th>\n",
              "      <th>36</th>\n",
              "      <th>37</th>\n",
              "      <th>38</th>\n",
              "      <th>39</th>\n",
              "      <th>...</th>\n",
              "      <th>130</th>\n",
              "      <th>131</th>\n",
              "      <th>132</th>\n",
              "      <th>133</th>\n",
              "      <th>134</th>\n",
              "      <th>135</th>\n",
              "      <th>136</th>\n",
              "      <th>137</th>\n",
              "      <th>138</th>\n",
              "      <th>139</th>\n",
              "      <th>140</th>\n",
              "      <th>141</th>\n",
              "      <th>142</th>\n",
              "      <th>143</th>\n",
              "      <th>144</th>\n",
              "      <th>145</th>\n",
              "      <th>146</th>\n",
              "      <th>147</th>\n",
              "      <th>148</th>\n",
              "      <th>149</th>\n",
              "      <th>150</th>\n",
              "      <th>151</th>\n",
              "      <th>152</th>\n",
              "      <th>153</th>\n",
              "      <th>154</th>\n",
              "      <th>155</th>\n",
              "      <th>156</th>\n",
              "      <th>157</th>\n",
              "      <th>158</th>\n",
              "      <th>159</th>\n",
              "      <th>160</th>\n",
              "      <th>161</th>\n",
              "      <th>162</th>\n",
              "      <th>163</th>\n",
              "      <th>164</th>\n",
              "      <th>165</th>\n",
              "      <th>166</th>\n",
              "      <th>167</th>\n",
              "      <th>168</th>\n",
              "      <th>T_CHASSIS</th>\n",
              "    </tr>\n",
              "  </thead>\n",
              "  <tbody>\n",
              "    <tr>\n",
              "      <th>0</th>\n",
              "      <td>0.235059</td>\n",
              "      <td>0.541450</td>\n",
              "      <td>0.548140</td>\n",
              "      <td>0.334767</td>\n",
              "      <td>0.362618</td>\n",
              "      <td>0.293125</td>\n",
              "      <td>0.364572</td>\n",
              "      <td>-3.522486</td>\n",
              "      <td>-3.504640</td>\n",
              "      <td>0.482371</td>\n",
              "      <td>0.028359</td>\n",
              "      <td>0.019753</td>\n",
              "      <td>2.987822</td>\n",
              "      <td>0.696368</td>\n",
              "      <td>0.728385</td>\n",
              "      <td>0.111515</td>\n",
              "      <td>0.087095</td>\n",
              "      <td>-0.116839</td>\n",
              "      <td>0.219012</td>\n",
              "      <td>-0.531070</td>\n",
              "      <td>-0.344489</td>\n",
              "      <td>-0.000228</td>\n",
              "      <td>0.491719</td>\n",
              "      <td>2.012711</td>\n",
              "      <td>2.078081</td>\n",
              "      <td>-0.423632</td>\n",
              "      <td>-0.463032</td>\n",
              "      <td>0.537315</td>\n",
              "      <td>-0.154263</td>\n",
              "      <td>-0.026879</td>\n",
              "      <td>0.079298</td>\n",
              "      <td>0.419767</td>\n",
              "      <td>0.408734</td>\n",
              "      <td>-0.53642</td>\n",
              "      <td>-0.674152</td>\n",
              "      <td>-0.655157</td>\n",
              "      <td>0.664464</td>\n",
              "      <td>-0.689862</td>\n",
              "      <td>-0.660998</td>\n",
              "      <td>0.636282</td>\n",
              "      <td>...</td>\n",
              "      <td>-0.057106</td>\n",
              "      <td>-1.506045</td>\n",
              "      <td>1.521492</td>\n",
              "      <td>1.991066</td>\n",
              "      <td>-2.343297</td>\n",
              "      <td>0.569350</td>\n",
              "      <td>0.555243</td>\n",
              "      <td>-0.512832</td>\n",
              "      <td>-0.517271</td>\n",
              "      <td>0.107787</td>\n",
              "      <td>-0.563832</td>\n",
              "      <td>0.207908</td>\n",
              "      <td>0.353343</td>\n",
              "      <td>-0.165105</td>\n",
              "      <td>0.383800</td>\n",
              "      <td>0.394510</td>\n",
              "      <td>-0.103674</td>\n",
              "      <td>0.392712</td>\n",
              "      <td>0.588088</td>\n",
              "      <td>-0.615629</td>\n",
              "      <td>0.761433</td>\n",
              "      <td>-0.177229</td>\n",
              "      <td>0.315001</td>\n",
              "      <td>2.010907</td>\n",
              "      <td>-2.102721</td>\n",
              "      <td>1.938582</td>\n",
              "      <td>0.014238</td>\n",
              "      <td>-0.021423</td>\n",
              "      <td>0.005687</td>\n",
              "      <td>-0.232740</td>\n",
              "      <td>-0.774692</td>\n",
              "      <td>0.140730</td>\n",
              "      <td>-0.303332</td>\n",
              "      <td>1.222677</td>\n",
              "      <td>0.043035</td>\n",
              "      <td>-0.042978</td>\n",
              "      <td>0.089063</td>\n",
              "      <td>-0.024641</td>\n",
              "      <td>-2.097580</td>\n",
              "      <td>O-731397</td>\n",
              "    </tr>\n",
              "    <tr>\n",
              "      <th>1</th>\n",
              "      <td>-1.109224</td>\n",
              "      <td>0.541450</td>\n",
              "      <td>0.548140</td>\n",
              "      <td>0.334767</td>\n",
              "      <td>0.362618</td>\n",
              "      <td>0.293125</td>\n",
              "      <td>0.364572</td>\n",
              "      <td>-3.522486</td>\n",
              "      <td>-3.504640</td>\n",
              "      <td>0.482371</td>\n",
              "      <td>0.028359</td>\n",
              "      <td>0.019753</td>\n",
              "      <td>2.987822</td>\n",
              "      <td>0.696368</td>\n",
              "      <td>0.728385</td>\n",
              "      <td>0.111515</td>\n",
              "      <td>0.087095</td>\n",
              "      <td>-0.116839</td>\n",
              "      <td>0.219012</td>\n",
              "      <td>-0.531070</td>\n",
              "      <td>-0.344489</td>\n",
              "      <td>-0.000228</td>\n",
              "      <td>0.491719</td>\n",
              "      <td>2.012711</td>\n",
              "      <td>2.078081</td>\n",
              "      <td>-0.423632</td>\n",
              "      <td>-0.463032</td>\n",
              "      <td>0.537315</td>\n",
              "      <td>-0.154263</td>\n",
              "      <td>-0.026879</td>\n",
              "      <td>0.079298</td>\n",
              "      <td>0.419767</td>\n",
              "      <td>0.408734</td>\n",
              "      <td>-0.53642</td>\n",
              "      <td>-0.674152</td>\n",
              "      <td>-0.655157</td>\n",
              "      <td>0.664464</td>\n",
              "      <td>-0.689862</td>\n",
              "      <td>-0.660998</td>\n",
              "      <td>0.636282</td>\n",
              "      <td>...</td>\n",
              "      <td>-0.057106</td>\n",
              "      <td>-1.506045</td>\n",
              "      <td>1.521492</td>\n",
              "      <td>1.991066</td>\n",
              "      <td>-2.343297</td>\n",
              "      <td>0.569350</td>\n",
              "      <td>0.555243</td>\n",
              "      <td>-0.512832</td>\n",
              "      <td>-0.517271</td>\n",
              "      <td>0.107787</td>\n",
              "      <td>-0.563832</td>\n",
              "      <td>0.207908</td>\n",
              "      <td>0.353343</td>\n",
              "      <td>-0.165105</td>\n",
              "      <td>0.383800</td>\n",
              "      <td>0.394510</td>\n",
              "      <td>-0.103674</td>\n",
              "      <td>0.392712</td>\n",
              "      <td>0.588088</td>\n",
              "      <td>-0.615629</td>\n",
              "      <td>0.761433</td>\n",
              "      <td>-0.177229</td>\n",
              "      <td>0.315001</td>\n",
              "      <td>2.010907</td>\n",
              "      <td>-2.102721</td>\n",
              "      <td>1.938582</td>\n",
              "      <td>0.014238</td>\n",
              "      <td>-0.021423</td>\n",
              "      <td>0.005687</td>\n",
              "      <td>-0.232740</td>\n",
              "      <td>-0.774692</td>\n",
              "      <td>0.140730</td>\n",
              "      <td>-0.303332</td>\n",
              "      <td>1.222677</td>\n",
              "      <td>0.043035</td>\n",
              "      <td>-0.042978</td>\n",
              "      <td>0.089063</td>\n",
              "      <td>-0.024641</td>\n",
              "      <td>-2.097580</td>\n",
              "      <td>O-731397</td>\n",
              "    </tr>\n",
              "    <tr>\n",
              "      <th>2</th>\n",
              "      <td>0.235059</td>\n",
              "      <td>0.093927</td>\n",
              "      <td>0.047304</td>\n",
              "      <td>0.141094</td>\n",
              "      <td>0.185898</td>\n",
              "      <td>0.187448</td>\n",
              "      <td>0.251859</td>\n",
              "      <td>-3.522486</td>\n",
              "      <td>-3.504640</td>\n",
              "      <td>0.482371</td>\n",
              "      <td>0.028359</td>\n",
              "      <td>0.019753</td>\n",
              "      <td>2.987822</td>\n",
              "      <td>0.696368</td>\n",
              "      <td>0.728385</td>\n",
              "      <td>0.111515</td>\n",
              "      <td>0.087095</td>\n",
              "      <td>-0.116839</td>\n",
              "      <td>0.219012</td>\n",
              "      <td>-0.531070</td>\n",
              "      <td>-0.344489</td>\n",
              "      <td>-0.000228</td>\n",
              "      <td>0.491719</td>\n",
              "      <td>2.012711</td>\n",
              "      <td>2.078081</td>\n",
              "      <td>-0.423632</td>\n",
              "      <td>-0.463032</td>\n",
              "      <td>0.537315</td>\n",
              "      <td>-0.154263</td>\n",
              "      <td>-0.026879</td>\n",
              "      <td>0.079298</td>\n",
              "      <td>0.419767</td>\n",
              "      <td>0.408734</td>\n",
              "      <td>-0.53642</td>\n",
              "      <td>-0.674152</td>\n",
              "      <td>-0.655157</td>\n",
              "      <td>0.664464</td>\n",
              "      <td>-0.689862</td>\n",
              "      <td>-0.660998</td>\n",
              "      <td>0.636282</td>\n",
              "      <td>...</td>\n",
              "      <td>-0.057106</td>\n",
              "      <td>-1.506045</td>\n",
              "      <td>1.521492</td>\n",
              "      <td>1.991066</td>\n",
              "      <td>-2.343297</td>\n",
              "      <td>0.569350</td>\n",
              "      <td>0.555243</td>\n",
              "      <td>-0.512832</td>\n",
              "      <td>-0.517271</td>\n",
              "      <td>0.107787</td>\n",
              "      <td>-0.563832</td>\n",
              "      <td>0.207908</td>\n",
              "      <td>0.353343</td>\n",
              "      <td>-0.165105</td>\n",
              "      <td>0.383800</td>\n",
              "      <td>0.394510</td>\n",
              "      <td>-0.103674</td>\n",
              "      <td>0.392712</td>\n",
              "      <td>0.588088</td>\n",
              "      <td>-0.615629</td>\n",
              "      <td>0.761433</td>\n",
              "      <td>-0.177229</td>\n",
              "      <td>0.315001</td>\n",
              "      <td>2.010907</td>\n",
              "      <td>-2.102721</td>\n",
              "      <td>1.938582</td>\n",
              "      <td>0.014238</td>\n",
              "      <td>-0.021423</td>\n",
              "      <td>0.005687</td>\n",
              "      <td>-0.232740</td>\n",
              "      <td>-0.774692</td>\n",
              "      <td>0.140730</td>\n",
              "      <td>-0.303332</td>\n",
              "      <td>1.222677</td>\n",
              "      <td>0.043035</td>\n",
              "      <td>-0.042978</td>\n",
              "      <td>0.089063</td>\n",
              "      <td>-0.024641</td>\n",
              "      <td>-2.097580</td>\n",
              "      <td>O-731397</td>\n",
              "    </tr>\n",
              "    <tr>\n",
              "      <th>3</th>\n",
              "      <td>-1.109224</td>\n",
              "      <td>0.093927</td>\n",
              "      <td>0.047304</td>\n",
              "      <td>0.141094</td>\n",
              "      <td>0.185898</td>\n",
              "      <td>0.187448</td>\n",
              "      <td>0.251859</td>\n",
              "      <td>-3.522486</td>\n",
              "      <td>-3.504640</td>\n",
              "      <td>0.482371</td>\n",
              "      <td>0.028359</td>\n",
              "      <td>0.019753</td>\n",
              "      <td>2.987822</td>\n",
              "      <td>0.696368</td>\n",
              "      <td>0.728385</td>\n",
              "      <td>0.111515</td>\n",
              "      <td>0.087095</td>\n",
              "      <td>-0.116839</td>\n",
              "      <td>0.219012</td>\n",
              "      <td>-0.531070</td>\n",
              "      <td>-0.344489</td>\n",
              "      <td>-0.000228</td>\n",
              "      <td>0.491719</td>\n",
              "      <td>2.012711</td>\n",
              "      <td>2.078081</td>\n",
              "      <td>-0.423632</td>\n",
              "      <td>-0.463032</td>\n",
              "      <td>0.537315</td>\n",
              "      <td>-0.154263</td>\n",
              "      <td>-0.026879</td>\n",
              "      <td>0.079298</td>\n",
              "      <td>0.419767</td>\n",
              "      <td>0.408734</td>\n",
              "      <td>-0.53642</td>\n",
              "      <td>-0.674152</td>\n",
              "      <td>-0.655157</td>\n",
              "      <td>0.664464</td>\n",
              "      <td>-0.689862</td>\n",
              "      <td>-0.660998</td>\n",
              "      <td>0.636282</td>\n",
              "      <td>...</td>\n",
              "      <td>-0.057106</td>\n",
              "      <td>-1.506045</td>\n",
              "      <td>1.521492</td>\n",
              "      <td>1.991066</td>\n",
              "      <td>-2.343297</td>\n",
              "      <td>0.569350</td>\n",
              "      <td>0.555243</td>\n",
              "      <td>-0.512832</td>\n",
              "      <td>-0.517271</td>\n",
              "      <td>0.107787</td>\n",
              "      <td>-0.563832</td>\n",
              "      <td>0.207908</td>\n",
              "      <td>0.353343</td>\n",
              "      <td>-0.165105</td>\n",
              "      <td>0.383800</td>\n",
              "      <td>0.394510</td>\n",
              "      <td>-0.103674</td>\n",
              "      <td>0.392712</td>\n",
              "      <td>0.588088</td>\n",
              "      <td>-0.615629</td>\n",
              "      <td>0.761433</td>\n",
              "      <td>-0.177229</td>\n",
              "      <td>0.315001</td>\n",
              "      <td>2.010907</td>\n",
              "      <td>-2.102721</td>\n",
              "      <td>1.938582</td>\n",
              "      <td>0.014238</td>\n",
              "      <td>-0.021423</td>\n",
              "      <td>0.005687</td>\n",
              "      <td>-0.232740</td>\n",
              "      <td>-0.774692</td>\n",
              "      <td>0.140730</td>\n",
              "      <td>-0.303332</td>\n",
              "      <td>1.222677</td>\n",
              "      <td>0.043035</td>\n",
              "      <td>-0.042978</td>\n",
              "      <td>0.089063</td>\n",
              "      <td>-0.024641</td>\n",
              "      <td>-2.097580</td>\n",
              "      <td>O-731397</td>\n",
              "    </tr>\n",
              "    <tr>\n",
              "      <th>4</th>\n",
              "      <td>0.235059</td>\n",
              "      <td>-0.032256</td>\n",
              "      <td>-0.123072</td>\n",
              "      <td>-0.138027</td>\n",
              "      <td>-0.106746</td>\n",
              "      <td>-0.222384</td>\n",
              "      <td>-0.044636</td>\n",
              "      <td>-3.522486</td>\n",
              "      <td>-3.504640</td>\n",
              "      <td>0.482371</td>\n",
              "      <td>0.028359</td>\n",
              "      <td>0.019753</td>\n",
              "      <td>2.987822</td>\n",
              "      <td>0.696368</td>\n",
              "      <td>0.728385</td>\n",
              "      <td>0.111515</td>\n",
              "      <td>0.087095</td>\n",
              "      <td>-0.116839</td>\n",
              "      <td>0.219012</td>\n",
              "      <td>-0.531070</td>\n",
              "      <td>-0.344489</td>\n",
              "      <td>-0.000228</td>\n",
              "      <td>0.491719</td>\n",
              "      <td>2.012711</td>\n",
              "      <td>2.078081</td>\n",
              "      <td>-0.423632</td>\n",
              "      <td>-0.463032</td>\n",
              "      <td>0.537315</td>\n",
              "      <td>-0.154263</td>\n",
              "      <td>-0.026879</td>\n",
              "      <td>0.079298</td>\n",
              "      <td>0.419767</td>\n",
              "      <td>0.408734</td>\n",
              "      <td>-0.53642</td>\n",
              "      <td>-0.674152</td>\n",
              "      <td>-0.655157</td>\n",
              "      <td>0.664464</td>\n",
              "      <td>-0.689862</td>\n",
              "      <td>-0.660998</td>\n",
              "      <td>0.636282</td>\n",
              "      <td>...</td>\n",
              "      <td>-0.057106</td>\n",
              "      <td>-1.506045</td>\n",
              "      <td>1.521492</td>\n",
              "      <td>1.991066</td>\n",
              "      <td>-2.343297</td>\n",
              "      <td>0.569350</td>\n",
              "      <td>0.555243</td>\n",
              "      <td>-0.512832</td>\n",
              "      <td>-0.517271</td>\n",
              "      <td>0.107787</td>\n",
              "      <td>-0.563832</td>\n",
              "      <td>0.207908</td>\n",
              "      <td>0.353343</td>\n",
              "      <td>-0.165105</td>\n",
              "      <td>0.383800</td>\n",
              "      <td>0.394510</td>\n",
              "      <td>-0.103674</td>\n",
              "      <td>0.392712</td>\n",
              "      <td>0.588088</td>\n",
              "      <td>-0.615629</td>\n",
              "      <td>0.761433</td>\n",
              "      <td>-0.177229</td>\n",
              "      <td>0.315001</td>\n",
              "      <td>2.010907</td>\n",
              "      <td>-2.102721</td>\n",
              "      <td>1.938582</td>\n",
              "      <td>0.014238</td>\n",
              "      <td>-0.021423</td>\n",
              "      <td>0.005687</td>\n",
              "      <td>-0.232740</td>\n",
              "      <td>-0.774692</td>\n",
              "      <td>0.140730</td>\n",
              "      <td>-0.303332</td>\n",
              "      <td>1.222677</td>\n",
              "      <td>0.043035</td>\n",
              "      <td>-0.042978</td>\n",
              "      <td>0.089063</td>\n",
              "      <td>-0.024641</td>\n",
              "      <td>-2.097580</td>\n",
              "      <td>O-731397</td>\n",
              "    </tr>\n",
              "    <tr>\n",
              "      <th>...</th>\n",
              "      <td>...</td>\n",
              "      <td>...</td>\n",
              "      <td>...</td>\n",
              "      <td>...</td>\n",
              "      <td>...</td>\n",
              "      <td>...</td>\n",
              "      <td>...</td>\n",
              "      <td>...</td>\n",
              "      <td>...</td>\n",
              "      <td>...</td>\n",
              "      <td>...</td>\n",
              "      <td>...</td>\n",
              "      <td>...</td>\n",
              "      <td>...</td>\n",
              "      <td>...</td>\n",
              "      <td>...</td>\n",
              "      <td>...</td>\n",
              "      <td>...</td>\n",
              "      <td>...</td>\n",
              "      <td>...</td>\n",
              "      <td>...</td>\n",
              "      <td>...</td>\n",
              "      <td>...</td>\n",
              "      <td>...</td>\n",
              "      <td>...</td>\n",
              "      <td>...</td>\n",
              "      <td>...</td>\n",
              "      <td>...</td>\n",
              "      <td>...</td>\n",
              "      <td>...</td>\n",
              "      <td>...</td>\n",
              "      <td>...</td>\n",
              "      <td>...</td>\n",
              "      <td>...</td>\n",
              "      <td>...</td>\n",
              "      <td>...</td>\n",
              "      <td>...</td>\n",
              "      <td>...</td>\n",
              "      <td>...</td>\n",
              "      <td>...</td>\n",
              "      <td>...</td>\n",
              "      <td>...</td>\n",
              "      <td>...</td>\n",
              "      <td>...</td>\n",
              "      <td>...</td>\n",
              "      <td>...</td>\n",
              "      <td>...</td>\n",
              "      <td>...</td>\n",
              "      <td>...</td>\n",
              "      <td>...</td>\n",
              "      <td>...</td>\n",
              "      <td>...</td>\n",
              "      <td>...</td>\n",
              "      <td>...</td>\n",
              "      <td>...</td>\n",
              "      <td>...</td>\n",
              "      <td>...</td>\n",
              "      <td>...</td>\n",
              "      <td>...</td>\n",
              "      <td>...</td>\n",
              "      <td>...</td>\n",
              "      <td>...</td>\n",
              "      <td>...</td>\n",
              "      <td>...</td>\n",
              "      <td>...</td>\n",
              "      <td>...</td>\n",
              "      <td>...</td>\n",
              "      <td>...</td>\n",
              "      <td>...</td>\n",
              "      <td>...</td>\n",
              "      <td>...</td>\n",
              "      <td>...</td>\n",
              "      <td>...</td>\n",
              "      <td>...</td>\n",
              "      <td>...</td>\n",
              "      <td>...</td>\n",
              "      <td>...</td>\n",
              "      <td>...</td>\n",
              "      <td>...</td>\n",
              "      <td>...</td>\n",
              "      <td>...</td>\n",
              "    </tr>\n",
              "    <tr>\n",
              "      <th>18311</th>\n",
              "      <td>-1.109224</td>\n",
              "      <td>-0.530060</td>\n",
              "      <td>-0.577838</td>\n",
              "      <td>-0.659599</td>\n",
              "      <td>-0.660549</td>\n",
              "      <td>-0.680742</td>\n",
              "      <td>-0.630633</td>\n",
              "      <td>2.582678</td>\n",
              "      <td>2.595100</td>\n",
              "      <td>0.482371</td>\n",
              "      <td>0.543113</td>\n",
              "      <td>0.510695</td>\n",
              "      <td>2.987822</td>\n",
              "      <td>0.696368</td>\n",
              "      <td>0.728385</td>\n",
              "      <td>-0.420476</td>\n",
              "      <td>0.340159</td>\n",
              "      <td>-0.501429</td>\n",
              "      <td>-0.196382</td>\n",
              "      <td>0.187558</td>\n",
              "      <td>0.156755</td>\n",
              "      <td>-0.340274</td>\n",
              "      <td>-0.125287</td>\n",
              "      <td>1.180134</td>\n",
              "      <td>0.851777</td>\n",
              "      <td>2.717456</td>\n",
              "      <td>0.645388</td>\n",
              "      <td>0.537315</td>\n",
              "      <td>-0.154263</td>\n",
              "      <td>-0.026879</td>\n",
              "      <td>0.079298</td>\n",
              "      <td>0.419767</td>\n",
              "      <td>0.408734</td>\n",
              "      <td>-0.53642</td>\n",
              "      <td>0.889551</td>\n",
              "      <td>0.934573</td>\n",
              "      <td>-0.765325</td>\n",
              "      <td>0.819512</td>\n",
              "      <td>0.863726</td>\n",
              "      <td>-0.863783</td>\n",
              "      <td>...</td>\n",
              "      <td>-0.057106</td>\n",
              "      <td>-1.506045</td>\n",
              "      <td>1.521492</td>\n",
              "      <td>-0.909705</td>\n",
              "      <td>1.096947</td>\n",
              "      <td>-0.827991</td>\n",
              "      <td>-0.758020</td>\n",
              "      <td>-0.512832</td>\n",
              "      <td>-0.517271</td>\n",
              "      <td>-0.435008</td>\n",
              "      <td>1.215256</td>\n",
              "      <td>-0.957788</td>\n",
              "      <td>-1.017016</td>\n",
              "      <td>0.919805</td>\n",
              "      <td>-1.073295</td>\n",
              "      <td>-0.011313</td>\n",
              "      <td>0.022399</td>\n",
              "      <td>0.038176</td>\n",
              "      <td>-0.008261</td>\n",
              "      <td>0.030781</td>\n",
              "      <td>-0.023345</td>\n",
              "      <td>0.048385</td>\n",
              "      <td>-0.031165</td>\n",
              "      <td>0.178970</td>\n",
              "      <td>-0.143553</td>\n",
              "      <td>0.162624</td>\n",
              "      <td>-1.824047</td>\n",
              "      <td>1.688029</td>\n",
              "      <td>1.801336</td>\n",
              "      <td>-0.232740</td>\n",
              "      <td>-0.774692</td>\n",
              "      <td>0.140730</td>\n",
              "      <td>-0.303332</td>\n",
              "      <td>1.222677</td>\n",
              "      <td>0.525585</td>\n",
              "      <td>-0.565073</td>\n",
              "      <td>-0.841940</td>\n",
              "      <td>-0.559136</td>\n",
              "      <td>-2.097580</td>\n",
              "      <td>O-845569</td>\n",
              "    </tr>\n",
              "    <tr>\n",
              "      <th>18312</th>\n",
              "      <td>0.235059</td>\n",
              "      <td>-0.927496</td>\n",
              "      <td>-0.956018</td>\n",
              "      <td>-0.849121</td>\n",
              "      <td>-0.844790</td>\n",
              "      <td>-0.837125</td>\n",
              "      <td>-0.887169</td>\n",
              "      <td>2.582678</td>\n",
              "      <td>2.595100</td>\n",
              "      <td>0.482371</td>\n",
              "      <td>0.543113</td>\n",
              "      <td>0.510695</td>\n",
              "      <td>2.987822</td>\n",
              "      <td>0.696368</td>\n",
              "      <td>0.728385</td>\n",
              "      <td>-0.420476</td>\n",
              "      <td>0.340159</td>\n",
              "      <td>-0.501429</td>\n",
              "      <td>-0.196382</td>\n",
              "      <td>0.187558</td>\n",
              "      <td>0.156755</td>\n",
              "      <td>-0.340274</td>\n",
              "      <td>-0.125287</td>\n",
              "      <td>1.180134</td>\n",
              "      <td>0.851777</td>\n",
              "      <td>2.717456</td>\n",
              "      <td>0.645388</td>\n",
              "      <td>0.537315</td>\n",
              "      <td>-0.154263</td>\n",
              "      <td>-0.026879</td>\n",
              "      <td>0.079298</td>\n",
              "      <td>0.419767</td>\n",
              "      <td>0.408734</td>\n",
              "      <td>-0.53642</td>\n",
              "      <td>0.889551</td>\n",
              "      <td>0.934573</td>\n",
              "      <td>-0.765325</td>\n",
              "      <td>0.819512</td>\n",
              "      <td>0.863726</td>\n",
              "      <td>-0.863783</td>\n",
              "      <td>...</td>\n",
              "      <td>-0.057106</td>\n",
              "      <td>-1.506045</td>\n",
              "      <td>1.521492</td>\n",
              "      <td>-0.909705</td>\n",
              "      <td>1.096947</td>\n",
              "      <td>-0.827991</td>\n",
              "      <td>-0.758020</td>\n",
              "      <td>-0.512832</td>\n",
              "      <td>-0.517271</td>\n",
              "      <td>-0.435008</td>\n",
              "      <td>1.215256</td>\n",
              "      <td>-0.957788</td>\n",
              "      <td>-1.017016</td>\n",
              "      <td>0.919805</td>\n",
              "      <td>-1.073295</td>\n",
              "      <td>-0.011313</td>\n",
              "      <td>0.022399</td>\n",
              "      <td>0.038176</td>\n",
              "      <td>-0.008261</td>\n",
              "      <td>0.030781</td>\n",
              "      <td>-0.023345</td>\n",
              "      <td>0.048385</td>\n",
              "      <td>-0.031165</td>\n",
              "      <td>0.178970</td>\n",
              "      <td>-0.143553</td>\n",
              "      <td>0.162624</td>\n",
              "      <td>-1.824047</td>\n",
              "      <td>1.688029</td>\n",
              "      <td>1.801336</td>\n",
              "      <td>-0.232740</td>\n",
              "      <td>-0.774692</td>\n",
              "      <td>0.140730</td>\n",
              "      <td>-0.303332</td>\n",
              "      <td>1.222677</td>\n",
              "      <td>0.525585</td>\n",
              "      <td>-0.565073</td>\n",
              "      <td>-0.841940</td>\n",
              "      <td>-0.559136</td>\n",
              "      <td>-2.097580</td>\n",
              "      <td>O-845569</td>\n",
              "    </tr>\n",
              "    <tr>\n",
              "      <th>18313</th>\n",
              "      <td>0.235059</td>\n",
              "      <td>1.165809</td>\n",
              "      <td>1.057187</td>\n",
              "      <td>1.191926</td>\n",
              "      <td>1.194755</td>\n",
              "      <td>1.251131</td>\n",
              "      <td>1.211618</td>\n",
              "      <td>6.217859</td>\n",
              "      <td>6.260553</td>\n",
              "      <td>0.482371</td>\n",
              "      <td>0.543113</td>\n",
              "      <td>0.510695</td>\n",
              "      <td>0.180943</td>\n",
              "      <td>0.696368</td>\n",
              "      <td>0.728385</td>\n",
              "      <td>0.415680</td>\n",
              "      <td>-0.350737</td>\n",
              "      <td>0.364636</td>\n",
              "      <td>-0.314667</td>\n",
              "      <td>0.286968</td>\n",
              "      <td>0.263072</td>\n",
              "      <td>0.329695</td>\n",
              "      <td>-0.336121</td>\n",
              "      <td>-0.302321</td>\n",
              "      <td>-0.119758</td>\n",
              "      <td>-0.403989</td>\n",
              "      <td>0.645388</td>\n",
              "      <td>0.537315</td>\n",
              "      <td>-0.154263</td>\n",
              "      <td>-0.026879</td>\n",
              "      <td>0.079298</td>\n",
              "      <td>0.419767</td>\n",
              "      <td>0.408734</td>\n",
              "      <td>-0.53642</td>\n",
              "      <td>-0.674152</td>\n",
              "      <td>-0.655157</td>\n",
              "      <td>0.664464</td>\n",
              "      <td>-0.689862</td>\n",
              "      <td>-0.660998</td>\n",
              "      <td>0.636282</td>\n",
              "      <td>...</td>\n",
              "      <td>-0.057106</td>\n",
              "      <td>-1.506045</td>\n",
              "      <td>1.521492</td>\n",
              "      <td>1.991066</td>\n",
              "      <td>-2.343297</td>\n",
              "      <td>0.569350</td>\n",
              "      <td>0.555243</td>\n",
              "      <td>-0.512832</td>\n",
              "      <td>-0.517271</td>\n",
              "      <td>-0.370212</td>\n",
              "      <td>0.147543</td>\n",
              "      <td>-0.248542</td>\n",
              "      <td>-0.225067</td>\n",
              "      <td>0.266705</td>\n",
              "      <td>-0.244516</td>\n",
              "      <td>-0.237997</td>\n",
              "      <td>0.252837</td>\n",
              "      <td>-0.384310</td>\n",
              "      <td>-0.207553</td>\n",
              "      <td>0.312963</td>\n",
              "      <td>-0.068127</td>\n",
              "      <td>0.245083</td>\n",
              "      <td>-0.352871</td>\n",
              "      <td>-0.165907</td>\n",
              "      <td>0.139409</td>\n",
              "      <td>-0.286581</td>\n",
              "      <td>-1.824047</td>\n",
              "      <td>1.688029</td>\n",
              "      <td>1.801336</td>\n",
              "      <td>1.609991</td>\n",
              "      <td>0.000901</td>\n",
              "      <td>1.168933</td>\n",
              "      <td>-0.675880</td>\n",
              "      <td>-0.597555</td>\n",
              "      <td>0.525585</td>\n",
              "      <td>-0.565073</td>\n",
              "      <td>-0.841940</td>\n",
              "      <td>-0.559136</td>\n",
              "      <td>0.845647</td>\n",
              "      <td>O-884023</td>\n",
              "    </tr>\n",
              "    <tr>\n",
              "      <th>18314</th>\n",
              "      <td>0.235059</td>\n",
              "      <td>0.541450</td>\n",
              "      <td>0.548140</td>\n",
              "      <td>0.334767</td>\n",
              "      <td>0.362618</td>\n",
              "      <td>0.293125</td>\n",
              "      <td>0.364572</td>\n",
              "      <td>-3.522486</td>\n",
              "      <td>-3.504640</td>\n",
              "      <td>0.482371</td>\n",
              "      <td>0.543113</td>\n",
              "      <td>0.510695</td>\n",
              "      <td>0.180943</td>\n",
              "      <td>0.696368</td>\n",
              "      <td>0.728385</td>\n",
              "      <td>0.111515</td>\n",
              "      <td>0.087095</td>\n",
              "      <td>-0.116839</td>\n",
              "      <td>0.219012</td>\n",
              "      <td>-0.531070</td>\n",
              "      <td>-0.344489</td>\n",
              "      <td>-0.000228</td>\n",
              "      <td>0.491719</td>\n",
              "      <td>2.012711</td>\n",
              "      <td>2.078081</td>\n",
              "      <td>-0.423632</td>\n",
              "      <td>0.645388</td>\n",
              "      <td>0.537315</td>\n",
              "      <td>-0.154263</td>\n",
              "      <td>-0.026879</td>\n",
              "      <td>0.079298</td>\n",
              "      <td>0.419767</td>\n",
              "      <td>0.408734</td>\n",
              "      <td>-0.53642</td>\n",
              "      <td>-0.674152</td>\n",
              "      <td>-0.655157</td>\n",
              "      <td>0.664464</td>\n",
              "      <td>-0.689862</td>\n",
              "      <td>-0.660998</td>\n",
              "      <td>0.636282</td>\n",
              "      <td>...</td>\n",
              "      <td>-0.057106</td>\n",
              "      <td>-1.506045</td>\n",
              "      <td>1.521492</td>\n",
              "      <td>1.991066</td>\n",
              "      <td>-2.343297</td>\n",
              "      <td>0.569350</td>\n",
              "      <td>0.555243</td>\n",
              "      <td>-0.512832</td>\n",
              "      <td>-0.517271</td>\n",
              "      <td>0.107787</td>\n",
              "      <td>-0.563832</td>\n",
              "      <td>0.207908</td>\n",
              "      <td>0.353343</td>\n",
              "      <td>-0.165105</td>\n",
              "      <td>0.383800</td>\n",
              "      <td>0.394510</td>\n",
              "      <td>-0.103674</td>\n",
              "      <td>0.392712</td>\n",
              "      <td>0.588088</td>\n",
              "      <td>-0.615629</td>\n",
              "      <td>0.761433</td>\n",
              "      <td>-0.177229</td>\n",
              "      <td>0.315001</td>\n",
              "      <td>-0.165907</td>\n",
              "      <td>0.139409</td>\n",
              "      <td>-0.286581</td>\n",
              "      <td>0.014238</td>\n",
              "      <td>-0.021423</td>\n",
              "      <td>0.005687</td>\n",
              "      <td>1.609991</td>\n",
              "      <td>0.000901</td>\n",
              "      <td>1.168933</td>\n",
              "      <td>-0.675880</td>\n",
              "      <td>-0.597555</td>\n",
              "      <td>-0.795008</td>\n",
              "      <td>0.786920</td>\n",
              "      <td>0.848077</td>\n",
              "      <td>0.838412</td>\n",
              "      <td>0.845647</td>\n",
              "      <td>O-684939</td>\n",
              "    </tr>\n",
              "    <tr>\n",
              "      <th>18315</th>\n",
              "      <td>0.235059</td>\n",
              "      <td>0.541450</td>\n",
              "      <td>0.548140</td>\n",
              "      <td>0.334767</td>\n",
              "      <td>0.362618</td>\n",
              "      <td>0.293125</td>\n",
              "      <td>0.364572</td>\n",
              "      <td>-3.522486</td>\n",
              "      <td>-3.504640</td>\n",
              "      <td>0.482371</td>\n",
              "      <td>0.543113</td>\n",
              "      <td>0.510695</td>\n",
              "      <td>0.180943</td>\n",
              "      <td>0.696368</td>\n",
              "      <td>0.728385</td>\n",
              "      <td>0.415680</td>\n",
              "      <td>-0.350737</td>\n",
              "      <td>0.364636</td>\n",
              "      <td>-0.314667</td>\n",
              "      <td>0.286968</td>\n",
              "      <td>0.263072</td>\n",
              "      <td>0.329695</td>\n",
              "      <td>-0.336121</td>\n",
              "      <td>-0.302321</td>\n",
              "      <td>-0.119758</td>\n",
              "      <td>-0.403989</td>\n",
              "      <td>0.645388</td>\n",
              "      <td>0.537315</td>\n",
              "      <td>-0.154263</td>\n",
              "      <td>-0.026879</td>\n",
              "      <td>0.079298</td>\n",
              "      <td>0.419767</td>\n",
              "      <td>0.408734</td>\n",
              "      <td>-0.53642</td>\n",
              "      <td>-0.674152</td>\n",
              "      <td>-0.655157</td>\n",
              "      <td>0.664464</td>\n",
              "      <td>-0.689862</td>\n",
              "      <td>-0.660998</td>\n",
              "      <td>0.636282</td>\n",
              "      <td>...</td>\n",
              "      <td>-0.057106</td>\n",
              "      <td>-1.506045</td>\n",
              "      <td>1.521492</td>\n",
              "      <td>1.991066</td>\n",
              "      <td>-2.343297</td>\n",
              "      <td>0.569350</td>\n",
              "      <td>0.555243</td>\n",
              "      <td>-0.512832</td>\n",
              "      <td>-0.517271</td>\n",
              "      <td>-0.370212</td>\n",
              "      <td>0.147543</td>\n",
              "      <td>-0.248542</td>\n",
              "      <td>-0.225067</td>\n",
              "      <td>0.266705</td>\n",
              "      <td>-0.244516</td>\n",
              "      <td>-0.237997</td>\n",
              "      <td>0.252837</td>\n",
              "      <td>-0.384310</td>\n",
              "      <td>-0.207553</td>\n",
              "      <td>0.312963</td>\n",
              "      <td>-0.068127</td>\n",
              "      <td>0.245083</td>\n",
              "      <td>-0.352871</td>\n",
              "      <td>-0.165907</td>\n",
              "      <td>0.139409</td>\n",
              "      <td>-0.286581</td>\n",
              "      <td>-1.824047</td>\n",
              "      <td>1.688029</td>\n",
              "      <td>1.801336</td>\n",
              "      <td>-0.232740</td>\n",
              "      <td>-0.774692</td>\n",
              "      <td>0.140730</td>\n",
              "      <td>-0.303332</td>\n",
              "      <td>1.222677</td>\n",
              "      <td>0.525585</td>\n",
              "      <td>-0.565073</td>\n",
              "      <td>-0.841940</td>\n",
              "      <td>-0.559136</td>\n",
              "      <td>0.845647</td>\n",
              "      <td>O-694033</td>\n",
              "    </tr>\n",
              "  </tbody>\n",
              "</table>\n",
              "<p>18316 rows × 170 columns</p>\n",
              "</div>"
            ],
            "text/plain": [
              "              0         1         2  ...       167       168  T_CHASSIS\n",
              "0      0.235059  0.541450  0.548140  ... -0.024641 -2.097580   O-731397\n",
              "1     -1.109224  0.541450  0.548140  ... -0.024641 -2.097580   O-731397\n",
              "2      0.235059  0.093927  0.047304  ... -0.024641 -2.097580   O-731397\n",
              "3     -1.109224  0.093927  0.047304  ... -0.024641 -2.097580   O-731397\n",
              "4      0.235059 -0.032256 -0.123072  ... -0.024641 -2.097580   O-731397\n",
              "...         ...       ...       ...  ...       ...       ...        ...\n",
              "18311 -1.109224 -0.530060 -0.577838  ... -0.559136 -2.097580   O-845569\n",
              "18312  0.235059 -0.927496 -0.956018  ... -0.559136 -2.097580   O-845569\n",
              "18313  0.235059  1.165809  1.057187  ... -0.559136  0.845647   O-884023\n",
              "18314  0.235059  0.541450  0.548140  ...  0.838412  0.845647   O-684939\n",
              "18315  0.235059  0.541450  0.548140  ... -0.559136  0.845647   O-694033\n",
              "\n",
              "[18316 rows x 170 columns]"
            ]
          },
          "metadata": {
            "tags": []
          },
          "execution_count": 444
        }
      ]
    },
    {
      "cell_type": "code",
      "metadata": {
        "id": "vFxdBa0ljsTK",
        "colab_type": "code",
        "colab": {}
      },
      "source": [
        "# I can decide to save the embedds if I want to\n",
        "#data_embed.to_csv(\"drive/My Drive/Thesis/data/Embedding_Data/sorted_data_full_embeds.csv\", sep=',', index=False)\n"
      ],
      "execution_count": 0,
      "outputs": []
    },
    {
      "cell_type": "code",
      "metadata": {
        "id": "eVdUq_8ukDUz",
        "colab_type": "code",
        "colab": {}
      },
      "source": [
        "# Split embedding data based on Chassis information\n",
        "train_embed, test_embed = validationSplit(data_embed, split=0.2)\n",
        "# extract train and test data\n",
        "XTrain_embed = train_embed.iloc[:, :169].values\n",
        "XTest_embed = test_embed.iloc[:, :169].values"
      ],
      "execution_count": 0,
      "outputs": []
    },
    {
      "cell_type": "code",
      "metadata": {
        "id": "amQH2G8OiOTc",
        "colab_type": "code",
        "colab": {}
      },
      "source": [
        ""
      ],
      "execution_count": 0,
      "outputs": []
    },
    {
      "cell_type": "markdown",
      "metadata": {
        "id": "w5bEW3Z1lT8W",
        "colab_type": "text"
      },
      "source": [
        "### Building the AutoEncoder models"
      ]
    },
    {
      "cell_type": "code",
      "metadata": {
        "id": "Slwj--JDlbZ5",
        "colab_type": "code",
        "colab": {}
      },
      "source": [
        "### Creating the AutoEncoder Mode\n",
        "\n",
        "def create_model():\n",
        "  ####################################\n",
        "  # create the encoder model\n",
        "  input_encoder = Input(shape=(169,), name=\"encoder_input_layer\")\n",
        "  # create the first encoder layer\n",
        "  encoder_layer1 = Dense(units=85, activation='relu', name='encoder_layer1')(input_encoder)\n",
        "\n",
        "  encoder = Model(inputs=input_encoder, outputs=encoder_layer1, name='Encoder_Model')\n",
        "\n",
        "  # Create the Decoder model\n",
        "  input_decoder = Input(shape=(85,), name=\"Decoder_input_layer\")\n",
        "  # decoder 2nd decoder layer\n",
        "  decoder_layer1 = Dense(units=169, activation='relu', name='decoder_layer1')(encoder_layer1)\n",
        "\n",
        "  decoder = Model(inputs=input_decoder, outputs=decoder_layer1)\n",
        "\n",
        "  # create the AE model\n",
        "  autoendoer = Model(inputs=input_encoder, outputs=decoder_layer1, name=\"AutoEncoder_Model\")\n",
        "\n",
        "  # compile the AE model\n",
        "  autoendoer.compile(optimizer='adam', loss='mean_absolute_error', metrics=['mean_absolute_error'])\n",
        "  # the loss function needs to be questioned here. Possible Loss function to use here we will be \n",
        "  # binary cross_entropy with the goal of trying to predict the embeddings\n",
        "\n",
        "  # compile the model - for a classification problem\n",
        "  # model.compile(loss='binary_crossentropy', optimizer='adam')\n",
        "  return autoendoer\n",
        "\n",
        "def train_model(model, x_train, y_train, x_test, y_test, epochs, batch_size, early_stop_callback=None, tensorboard_callback=None):\n",
        "  # fitting the model\n",
        "  #model.fit(x=x_train, y=y_train, epochs=epochs, batch_size=batch_size, verbose=2, validation_data=(XTest, yTest), callbacks=[early_stop, tensorboard_callback])\n",
        "  model.fit(x=x_train, y=y_train, epochs=epochs, batch_size=batch_size, verbose=2, callbacks=[early_stop_callback, tensorboard_callback])\n",
        "  return model"
      ],
      "execution_count": 0,
      "outputs": []
    },
    {
      "cell_type": "code",
      "metadata": {
        "id": "tpt5aBpnLrx5",
        "colab_type": "code",
        "colab": {}
      },
      "source": [
        "from tensorflow.keras.layers import PReLU, ReLU, BatchNormalization, ELU\n",
        "from keras.initializers import Constant\n",
        "from keras import regularizers\n"
      ],
      "execution_count": 0,
      "outputs": []
    },
    {
      "cell_type": "code",
      "metadata": {
        "id": "9geqPJ8VS7g8",
        "colab_type": "code",
        "colab": {}
      },
      "source": [
        "### Good AE model\n",
        "# 169 --> 85 --> 169\n",
        "# Using PReLu activation. getting training accuracy of 91% and val accuracy of 89%"
      ],
      "execution_count": 0,
      "outputs": []
    },
    {
      "cell_type": "code",
      "metadata": {
        "id": "3o60Yl4gN7of",
        "colab_type": "code",
        "colab": {
          "base_uri": "https://localhost:8080/",
          "height": 54
        },
        "outputId": "bf71c968-4e1f-4311-d336-2ed9e70b922b"
      },
      "source": [
        "# create the encoder model\n",
        "'''\n",
        "input_encoder = Input(shape=(169,), name=\"encoder_input_layer\")\n",
        "# create the first encoder layer\n",
        "#encoder_layer1 = Dense(units=85, name='encoder_layer1', activity_regularizer=regularizers.l1(10e-5))(input_encoder)\n",
        "encoder_layer1 = Dense(units=11, name='encoder_layer1', )(input_encoder)\n",
        "\n",
        "layer_1 = PReLU(alpha_initializer=Constant(value=0.3))(encoder_layer1)\n",
        "#layer_1 = ELU()(encoder_layer1)\n",
        "\n",
        "encoder = Model(inputs=input_encoder, outputs=layer_1, name='Encoder_Model')\n",
        "\n",
        "# Create the Decoder model\n",
        "input_decoder = Input(shape=(2,), name=\"Decoder_input_layer\")\n",
        "# decoder 2nd decoder layer\n",
        "decoder_layer1 = Dense(units=169, name='decoder_layer1')(layer_1)\n",
        "layer_2 = PReLU(alpha_initializer=Constant(value=0.3))(decoder_layer1)\n",
        "#layer_2 = ELU()(decoder_layer1)\n",
        "\n",
        "#decoder = Model(inputs=input_decoder, outputs=decoder_layer1)\n",
        "\n",
        "# create the AE model\n",
        "autoencoder = Model(inputs=input_encoder, outputs=layer_2, name=\"AutoEncoder_Model\")\n",
        "\n",
        "# compile the AE model\n",
        "autoencoder.compile(optimizer='adam', loss='mse', metrics=['accuracy', 'mse'])\n",
        "'''"
      ],
      "execution_count": 449,
      "outputs": [
        {
          "output_type": "execute_result",
          "data": {
            "text/plain": [
              "'\\ninput_encoder = Input(shape=(169,), name=\"encoder_input_layer\")\\n# create the first encoder layer\\n#encoder_layer1 = Dense(units=85, name=\\'encoder_layer1\\', activity_regularizer=regularizers.l1(10e-5))(input_encoder)\\nencoder_layer1 = Dense(units=11, name=\\'encoder_layer1\\', )(input_encoder)\\n\\nlayer_1 = PReLU(alpha_initializer=Constant(value=0.3))(encoder_layer1)\\n#layer_1 = ELU()(encoder_layer1)\\n\\nencoder = Model(inputs=input_encoder, outputs=layer_1, name=\\'Encoder_Model\\')\\n\\n# Create the Decoder model\\ninput_decoder = Input(shape=(2,), name=\"Decoder_input_layer\")\\n# decoder 2nd decoder layer\\ndecoder_layer1 = Dense(units=169, name=\\'decoder_layer1\\')(layer_1)\\nlayer_2 = PReLU(alpha_initializer=Constant(value=0.3))(decoder_layer1)\\n#layer_2 = ELU()(decoder_layer1)\\n\\n#decoder = Model(inputs=input_decoder, outputs=decoder_layer1)\\n\\n# create the AE model\\nautoencoder = Model(inputs=input_encoder, outputs=layer_2, name=\"AutoEncoder_Model\")\\n\\n# compile the AE model\\nautoencoder.compile(optimizer=\\'adam\\', loss=\\'mse\\', metrics=[\\'accuracy\\', \\'mse\\'])\\n'"
            ]
          },
          "metadata": {
            "tags": []
          },
          "execution_count": 449
        }
      ]
    },
    {
      "cell_type": "code",
      "metadata": {
        "id": "XyOZtGWUruXY",
        "colab_type": "code",
        "colab": {}
      },
      "source": [
        "input_encoder = Input(shape=(169,), name=\"encoder_input_layer\")\n",
        "# create the first encoder layer\n",
        "#encoder_layer1 = Dense(units=85, name='encoder_layer1', activity_regularizer=regularizers.l1(10e-5))(input_encoder)\n",
        "encoder_layer1 = Dense(units=22, name='encoder_layer1', )(input_encoder)\n",
        "\n",
        "layer_1 = PReLU(alpha_initializer=Constant(value=0.3), name='enc_layer1_PReLU_Activation')(encoder_layer1)\n",
        "#layer_1 = ELU()(encoder_layer1)\n",
        "\n",
        "encoder_model = Model(inputs=input_encoder, outputs=layer_1, name='Encoder_Model')\n",
        "\n",
        "# Create the Decoder model\n",
        "input_decoder = Input(shape=(43,), name=\"Decoder_input_layer\")\n",
        "# decoder 2nd decoder layer\n",
        "decoder_layer1 = Dense(units=169, name='decoder_layer1')(layer_1)\n",
        "layer_2 = PReLU(alpha_initializer=Constant(value=0.3), name='dec_layer1_PReLU_Activation')(decoder_layer1)\n",
        "#layer_2 = ELU()(decoder_layer1)\n",
        "\n",
        "#decoder = Model(inputs=input_decoder, outputs=decoder_layer1)\n",
        "\n",
        "# create the AE model\n",
        "autoencoder = Model(inputs=input_encoder, outputs=layer_2, name=\"AutoEncoder_Model\")\n",
        "\n",
        "# compile the AE model\n",
        "autoencoder.compile(optimizer='adam', loss='mse', metrics=['accuracy', 'mse'])"
      ],
      "execution_count": 0,
      "outputs": []
    },
    {
      "cell_type": "code",
      "metadata": {
        "id": "C9cUYsWYsS0h",
        "colab_type": "code",
        "colab": {
          "base_uri": "https://localhost:8080/",
          "height": 329
        },
        "outputId": "efe0e079-c8e9-41d4-c4b7-2baec1f7de51"
      },
      "source": [
        "autoencoder.summary()"
      ],
      "execution_count": 486,
      "outputs": [
        {
          "output_type": "stream",
          "text": [
            "Model: \"AutoEncoder_Model\"\n",
            "_________________________________________________________________\n",
            "Layer (type)                 Output Shape              Param #   \n",
            "=================================================================\n",
            "encoder_input_layer (InputLa [(None, 169)]             0         \n",
            "_________________________________________________________________\n",
            "encoder_layer1 (Dense)       (None, 22)                3740      \n",
            "_________________________________________________________________\n",
            "enc_layer1_PReLU_Activation  (None, 22)                22        \n",
            "_________________________________________________________________\n",
            "decoder_layer1 (Dense)       (None, 169)               3887      \n",
            "_________________________________________________________________\n",
            "dec_layer1_PReLU_Activation  (None, 169)               169       \n",
            "=================================================================\n",
            "Total params: 7,818\n",
            "Trainable params: 7,818\n",
            "Non-trainable params: 0\n",
            "_________________________________________________________________\n"
          ],
          "name": "stdout"
        }
      ]
    },
    {
      "cell_type": "code",
      "metadata": {
        "id": "G3IuzeKXvfVz",
        "colab_type": "code",
        "colab": {}
      },
      "source": [
        "#plot_model(model=autoencoder, to_file='drive/My Drive/Thesis/data/Embedding_Data/ae_model_image.png', show_shapes=True, dpi=300)"
      ],
      "execution_count": 0,
      "outputs": []
    },
    {
      "cell_type": "code",
      "metadata": {
        "id": "pTOAM7OnIZjE",
        "colab_type": "code",
        "colab": {}
      },
      "source": [
        "early_stop = EarlyStopping(monitor='val_accuracy', mode='max', verbose=1, patience=3)"
      ],
      "execution_count": 0,
      "outputs": []
    },
    {
      "cell_type": "code",
      "metadata": {
        "id": "_8xLwQ61t7eG",
        "colab_type": "code",
        "outputId": "abb2aeaf-d25e-41fe-a256-9f658dd27c24",
        "colab": {
          "base_uri": "https://localhost:8080/",
          "height": 1000
        }
      },
      "source": [
        "autoencoder.fit(XTrain_embed, XTrain_embed, batch_size=128, epochs=100, validation_data=(XTest_embed, XTest_embed), workers=-1, callbacks=[early_stop])"
      ],
      "execution_count": 489,
      "outputs": [
        {
          "output_type": "stream",
          "text": [
            "Epoch 1/100\n",
            "117/117 [==============================] - 1s 5ms/step - loss: 0.7765 - accuracy: 0.3397 - mse: 0.7798 - val_loss: 0.5299 - val_accuracy: 0.5772 - val_mse: 0.5196\n",
            "Epoch 2/100\n",
            "117/117 [==============================] - 1s 4ms/step - loss: 0.3642 - accuracy: 0.6696 - mse: 0.3659 - val_loss: 0.3235 - val_accuracy: 0.6788 - val_mse: 0.3171\n",
            "Epoch 3/100\n",
            "117/117 [==============================] - 1s 4ms/step - loss: 0.2136 - accuracy: 0.7393 - mse: 0.2145 - val_loss: 0.2270 - val_accuracy: 0.6874 - val_mse: 0.2225\n",
            "Epoch 4/100\n",
            "117/117 [==============================] - 0s 4ms/step - loss: 0.1481 - accuracy: 0.7651 - mse: 0.1483 - val_loss: 0.1796 - val_accuracy: 0.7091 - val_mse: 0.1767\n",
            "Epoch 5/100\n",
            "117/117 [==============================] - 1s 4ms/step - loss: 0.1188 - accuracy: 0.7929 - mse: 0.1182 - val_loss: 0.1570 - val_accuracy: 0.7452 - val_mse: 0.1554\n",
            "Epoch 6/100\n",
            "117/117 [==============================] - 0s 4ms/step - loss: 0.1031 - accuracy: 0.8213 - mse: 0.1029 - val_loss: 0.1457 - val_accuracy: 0.7382 - val_mse: 0.1452\n",
            "Epoch 7/100\n",
            "117/117 [==============================] - 1s 4ms/step - loss: 0.0933 - accuracy: 0.8320 - mse: 0.0937 - val_loss: 0.1369 - val_accuracy: 0.7429 - val_mse: 0.1371\n",
            "Epoch 8/100\n",
            "117/117 [==============================] - 0s 4ms/step - loss: 0.0869 - accuracy: 0.8303 - mse: 0.0871 - val_loss: 0.1308 - val_accuracy: 0.7504 - val_mse: 0.1313\n",
            "Epoch 9/100\n",
            "117/117 [==============================] - 1s 4ms/step - loss: 0.0824 - accuracy: 0.8350 - mse: 0.0827 - val_loss: 0.1287 - val_accuracy: 0.7532 - val_mse: 0.1294\n",
            "Epoch 10/100\n",
            "117/117 [==============================] - 1s 4ms/step - loss: 0.0794 - accuracy: 0.8385 - mse: 0.0791 - val_loss: 0.1282 - val_accuracy: 0.7685 - val_mse: 0.1290\n",
            "Epoch 11/100\n",
            "117/117 [==============================] - 0s 4ms/step - loss: 0.0768 - accuracy: 0.8447 - mse: 0.0768 - val_loss: 0.1239 - val_accuracy: 0.7631 - val_mse: 0.1250\n",
            "Epoch 12/100\n",
            "117/117 [==============================] - 0s 4ms/step - loss: 0.0745 - accuracy: 0.8562 - mse: 0.0743 - val_loss: 0.1235 - val_accuracy: 0.7619 - val_mse: 0.1244\n",
            "Epoch 13/100\n",
            "117/117 [==============================] - 1s 4ms/step - loss: 0.0723 - accuracy: 0.8688 - mse: 0.0725 - val_loss: 0.1229 - val_accuracy: 0.7827 - val_mse: 0.1239\n",
            "Epoch 14/100\n",
            "117/117 [==============================] - 0s 4ms/step - loss: 0.0710 - accuracy: 0.8779 - mse: 0.0709 - val_loss: 0.1221 - val_accuracy: 0.7864 - val_mse: 0.1231\n",
            "Epoch 15/100\n",
            "117/117 [==============================] - 1s 4ms/step - loss: 0.0694 - accuracy: 0.8858 - mse: 0.0694 - val_loss: 0.1208 - val_accuracy: 0.7965 - val_mse: 0.1215\n",
            "Epoch 16/100\n",
            "117/117 [==============================] - 1s 4ms/step - loss: 0.0682 - accuracy: 0.8896 - mse: 0.0682 - val_loss: 0.1210 - val_accuracy: 0.8069 - val_mse: 0.1218\n",
            "Epoch 17/100\n",
            "117/117 [==============================] - 1s 4ms/step - loss: 0.0668 - accuracy: 0.8952 - mse: 0.0671 - val_loss: 0.1188 - val_accuracy: 0.8118 - val_mse: 0.1196\n",
            "Epoch 18/100\n",
            "117/117 [==============================] - 0s 4ms/step - loss: 0.0662 - accuracy: 0.9024 - mse: 0.0659 - val_loss: 0.1197 - val_accuracy: 0.8087 - val_mse: 0.1204\n",
            "Epoch 19/100\n",
            "117/117 [==============================] - 0s 4ms/step - loss: 0.0654 - accuracy: 0.9037 - mse: 0.0654 - val_loss: 0.1184 - val_accuracy: 0.8115 - val_mse: 0.1192\n",
            "Epoch 20/100\n",
            "117/117 [==============================] - 0s 4ms/step - loss: 0.0641 - accuracy: 0.9092 - mse: 0.0642 - val_loss: 0.1175 - val_accuracy: 0.8150 - val_mse: 0.1181\n",
            "Epoch 21/100\n",
            "117/117 [==============================] - 0s 4ms/step - loss: 0.0637 - accuracy: 0.9129 - mse: 0.0635 - val_loss: 0.1176 - val_accuracy: 0.8159 - val_mse: 0.1181\n",
            "Epoch 22/100\n",
            "117/117 [==============================] - 0s 4ms/step - loss: 0.0627 - accuracy: 0.9108 - mse: 0.0628 - val_loss: 0.1171 - val_accuracy: 0.8234 - val_mse: 0.1178\n",
            "Epoch 23/100\n",
            "117/117 [==============================] - 0s 4ms/step - loss: 0.0619 - accuracy: 0.9132 - mse: 0.0622 - val_loss: 0.1162 - val_accuracy: 0.8202 - val_mse: 0.1167\n",
            "Epoch 24/100\n",
            "117/117 [==============================] - 1s 4ms/step - loss: 0.0613 - accuracy: 0.9125 - mse: 0.0615 - val_loss: 0.1174 - val_accuracy: 0.8300 - val_mse: 0.1180\n",
            "Epoch 25/100\n",
            "117/117 [==============================] - 1s 4ms/step - loss: 0.0607 - accuracy: 0.9131 - mse: 0.0609 - val_loss: 0.1165 - val_accuracy: 0.8231 - val_mse: 0.1170\n",
            "Epoch 26/100\n",
            "117/117 [==============================] - 0s 4ms/step - loss: 0.0601 - accuracy: 0.9115 - mse: 0.0603 - val_loss: 0.1163 - val_accuracy: 0.8346 - val_mse: 0.1169\n",
            "Epoch 27/100\n",
            "117/117 [==============================] - 0s 4ms/step - loss: 0.0595 - accuracy: 0.9086 - mse: 0.0597 - val_loss: 0.1158 - val_accuracy: 0.8343 - val_mse: 0.1163\n",
            "Epoch 28/100\n",
            "117/117 [==============================] - 1s 4ms/step - loss: 0.0593 - accuracy: 0.9103 - mse: 0.0593 - val_loss: 0.1157 - val_accuracy: 0.8260 - val_mse: 0.1162\n",
            "Epoch 29/100\n",
            "117/117 [==============================] - 0s 4ms/step - loss: 0.0592 - accuracy: 0.9113 - mse: 0.0590 - val_loss: 0.1162 - val_accuracy: 0.8277 - val_mse: 0.1166\n",
            "Epoch 00029: early stopping\n"
          ],
          "name": "stdout"
        },
        {
          "output_type": "execute_result",
          "data": {
            "text/plain": [
              "<tensorflow.python.keras.callbacks.History at 0x7f1d3c054128>"
            ]
          },
          "metadata": {
            "tags": []
          },
          "execution_count": 489
        }
      ]
    },
    {
      "cell_type": "code",
      "metadata": {
        "id": "wrWoqS-gs4OG",
        "colab_type": "code",
        "colab": {
          "base_uri": "https://localhost:8080/",
          "height": 171
        },
        "outputId": "97435e28-6cc0-44f8-e078-9ece4ee6ac41"
      },
      "source": [
        "losses = pd.DataFrame(autoencoder.history.history)\n",
        "losses = losses[['loss', 'accuracy', 'val_loss', 'val_accuracy']]\n",
        "losses.tail(4)"
      ],
      "execution_count": 490,
      "outputs": [
        {
          "output_type": "execute_result",
          "data": {
            "text/html": [
              "<div>\n",
              "<style scoped>\n",
              "    .dataframe tbody tr th:only-of-type {\n",
              "        vertical-align: middle;\n",
              "    }\n",
              "\n",
              "    .dataframe tbody tr th {\n",
              "        vertical-align: top;\n",
              "    }\n",
              "\n",
              "    .dataframe thead th {\n",
              "        text-align: right;\n",
              "    }\n",
              "</style>\n",
              "<table border=\"1\" class=\"dataframe\">\n",
              "  <thead>\n",
              "    <tr style=\"text-align: right;\">\n",
              "      <th></th>\n",
              "      <th>loss</th>\n",
              "      <th>accuracy</th>\n",
              "      <th>val_loss</th>\n",
              "      <th>val_accuracy</th>\n",
              "    </tr>\n",
              "  </thead>\n",
              "  <tbody>\n",
              "    <tr>\n",
              "      <th>25</th>\n",
              "      <td>0.060148</td>\n",
              "      <td>0.911521</td>\n",
              "      <td>0.116333</td>\n",
              "      <td>0.834632</td>\n",
              "    </tr>\n",
              "    <tr>\n",
              "      <th>26</th>\n",
              "      <td>0.059474</td>\n",
              "      <td>0.908626</td>\n",
              "      <td>0.115848</td>\n",
              "      <td>0.834343</td>\n",
              "    </tr>\n",
              "    <tr>\n",
              "      <th>27</th>\n",
              "      <td>0.059345</td>\n",
              "      <td>0.910309</td>\n",
              "      <td>0.115659</td>\n",
              "      <td>0.825974</td>\n",
              "    </tr>\n",
              "    <tr>\n",
              "      <th>28</th>\n",
              "      <td>0.059203</td>\n",
              "      <td>0.911319</td>\n",
              "      <td>0.116207</td>\n",
              "      <td>0.827706</td>\n",
              "    </tr>\n",
              "  </tbody>\n",
              "</table>\n",
              "</div>"
            ],
            "text/plain": [
              "        loss  accuracy  val_loss  val_accuracy\n",
              "25  0.060148  0.911521  0.116333      0.834632\n",
              "26  0.059474  0.908626  0.115848      0.834343\n",
              "27  0.059345  0.910309  0.115659      0.825974\n",
              "28  0.059203  0.911319  0.116207      0.827706"
            ]
          },
          "metadata": {
            "tags": []
          },
          "execution_count": 490
        }
      ]
    },
    {
      "cell_type": "code",
      "metadata": {
        "id": "0hcwHsRHtzhm",
        "colab_type": "code",
        "colab": {
          "base_uri": "https://localhost:8080/",
          "height": 475
        },
        "outputId": "52580f35-ede3-4bf9-e4d4-ce0c347a4cbf"
      },
      "source": [
        "# plot the losses loss metrics\n",
        "losses[['loss', 'val_loss']].plot(figsize=(15,7))\n",
        "plt.xlabel('Epochs')\n",
        "plt.ylabel('MSE')\n",
        "plt.title('Training and Validation Loss - PReLU')\n",
        "plt.grid()\n",
        "plt.legend()"
      ],
      "execution_count": 491,
      "outputs": [
        {
          "output_type": "execute_result",
          "data": {
            "text/plain": [
              "<matplotlib.legend.Legend at 0x7f1cee340d30>"
            ]
          },
          "metadata": {
            "tags": []
          },
          "execution_count": 491
        },
        {
          "output_type": "display_data",
          "data": {
            "image/png": "[encoded data removed]",
            "text/plain": [
              "<Figure size 1080x504 with 1 Axes>"
            ]
          },
          "metadata": {
            "tags": [],
            "needs_background": "light"
          }
        }
      ]
    },
    {
      "cell_type": "code",
      "metadata": {
        "id": "W4p7I6m7xP_i",
        "colab_type": "code",
        "colab": {}
      },
      "source": [
        ""
      ],
      "execution_count": 0,
      "outputs": []
    },
    {
      "cell_type": "code",
      "metadata": {
        "id": "ItBi7yf1uLaA",
        "colab_type": "code",
        "colab": {
          "base_uri": "https://localhost:8080/",
          "height": 458
        },
        "outputId": "3e6d6429-9401-49d8-badb-2d6faf7bdf2b"
      },
      "source": [
        "# plot the accuracy metrics\n",
        "losses[['accuracy', 'val_accuracy']].plot(figsize=(15,7))\n",
        "plt.xlabel('Epochs')\n",
        "plt.ylabel('Accuracy')\n",
        "plt.title('Training and Validation Accuracy - PReLu')\n",
        "plt.legend()\n",
        "plt.grid()"
      ],
      "execution_count": 492,
      "outputs": [
        {
          "output_type": "display_data",
          "data": {
            "image/png": "[encoded data removed]",
            "text/plain": [
              "<Figure size 1080x504 with 1 Axes>"
            ]
          },
          "metadata": {
            "tags": [],
            "needs_background": "light"
          }
        }
      ]
    },
    {
      "cell_type": "code",
      "metadata": {
        "id": "S_XVdZmZsogj",
        "colab_type": "code",
        "colab": {}
      },
      "source": [
        "# also save the encoder model\n",
        "# encoder.save(\"drive/My Drive/Thesis/data/Embedding_Data/embedding_encoder.h5\")\n",
        "# load the encoder model\n",
        "encoder_model = load_model(\"drive/My Drive/Thesis/data/Embedding_Data/embedding_encoder.h5\")"
      ],
      "execution_count": 0,
      "outputs": []
    },
    {
      "cell_type": "code",
      "metadata": {
        "id": "XGz9h5lptc6d",
        "colab_type": "code",
        "colab": {}
      },
      "source": [
        "# Fetch the embeddings from the Encoder Model\n",
        "encoder_embed = encoder_model.predict(XTest_embed)"
      ],
      "execution_count": 0,
      "outputs": []
    },
    {
      "cell_type": "code",
      "metadata": {
        "id": "bpcFWB0LWziQ",
        "colab_type": "code",
        "colab": {}
      },
      "source": [
        "# remove old logs\n",
        "!rm -rf ./logs/ "
      ],
      "execution_count": 0,
      "outputs": []
    },
    {
      "cell_type": "markdown",
      "metadata": {
        "id": "2qTsN7a7Ozp1",
        "colab_type": "text"
      },
      "source": [
        "## Testing Embeddings\n",
        "Here we test our embeddings"
      ]
    },
    {
      "cell_type": "markdown",
      "metadata": {
        "id": "_v_VUyHq7lwT",
        "colab_type": "text"
      },
      "source": [
        "# View Embeddings"
      ]
    },
    {
      "cell_type": "code",
      "metadata": {
        "id": "7qzc12637p3w",
        "colab_type": "code",
        "colab": {}
      },
      "source": [
        "# import TSNE and PCA\n",
        "from sklearn.manifold import TSNE\n",
        "from sklearn.decomposition import PCA\n",
        "\n",
        "import matplotlib.pyplot as plt"
      ],
      "execution_count": 0,
      "outputs": []
    },
    {
      "cell_type": "code",
      "metadata": {
        "id": "VebPV__P8XDQ",
        "colab_type": "code",
        "colab": {}
      },
      "source": [
        "tsne = TSNE(n_components=2, n_iter=500, perplexity=50)\n",
        "reduced_tsne = tsne.fit_transform(encoder_embed)\n",
        "\n",
        "pca = PCA(n_components=2)\n",
        "pca_data = pca.fit_transform(encoder_embed)"
      ],
      "execution_count": 0,
      "outputs": []
    },
    {
      "cell_type": "code",
      "metadata": {
        "id": "74GFkcdlAfnW",
        "colab_type": "code",
        "colab": {
          "base_uri": "https://localhost:8080/",
          "height": 34
        },
        "outputId": "025d20dd-a63f-4991-d97a-397703044e2b"
      },
      "source": [
        "data_v.loc[900:1000, 'T_CHASSIS'].unique()"
      ],
      "execution_count": 498,
      "outputs": [
        {
          "output_type": "execute_result",
          "data": {
            "text/plain": [
              "array(['O-683838', 'O-760037', 'O-766182'], dtype=object)"
            ]
          },
          "metadata": {
            "tags": []
          },
          "execution_count": 498
        }
      ]
    },
    {
      "cell_type": "code",
      "metadata": {
        "id": "RSz51FgU9ak0",
        "colab_type": "code",
        "colab": {
          "base_uri": "https://localhost:8080/",
          "height": 34
        },
        "outputId": "12ed1234-d1c0-4015-9bd5-54adf832a91f"
      },
      "source": [
        "# label encoding for the chassis\n",
        "chassis_target = pd.factorize(test_embed.loc[:, 'T_CHASSIS'].values)[0]\n",
        "chassis_target.shape"
      ],
      "execution_count": 499,
      "outputs": [
        {
          "output_type": "execute_result",
          "data": {
            "text/plain": [
              "(3465,)"
            ]
          },
          "metadata": {
            "tags": []
          },
          "execution_count": 499
        }
      ]
    },
    {
      "cell_type": "code",
      "metadata": {
        "id": "M7yq54hBw0rx",
        "colab_type": "code",
        "colab": {}
      },
      "source": [
        "codes, uniques = pd.factorize(test_embed.loc[:, 'T_CHASSIS'].values)"
      ],
      "execution_count": 0,
      "outputs": []
    },
    {
      "cell_type": "code",
      "metadata": {
        "id": "6pCd0trsBctV",
        "colab_type": "code",
        "colab": {
          "base_uri": "https://localhost:8080/",
          "height": 34
        },
        "outputId": "8ceecd29-8e4e-47f0-ef28-aa6f36d635c2"
      },
      "source": [
        "x1 = encoder_embed[1013]\n",
        "x2 = encoder_embed[3000]\n",
        "\n",
        "\n",
        "# calculating the cosing similarity of two vectors in the orginal space\n",
        "a_dot = np.dot(x1, x2)\n",
        "similar = a_dot / (np.linalg.norm(x1) * np.linalg.norm(x2))\n",
        "similar\n"
      ],
      "execution_count": 501,
      "outputs": [
        {
          "output_type": "execute_result",
          "data": {
            "text/plain": [
              "0.52436244"
            ]
          },
          "metadata": {
            "tags": []
          },
          "execution_count": 501
        }
      ]
    },
    {
      "cell_type": "markdown",
      "metadata": {
        "id": "ilObnFbEHjXC",
        "colab_type": "text"
      },
      "source": [
        "0.7942, 0.6742973 (ElU), 0.4070125 (PReLU)"
      ]
    },
    {
      "cell_type": "code",
      "metadata": {
        "id": "9wldXNhluBdg",
        "colab_type": "code",
        "colab": {
          "base_uri": "https://localhost:8080/",
          "height": 34
        },
        "outputId": "91794a87-5791-4bde-faeb-fa6f05d949c3"
      },
      "source": [
        "x1 = XTest_embed[1013]\n",
        "x2 = XTest_embed[3000]\n",
        "\n",
        "\n",
        "# calculating the cosing similarity of two vectors in the orginal space\n",
        "a_dot = np.dot(x1, x2)\n",
        "similar = a_dot / (np.linalg.norm(x1) * np.linalg.norm(x2))\n",
        "similar\n"
      ],
      "execution_count": 502,
      "outputs": [
        {
          "output_type": "execute_result",
          "data": {
            "text/plain": [
              "0.034910414"
            ]
          },
          "metadata": {
            "tags": []
          },
          "execution_count": 502
        }
      ]
    },
    {
      "cell_type": "code",
      "metadata": {
        "id": "O3zW109Avutl",
        "colab_type": "code",
        "colab": {
          "base_uri": "https://localhost:8080/",
          "height": 34
        },
        "outputId": "00bf4e6b-f904-40f6-ab26-3b716c1a54c0"
      },
      "source": [
        "np.unique(chassis_target[900:1000])"
      ],
      "execution_count": 503,
      "outputs": [
        {
          "output_type": "execute_result",
          "data": {
            "text/plain": [
              "array([18, 19, 20])"
            ]
          },
          "metadata": {
            "tags": []
          },
          "execution_count": 503
        }
      ]
    },
    {
      "cell_type": "code",
      "metadata": {
        "id": "GSZbBQ3Gz0uF",
        "colab_type": "code",
        "colab": {
          "base_uri": "https://localhost:8080/",
          "height": 624
        },
        "outputId": "9a2af623-3223-4a78-a04a-7e33bd12c6d2"
      },
      "source": [
        "fig = plt.figure(figsize=(15,10))\n",
        "scatter = plt.scatter(reduced_tsne[900:1000,0], reduced_tsne[900:1000,1], c=chassis_target[900:1000], marker='.', label=np.unique(chassis_target[900:1000]))\n",
        "plt.title('Chassis - TSNE Embeddings Reduction')\n",
        "plt.legend(handles=scatter.legend_elements()[0], labels=list(np.unique(chassis_target[900:1000])))"
      ],
      "execution_count": 504,
      "outputs": [
        {
          "output_type": "execute_result",
          "data": {
            "text/plain": [
              "<matplotlib.legend.Legend at 0x7f1cfabf6668>"
            ]
          },
          "metadata": {
            "tags": []
          },
          "execution_count": 504
        },
        {
          "output_type": "display_data",
          "data": {
            "image/png": "[encoded data removed]",
            "text/plain": [
              "<Figure size 1080x720 with 1 Axes>"
            ]
          },
          "metadata": {
            "tags": [],
            "needs_background": "light"
          }
        }
      ]
    },
    {
      "cell_type": "code",
      "metadata": {
        "id": "_qdrpP4CEaxO",
        "colab_type": "code",
        "colab": {
          "base_uri": "https://localhost:8080/",
          "height": 624
        },
        "outputId": "1b24d5f3-4bff-4a77-b48a-f382c3cfe0a3"
      },
      "source": [
        "fig = plt.figure(figsize=(15,10))\n",
        "scatter = plt.scatter(pca_data[900:1000,0], pca_data[900:1000,1], c=chassis_target[900:1000], marker='.', label=np.unique(chassis_target[900:1000]))\n",
        "plt.title('Chassis - PCA Embeddings Reduction')\n",
        "plt.legend(handles=scatter.legend_elements()[0], labels=list(np.unique(chassis_target[900:1000])))"
      ],
      "execution_count": 505,
      "outputs": [
        {
          "output_type": "execute_result",
          "data": {
            "text/plain": [
              "<matplotlib.legend.Legend at 0x7f1d3c308470>"
            ]
          },
          "metadata": {
            "tags": []
          },
          "execution_count": 505
        },
        {
          "output_type": "display_data",
          "data": {
            "image/png": "[encoded data removed]",
            "text/plain": [
              "<Figure size 1080x720 with 1 Axes>"
            ]
          },
          "metadata": {
            "tags": [],
            "needs_background": "light"
          }
        }
      ]
    },
    {
      "cell_type": "code",
      "metadata": {
        "id": "3843W8vx7tY6",
        "colab_type": "code",
        "colab": {
          "base_uri": "https://localhost:8080/",
          "height": 461
        },
        "outputId": "bd365020-b3e3-4f97-ad95-4dc67ca5cea4"
      },
      "source": [
        "fig = plt.figure(figsize=(15,7))\n",
        "plt.scatter(reduced_tsne[:1000,0], reduced_tsne[:1000,1],c=chassis_target[:1000], marker='.')\n",
        "plt.title('Chassis - TSNE Embeddings ')"
      ],
      "execution_count": 506,
      "outputs": [
        {
          "output_type": "execute_result",
          "data": {
            "text/plain": [
              "Text(0.5, 1.0, 'Chassis - TSNE Embeddings ')"
            ]
          },
          "metadata": {
            "tags": []
          },
          "execution_count": 506
        },
        {
          "output_type": "display_data",
          "data": {
            "image/png": "[encoded data removed]",
            "text/plain": [
              "<Figure size 1080x504 with 1 Axes>"
            ]
          },
          "metadata": {
            "tags": [],
            "needs_background": "light"
          }
        }
      ]
    },
    {
      "cell_type": "code",
      "metadata": {
        "id": "tzParyfnEcam",
        "colab_type": "code",
        "colab": {
          "base_uri": "https://localhost:8080/",
          "height": 461
        },
        "outputId": "e5f0aeea-b71f-4ebc-ae20-60021bcadc6b"
      },
      "source": [
        "fig = plt.figure(figsize=(15,7))\n",
        "plt.scatter(pca_data[:1000,0], pca_data[:1000,1], c=chassis_target[:1000], marker='.')\n",
        "plt.title('Chassis - PCA Embeddings Reduction')"
      ],
      "execution_count": 507,
      "outputs": [
        {
          "output_type": "execute_result",
          "data": {
            "text/plain": [
              "Text(0.5, 1.0, 'Chassis - PCA Embeddings Reduction')"
            ]
          },
          "metadata": {
            "tags": []
          },
          "execution_count": 507
        },
        {
          "output_type": "display_data",
          "data": {
            "image/png": "[encoded data removed]",
            "text/plain": [
              "<Figure size 1080x504 with 1 Axes>"
            ]
          },
          "metadata": {
            "tags": [],
            "needs_background": "light"
          }
        }
      ]
    },
    {
      "cell_type": "code",
      "metadata": {
        "id": "sY_jCcXI_cuQ",
        "colab_type": "code",
        "colab": {}
      },
      "source": [
        ""
      ],
      "execution_count": 0,
      "outputs": []
    }
  ]
}