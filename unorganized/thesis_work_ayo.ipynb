{
  "nbformat": 4,
  "nbformat_minor": 0,
  "metadata": {
    "colab": {
      "name": "thesis_work_ayo.ipynb",
      "provenance": [],
      "collapsed_sections": [],
      "authorship_tag": "ABX9TyM1Wfp8/NzA9+W0RukTpkML"
    },
    "kernelspec": {
      "name": "python3",
      "display_name": "Python 3"
    }
  },
  "cells": [
    {
      "cell_type": "code",
      "metadata": {
        "id": "eMVJxmjCA4cS",
        "colab_type": "code",
        "outputId": "b1226b6c-c1db-47d5-e8e7-f6d3c90eea81",
        "colab": {
          "base_uri": "https://localhost:8080/",
          "height": 125
        }
      },
      "source": [
        "# this is needed for for accessing the google drive files\n",
        "from google.colab import drive\n",
        "drive.mount('/content/drive')"
      ],
      "execution_count": 0,
      "outputs": [
        {
          "output_type": "stream",
          "text": [
            "Go to this URL in a browser: https://accounts.google.com/o/oauth2/auth?client_id=947318989803-6bn6qk8qdgf4n4g3pfee6491hc0brc4i.apps.googleusercontent.com&redirect_uri=urn%3aietf%3awg%3aoauth%3a2.0%3aoob&response_type=code&scope=email%20https%3a%2f%2fwww.googleapis.com%2fauth%2fdocs.test%20https%3a%2f%2fwww.googleapis.com%2fauth%2fdrive%20https%3a%2f%2fwww.googleapis.com%2fauth%2fdrive.photos.readonly%20https%3a%2f%2fwww.googleapis.com%2fauth%2fpeopleapi.readonly\n",
            "\n",
            "Enter your authorization code:\n",
            "··········\n",
            "Mounted at /content/drive\n"
          ],
          "name": "stdout"
        }
      ]
    },
    {
      "cell_type": "code",
      "metadata": {
        "id": "1sKsjEr_BloS",
        "colab_type": "code",
        "colab": {}
      },
      "source": [
        "import pandas as pd\n",
        "import numpy as np"
      ],
      "execution_count": 0,
      "outputs": []
    },
    {
      "cell_type": "markdown",
      "metadata": {
        "id": "wvbpEWqxBWNJ",
        "colab_type": "text"
      },
      "source": [
        "## Data Engineering"
      ]
    },
    {
      "cell_type": "code",
      "metadata": {
        "id": "EX-JRzUlFSt2",
        "colab_type": "code",
        "colab": {}
      },
      "source": [
        "# Loading the Thesis data"
      ],
      "execution_count": 0,
      "outputs": []
    },
    {
      "cell_type": "code",
      "metadata": {
        "id": "HF3nNj15BTAO",
        "colab_type": "code",
        "colab": {}
      },
      "source": [
        "data_repairs = pd.read_csv(\"drive/My Drive/Colab Notebooks/Thesis/data/PAC_REPAIRS_TRB_20190625_anonymized.csv\", low_memory=True)\n",
        "data1 = pd.read_csv(\"drive/My Drive/Colab Notebooks/Thesis/data/LVD_DL20190610_0_anonymized.csv\", sep=';', low_memory=False)\n",
        "data2 = pd.read_csv(\"drive/My Drive/Colab Notebooks/Thesis/data/LVD_DL20190610_1_anonymized.csv\", sep=';', low_memory=False)\n",
        "data3 = pd.read_csv(\"drive/My Drive/Colab Notebooks/Thesis/data/LVD_DL20190610_2_anonymized.csv\", sep=';', low_memory=False)\n",
        "data4 = pd.read_csv(\"drive/My Drive/Colab Notebooks/Thesis/data/LVD_DL20190610_3_anonymized.csv\", sep=';', low_memory=False)\n",
        "\n"
      ],
      "execution_count": 0,
      "outputs": []
    },
    {
      "cell_type": "code",
      "metadata": {
        "id": "o4mKw0RoCKPG",
        "colab_type": "code",
        "colab": {}
      },
      "source": [
        "data_repairs.head(4)"
      ],
      "execution_count": 0,
      "outputs": []
    },
    {
      "cell_type": "code",
      "metadata": {
        "id": "fY9VU2CwFPUq",
        "colab_type": "code",
        "colab": {
          "base_uri": "https://localhost:8080/",
          "height": 35
        },
        "outputId": "7a70871c-4021-485f-86a3-d3f141ed55b6"
      },
      "source": [
        "print (\"All data size - \", data1.shape, data2.shape, data3.shape, data4.shape)"
      ],
      "execution_count": 17,
      "outputs": [
        {
          "output_type": "stream",
          "text": [
            "All data size -  (100000, 447) (100000, 447) (100000, 447) (36677, 447)\n"
          ],
          "name": "stdout"
        }
      ]
    },
    {
      "cell_type": "code",
      "metadata": {
        "id": "bSxvYTtpHaAM",
        "colab_type": "code",
        "colab": {
          "base_uri": "https://localhost:8080/",
          "height": 35
        },
        "outputId": "ee093d2d-ec25-414a-dc82-63a2361c06b2"
      },
      "source": [
        "# fusing all the data together\n",
        "raw_data = pd.concat([data1, data2, data3, data4])\n",
        "raw_data.shape"
      ],
      "execution_count": 22,
      "outputs": [
        {
          "output_type": "execute_result",
          "data": {
            "text/plain": [
              "(336677, 447)"
            ]
          },
          "metadata": {
            "tags": []
          },
          "execution_count": 22
        }
      ]
    },
    {
      "cell_type": "markdown",
      "metadata": {
        "id": "KkkpXGdgKyeX",
        "colab_type": "text"
      },
      "source": [
        "the new data contains a total (336677 by 477)"
      ]
    },
    {
      "cell_type": "code",
      "metadata": {
        "id": "ix4DFcEUKLqp",
        "colab_type": "code",
        "colab": {
          "base_uri": "https://localhost:8080/",
          "height": 140
        },
        "outputId": "b03d7114-4a4c-4b2a-e26e-acfaf18dfebd"
      },
      "source": [
        "print (raw_data.head(4))"
      ],
      "execution_count": 23,
      "outputs": [
        {
          "output_type": "stream",
          "text": [
            "  BIWEEK_SEND_DATE T_CHASSIS  ...  VFE_0008_HAS_PTO           LAST_RUN.1\n",
            "0       2018-10-01  O-689666  ...                 1  2019-05-14 10:32:00\n",
            "1       2019-02-01  N-809250  ...                 1  2019-05-14 10:32:00\n",
            "2       2017-04-15  N-756592  ...                 0  2019-05-14 10:32:00\n",
            "3       2018-07-01  O-693195  ...                 0  2019-05-14 10:32:00\n",
            "\n",
            "[4 rows x 447 columns]\n"
          ],
          "name": "stdout"
        }
      ]
    }
  ]
}