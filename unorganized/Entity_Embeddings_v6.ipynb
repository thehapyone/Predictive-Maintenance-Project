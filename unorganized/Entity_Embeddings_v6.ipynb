{
  "nbformat": 4,
  "nbformat_minor": 0,
  "metadata": {
    "colab": {
      "name": "Entity Embeddings_v6.ipynb",
      "provenance": [],
      "collapsed_sections": [],
      "machine_shape": "hm",
      "mount_file_id": "1dNbjhBsFetQAx_cu72cb-256k1TR8XEl",
      "authorship_tag": "ABX9TyNowgU8Zu+yrUhiXiHyA25Q",
      "include_colab_link": true
    },
    "kernelspec": {
      "name": "python3",
      "display_name": "Python 3"
    }
  },
  "cells": [
    {
      "cell_type": "markdown",
      "metadata": {
        "id": "view-in-github",
        "colab_type": "text"
      },
      "source": [
        "<a href=\"https://colab.research.google.com/github/thehapyone/Thesis_Project/blob/master/Entity_Embeddings_v6.ipynb\" target=\"_parent\"><img src=\"https://colab.research.google.com/assets/colab-badge.svg\" alt=\"Open In Colab\"/></a>"
      ]
    },
    {
      "cell_type": "markdown",
      "metadata": {
        "id": "UBH4RjYX1OGw",
        "colab_type": "text"
      },
      "source": [
        "# Learned Embeddings\n",
        "This program will attempt to create embeddings for the categorical features using the pipelines code developed."
      ]
    },
    {
      "cell_type": "code",
      "metadata": {
        "id": "R7mCtb7J1TX8",
        "colab_type": "code",
        "outputId": "e0398bcd-8a0c-4cd1-ba18-d7808dd5cb73",
        "colab": {
          "base_uri": "https://localhost:8080/",
          "height": 34
        }
      },
      "source": [
        "from google.colab import drive\n",
        "drive.mount('/content/drive', force_remount=False)"
      ],
      "execution_count": 95,
      "outputs": [
        {
          "output_type": "stream",
          "text": [
            "Drive already mounted at /content/drive; to attempt to forcibly remount, call drive.mount(\"/content/drive\", force_remount=True).\n"
          ],
          "name": "stdout"
        }
      ]
    },
    {
      "cell_type": "code",
      "metadata": {
        "id": "kc1JPb4v074V",
        "colab_type": "code",
        "colab": {}
      },
      "source": [
        "import pandas as pd\n",
        "import numpy as np\n",
        "import seaborn as sns\n",
        "import matplotlib.pyplot as plt\n",
        "import copy as copy"
      ],
      "execution_count": 0,
      "outputs": []
    },
    {
      "cell_type": "code",
      "metadata": {
        "id": "BRGnXWAW-rXj",
        "colab_type": "code",
        "colab": {}
      },
      "source": [
        "import sys\n",
        "sys.path.append('drive/My Drive/Thesis/Collab Notebooks/')"
      ],
      "execution_count": 0,
      "outputs": []
    },
    {
      "cell_type": "code",
      "metadata": {
        "id": "mVU9EuJE-O1U",
        "colab_type": "code",
        "colab": {}
      },
      "source": [
        "#%run drive/\"My Drive\"/Thesis/\"Collab Notebooks\"/category_pipeline.ipynb\n",
        "#%load"
      ],
      "execution_count": 0,
      "outputs": []
    },
    {
      "cell_type": "code",
      "metadata": {
        "id": "OjSOi7PZ1VFx",
        "colab_type": "code",
        "colab": {}
      },
      "source": [
        "# using the latest updated file\n",
        "data = pd.read_csv(\"drive/My Drive/Thesis/data/Data_Engineering/Edited_Raw_Data/v3_Sorted_Raw_Db_with_RUL.csv\", sep=',', low_memory=False)\n",
        "#data = pd.read_csv(\"drive/My Drive/Thesis/data/Feature_Engineering/KNN_Imputed_Datasets/KNN_Imputed_k_40.csv\", sep=',', low_memory=False)\n",
        "#data = pd.read_csv(\"drive/My Drive/Thesis/data/Data_Engineering/Edited_Raw_Data/v2_Sorted_Database.csv\", sep=',', low_memory=False)"
      ],
      "execution_count": 0,
      "outputs": []
    },
    {
      "cell_type": "code",
      "metadata": {
        "id": "Bu3oJqxA1520",
        "colab_type": "code",
        "outputId": "93a1d94f-040e-42e7-fae5-b4b2fd5701da",
        "colab": {
          "base_uri": "https://localhost:8080/",
          "height": 34
        }
      },
      "source": [
        "data.shape"
      ],
      "execution_count": 100,
      "outputs": [
        {
          "output_type": "execute_result",
          "data": {
            "text/plain": [
              "(19954, 449)"
            ]
          },
          "metadata": {
            "tags": []
          },
          "execution_count": 100
        }
      ]
    },
    {
      "cell_type": "markdown",
      "metadata": {
        "id": "QP0LunVOA0up",
        "colab_type": "text"
      },
      "source": [
        "## Pipeline Extraction"
      ]
    },
    {
      "cell_type": "code",
      "metadata": {
        "id": "A9yR1sOn3G2v",
        "colab_type": "code",
        "colab": {}
      },
      "source": [
        "# Applying the Extraction pipeline\n",
        "# first stage of the pipeline\n",
        "from extraction_pipeline import *\n",
        "from category_pipeline import *"
      ],
      "execution_count": 0,
      "outputs": []
    },
    {
      "cell_type": "code",
      "metadata": {
        "id": "BQdzgdMKByPm",
        "colab_type": "code",
        "colab": {}
      },
      "source": [
        "# create a backup\n",
        "original_data = copy.copy(data)\n"
      ],
      "execution_count": 0,
      "outputs": []
    },
    {
      "cell_type": "code",
      "metadata": {
        "id": "1OslT0fhAvY7",
        "colab_type": "code",
        "outputId": "07ca4b54-ce4b-4fab-a93e-f9d3fe939dac",
        "colab": {
          "base_uri": "https://localhost:8080/",
          "height": 54
        }
      },
      "source": [
        "'''\n",
        "# remove duplicates\n",
        "#data = removeDuplicates(data, debug=True)\n",
        "data = data.drop(labels=['DELIVERY_DATE.1'], axis=1)\n",
        "print ('After duplicates removal - ',data.shape)\n",
        "\n",
        "# the only duplicate column discovered was - ['DELIVERY_DATE.1']\n",
        "print ('After duplicates removal - ',data.shape)\n",
        "# Remove zero variance\n",
        "data = removeZeroVariance(data, debug=True)\n",
        "print ('After Zero Variance removal - ',data.shape)\n",
        "\n",
        "# drop redundant features\n",
        "data = dropRedundantFeatures(data)\n",
        "print ('After Redundant Drop removal - ',data.shape)\n",
        "\n",
        "cols_left = data.columns\n",
        "'''"
      ],
      "execution_count": 103,
      "outputs": [
        {
          "output_type": "execute_result",
          "data": {
            "text/plain": [
              "\"\\n# remove duplicates\\n#data = removeDuplicates(data, debug=True)\\ndata = data.drop(labels=['DELIVERY_DATE.1'], axis=1)\\nprint ('After duplicates removal - ',data.shape)\\n\\n# the only duplicate column discovered was - ['DELIVERY_DATE.1']\\nprint ('After duplicates removal - ',data.shape)\\n# Remove zero variance\\ndata = removeZeroVariance(data, debug=True)\\nprint ('After Zero Variance removal - ',data.shape)\\n\\n# drop redundant features\\ndata = dropRedundantFeatures(data)\\nprint ('After Redundant Drop removal - ',data.shape)\\n\\ncols_left = data.columns\\n\""
            ]
          },
          "metadata": {
            "tags": []
          },
          "execution_count": 103
        }
      ]
    },
    {
      "cell_type": "code",
      "metadata": {
        "id": "yEc9TSQTatHZ",
        "colab_type": "code",
        "colab": {}
      },
      "source": [
        ""
      ],
      "execution_count": 0,
      "outputs": []
    },
    {
      "cell_type": "code",
      "metadata": {
        "id": "9VO1pnQzS3Y6",
        "colab_type": "code",
        "outputId": "33b1755a-3e8e-4de7-cb06-22cbb579cafc",
        "colab": {
          "base_uri": "https://localhost:8080/",
          "height": 34
        }
      },
      "source": [
        "# date extractor\n",
        "data = dateInfoExtractor(raw_data=data, debug=False)\n",
        "print ('After date extractor - ',data.shape)"
      ],
      "execution_count": 104,
      "outputs": [
        {
          "output_type": "stream",
          "text": [
            "After date extractor -  (19954, 451)\n"
          ],
          "name": "stdout"
        }
      ]
    },
    {
      "cell_type": "code",
      "metadata": {
        "id": "omgICBK5CRHm",
        "colab_type": "code",
        "outputId": "6631455c-3e91-4529-fe58-19f46071999e",
        "colab": {
          "base_uri": "https://localhost:8080/",
          "height": 459
        }
      },
      "source": [
        "# missing values analysis\n",
        "#\n",
        "print (\"missing values rate before: \", 100 * (data.isnull().sum().sort_values(ascending=False) / data.shape[0]) )\n",
        "data = fillMissingValues(data)\n",
        "print (\"missing values rate after: \", 100 * (data.isnull().sum().sort_values(ascending=False) / data.shape[0]) )\n"
      ],
      "execution_count": 105,
      "outputs": [
        {
          "output_type": "stream",
          "text": [
            "missing values rate before:  LX_PSC_P1FUO_NUMBER_OF_STARTER_ACTIVATION_D    15.590859\n",
            "LX_PSC_P1FUN_NUMBER_OF_ENGINE_STARTS_DURING    14.628646\n",
            "LX_PSC_P1MNF_COMPRESSOR_LOAD_PHASE_COUNTER      7.933246\n",
            "LX_PSC_P1ASH_COOLANT_PUMP_NUMBER_OF_ACTIVAT     4.951388\n",
            "LX_PSC_P1ASI_COOLANT_PUMP_ACTIVATION_TIME       4.951388\n",
            "                                                 ...    \n",
            "VFE_0006_VEHICLE_OPERATION_DIGIT2               0.000000\n",
            "VFE_0005_VEHICLE_OPERATION_DIGIT1               0.000000\n",
            "LX_PSC_P1BBY_TOTAL_FUEL_CONSUMPTION             0.000000\n",
            "SLX_TOTAL_VEHICLE_DISTANCE_RULE_BASED           0.000000\n",
            "DAY                                             0.000000\n",
            "Length: 451, dtype: float64\n"
          ],
          "name": "stdout"
        },
        {
          "output_type": "stream",
          "text": [
            "/usr/local/lib/python3.6/dist-packages/sklearn/impute/_iterative.py:638: ConvergenceWarning: [IterativeImputer] Early stopping criterion not reached.\n",
            "  \" reached.\", ConvergenceWarning)\n"
          ],
          "name": "stderr"
        },
        {
          "output_type": "stream",
          "text": [
            "missing values rate after:  LX_PSC_P1MNF_COMPRESSOR_LOAD_PHASE_COUNTER     7.933246\n",
            "LX_PSC_P1ASI_COOLANT_PUMP_ACTIVATION_TIME      4.951388\n",
            "LX_PSC_P1ASH_COOLANT_PUMP_NUMBER_OF_ACTIVAT    4.951388\n",
            "LX_PSC_P1I80_TOP_VALUE_OF_ENGINE_SPEED_IN_O    4.946377\n",
            "X_PSC_P1ATS_OIL_DEGRADATION_LAST_OLC_HOURS     4.715846\n",
            "                                                 ...   \n",
            "SLX_TOTAL_VEHICLE_DISTANCE_RULE_BASED          0.000000\n",
            "SLX_PSC_P1IPV_INJECTED_UREA_TOTAL_MASS         0.000000\n",
            "SLX_PSC_P1BBY_TOTAL_FUEL_CONSUMPTION           0.000000\n",
            "SLX_PSC_P1BB0_TOTAL_ENGINE_TIME                0.000000\n",
            "DAY                                            0.000000\n",
            "Length: 451, dtype: float64\n"
          ],
          "name": "stdout"
        }
      ]
    },
    {
      "cell_type": "markdown",
      "metadata": {
        "id": "d14TT33eD3Qb",
        "colab_type": "text"
      },
      "source": [
        "## Category Pipeline\n"
      ]
    },
    {
      "cell_type": "code",
      "metadata": {
        "id": "EsHVm38hD5V_",
        "colab_type": "code",
        "outputId": "cc7e64d7-81c3-4e74-bfb2-9e1375ff0992",
        "colab": {
          "base_uri": "https://localhost:8080/",
          "height": 170
        }
      },
      "source": [
        "# Date transformation\n",
        "data = extraTrasfromToCategory(data, debug=True)\n",
        "\n",
        "'''\n",
        "# Zero Variance removal\n",
        "data = removeZeroCategory(data)\n",
        "print ('After all removal pipeline - ',data.shape)\n",
        "'''"
      ],
      "execution_count": 106,
      "outputs": [
        {
          "output_type": "stream",
          "text": [
            "Dtypes are: \n",
            "DAY                                  object\n",
            "MONTH                                object\n",
            "YEAR                                 object\n",
            "VFE_0005_VEHICLE_OPERATION_DIGIT1    object\n",
            "VFE_0006_VEHICLE_OPERATION_DIGIT2    object\n",
            "VFE_0008_HAS_PTO                     object\n",
            "dtype: object\n"
          ],
          "name": "stdout"
        },
        {
          "output_type": "execute_result",
          "data": {
            "text/plain": [
              "\"\\n# Zero Variance removal\\ndata = removeZeroCategory(data)\\nprint ('After all removal pipeline - ',data.shape)\\n\""
            ]
          },
          "metadata": {
            "tags": []
          },
          "execution_count": 106
        }
      ]
    },
    {
      "cell_type": "code",
      "metadata": {
        "id": "uF2B3mwOqYOD",
        "colab_type": "code",
        "outputId": "00ddde51-21ec-4c7c-aa48-015503d4db39",
        "colab": {
          "base_uri": "https://localhost:8080/",
          "height": 419
        }
      },
      "source": [
        "'''# First time \n",
        "# find all categorical features.\n",
        "data_cat = data.select_dtypes(include='object')\n",
        "cat_features_df = embeddingSizeExtract(data_categorical=data_cat)\n",
        "cat_features_df\n",
        "\n",
        "# save this embedding dataframe information to a csv file\n",
        "cat_features_df.to_csv(\"drive/My Drive/Thesis/data/Embedding_Data/cat_embedding_details.csv\", sep=',', index=False)\n",
        "'''\n",
        "# load this information from the save csv file\n",
        "cat_features_df = pd.read_csv(\"drive/My Drive/Thesis/data/Embedding_Data/cat_embedding_details.csv\", sep=',', low_memory=False)\n",
        "cat_features_df"
      ],
      "execution_count": 107,
      "outputs": [
        {
          "output_type": "execute_result",
          "data": {
            "text/html": [
              "<div>\n",
              "<style scoped>\n",
              "    .dataframe tbody tr th:only-of-type {\n",
              "        vertical-align: middle;\n",
              "    }\n",
              "\n",
              "    .dataframe tbody tr th {\n",
              "        vertical-align: top;\n",
              "    }\n",
              "\n",
              "    .dataframe thead th {\n",
              "        text-align: right;\n",
              "    }\n",
              "</style>\n",
              "<table border=\"1\" class=\"dataframe\">\n",
              "  <thead>\n",
              "    <tr style=\"text-align: right;\">\n",
              "      <th></th>\n",
              "      <th>Feature</th>\n",
              "      <th>Cardinality</th>\n",
              "      <th>Embedding_Size</th>\n",
              "    </tr>\n",
              "  </thead>\n",
              "  <tbody>\n",
              "    <tr>\n",
              "      <th>0</th>\n",
              "      <td>DAY</td>\n",
              "      <td>2</td>\n",
              "      <td>1</td>\n",
              "    </tr>\n",
              "    <tr>\n",
              "      <th>1</th>\n",
              "      <td>MONTH</td>\n",
              "      <td>12</td>\n",
              "      <td>6</td>\n",
              "    </tr>\n",
              "    <tr>\n",
              "      <th>2</th>\n",
              "      <td>YEAR</td>\n",
              "      <td>4</td>\n",
              "      <td>2</td>\n",
              "    </tr>\n",
              "    <tr>\n",
              "      <th>3</th>\n",
              "      <td>VAR_7MA_FRONT_AXLE_TYPE</td>\n",
              "      <td>2</td>\n",
              "      <td>1</td>\n",
              "    </tr>\n",
              "    <tr>\n",
              "      <th>4</th>\n",
              "      <td>VAR_DPX_ENGINE_TYPE</td>\n",
              "      <td>3</td>\n",
              "      <td>2</td>\n",
              "    </tr>\n",
              "    <tr>\n",
              "      <th>...</th>\n",
              "      <td>...</td>\n",
              "      <td>...</td>\n",
              "      <td>...</td>\n",
              "    </tr>\n",
              "    <tr>\n",
              "      <th>69</th>\n",
              "      <td>VFE_0009_LTVF_TYPE</td>\n",
              "      <td>6</td>\n",
              "      <td>3</td>\n",
              "    </tr>\n",
              "    <tr>\n",
              "      <th>70</th>\n",
              "      <td>VFE_0005_VEHICLE_OPERATION_DIGIT1</td>\n",
              "      <td>5</td>\n",
              "      <td>3</td>\n",
              "    </tr>\n",
              "    <tr>\n",
              "      <th>71</th>\n",
              "      <td>VFE_0006_VEHICLE_OPERATION_DIGIT2</td>\n",
              "      <td>9</td>\n",
              "      <td>5</td>\n",
              "    </tr>\n",
              "    <tr>\n",
              "      <th>72</th>\n",
              "      <td>VFE_0007_CAB_HEIGHT</td>\n",
              "      <td>7</td>\n",
              "      <td>4</td>\n",
              "    </tr>\n",
              "    <tr>\n",
              "      <th>73</th>\n",
              "      <td>VFE_0008_HAS_PTO</td>\n",
              "      <td>2</td>\n",
              "      <td>1</td>\n",
              "    </tr>\n",
              "  </tbody>\n",
              "</table>\n",
              "<p>74 rows × 3 columns</p>\n",
              "</div>"
            ],
            "text/plain": [
              "                              Feature  Cardinality  Embedding_Size\n",
              "0                                 DAY            2               1\n",
              "1                               MONTH           12               6\n",
              "2                                YEAR            4               2\n",
              "3             VAR_7MA_FRONT_AXLE_TYPE            2               1\n",
              "4                 VAR_DPX_ENGINE_TYPE            3               2\n",
              "..                                ...          ...             ...\n",
              "69                 VFE_0009_LTVF_TYPE            6               3\n",
              "70  VFE_0005_VEHICLE_OPERATION_DIGIT1            5               3\n",
              "71  VFE_0006_VEHICLE_OPERATION_DIGIT2            9               5\n",
              "72                VFE_0007_CAB_HEIGHT            7               4\n",
              "73                   VFE_0008_HAS_PTO            2               1\n",
              "\n",
              "[74 rows x 3 columns]"
            ]
          },
          "metadata": {
            "tags": []
          },
          "execution_count": 107
        }
      ]
    },
    {
      "cell_type": "code",
      "metadata": {
        "id": "E3OwJu5BMlcU",
        "colab_type": "code",
        "outputId": "a916555b-a549-49a8-cd3e-a8ea369a8092",
        "colab": {
          "base_uri": "https://localhost:8080/",
          "height": 34
        }
      },
      "source": [
        "data.shape"
      ],
      "execution_count": 108,
      "outputs": [
        {
          "output_type": "execute_result",
          "data": {
            "text/plain": [
              "(19954, 451)"
            ]
          },
          "metadata": {
            "tags": []
          },
          "execution_count": 108
        }
      ]
    },
    {
      "cell_type": "markdown",
      "metadata": {
        "id": "JyCRLRt0TouM",
        "colab_type": "text"
      },
      "source": [
        "(336677, 449)"
      ]
    },
    {
      "cell_type": "markdown",
      "metadata": {
        "id": "GdiyToTSLkgr",
        "colab_type": "text"
      },
      "source": [
        "# Training and Validation Data Extraction\n",
        "Based on the previous understanding. We are going to have to nature of data\n",
        "- Numerical Features and Catgorical Features.\n",
        "The Numerical features have a total of 365 features while the Categorical feature has 72 features.\n",
        "\n",
        "We will have Training and Validation data."
      ]
    },
    {
      "cell_type": "code",
      "metadata": {
        "id": "7B7KXV8TMb4P",
        "colab_type": "code",
        "colab": {}
      },
      "source": [
        "'''\n",
        "# extracting the categorical features\n",
        "# extracting the categorical features\n",
        "cat_features = cat_features_df['Feature'].values\n",
        "# numerical features are\n",
        "num_features = data.select_dtypes(exclude='object').columns\n",
        "\n",
        "# create a dataframe of the numerical and categorical features and store the result\n",
        "feature_names_cat = pd.DataFrame(data=None)\n",
        "feature_names_num = pd.DataFrame(data=None)\n",
        "feature_names_num['Numerical'] = num_features\n",
        "feature_names_cat['Categorical'] = cat_features\n",
        "\n",
        "# save this feature names of categorical and numerical features to a csv files\n",
        "feature_names_cat.to_csv(\"drive/My Drive/Thesis/data/Embedding_Data/feature_names_cat.csv\", sep=',', index=False)\n",
        "# save this feature names of categorical and numerical features to a csv files\n",
        "feature_names_num.to_csv(\"drive/My Drive/Thesis/data/Embedding_Data/feature_names_num.csv\", sep=',', index=False)\n",
        "'''\n",
        "# load feature names from db\n",
        "feature_names_cat = pd.read_csv(\"drive/My Drive/Thesis/data/Embedding_Data/feature_names_cat.csv\", sep=',', low_memory=False)\n",
        "feature_names_num = pd.read_csv(\"drive/My Drive/Thesis/data/Embedding_Data/feature_names_num.csv\", sep=',', low_memory=False)\n"
      ],
      "execution_count": 0,
      "outputs": []
    },
    {
      "cell_type": "code",
      "metadata": {
        "id": "8CXhVQs-IA5a",
        "colab_type": "code",
        "colab": {}
      },
      "source": [
        "# fetch the categorical and numerical features\n",
        "cat_features = feature_names_cat['Categorical'].values\n",
        "num_features = feature_names_num['Numerical'].values\n"
      ],
      "execution_count": 0,
      "outputs": []
    },
    {
      "cell_type": "code",
      "metadata": {
        "id": "KlkJq-7lPpRw",
        "colab_type": "code",
        "outputId": "f53337b5-55a4-46c4-ca43-f025e636cbe5",
        "colab": {
          "base_uri": "https://localhost:8080/",
          "height": 34
        }
      },
      "source": [
        "num_features.shape"
      ],
      "execution_count": 111,
      "outputs": [
        {
          "output_type": "execute_result",
          "data": {
            "text/plain": [
              "(362,)"
            ]
          },
          "metadata": {
            "tags": []
          },
          "execution_count": 111
        }
      ]
    },
    {
      "cell_type": "code",
      "metadata": {
        "id": "ESuQ3azizCCd",
        "colab_type": "code",
        "colab": {}
      },
      "source": [
        "from sklearn.model_selection import train_test_split, GroupShuffleSplit\n",
        "# for cross validation, we can use Group KFold spliting - GroupShuffleSplit\n"
      ],
      "execution_count": 0,
      "outputs": []
    },
    {
      "cell_type": "code",
      "metadata": {
        "id": "W9Y43CX2QWmC",
        "colab_type": "code",
        "colab": {}
      },
      "source": [
        "# Function for assisting in spliting the data\n",
        "def validationSplit(data_in, split=0.2, toShuffle=False):\n",
        "  # here we will split the data\n",
        "  # splitting by chassis\n",
        "  chassis_data = data_in['T_CHASSIS'].unique()\n",
        "  # splitting the chassis data\n",
        "  c_train, c_val = train_test_split(chassis_data, test_size=split, random_state=42, shuffle=toShuffle)\n",
        "  # extracting out the training and testing\n",
        "  train_data = data_in[data_in['T_CHASSIS'].isin(c_train)].reset_index(drop=True)\n",
        "  test_data = data_in[data_in['T_CHASSIS'].isin(c_val)].reset_index(drop=True)\n",
        "  return train_data, test_data\n"
      ],
      "execution_count": 0,
      "outputs": []
    },
    {
      "cell_type": "code",
      "metadata": {
        "id": "d0F8wX64-yKr",
        "colab_type": "code",
        "colab": {}
      },
      "source": [
        "# drop na\n",
        "data = data.dropna().reset_index(drop=True)"
      ],
      "execution_count": 0,
      "outputs": []
    },
    {
      "cell_type": "code",
      "metadata": {
        "id": "bvmIGc_l5Itv",
        "colab_type": "code",
        "colab": {}
      },
      "source": [
        "# Function for assisting in spliting the data\n",
        "def crossValidationSplit(data_in, split=0.2, toShuffle=False):\n",
        "  # here we will split the data based on their chassis grouping\n",
        "  chassis_group = data['T_CHASSIS'].values\n",
        "  ## generating the Group Parameters\n",
        "  c_split = GroupShuffleSplit(n_splits=2, test_size=0.2, random_state=42)\n",
        "  '''\n",
        "  # splitting the data\n",
        "  for train_idx, test_idx in c_split.split(data.values, groups=chassis_group):\n",
        "    print(\"TRAIN:\", data.values[train_idx].shape, \"TEST:\", data.values[test_idx].shape)\n",
        "  '''\n",
        "  return c_split"
      ],
      "execution_count": 0,
      "outputs": []
    },
    {
      "cell_type": "markdown",
      "metadata": {
        "id": "haaA1p20Q61b",
        "colab_type": "text"
      },
      "source": [
        "### Train Splitting"
      ]
    },
    {
      "cell_type": "code",
      "metadata": {
        "id": "s41BsPBlQ9pz",
        "colab_type": "code",
        "outputId": "12b7af2b-ea5c-4b76-f7f4-a89e0477f922",
        "colab": {
          "base_uri": "https://localhost:8080/",
          "height": 34
        }
      },
      "source": [
        "data_t, data_v = validationSplit(data, split=0.2)\n",
        "data_t.shape, data_v.shape"
      ],
      "execution_count": 116,
      "outputs": [
        {
          "output_type": "execute_result",
          "data": {
            "text/plain": [
              "((12884, 451), (2978, 451))"
            ]
          },
          "metadata": {
            "tags": []
          },
          "execution_count": 116
        }
      ]
    },
    {
      "cell_type": "code",
      "metadata": {
        "id": "bkZbVVhbQCU5",
        "colab_type": "code",
        "colab": {}
      },
      "source": [
        "#data_t.to_csv(\"drive/My Drive/Thesis/data/Embedding_Data/chassis_testing_data.csv\", sep=',', index=False)\n",
        "#data_v.to_csv(\"drive/My Drive/Thesis/data/Embedding_Data/chassis_training_data.csv\", sep=',', index=False)"
      ],
      "execution_count": 0,
      "outputs": []
    },
    {
      "cell_type": "markdown",
      "metadata": {
        "id": "twp6hyyLNLHg",
        "colab_type": "text"
      },
      "source": [
        "## Category Summary\n",
        "In summary, we have a total of 74 categories. They can be used to filter new data sources instead of going through the whole extaction and category pipeline all over again."
      ]
    },
    {
      "cell_type": "markdown",
      "metadata": {
        "id": "nyyKppBvVfuA",
        "colab_type": "text"
      },
      "source": [
        "## Handling numerical features\n",
        "We have a total of 362 numerical features"
      ]
    },
    {
      "cell_type": "markdown",
      "metadata": {
        "id": "pXfQPjtd2Heq",
        "colab_type": "text"
      },
      "source": [
        "## Embeddings"
      ]
    },
    {
      "cell_type": "markdown",
      "metadata": {
        "id": "ODkykfeJQUuB",
        "colab_type": "text"
      },
      "source": [
        "In order to apply embeddings for out categorical variables. We need to first determine which features are categorical variable and which are not. We need to ensure we caputure all possible cases of the categorical features. \n",
        "\n",
        "Okay, then for each categorical variable we need to capture the cardinalty of the feature iteself."
      ]
    },
    {
      "cell_type": "code",
      "metadata": {
        "id": "RAZb5vWk2Je9",
        "colab_type": "code",
        "colab": {}
      },
      "source": [
        "# use tensorflow version 2\n",
        "%tensorflow_version 2.x"
      ],
      "execution_count": 0,
      "outputs": []
    },
    {
      "cell_type": "code",
      "metadata": {
        "id": "t0-PSyCt2P6e",
        "colab_type": "code",
        "colab": {}
      },
      "source": [
        "from tensorflow.keras.models import Sequential, Model\n",
        "from tensorflow.keras.layers import Embedding, Input, Reshape, Concatenate, Dense, Flatten, Dropout\n",
        "\n",
        "from tensorflow.keras.callbacks import TensorBoard\n",
        "import os\n",
        "import datetime\n",
        "\n",
        "from tensorflow.keras.utils import plot_model\n",
        "from tensorflow.keras.callbacks import EarlyStopping"
      ],
      "execution_count": 0,
      "outputs": []
    },
    {
      "cell_type": "code",
      "metadata": {
        "id": "I8_MlT2hIjbM",
        "colab_type": "code",
        "colab": {}
      },
      "source": [
        "#from tensorflow.summary import create_file_writer\n",
        "#  TensorFlow and the TensorBoard HParams plugin:\n",
        "import tensorflow as tf\n",
        "from tensorboard.plugins.hparams import api as hp\n"
      ],
      "execution_count": 0,
      "outputs": []
    },
    {
      "cell_type": "code",
      "metadata": {
        "id": "2dpOOuoP4VqX",
        "colab_type": "code",
        "colab": {}
      },
      "source": [
        "### Write metadata file for embeddings\n",
        "def write_metadata(filename, labels):\n",
        "    \"\"\"\n",
        "            Create a metadata file image consisting of sample indices and labels\n",
        "            :param filename: name of the file to save on disk\n",
        "            :param shape: tensor of labels\n",
        "    \"\"\"\n",
        "    with open(filename, 'w') as f:\n",
        "        f.write(\"Index\\tLabel\\n\")\n",
        "        for index, label in enumerate(labels):\n",
        "            f.write(\"{}\\t{}\\n\".format(index, label))\n",
        "\n",
        "    print('Metadata file saved in {}'.format(filename))\n",
        "    "
      ],
      "execution_count": 0,
      "outputs": []
    },
    {
      "cell_type": "code",
      "metadata": {
        "id": "RnxmI0JS5LB0",
        "colab_type": "code",
        "colab": {}
      },
      "source": [
        "#data_t[cat_features].nunique()"
      ],
      "execution_count": 0,
      "outputs": []
    },
    {
      "cell_type": "code",
      "metadata": {
        "id": "6_Lt2Sz76c3e",
        "colab_type": "code",
        "outputId": "ef5dcb7c-50c7-4495-a9b0-c4fbc69fbd33",
        "colab": {
          "base_uri": "https://localhost:8080/",
          "height": 51
        }
      },
      "source": [
        "data_t['VFE_0007_CAB_HEIGHT'].unique()"
      ],
      "execution_count": 123,
      "outputs": [
        {
          "output_type": "execute_result",
          "data": {
            "text/plain": [
              "array(['CABH165', 'CABH230', 'CABH215', 'CABH175', 'CABH210', 'Low',\n",
              "       'CABH225'], dtype=object)"
            ]
          },
          "metadata": {
            "tags": []
          },
          "execution_count": 123
        }
      ]
    },
    {
      "cell_type": "code",
      "metadata": {
        "id": "MzbfaxgV5CeK",
        "colab_type": "code",
        "colab": {}
      },
      "source": [
        "feature_col_labels = pd.factorize(data_t.loc[:, 'VFE_0007_CAB_HEIGHT'].values)[0]\n",
        "metadata_path = \"drive/My Drive/Thesis/data/Embedding_Data/metadata_CAB_HEIGHT.tsv\"\n",
        "#write_metadata(metadata_path, feature_col_labels)"
      ],
      "execution_count": 0,
      "outputs": []
    },
    {
      "cell_type": "code",
      "metadata": {
        "id": "TJoBX4JQ9j6A",
        "colab_type": "code",
        "colab": {}
      },
      "source": [
        "embeddings_meta = {'Embedding_layer_VFE_0007_CAB_HEIGHT':metadata_path}\n"
      ],
      "execution_count": 0,
      "outputs": []
    },
    {
      "cell_type": "markdown",
      "metadata": {
        "id": "fZ7QrIuDcXd6",
        "colab_type": "text"
      },
      "source": [
        "### Saving and Loading Embeddings"
      ]
    },
    {
      "cell_type": "code",
      "metadata": {
        "id": "VWQrVg012oYE",
        "colab_type": "code",
        "colab": {}
      },
      "source": [
        "# Goal\n",
        "'''\n",
        "Write a function, when given a categorical variable, it will generate the vector representation for that variable.\n",
        "In order to achieve that, we first need to map very categorical variable to some numerical index value. This value \n",
        "has to be unique and not random. \n",
        "'''\n",
        "\n",
        "def transfromForEmbed(data_cat, cat_feature_name='', cat_mapping=''):\n",
        "  # find the cat_index for all the features\n",
        "  def findCatIndex(x):\n",
        "    return int(cat_mapping[cat_mapping[cat_feature_name] == x][cat_feature_name+'_index'].values[0])\n",
        "  output = data_cat[cat_feature_name].apply(findCatIndex) \n",
        "  return output\n",
        "\n",
        "def embedTransform(model=None, variable='', cat_feature_name='', cat_mapping='', return_type=1):\n",
        "  # Given a categorical variable, produce the embedded vector\n",
        "  # Find the index of the categorical variable in the cat_mapping dataframe\n",
        "  cat_index = int(cat_mapping[cat_mapping[cat_feature_name] == variable][cat_feature_name+'_index'].values[0])\n",
        "  if return_type == 0:\n",
        "    return cat_index\n",
        "  # fetch the embeddings weights\n",
        "  pre_embedding = \"Embedding_layer_\"\n",
        "  embed_layer = model.get_layer(name=pre_embedding+cat_feature_name)\n",
        "  embedd_vector = embed_layer.get_weights()[0][cat_index]\n",
        "  return embedd_vector\n",
        "\n",
        "def createCatMapping(data_cat):\n",
        "  # this function will create a mapping dataframe\n",
        "  cat_size = data_cat.shape[1]\n",
        "  feature_names = data_cat.columns\n",
        "\n",
        "  cat_mapping = pd.DataFrame()\n",
        "\n",
        "  col_mapping_list = list()\n",
        "  col_mapping_cols = list()\n",
        "  # try for all dataframes\n",
        "  for i in range(cat_size):\n",
        "    col_indexs = list(pd.factorize(data_cat.iloc[:, i].unique())[0])\n",
        "    # save to list\n",
        "    col_mapping_list.append(list(data_cat.iloc[:, i].unique()))\n",
        "    col_mapping_list.append(col_indexs)\n",
        "    # save the column name as well\n",
        "    col_mapping_cols.append(feature_names[i])\n",
        "    col_mapping_cols.append(feature_names[i]+'_index')\n",
        "\n",
        "  # now we need to save the list to a dataframe\n",
        "  cat_mapping = pd.DataFrame(col_mapping_list)\n",
        "  # transpose it\n",
        "  cat_mapping = cat_mapping.transpose()\n",
        "  # update the columns names\n",
        "  cat_mapping.columns = col_mapping_cols\n",
        "\n",
        "  # save to the dataframe\n",
        "  cat_mapping.to_csv(\"drive/My Drive/Thesis/data/Embedding_Data/cat_mappings.csv\", sep=',', index=False)\n",
        "\n",
        "#createCatMapping(data[cat_features]) "
      ],
      "execution_count": 0,
      "outputs": []
    },
    {
      "cell_type": "code",
      "metadata": {
        "id": "qCbbzW_yCym1",
        "colab_type": "code",
        "colab": {}
      },
      "source": [
        "# load from file\n",
        "cat_mappings = pd.read_csv(\"drive/My Drive/Thesis/data/Embedding_Data/cat_mappings.csv\", sep=',', low_memory=False)\n"
      ],
      "execution_count": 0,
      "outputs": []
    },
    {
      "cell_type": "code",
      "metadata": {
        "id": "nYu4l6hzUaRZ",
        "colab_type": "code",
        "outputId": "f97b419c-7831-4afb-a207-3bf09c124ce7",
        "colab": {
          "base_uri": "https://localhost:8080/",
          "height": 51
        }
      },
      "source": [
        "data_t['VFE_0007_CAB_HEIGHT'].unique()"
      ],
      "execution_count": 128,
      "outputs": [
        {
          "output_type": "execute_result",
          "data": {
            "text/plain": [
              "array(['CABH165', 'CABH230', 'CABH215', 'CABH175', 'CABH210', 'Low',\n",
              "       'CABH225'], dtype=object)"
            ]
          },
          "metadata": {
            "tags": []
          },
          "execution_count": 128
        }
      ]
    },
    {
      "cell_type": "code",
      "metadata": {
        "id": "1s75tA5dU1H3",
        "colab_type": "code",
        "colab": {
          "base_uri": "https://localhost:8080/",
          "height": 34
        },
        "outputId": "c913e673-67e8-4e51-eef6-aae20f0bf84d"
      },
      "source": [
        "# load the embedding model\n",
        "from tensorflow.keras.models import load_model\n",
        "# identical to the previous one\n",
        "embed_model = load_model(\"drive/My Drive/Thesis/data/Embedding_Data/embedding_model.h5\")\n"
      ],
      "execution_count": 129,
      "outputs": [
        {
          "output_type": "stream",
          "text": [
            "WARNING:tensorflow:Error in loading the saved optimizer state. As a result, your model is starting with a freshly initialized optimizer.\n"
          ],
          "name": "stdout"
        }
      ]
    },
    {
      "cell_type": "code",
      "metadata": {
        "id": "oTvqsge8UG5F",
        "colab_type": "code",
        "colab": {
          "base_uri": "https://localhost:8080/",
          "height": 34
        },
        "outputId": "86621580-6104-4057-fe5f-6bcd431934b9"
      },
      "source": [
        "# find the embedding vector for feature CABH210 in VFE_0007_CAB_HEIGHT\n",
        "'''\n",
        "my_vector1 = embedTransform(embed_model, variable='CABH175', cat_feature_name='VFE_0007_CAB_HEIGHT', cat_mapping=cat_mappings)\n",
        "my_vector2 = embedTransform(embed_model, variable='CABH165', cat_feature_name='VFE_0007_CAB_HEIGHT', cat_mapping=cat_mappings)\n",
        "my_vector3 = embedTransform(embed_model, variable='CABH210', cat_feature_name='VFE_0007_CAB_HEIGHT', cat_mapping=cat_mappings)\n",
        "my_vector4 = embedTransform(embed_model, variable='CABH230', cat_feature_name='VFE_0007_CAB_HEIGHT', cat_mapping=cat_mappings)\n",
        "my_vector5 = embedTransform(embed_model, variable='Low', cat_feature_name='VFE_0007_CAB_HEIGHT', cat_mapping=cat_mappings)\n",
        "'''\n",
        "x1 = output_embeddings[0]\n",
        "x2 = output_embeddings[1]\n",
        "\n",
        "# calculating the cosing similarity of two vectors in the orginal space\n",
        "a_dot = np.dot(x1, x2)\n",
        "similar = a_dot / (np.linalg.norm(x1) * np.linalg.norm(x2))\n",
        "similar\n"
      ],
      "execution_count": 216,
      "outputs": [
        {
          "output_type": "execute_result",
          "data": {
            "text/plain": [
              "0.9994888"
            ]
          },
          "metadata": {
            "tags": []
          },
          "execution_count": 216
        }
      ]
    },
    {
      "cell_type": "code",
      "metadata": {
        "id": "JH2htn2kekMI",
        "colab_type": "code",
        "colab": {}
      },
      "source": [
        "# betwen CABH175 and CABH165, i have 0.867487\n",
        "# betwen CABH175 and CABH210, i have 0.11280868\n",
        "# betwen CABH175 and CABH230, i have -0.5284594\n",
        "# betwen CABH175 and Low, i have -0.36939222\n"
      ],
      "execution_count": 0,
      "outputs": []
    },
    {
      "cell_type": "code",
      "metadata": {
        "id": "nmpTjqtodg-F",
        "colab_type": "code",
        "colab": {}
      },
      "source": [
        ""
      ],
      "execution_count": 0,
      "outputs": []
    },
    {
      "cell_type": "code",
      "metadata": {
        "id": "ptDS4G3lUhJc",
        "colab_type": "code",
        "outputId": "55d6afea-f1b8-4019-c411-8087b1d14ea9",
        "colab": {
          "base_uri": "https://localhost:8080/",
          "height": 153
        }
      },
      "source": [
        "ddsad = embed_model.get_layer(name='Embedding_layer_VFE_0007_CAB_HEIGHT')\n",
        "ddsad.get_weights()"
      ],
      "execution_count": 131,
      "outputs": [
        {
          "output_type": "execute_result",
          "data": {
            "text/plain": [
              "[array([[-0.14905094, -0.11075342, -0.05900112, -0.0247627 ],\n",
              "        [ 0.02609651, -0.06145609,  0.13505827, -0.00065673],\n",
              "        [-0.06022814, -0.05502219, -0.04270122, -0.07960243],\n",
              "        [ 0.21226509, -0.04694704,  0.28343254,  0.00852349],\n",
              "        [ 0.04596679,  0.11171044,  0.00124936,  0.05315955],\n",
              "        [ 0.0416726 , -0.0106741 ,  0.12163171, -0.02237656],\n",
              "        [-0.04100224, -0.0463232 , -0.00980473, -0.0373629 ]],\n",
              "       dtype=float32)]"
            ]
          },
          "metadata": {
            "tags": []
          },
          "execution_count": 131
        }
      ]
    },
    {
      "cell_type": "markdown",
      "metadata": {
        "colab_type": "text",
        "id": "Pekm8BKhFocu"
      },
      "source": [
        "### Creating the Keras Embeddings"
      ]
    },
    {
      "cell_type": "code",
      "metadata": {
        "colab_type": "code",
        "id": "3ZS29ptVFn6s",
        "colab": {}
      },
      "source": [
        "# Load the TensorBoard notebook extension\n",
        "%load_ext tensorboard\n"
      ],
      "execution_count": 0,
      "outputs": []
    },
    {
      "cell_type": "code",
      "metadata": {
        "id": "NF1787pgD22Y",
        "colab_type": "code",
        "colab": {}
      },
      "source": [
        "# Clear any logs from previous runs\n",
        "!rm -rf ./logs/ "
      ],
      "execution_count": 0,
      "outputs": []
    },
    {
      "cell_type": "code",
      "metadata": {
        "id": "mKSt_HeoNnGj",
        "colab_type": "code",
        "colab": {}
      },
      "source": [
        "logdir = os.path.join(\"logs\", datetime.datetime.now().strftime(\"%Y%m%d-%H%M%S\"))\n",
        "#tensorboard_callback = TensorBoard(logdir, histogram_freq=1, embeddings_freq=1, embeddings_metadata=embeddings_meta, write_images=True)\n",
        "tensorboard_callback = TensorBoard(logdir, histogram_freq=1, embeddings_freq=1,\n",
        "                                   write_images=False)\n"
      ],
      "execution_count": 0,
      "outputs": []
    },
    {
      "cell_type": "code",
      "metadata": {
        "id": "f6JUt7abZXbW",
        "colab_type": "code",
        "colab": {}
      },
      "source": [
        "### Creating the Keras Embeddings Mode\n",
        "\n",
        "def create_model(saved_model=None):\n",
        "  # IDs representing 1-hot encodings\n",
        "  # Need to create the input for all features\n",
        "  cat_embedding_input_layers = []\n",
        "\n",
        "  cat_reshape_layers = []\n",
        "  # Embeddings for the first cat feature\n",
        "  id_feature = 0\n",
        "  # create an array of embeddings layers\n",
        "  cat_embedding_layers = []\n",
        "\n",
        "  # interate through categorical varaibles\n",
        "  for id_feature in range(cat_features_df.shape[0]):\n",
        "    # creating the input layer for the embeddings\n",
        "    #input_layer = Input(shape=(1,), name=\"Input_layer_\"+cat_features_df.loc[id_feature, 'Feature'])\n",
        "    input_layer = Input(shape=(1,), name=\"Input_layer_\"+cat_features_df.loc[id_feature, 'Feature'])\n",
        "    cat_embedding_input_layers.append(input_layer)\n",
        "    # embedding size \n",
        "    layer_embedding_size = cat_features_df.loc[id_feature, 'Embedding_Size']\n",
        "    # create the embedding layers\n",
        "    embed_weights = saved_model.get_layer(name=\"Embedding_layer_\"+cat_features_df.loc[id_feature, 'Feature']).get_weights()\n",
        "    #embedded_layer.trainable = False\n",
        "    embedded_layer = Embedding(input_dim=cat_features_df.loc[id_feature, 'Cardinality'], output_dim=layer_embedding_size, \n",
        "                               name=\"Embedding_layer_\"+cat_features_df.loc[id_feature, 'Feature'], input_length = 1, trainable=False, weights=embed_weights)(input_layer)\n",
        "    cat_embedding_layers.append(embedded_layer)\n",
        "    # add a reshape of the embedding layers\n",
        "    reshape_layer = Reshape(target_shape=(layer_embedding_size,))(embedded_layer)\n",
        "    # appends the rehshape models together\n",
        "    cat_reshape_layers.append(reshape_layer)\n",
        "\n",
        "  ### Create A combined embedding layers only\n",
        "  combined_emb = Concatenate(axis=1, name='combined_embeddings')(cat_reshape_layers)\n",
        "  \n",
        "  ### the output of the combine embedding model is 169 vectors\n",
        "\n",
        "  ### creating a model based on the trained weights\n",
        "  model_emb = Model(inputs=cat_embedding_input_layers, outputs=combined_emb, name=\"Categorical_Embeddings\")\n",
        "\n",
        "  # compile the model - for a regression model\n",
        "  model_emb.compile(optimizer='adam', loss='mean_absolute_error', metrics=['mean_absolute_error'])\n",
        "  # compile the model - for a classification problem\n",
        "  # model.compile(loss='binary_crossentropy', optimizer='adam')\n",
        "  return model_emb\n",
        "\n",
        "def train_model(model, x_train, y_train, x_test, y_test, epochs, batch_size, early_stop_callback=None, tensorboard_callback=None):\n",
        "  # fitting the model\n",
        "  #model.fit(x=x_train, y=y_train, epochs=epochs, batch_size=batch_size, verbose=2, validation_data=(XTest, yTest), callbacks=[early_stop, tensorboard_callback])\n",
        "  model.fit(x=x_train, y=y_train, epochs=epochs, batch_size=batch_size, verbose=2, callbacks=[early_stop_callback, tensorboard_callback])\n",
        "  # evaluate the model\n",
        "  _, metric_mae = model.evaluate(x_test, y_test)\n",
        "  return metric_mae"
      ],
      "execution_count": 0,
      "outputs": []
    },
    {
      "cell_type": "code",
      "metadata": {
        "id": "R4WFSz0kSuuC",
        "colab_type": "code",
        "colab": {}
      },
      "source": [
        "## For each run, log an hparams summary with the hyperparameters and final accuracy:\n",
        "def run(my_model, x_train, y_train, x_test, y_test, epochs, batch_size, early_stop_callback, tensorboard_log):\n",
        "  model = None\n",
        "  model = create_model(my_model)\n",
        "  metric_mae = train_model(model, x_train, y_train, x_test, y_test, epochs, batch_size, early_stop_callback=early_stop_callback, tensorboard_callback=tensorboard_log)\n",
        "  # do something with the metrics\n",
        "  return model, metric_mae"
      ],
      "execution_count": 0,
      "outputs": []
    },
    {
      "cell_type": "code",
      "metadata": {
        "id": "BPrIVIxUqHgw",
        "colab_type": "code",
        "colab": {}
      },
      "source": [
        "model = create_model(saved_model=embed_model)\n",
        "model.summary()"
      ],
      "execution_count": 0,
      "outputs": []
    },
    {
      "cell_type": "code",
      "metadata": {
        "id": "5U5QWCikuL4e",
        "colab_type": "code",
        "colab": {}
      },
      "source": [
        "# plot the model\n",
        "#plot_model(model=model_emb, to_file='drive/My Drive/Thesis/data/Embedding_Data/model_image.png', show_shapes=True, dpi=300)\n",
        "#plot_model(model=model_emb, to_file='drive/My Drive/Thesis/data/Embedding_Data/model_new.png', show_shapes=True, dpi=300)"
      ],
      "execution_count": 0,
      "outputs": []
    },
    {
      "cell_type": "code",
      "metadata": {
        "id": "hW4daKSQjJsZ",
        "colab_type": "code",
        "colab": {}
      },
      "source": [
        "#model_emb.summary()"
      ],
      "execution_count": 0,
      "outputs": []
    },
    {
      "cell_type": "markdown",
      "metadata": {
        "id": "yeLd1zwzoXat",
        "colab_type": "text"
      },
      "source": [
        "## Inputs to the Network\n",
        "\n",
        "We need to create a list of inputs, such that each categorical feature has it's own list of values and the last list will be a 2D array of the continous values. As shown above.\n",
        "\n",
        "The size of the list of inputs : ip = n_cat + 1\n",
        "\n",
        "Remember for each of the embedding network we had set input-size =1 we are taking 1 value each from all the list (except the last list) and sending it to the combined network for training. For the last list, each value itself is a list having the other columns values, and this is sent to the models_rest network"
      ]
    },
    {
      "cell_type": "code",
      "metadata": {
        "id": "GbuVc8kGWYqV",
        "colab_type": "code",
        "colab": {}
      },
      "source": [
        "from sklearn.preprocessing import RobustScaler"
      ],
      "execution_count": 0,
      "outputs": []
    },
    {
      "cell_type": "code",
      "metadata": {
        "id": "aUlRi7_CozT4",
        "colab_type": "code",
        "colab": {}
      },
      "source": [
        "def transfromForEmbed(data_cat, cat_feature_name='', cat_mapping='', type=None):\n",
        "  # find the cat_index for all the features\n",
        "  def findCatIndex(x):\n",
        "    return int(cat_mapping[cat_mapping[cat_feature_name] == x][cat_feature_name+'_index'].values[0])\n",
        "  if type is not None:\n",
        "    output = findCatIndex(data_cat[cat_feature_name])\n",
        "    return np.array(output)\n",
        "  else:\n",
        "    output = data_cat[cat_feature_name].apply(findCatIndex) \n",
        "    return output.values\n",
        "\n",
        "# function to reformat the input data into the necessary input data for our network to be trained on.\n",
        "def network_input_process(data_num=None, data_cols=None, y_output=None, input_type=1):\n",
        "  # create a list of inputs. \n",
        "  try:\n",
        "    cat_size = data_cols.shape[1]\n",
        "    columns_name = data_cols.columns\n",
        "    col_type = None\n",
        "  except:\n",
        "    cat_size = data_cols.shape[0]\n",
        "    columns_name = data_cols.index\n",
        "    col_type = 1\n",
        "\n",
        "  # define the size of the network list inputs\n",
        "  if input_type==1:\n",
        "    network_inputs = [None] * (cat_size + 1)\n",
        "  else:\n",
        "    network_inputs = [None] * (cat_size)\n",
        "\n",
        "  # add inputs to the list\n",
        "  # for the categorical inputs\n",
        "\n",
        "  for i in range(cat_size):\n",
        "    #network_inputs[i] = pd.factorize(data_cols.iloc[:, i].values)[0]\n",
        "    # map each categorical variable to their respective index values\n",
        "    network_inputs[i] = transfromForEmbed(data_cols, cat_feature_name=columns_name[i], cat_mapping=cat_mappings, type=col_type)\n",
        "\n",
        "  if input_type == 1:\n",
        "    # for the continuous value inputs\n",
        "    network_inputs[-1] = data_num.iloc[:, :].values\n",
        "    # that should be all\n",
        "    return network_inputs, y_output.values\n",
        "  else:\n",
        "    return network_inputs"
      ],
      "execution_count": 0,
      "outputs": []
    },
    {
      "cell_type": "code",
      "metadata": {
        "id": "x_hvo4n8st89",
        "colab_type": "code",
        "colab": {}
      },
      "source": [
        "# creating the training inputs\n",
        "scaler = RobustScaler()\n",
        "# scale and fit\n",
        "scaler.fit(data_t.loc[:, num_features].values)\n",
        "data_t.loc[:, num_features] = scaler.transform(data_t.loc[:, num_features].values)\n",
        "data_v.loc[:, num_features] = scaler.transform(data_v.loc[:, num_features].values)\n",
        "\n",
        "Xtrain, yTrain = network_input_process(data_num=data_t[num_features], data_cols=data_t[cat_features], y_output=data_t['RUL'])\n",
        "XTest, yTest = network_input_process(data_num=data_v[num_features], data_cols=data_v[cat_features], y_output=data_v['RUL'])"
      ],
      "execution_count": 0,
      "outputs": []
    },
    {
      "cell_type": "markdown",
      "metadata": {
        "id": "JZCa-El4Fgta",
        "colab_type": "text"
      },
      "source": [
        "## Training the Network"
      ]
    },
    {
      "cell_type": "code",
      "metadata": {
        "id": "pTOAM7OnIZjE",
        "colab_type": "code",
        "colab": {}
      },
      "source": [
        "early_stop = EarlyStopping(monitor='mean_absolute_error', mode='min', verbose=1, patience=3)"
      ],
      "execution_count": 0,
      "outputs": []
    },
    {
      "cell_type": "code",
      "metadata": {
        "id": "QfraLc7vJsyT",
        "colab_type": "code",
        "colab": {}
      },
      "source": [
        "# fitting the model\n",
        "# model_emb.fit(x=Xtrain, y=yTrain, epochs=600, batch_size=64, verbose=2, validation_data=(XTest, yTest), callbacks=[early_stop, tensorboard_callback])\n"
      ],
      "execution_count": 0,
      "outputs": []
    },
    {
      "cell_type": "code",
      "metadata": {
        "id": "bpcFWB0LWziQ",
        "colab_type": "code",
        "colab": {}
      },
      "source": [
        "# remove old logs\n",
        "!rm -rf ./logs/ "
      ],
      "execution_count": 0,
      "outputs": []
    },
    {
      "cell_type": "code",
      "metadata": {
        "id": "Z2T9WJ4s3965",
        "colab_type": "code",
        "colab": {
          "base_uri": "https://localhost:8080/",
          "height": 289
        },
        "outputId": "ed014c7e-22fc-48b2-d252-48911930fe75"
      },
      "source": [
        "#train the model\n",
        "my_model, metric_result = run(embed_model, Xtrain, yTrain, XTest, yTest, 100, 64, early_stop, tensorboard_log=tensorboard_callback)\n"
      ],
      "execution_count": 148,
      "outputs": [
        {
          "output_type": "stream",
          "text": [
            "Epoch 1/100\n",
            "202/202 - 1s - loss: 395.2553 - mean_absolute_error: 395.0915\n",
            "Epoch 2/100\n",
            "202/202 - 1s - loss: 394.8163 - mean_absolute_error: 395.0915\n",
            "Epoch 3/100\n",
            "202/202 - 1s - loss: 394.9405 - mean_absolute_error: 395.0914\n",
            "Epoch 4/100\n",
            "202/202 - 1s - loss: 394.9830 - mean_absolute_error: 395.0913\n",
            "Epoch 5/100\n",
            "202/202 - 1s - loss: 395.0585 - mean_absolute_error: 395.0915\n",
            "Epoch 6/100\n",
            "202/202 - 1s - loss: 395.0342 - mean_absolute_error: 395.0913\n",
            "Epoch 7/100\n",
            "202/202 - 1s - loss: 394.6909 - mean_absolute_error: 395.0914\n",
            "Epoch 00007: early stopping\n",
            "94/94 [==============================] - 0s 2ms/step - loss: 360.4678 - mean_absolute_error: 363.9782\n"
          ],
          "name": "stdout"
        }
      ]
    },
    {
      "cell_type": "code",
      "metadata": {
        "id": "akqQ0T01OxZw",
        "colab_type": "code",
        "colab": {}
      },
      "source": [
        ""
      ],
      "execution_count": 0,
      "outputs": []
    },
    {
      "cell_type": "code",
      "metadata": {
        "id": "64-RfkTBXsIX",
        "colab_type": "code",
        "colab": {}
      },
      "source": [
        "data_sample"
      ],
      "execution_count": 0,
      "outputs": []
    },
    {
      "cell_type": "markdown",
      "metadata": {
        "id": "2qTsN7a7Ozp1",
        "colab_type": "text"
      },
      "source": [
        "## Testing Embeddings\n"
      ]
    },
    {
      "cell_type": "code",
      "metadata": {
        "id": "D7p0QXSqPuaV",
        "colab_type": "code",
        "colab": {}
      },
      "source": [
        "data_sample = data_v[cat_features].iloc[100:150,:]\n",
        "sample_data_point = network_input_process(data_cols=data_sample, input_type=0)"
      ],
      "execution_count": 0,
      "outputs": []
    },
    {
      "cell_type": "code",
      "metadata": {
        "id": "tLxTd0bfWctA",
        "colab_type": "code",
        "colab": {}
      },
      "source": [
        "sample_data_point"
      ],
      "execution_count": 0,
      "outputs": []
    },
    {
      "cell_type": "code",
      "metadata": {
        "id": "F3X2LNbsRyyw",
        "colab_type": "code",
        "colab": {
          "base_uri": "https://localhost:8080/",
          "height": 34
        },
        "outputId": "11ff5e98-4061-4198-ec9d-d8f128a6f53a"
      },
      "source": [
        "len(sample_data_point)"
      ],
      "execution_count": 207,
      "outputs": [
        {
          "output_type": "execute_result",
          "data": {
            "text/plain": [
              "74"
            ]
          },
          "metadata": {
            "tags": []
          },
          "execution_count": 207
        }
      ]
    },
    {
      "cell_type": "code",
      "metadata": {
        "id": "DD8LrBNiO5IJ",
        "colab_type": "code",
        "colab": {}
      },
      "source": [
        "output_embeddings = my_model.predict(sample_data_point)"
      ],
      "execution_count": 0,
      "outputs": []
    },
    {
      "cell_type": "code",
      "metadata": {
        "id": "9yegEojDPXp6",
        "colab_type": "code",
        "colab": {
          "base_uri": "https://localhost:8080/",
          "height": 34
        },
        "outputId": "c3465d49-d498-43c0-92a3-fbcf9e0fe925"
      },
      "source": [
        "output_embeddings.shape"
      ],
      "execution_count": 214,
      "outputs": [
        {
          "output_type": "execute_result",
          "data": {
            "text/plain": [
              "(2, 169)"
            ]
          },
          "metadata": {
            "tags": []
          },
          "execution_count": 214
        }
      ]
    },
    {
      "cell_type": "code",
      "metadata": {
        "id": "3O4gshp89SO8",
        "colab_type": "code",
        "colab": {}
      },
      "source": [
        "print ('result - ', metric_result)\n",
        "# see model summary\n",
        "#my_model.summary()\n",
        "\n",
        "# save the model\n",
        "#my_model.save(\"drive/My Drive/Thesis/data/Embedding_Data/embedding_model.h5\")"
      ],
      "execution_count": 0,
      "outputs": []
    },
    {
      "cell_type": "code",
      "metadata": {
        "id": "Nq6xI1chHiYF",
        "colab_type": "code",
        "colab": {}
      },
      "source": [
        "my_layerss = my_model.get_layer(index=111)\n",
        "\n",
        "ddsad = my_model.get_layer(name='Embedding_layer_VFE_0007_CAB_HEIGHT')"
      ],
      "execution_count": 0,
      "outputs": []
    },
    {
      "cell_type": "code",
      "metadata": {
        "id": "iYQe7-IbM3vr",
        "colab_type": "code",
        "colab": {}
      },
      "source": [
        "data_t['VFE_0007_CAB_HEIGHT'].unique()"
      ],
      "execution_count": 0,
      "outputs": []
    },
    {
      "cell_type": "code",
      "metadata": {
        "id": "5IY5hZyf68Y2",
        "colab_type": "code",
        "colab": {}
      },
      "source": [
        "ddsad.get_config()"
      ],
      "execution_count": 0,
      "outputs": []
    },
    {
      "cell_type": "code",
      "metadata": {
        "id": "PnxduKbO6rh8",
        "colab_type": "code",
        "colab": {}
      },
      "source": [
        "ddsad.embeddings"
      ],
      "execution_count": 0,
      "outputs": []
    },
    {
      "cell_type": "code",
      "metadata": {
        "id": "6pWm1eXjcXwA",
        "colab_type": "code",
        "colab": {}
      },
      "source": [
        "ddsad.get_weights()[0][6]"
      ],
      "execution_count": 0,
      "outputs": []
    },
    {
      "cell_type": "markdown",
      "metadata": {
        "id": "2AkE4BlYesX7",
        "colab_type": "text"
      },
      "source": [
        "'''\n",
        "First iteration \n",
        "using 512 - 256 - 128\n",
        "###\n",
        "error 202/202 - 3s - loss: 4807.8838 - val_loss: 263093.3125\n",
        "Epoch 71/600\n",
        "202/202 - 3s - loss: 4637.8784 - val_loss: 352122.9062\n",
        "Epoch 00071: early stopping\n",
        "mean-absolute error - 245.14920879082842\n",
        "e_var = -4.4\n",
        "/---------------------\n",
        "using 1028 - 512 - 128\n",
        "\n",
        "\n",
        "----------------------\n",
        "202/202 - 4s - loss: 828.3008 - val_loss: 443548.0000\n",
        "-----------------------\n",
        "Epoch 57/600\n",
        "202/202 - 5s - loss: 5574.1982 - val_loss: 124869.9609\n",
        "------------------------\n",
        "With ELU : 202/202 - 4s - loss: 2499.8364 - val_loss: 66855.7031\n",
        "\n"
      ]
    },
    {
      "cell_type": "markdown",
      "metadata": {
        "id": "pphSC8HS5eMs",
        "colab_type": "text"
      },
      "source": [
        ""
      ]
    },
    {
      "cell_type": "code",
      "metadata": {
        "id": "e3aKNQRrBIom",
        "colab_type": "code",
        "colab": {}
      },
      "source": [
        "# plot the loss\n",
        "lossess = pd.DataFrame(my_model.history.history)"
      ],
      "execution_count": 0,
      "outputs": []
    },
    {
      "cell_type": "code",
      "metadata": {
        "id": "DLrsm7FMGaJQ",
        "colab_type": "code",
        "colab": {}
      },
      "source": [
        "lossess"
      ],
      "execution_count": 0,
      "outputs": []
    },
    {
      "cell_type": "code",
      "metadata": {
        "id": "7QkigqmEBL6q",
        "colab_type": "code",
        "colab": {}
      },
      "source": [
        "lossess.plot(figsize=(12,6))"
      ],
      "execution_count": 0,
      "outputs": []
    },
    {
      "cell_type": "code",
      "metadata": {
        "id": "iHeA8TH40y8h",
        "colab_type": "code",
        "colab": {}
      },
      "source": [
        "lossess['val_loss'].plot(figsize=(12,6))"
      ],
      "execution_count": 0,
      "outputs": []
    },
    {
      "cell_type": "code",
      "metadata": {
        "id": "yOhitKlmazF8",
        "colab_type": "code",
        "colab": {}
      },
      "source": [
        "# evaluating our model\n",
        "np.sqrt(model_emb.evaluate(x=Xtrain, y=yTrain, verbose=1))"
      ],
      "execution_count": 0,
      "outputs": []
    },
    {
      "cell_type": "code",
      "metadata": {
        "id": "CZSgmwvf3xuR",
        "colab_type": "code",
        "colab": {}
      },
      "source": [
        "# evaluating our model\n",
        "np.sqrt(model_emb.evaluate(x=XTest, y=yTest, verbose=1))"
      ],
      "execution_count": 0,
      "outputs": []
    },
    {
      "cell_type": "code",
      "metadata": {
        "id": "9BC0uHIZbmw2",
        "colab_type": "code",
        "colab": {}
      },
      "source": [
        "# Predicting the model\n",
        "test_predicitons = model_emb.predict(XTest)\n",
        "test_predicitons.shape"
      ],
      "execution_count": 0,
      "outputs": []
    },
    {
      "cell_type": "code",
      "metadata": {
        "id": "Lm6BnKDEbv3s",
        "colab_type": "code",
        "colab": {}
      },
      "source": [
        "# plotting our prediction result\n",
        "test_predictions = pd.Series(test_predicitons.reshape(2978,))\n",
        "pred_df = pd.DataFrame(yTest, columns=['True RUL'])\n",
        "pred_df = pd.concat([pred_df, test_predictions], axis=1)\n",
        "pred_df.columns = ['True RUL', 'Predicted RUL']"
      ],
      "execution_count": 0,
      "outputs": []
    },
    {
      "cell_type": "code",
      "metadata": {
        "id": "MFNSD5iFcAo2",
        "colab_type": "code",
        "colab": {}
      },
      "source": [
        "pred_df.head(10)"
      ],
      "execution_count": 0,
      "outputs": []
    },
    {
      "cell_type": "code",
      "metadata": {
        "id": "Qa6F9FfYcMAm",
        "colab_type": "code",
        "colab": {}
      },
      "source": [
        "from sklearn.metrics import mean_absolute_error, explained_variance_score"
      ],
      "execution_count": 0,
      "outputs": []
    },
    {
      "cell_type": "code",
      "metadata": {
        "id": "kS5sojBscaUQ",
        "colab_type": "code",
        "colab": {}
      },
      "source": [
        "# mean absolute error for our predictions\n",
        "mean_absolute_error(pred_df['True RUL'], pred_df['Predicted RUL'])"
      ],
      "execution_count": 0,
      "outputs": []
    },
    {
      "cell_type": "code",
      "metadata": {
        "id": "uIPpLSfwcjUk",
        "colab_type": "code",
        "colab": {}
      },
      "source": [
        "# so is our error good or bad?\n",
        "data['RUL'].describe()"
      ],
      "execution_count": 0,
      "outputs": []
    },
    {
      "cell_type": "code",
      "metadata": {
        "id": "1gdYR0KccqjI",
        "colab_type": "code",
        "colab": {}
      },
      "source": [
        "# explained variance score\n",
        "explained_variance_score(pred_df['True RUL'].values, pred_df['Predicted RUL'].values)"
      ],
      "execution_count": 0,
      "outputs": []
    },
    {
      "cell_type": "code",
      "metadata": {
        "id": "EexWB-UVeXJT",
        "colab_type": "code",
        "colab": {}
      },
      "source": [
        "!kill 1142"
      ],
      "execution_count": 0,
      "outputs": []
    },
    {
      "cell_type": "code",
      "metadata": {
        "id": "DhPzy8uitSoW",
        "colab_type": "code",
        "colab": {}
      },
      "source": [
        "###\n",
        "# running tensorboard\n",
        "tensorboard --logdir logs"
      ],
      "execution_count": 0,
      "outputs": []
    }
  ]
}