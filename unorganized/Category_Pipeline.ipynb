{
 "cells": [
  {
   "cell_type": "markdown",
   "metadata": {
    "id": "view-in-github",
    "colab_type": "text"
   },
   "source": [
    "<a href=\"https://colab.research.google.com/github/thehapyone/Thesis_Project/blob/master/Category_Pipeline.ipynb\" target=\"_parent\"><img src=\"https://colab.research.google.com/assets/colab-badge.svg\" alt=\"Open In Colab\"/></a>"
   ]
  },
  {
   "cell_type": "markdown",
   "metadata": {
    "id": "yylXv6VzNeMR",
    "colab_type": "text"
   },
   "source": [
    "# Category Pipeline\n",
    "This pipeline ensures the categorical features are ready for the embedding stage"
   ]
  },
  {
   "cell_type": "code",
   "execution_count": 0,
   "metadata": {
    "id": "Hy1BUNS6NtnA",
    "colab_type": "code",
    "colab": {}
   },
   "outputs": [],
   "source": [
    "import pandas as pd\n",
    "import numpy as np\n",
    "import copy as copy\n",
    "# using interativeimputer\n",
    "from sklearn.experimental import enable_iterative_imputer\n",
    "from sklearn.impute import IterativeImputer"
   ]
  },
  {
   "cell_type": "markdown",
   "metadata": {
    "id": "UlHnR6mnNztO",
    "colab_type": "text"
   },
   "source": [
    "## Transform Date Information as Categorical\n",
    "Here we will transform the day, month and year data as categorical."
   ]
  },
  {
   "cell_type": "code",
   "execution_count": 0,
   "metadata": {
    "id": "v0WYsomVOO5j",
    "colab_type": "code",
    "colab": {}
   },
   "outputs": [],
   "source": [
    "# function will transform the day, month and year data as categorical.\n",
    "def dateTrasfromToCategory(raw_data, debug=False):\n",
    "  output = copy.copy(raw_data)\n",
    "  #\n",
    "  date_columns = ['DAY', 'MONTH', 'YEAR']\n",
    "  # need to change it to the object dtypes\n",
    "  date_df = raw_data[date_columns]\n",
    "  # cast to object\n",
    "  date_df = date_df.astype('object')\n",
    "  # updates the original data frame\n",
    "  output.updates(date_df)\n",
    "  if debug == True:\n",
    "    print ('Dtypes are: ')\n",
    "    print (output[date_columns].dtypes)\n",
    "    \n",
    "  return output\n"
   ]
  },
  {
   "cell_type": "markdown",
   "metadata": {
    "id": "XH3Hu4oqQa4T",
    "colab_type": "text"
   },
   "source": [
    "## Remove Zero Variance Categories\n",
    "This removes all feature with no changes to their elements\n"
   ]
  },
  {
   "cell_type": "code",
   "execution_count": 0,
   "metadata": {
    "id": "6wErEqNjQoAj",
    "colab_type": "code",
    "colab": {}
   },
   "outputs": [],
   "source": [
    "def removeZeroCategory(raw_data, debug=False):\n",
    "  # finding column data with almost zero standard deviation. \n",
    "  # find all categorical features.\n",
    "  data_cat = raw_data.select_dtypes(include='object')\n",
    "  # find categorical features with zero variance - Will don't need those features.\n",
    "  var_1_categories = []\n",
    "  for col in data_cat.columns:\n",
    "    unique_Values = data_cat.loc[:, col].nunique()\n",
    "    if debug == True:\n",
    "      print (col, unique_Values)\n",
    "    # this columns have zero standard deviation\n",
    "    if unique_Values == 1:\n",
    "      var_1_categories.append(col)\n",
    "\n",
    "  # drop all cat features with zero variance\n",
    "  output = raw_data.drop(labels=var_1_categories, axis=1)\n",
    "  return output"
   ]
  },
  {
   "cell_type": "markdown",
   "metadata": {
    "id": "TcAsY0y6TPit",
    "colab_type": "text"
   },
   "source": [
    "## Embedding Size Extractor\n",
    "Here, we will find the cardinality size for each categorical features and its correct embedding size.\n",
    "\n",
    "In order to apply embeddings for out categorical variables. We need to first determine which features are categorical variable and which are not. We need to ensure we caputure all possible cases of the categorical features.\n",
    "\n",
    "Okay, then for each categorical variable we need to capture the cardinalty of the feature iteself"
   ]
  },
  {
   "cell_type": "code",
   "execution_count": 0,
   "metadata": {
    "id": "biMymsghTjRN",
    "colab_type": "code",
    "colab": {}
   },
   "outputs": [],
   "source": [
    "# Function takes a data frame containing categorical features alone\n",
    "# input: category dataframe and the max embedding size\n",
    "# output: Dataframe (Features, Cardinality, Embedding_Size)\n",
    "def embeddingSizeExtract(data_categorical, debug=True, max_embedding_size=10):\n",
    "  # input is categorical features only\n",
    "  cat_temp = copy.copy(data_categorical)\n",
    "  \n",
    "  # We don't need the chassis information here\n",
    "  try:\n",
    "    cat_temp = cat_temp.drop(labels=['T_CHASSIS'], axis=1)\n",
    "  except:\n",
    "    pass\n",
    "  # feature names\n",
    "  categorical_features = data_cat.columns\n",
    "\n",
    "  # fetch cardinality of the categorical variables.\n",
    "  cat_cardinality = [(cols, data_cat[cols].nunique()) for cols in categorical_features]\n",
    "\n",
    "  # check out which feature has the maximum cardinality\n",
    "  if debug == True:\n",
    "    max_cad_feature = np.argmax(np.array(cat_cardinality)[:,1].astype(int))\n",
    "    max_cardinality = cat_cardinality[max_cad_feature]\n",
    "    print (\"Feature with highest cardinality is: \", max_cardinality)\n",
    "\n",
    "  # Calculate the embedding size for each feature\n",
    "  # max size of 10\n",
    "  embedding_size = np.array([(col_names, c, min(max_embedding_size, (c+1)//2)) for col_names, c in cat_cardinality])\n",
    "  \n",
    "  # create a dataframe of the features and their sizes\n",
    "  cat_features_df = pd.DataFrame(data=embedding_size, columns=['Feature', 'Cardinality', 'Embedding_Size'])\n",
    "  # transform the dtypes\n",
    "  cat_features_df = cat_features_df.astype({'Cardinality': 'int32', 'Embedding_Size': 'int32'}, copy=False)\n",
    "  \n",
    "  # thats the end. We have out cardinality, features and their corresponding embedding size\n",
    "  return cat_features_df"
   ]
  }
 ],
 "metadata": {
  "colab": {
   "name": "Category_Pipeline.ipynb",
   "provenance": [],
   "authorship_tag": "ABX9TyNiUQoFtAUXDc9cabVb4U+W",
   "include_colab_link": true
  },
  "kernelspec": {
   "name": "python3",
   "display_name": "Python 3"
  }
 },
 "nbformat": 4,
 "nbformat_minor": 0
}
