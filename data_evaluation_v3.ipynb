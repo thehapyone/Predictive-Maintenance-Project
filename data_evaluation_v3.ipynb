{
  "nbformat": 4,
  "nbformat_minor": 0,
  "metadata": {
    "colab": {
      "name": "data evaluation v3.ipynb",
      "provenance": [],
      "toc_visible": true,
      "include_colab_link": true
    },
    "kernelspec": {
      "name": "python3",
      "display_name": "Python 3"
    }
  },
  "cells": [
    {
      "cell_type": "markdown",
      "metadata": {
        "id": "view-in-github",
        "colab_type": "text"
      },
      "source": [
        "<a href=\"https://colab.research.google.com/github/thehapyone/Thesis_Project/blob/master/data_evaluation_v3.ipynb\" target=\"_parent\"><img src=\"https://colab.research.google.com/assets/colab-badge.svg\" alt=\"Open In Colab\"/></a>"
      ]
    },
    {
      "cell_type": "markdown",
      "metadata": {
        "id": "PqH9Q9dC8iRl",
        "colab_type": "text"
      },
      "source": [
        "# Missing v3 -- Change History For Feature Engineering Missing Data File\n",
        "### v2\n",
        " The following features missing parameters have been cleaned and updated - \n",
        " **'LX_PSC_P1FUO_NUMBER_OF_STARTER_ACTIVATION_D', 'LX_PSC_P1FUN_NUMBER_OF_ENGINE_STARTS_DURING', 'LX_PST_P1B3A_332_BCLVEHICLEMODECRANKINGTIME_LOG**' were cleaned and updated in the v2_feature_engineering_data.csv file.\n",
        "\n",
        "### v3\n",
        "\n",
        "**LX_PSC_P1ASU_MAIN_LOG_DRIVE_FUEL and LX_PSC_P1ATK_MAIN_LOG_ECONOMICAL_FUEL** were cleaned and updated in the v3_feature_engineering_data.csv file"
      ]
    },
    {
      "cell_type": "code",
      "metadata": {
        "id": "QFtYRNAqwzEK",
        "colab_type": "code",
        "colab": {}
      },
      "source": [
        ""
      ],
      "execution_count": 0,
      "outputs": []
    },
    {
      "cell_type": "code",
      "metadata": {
        "id": "Tu0KCIiM8lYx",
        "colab_type": "code",
        "colab": {}
      },
      "source": [
        "import pandas as pd\n",
        "import numpy as np\n",
        "import seaborn as sns\n",
        "import matplotlib.pyplot as plt"
      ],
      "execution_count": 0,
      "outputs": []
    },
    {
      "cell_type": "code",
      "metadata": {
        "id": "UE_LpxaY8mUw",
        "colab_type": "code",
        "colab": {}
      },
      "source": [
        "data = pd.read_csv(\"drive/My Drive/Thesis/data/Data_Engineering/Edited_Raw_Data/v3_feature_engineering_data.csv\", sep=',', low_memory=False)\n",
        "#data_comb = pd.read_csv(\"drive/My Drive/Thesis/data/Data_Engineering/Edited_Raw_Data/v2_Sorted_Database.csv\", sep=',', low_memory=False)\n"
      ],
      "execution_count": 0,
      "outputs": []
    },
    {
      "cell_type": "markdown",
      "metadata": {
        "id": "b366zRUF8tPo",
        "colab_type": "text"
      },
      "source": [
        "## Analyzing Missing Values\n"
      ]
    },
    {
      "cell_type": "code",
      "metadata": {
        "id": "e86i_xqk8t9l",
        "colab_type": "code",
        "outputId": "69e05c02-4115-4276-9aa2-189b21437e5f",
        "colab": {
          "base_uri": "https://localhost:8080/",
          "height": 1000
        }
      },
      "source": [
        "# check columns with missing values\n",
        "pd.set_option('display.max_rows', 500)\n",
        "# in percentage\n",
        "#100 * (data.isnull().sum().sort_values(ascending=False) / data.shape[0])\n",
        "data.isnull().sum().sort_values(ascending=False)"
      ],
      "execution_count": 8,
      "outputs": [
        {
          "output_type": "execute_result",
          "data": {
            "text/plain": [
              "LX_PSC_P1MNF_COMPRESSOR_LOAD_PHASE_COUNTER          1583\n",
              "LX_PSC_P1ASH_COOLANT_PUMP_NUMBER_OF_ACTIVAT          988\n",
              "LX_PSC_P1ASI_COOLANT_PUMP_ACTIVATION_TIME            988\n",
              "LX_PSC_P1I80_TOP_VALUE_OF_ENGINE_SPEED_IN_O          987\n",
              "X_PSC_P1ATR_OIL_DEGRADATION_LAST_OLC_DISTA           941\n",
              "X_PSC_P1ATS_OIL_DEGRADATION_LAST_OLC_HOURS           941\n",
              "X_PSC_P1ATV_OIL_LIFE_AT_PAST_DUE                     941\n",
              "X_PSC_P1IOY_SOOT_MASS_REPORTED_BY_KALMAN_F           897\n",
              "X_PSC_P1JBT_SCR_OPERATOR_INDUCEMENT_REASON           897\n",
              "X_PSC_P1IT7_NUMBER_OF_TIMES_THE_ESTIMATED_           897\n",
              "X_PSC_P1JAZ_RATED_ENGINE_POWER                       897\n",
              "X_PSC_P1ITY_NUMBER_OF_PARKED_REGENERATIONS           897\n",
              "X_PSC_P1LJQ_ADBLUE_ADAPTION_FACTOR_INITIAL           897\n",
              "SX_PSC_P1ITY_NUMBER_OF_PARKED_REGENERATIONS          897\n",
              "X_PSC_P1JR0_AUTOMATIC_CRYSTALS_REGENERATIO           896\n",
              "X_PSC_P1IT2_AFTERTREATMENT_REGENERATION_IN           896\n",
              "LX_PSC_P1IT1_AFTERTREATMENT_REGENERATION_IN          896\n",
              "LX_PSC_P1IT0_AFTERTREATMENT_REGENERATION_IN          896\n",
              "X_PSC_P1K8T_NUMBER_OF_SUCCESSIVE_INTERRUPT           896\n",
              "SLX_PFE_0005_CLUTCH_OVER_MILEAGE                     798\n",
              "LX_PMU_P1FH1_SLOPE_X_INDEX_5                         792\n",
              "LX_PMU_P1FH1_SLOPE_X_INDEX_30                        792\n",
              "LX_PMU_P1FH1_SLOPE_X_INDEX_31                        792\n",
              "LX_PMU_P1FH1_SLOPE_X_INDEX_4                         792\n",
              "LX_PMU_P1FH1_SLOPE_X_INDEX_9                         792\n",
              "LX_PMU_P1FH1_SLOPE_X_INDEX_6                         792\n",
              "LX_PMU_P1FH1_SLOPE_X_INDEX_7                         792\n",
              "LX_PMU_P1FH1_SLOPE_X_INDEX_8                         792\n",
              "LX_PMU_P1FH1_SLOPE_X_INDEX_28                        792\n",
              "LX_PMU_P1FH1_SLOPE_X_INDEX_29                        792\n",
              "LX_PMU_P1FH1_SLOPE_X_INDEX_3                         792\n",
              "LX_PMU_P1FH1_SLOPE_X_INDEX_27                        792\n",
              "LX_PMU_P1FH1_SLOPE_X_INDEX_18                        792\n",
              "X_PMU_P1FH1_SLOPE_X_INDEX_32                         792\n",
              "X_PMU_P1FH1_SLOPE_X_INDEX_1                          792\n",
              "LX_PMU_P1FH1_SLOPE_X_INDEX_10                        792\n",
              "LX_PMU_P1FH1_SLOPE_X_INDEX_11                        792\n",
              "LX_PMU_P1FH1_SLOPE_X_INDEX_12                        792\n",
              "LX_PMU_P1FH1_SLOPE_X_INDEX_26                        792\n",
              "LX_PMU_P1FH1_SLOPE_X_INDEX_14                        792\n",
              "LX_PMU_P1FH1_SLOPE_X_INDEX_15                        792\n",
              "LX_PMU_P1FH1_SLOPE_X_INDEX_16                        792\n",
              "LX_PMU_P1FH1_SLOPE_X_INDEX_17                        792\n",
              "LX_PMU_P1FH1_SLOPE_X_INDEX_13                        792\n",
              "LX_PMU_P1FH1_SLOPE_X_INDEX_2                         792\n",
              "LX_PMU_P1FH1_SLOPE_X_INDEX_20                        792\n",
              "LX_PMU_P1FH1_SLOPE_X_INDEX_21                        792\n",
              "LX_PMU_P1FH1_SLOPE_X_INDEX_22                        792\n",
              "LX_PMU_P1FH1_SLOPE_X_INDEX_23                        792\n",
              "LX_PMU_P1FH1_SLOPE_X_INDEX_24                        792\n",
              "LX_PMU_P1FH1_SLOPE_X_INDEX_19                        792\n",
              "LX_PMU_P1FH1_SLOPE_X_INDEX_25                        792\n",
              "X_PSC_P1K8S_NUMBER_OF_SUCCESSIVE_FAILED_RE           731\n",
              "X_PSC_P1I9E_NUMBER_OF_TIMES_THE_WATER_IN_F           731\n",
              "SLX_PFE_0006_PARK_OVER_MILAGE                        701\n",
              "X_PMU_P1FWM_ENGINE_SPEED_TORQUE_H_X_INDEX_18         678\n",
              "X_PMU_P1FWM_ENGINE_SPEED_TORQUE_H_Y_INDEX_18         678\n",
              "LX_PMU_P1FWM_ENGINE_SPEED_TORQUE_H_Y_INDEX_4         678\n",
              "LX_PMU_P1FWM_ENGINE_SPEED_TORQUE_H_Y_INDEX_5         678\n",
              "LX_PMU_P1FWM_ENGINE_SPEED_TORQUE_H_Y_INDEX_6         678\n",
              "X_PMU_P1FWM_ENGINE_SPEED_TORQUE_H_Y_INDEX_20         678\n",
              "LX_PMU_P1FWM_ENGINE_SPEED_TORQUE_H_Y_INDEX_17        678\n",
              "LX_PMU_P1FWM_ENGINE_SPEED_TORQUE_H_Y_INDEX_7         678\n",
              "X_PMU_P1FWM_ENGINE_SPEED_TORQUE_H_Y_INDEX_19         678\n",
              "LX_PMU_P1FWM_ENGINE_SPEED_TORQUE_H_Y_INDEX_8         678\n",
              "LX_PMU_P1FWM_ENGINE_SPEED_TORQUE_H_Y_INDEX_9         678\n",
              "LX_PMU_P1FWM_ENGINE_SPEED_TORQUE_H_Y_INDEX_2         678\n",
              "LX_PMU_P1FWM_ENGINE_SPEED_TORQUE_H_Y_INDEX_3         678\n",
              "LX_PMU_P1FWM_ENGINE_SPEED_TORQUE_H_Y_INDEX_16        678\n",
              "LX_PMU_P1FWM_ENGINE_SPEED_TORQUE_H_X_INDEX_17        678\n",
              "LX_PMU_P1FWM_ENGINE_SPEED_TORQUE_H_X_INDEX_8         678\n",
              "LX_PMU_P1FWM_ENGINE_SPEED_TORQUE_H_X_INDEX_7         678\n",
              "LX_PMU_P1FWM_ENGINE_SPEED_TORQUE_H_X_INDEX_6         678\n",
              "LX_PMU_P1FWM_ENGINE_SPEED_TORQUE_H_X_INDEX_5         678\n",
              "LX_PMU_P1FWM_ENGINE_SPEED_TORQUE_H_X_INDEX_4         678\n",
              "LX_PMU_P1FWM_ENGINE_SPEED_TORQUE_H_X_INDEX_3         678\n",
              "LX_PMU_P1FWM_ENGINE_SPEED_TORQUE_H_Y_INDEX_15        678\n",
              "LX_PMU_P1FWM_ENGINE_SPEED_TORQUE_H_X_INDEX_16        678\n",
              "LX_PMU_P1FWM_ENGINE_SPEED_TORQUE_H_Y_INDEX_1         678\n",
              "LX_PMU_P1FWM_ENGINE_SPEED_TORQUE_H_X_INDEX_15        678\n",
              "LX_PMU_P1FWM_ENGINE_SPEED_TORQUE_H_X_INDEX_14        678\n",
              "LX_PMU_P1FWM_ENGINE_SPEED_TORQUE_H_X_INDEX_13        678\n",
              "LX_PMU_P1FWM_ENGINE_SPEED_TORQUE_H_X_INDEX_12        678\n",
              "LX_PMU_P1FWM_ENGINE_SPEED_TORQUE_H_X_INDEX_11        678\n",
              "LX_PMU_P1FWM_ENGINE_SPEED_TORQUE_H_X_INDEX_10        678\n",
              "LX_PMU_P1FWM_ENGINE_SPEED_TORQUE_H_X_INDEX_1         678\n",
              "LX_PMU_P1FWM_ENGINE_SPEED_TORQUE_H_X_INDEX_9         678\n",
              "LX_PMU_P1FWM_ENGINE_SPEED_TORQUE_H_X_INDEX_2         678\n",
              "X_PMU_P1FWM_ENGINE_SPEED_TORQUE_H_X_INDEX_19         678\n",
              "LX_PMU_P1FWM_ENGINE_SPEED_TORQUE_H_Y_INDEX_14        678\n",
              "LX_PMU_P1FWM_ENGINE_SPEED_TORQUE_H_Y_INDEX_13        678\n",
              "LX_PMU_P1FWM_ENGINE_SPEED_TORQUE_H_Y_INDEX_12        678\n",
              "LX_PMU_P1FWM_ENGINE_SPEED_TORQUE_H_Y_INDEX_10        678\n",
              "LX_PMU_P1FWM_ENGINE_SPEED_TORQUE_H_Y_INDEX_11        678\n",
              "X_PSC_P1IPO_MINIMUM_UREA_QUALITY_MASS__AT_           634\n",
              "X_PSC_P1JBB_UREA_ADAPTION_NWM_PARAMERTER_4           634\n",
              "X_PSC_P1JBA_UREA_ADAPTION_NWM_PARAMERTER_3           634\n",
              "LX_PST_P1H6B_138_NCATCOND                            634\n",
              "X_PSC_P1JA9_UREA_ADAPTION_NWM_PARAMERTER_2           634\n",
              "X_PSC_P1JA8_UREA_ADAPTION_NWM_PARAMERTER_1           634\n",
              "X_PSC_P1ITW_FUEL_CONSUMPTION_DURING_PARKED           634\n",
              "LX_PST_P1H6B_137_NCATCOMP                            634\n",
              "X_PSC_P1IPM_UREA_QUALITY_MASS_SAVED_AT_POW           634\n",
              "X_PSC_P1IPN_MAXIMUM_UREA_QUALITY_MASS__AT_           634\n",
              "X_PSC_P1JBD_UREA_ADAPTION_NWM_PARAMERTER_6           634\n",
              "LX_PST_P1H6B_136_HCCATCOND                           634\n",
              "X_PSC_P1HTM_SOOT_LEVEL                               634\n",
              "LX_PST_P1H6B_134_IGNCNTR                             634\n",
              "LX_PST_P1H6B_133_OBDCOND                             634\n",
              "LX_PSC_P1JR3_AUTOMATIC_SULPHUR_FUEL_REGENER          634\n",
              "LX_PSC_P1ITX_FUEL_CONSUMPTION_DURING_MOVING          634\n",
              "LX_PSC_P1IPX_TOTAL_INJECTED_UREA__L                  634\n",
              "X_PSC_P1JBC_UREA_ADAPTION_NWM_PARAMERTER_5           634\n",
              "X_PST_P1H6B_135_HCCATCOMP                            634\n",
              "LX_PST_P1H6B_150_FUELCOND                            634\n",
              "X_PSC_P1JRQ_PARKED_SOOT_REGENERATION_TRIGG           634\n",
              "LX_PST_P1H6B_149_FUELCOMP                            634\n",
              "LX_PST_P1H6B_148_BPCOND                              634\n",
              "X_PSC_P1KOA_SPECIFIC_NOX_EMISSIONS_AT_EXHA           634\n",
              "LX_PST_P1H6B_147_BPCOMP                              634\n",
              "LX_PST_P1H6B_145_EGRCOMP                             634\n",
              "LX_PST_P1H6B_144_EGSCOND                             634\n",
              "X_PSC_P1JRY_AUTOMATIC_SOOT_KF_REGENERATION           634\n",
              "X_PSC_P1JRX_AUTOMATIC_SOOT_PM_REGENERATION           634\n",
              "X_PSC_P1JRW_AUTOMATIC_SOOT_TIME_REGENERATI           634\n",
              "X_PSC_P1JRT_PARKED_SULPHUR_REGENERATION_TR           634\n",
              "LX_PST_P1H6B_143_EGSCOMP                             634\n",
              "X_PSC_P1JBF_UREA_ADAPTION_NWM_PARAMERTER_8           634\n",
              "LX_PST_P1H6B_142_PMCOND                              634\n",
              "LX_PST_P1H6B_141_PMCOMP                              634\n",
              "X_PSC_P1JBN_UREA_ADAPTION_FACTOR_NWM_PARAM           634\n",
              "X_PSC_P1JBM_UREA_ADAPTION_NWM_PARAMERTER_1           634\n",
              "X_PSC_P1JBL_UREA_ADAPTION_NWM_PARAMERTER_1           634\n",
              "X_PSC_P1JBK_UREA_ADAPTION_NWM_PARAMERTER_1           634\n",
              "X_PSC_P1JBJ_UREA_ADAPTION_NWM_PARAMERTER_1           634\n",
              "X_PSC_P1JBI_UREA_ADAPTION_NWM_PARAMERTER_1           634\n",
              "X_PSC_P1JBH_UREA_ADAPTION_NWM_PARAMERTER_1           634\n",
              "X_PSC_P1JBG_UREA_ADAPTION_NWM_PARAMERTER_9           634\n",
              "X_PSC_P1JBE_UREA_ADAPTION_NWM_PARAMERTER_7           634\n",
              "LX_PST_P1H6B_146_EGRCOND                             634\n",
              "SLX_PSC_P1ITX_FUEL_CONSUMPTION_DURING_MOVING         634\n",
              "SLX_PSC_P1JR3_AUTOMATIC_SULPHUR_FUEL_REGENER         634\n",
              "SX_PSC_P1ITW_FUEL_CONSUMPTION_DURING_PARKED          634\n",
              "SLX_PSC_P1IPX_TOTAL_INJECTED_UREA__L                 634\n",
              "SLX_PFE_0004_UREA_OVER_FUEL                          446\n",
              "SLX_PFE_0001_FUEL_OVER_MILEAGE                       445\n",
              "SLX_PFE_0002_PTO_OVER_ENGINETIME                     445\n",
              "SLX_PFE_0003_IDLE_OVER_ENGINETIME                    445\n",
              "LX_PST_P1B3C_66_ELENGINEGREENAREATORQUEFUEL_LO       403\n",
              "LX_PST_P1B3C_62_ELENGINEGREENAREATIME_LOG            403\n",
              "LX_PST_P1B3C_63_ELENGINEGREENAREAFUEL_LOG            403\n",
              "LX_PST_P1B3C_64_ELENGINEGREENAREADISTANCE_LOG        403\n",
              "LX_PST_P1B3R_60_ELFUELCONSUMPTIONVEHICLERUNNIN       403\n",
              "LX_PST_P1B3C_67_ELENGINEGREENAREATORQUEDISTANC       403\n",
              "LX_PST_P1B3R_59_ELFUELCONSUMPTIONPTO_LOG             403\n",
              "LX_PST_P1B2W_87_ELLOWIDLESPEEDVEHICLESTOPPEDTI       403\n",
              "LX_PST_P1B3R_61_ELFUELCONSUMPTIONVEHICLESTOPPE       403\n",
              "LX_PST_P1B2W_88_ELLOWIDLESPEEDVEHICLESTOPPEDFU       403\n",
              "LX_PST_P1B3C_65_ELENGINEGREENAREATORQUETIME_LO       403\n",
              "SLX_PFE_0007_PCT_DISTANCE_IN_AUTOMATIC_MODE          394\n",
              "SX_PSC_P1AQ8_ENTERED_NO_SPEED_MODE                   363\n",
              "LX_PSC_P1ARB_ECONOMY_MODE_TIME                       363\n",
              "LX_PSC_P1AQZ_ENTERED_BRAKE_MODE                      363\n",
              "LX_PSC_P1AQY_ENTERED_POWER_MODE                      363\n",
              "LX_PSC_P1AQX_ENTERED_ECONOMY_MODE                    363\n",
              "SX_PSC_P1AQ0_ENTERED_KICKDOWN_MODE                   363\n",
              "SX_PSC_P1AQ6_ENTERED_LIMPHOME_MODE                   363\n",
              "LX_PSC_P1AQ7_ENTERED_BACKUP_MODE                     363\n",
              "LX_PSC_P1AQK_GEARBOX_MOVEMENT_SPLIT_INDIREC          363\n",
              "SLX_PFE_0008_NBR_OF_GEARSHIFTS                       363\n",
              "SX_PSC_P1AQS_KICKDOWN_MODE_TIME                      363\n",
              "SX_PSC_P1ARA_ENTERED_DYNAMOMETER_MODE                363\n",
              "LX_PSC_P1AQ5_PRESS_DOWN_MANUAL                       363\n",
              "LX_PSC_P1AQW_ECOROLL_ACTIVE_DISTANCE                 363\n",
              "LX_PSC_P1AQ4_PRESS_UP_MANUAL                         363\n",
              "LX_PSC_P1AQ3_PRESS_DOWN_AUTO                         363\n",
              "LX_PSC_P1AQV_ECOROLL_ENABLED_DISTANCE                363\n",
              "SX_PSC_P1AQ9_ENTERED_FAULTY_GEARBOX_MODE             363\n",
              "LX_PSC_P1AQD_GEARBOX_MOVEMENT_GEAR1R_GEAR1           363\n",
              "LX_PSC_P1AQJ_GEARBOX_MOVEMENT_SPLIT_DIRECT           363\n",
              "LX_PSC_P1AQP_POWER_MODE_DISTANCE                     363\n",
              "LX_PSC_P1AQI_GEARBOX_MOVEMENT_GEAR23_NEUTRA          363\n",
              "LX_PSC_P1AQH_GEARBOX_MOVEMENT_GEAR23_GEAR3           363\n",
              "LX_PSC_P1AQL_GEARBOX_MOVEMENT_SPLIT_NEUTRAL          363\n",
              "LX_PSC_P1AQM_GEARBOX_MOVEMENT_RANGE_LOW              363\n",
              "LX_PSC_P1AQG_GEARBOX_MOVEMENT_GEAR23_GEAR2           363\n",
              "LX_PSC_P1AQN_GEARBOX_MOVEMENT_RANGE_HIGH             363\n",
              "LX_PSC_P1AQO_POWER_MODE_TIME                         363\n",
              "LX_PSC_P1AQQ_POWER_MODE_FUEL                         363\n",
              "LX_PSC_P1AQE_GEARBOX_MOVEMENT_GEAR1R_GEARR           363\n",
              "LX_PSC_P1AQR_BRAKE_MODE_TIME                         363\n",
              "LX_PSC_P1ARN_CLUTCH_NUMBER_SLIP_ABUSE                363\n",
              "LX_PSC_P1ARL_BRAKE_MODE_DISTANCE                     363\n",
              "LX_PSC_P1ARD_ECONOMY_MODE_FUEL                       363\n",
              "LX_PSC_P1ARC_ECONOMY_MODE_DISTANCE                   363\n",
              "LX_PSC_P1APU_CLUTCH_NUMBER_DISENGAGES                363\n",
              "LX_PSC_P1AQF_GEARBOX_MOVEMENT_GEAR1R_NEUTRA          363\n",
              "LX_PSC_P1AQ1_LEVER_MOVED_FROM_AUTO_TO_MAN            363\n",
              "LX_PSC_P1AQU_ECOROLL_ACTIVE_TIME                     363\n",
              "LX_PSC_P1APQ_GEAR_LEVER_MANUAL_TIME                  363\n",
              "LX_PSC_P1AP6_GEAR_LEVER_MANUAL_DISTANCE              363\n",
              "SLX_PSC_P1APU_CLUTCH_NUMBER_DISENGAGES               363\n",
              "LX_PSC_P1APP_GEAR_LEVER_AUTOMATIC_TIME               363\n",
              "SLX_PSC_P1AQG_GEARBOX_MOVEMENT_GEAR23_GEAR2          363\n",
              "SLX_PSC_P1AQ1_LEVER_MOVED_FROM_AUTO_TO_MAN           363\n",
              "SLX_PSC_P1ARN_CLUTCH_NUMBER_SLIP_ABUSE               363\n",
              "SLX_PSC_P1ARL_BRAKE_MODE_DISTANCE                    363\n",
              "SLX_PSC_P1ARB_ECONOMY_MODE_TIME                      363\n",
              "LX_PSC_P1AQ2_PRESS_UP_AUTO                           363\n",
              "SLX_PSC_P1AQZ_ENTERED_BRAKE_MODE                     363\n",
              "SLX_PSC_P1AQ7_ENTERED_BACKUP_MODE                    363\n",
              "SLX_PSC_P1AQE_GEARBOX_MOVEMENT_GEAR1R_GEARR          363\n",
              "LX_PSC_P1AQT_ECOROLL_ENABLED_TIME                    363\n",
              "SLX_PSC_P1AQY_ENTERED_POWER_MODE                     363\n",
              "SLX_PSC_P1AQX_ENTERED_ECONOMY_MODE                   363\n",
              "SLX_PSC_P1AQU_ECOROLL_ACTIVE_TIME                    363\n",
              "SLX_PSC_P1AQR_BRAKE_MODE_TIME                        363\n",
              "SLX_PSC_P1AQQ_POWER_MODE_FUEL                        363\n",
              "LX_PSC_P1APL_CLUTCH_TIME_DISENGAGED                  363\n",
              "SLX_PSC_P1AQP_POWER_MODE_DISTANCE                    363\n",
              "X_PSC_P1AQ9_ENTERED_FAULTY_GEARBOX_MODE              363\n",
              "X_PSC_P1AQS_KICKDOWN_MODE_TIME                       363\n",
              "LX_PSC_P1AP5_GEAR_LEVER_AUTOMATIC_DISTANCE           363\n",
              "X_PSC_P1ARA_ENTERED_DYNAMOMETER_MODE                 363\n",
              "X_PSC_P1ARM_KICKDOWN_MODE_DISTANCE                   363\n",
              "X_PSC_P1AQ0_ENTERED_KICKDOWN_MODE                    363\n",
              "X_PSC_P1AQ6_ENTERED_LIMPHOME_MODE                    363\n",
              "X_PSC_P1AQ8_ENTERED_NO_SPEED_MODE                    363\n",
              "SLX_PSC_P1APL_CLUTCH_TIME_DISENGAGED                 363\n",
              "LX_PSC_P1J63_ELECTRONIC_STABILITY_PROGRAMES          326\n",
              "LX_PSC_P1C5K_BRAKING_WITH_BIG_DECELERATION           326\n",
              "X_PSC_P1C04_VEHICLE_WEIGHT_WITH_TRAILER_ME           326\n",
              "LX_PSC_P1J65_BRAKE_ASSIST_DATA                       326\n",
              "SLX_PFE_0009_PCT_TOP_GEAR                            283\n",
              "X_PST_P1ENC_21_PMLININGWEARMONITOR_LOG               283\n",
              "LX_PSC_P1BBZ_TOTAL_ENGINE_REVOLUTIONS                263\n",
              "LX_PSC_P1ATK_MAIN_LOG_ECONOMICAL_FUEL                263\n",
              "LX_PSC_P1E8Y_TOTAL_NUMBER_OF_PARK_BRAKE_APP          263\n",
              "X_PSC_P1EII_WFACTOR                                  263\n",
              "LX_PSC_P1ATJ_MAIN_LOG_VTC_ENGINE_SPEED_TIME          263\n",
              "LX_PSC_P1ATN_MAIN_LOG_VTC_ENGINE_SPEED_FUEL          263\n",
              "LX_PSC_P1ATL_MAIN_LOG_PEDAL_FUEL                     263\n",
              "LX_PSC_P1ATM_MAIN_LOG_ROAD_SPEED_LIMIT_FUEL          263\n",
              "X_PSC_P1E09_VEHICLE_AIR_LEAKAGE_ESTIMATED            263\n",
              "LX_PSC_P1E0Q_TOTAL_NUMBER_OF_AUTOMATIC_PARK          263\n",
              "LX_PSC_P1E0P_TOTAL_NUMBER_OF_AUTOMATIC_PARK          263\n",
              "LX_PSC_P1E0O_TOTAL_NUMBER_OF_PARK_BRAKE_MAN          263\n",
              "LX_PSC_P1BBV_DISTANCE_IN_TOP_GEAR                    263\n",
              "LX_PSC_P1E0N_TOTAL_NUMBER_OF_PARK_BRAKE_MAN          263\n",
              "LX_PSC_P1BBW_FUEL_IN_TOP_GEAR                        263\n",
              "LX_PSC_P1BBX_TIME_IN_TOP_GEAR                        263\n",
              "SLX_PSC_P1FY7_TOP_GEAR_1_MODE_TOTAL_DISTANCE         263\n",
              "LX_PSC_P1ATB_MAIN_LOG_CUSTOMER_ENGINE_SPEED          263\n",
              "LX_PSC_P1ATI_MAIN_LOG_ROAD_SPEED_LIMIT_TIME          263\n",
              "LX_PSC_P1ATG_MAIN_LOG_PEDAL_TIME                     263\n",
              "X_PSC_P1AFR_OUTDOOR_TEMPERATURE                      263\n",
              "X_PSC_P1AOD_DIFF_RSL_MAX_VSPD_NEXT_HIGHEST           263\n",
              "LX_PSC_P1AS2_MAIN_LOG_BRAKE_DISTANCE                 263\n",
              "LX_PSC_P1AS3_MAIN_LOG_COASTING_DISTANCE              263\n",
              "LX_PSC_P1AS4_MAIN_LOG_ECON_DISTANCE                  263\n",
              "LX_PSC_P1AS5_MAIN_LOG_PEDAL_DISTANCE                 263\n",
              "LX_PSC_P1AS6_MAIN_LOG_PTO_DISTANCE                   263\n",
              "LX_PSC_P1AS7_MAIN_LOG_ROAD_SPEED_LIMIT_DIST          263\n",
              "LX_PSC_P1ASP_MAIN_LOG_CRUISE_DISTANCE                263\n",
              "LX_PSC_P1ASQ_MAIN_LOG_CRUISE_FUEL                    263\n",
              "LX_PSC_P1ASR_MAIN_LOG_CRUISE_TIME                    263\n",
              "LX_PSC_P1ASU_MAIN_LOG_DRIVE_FUEL                     263\n",
              "X_PSC_P1ATX_OIL_STATUS                               263\n",
              "LX_PSC_P1ASW_MAIN_LOG_IDLE_FUEL                      263\n",
              "LX_PSC_P1ASX_MAIN_LOG_PTO_FUEL                       263\n",
              "LX_PSC_P1ATA_MAIN_LOG_COASTING_TIME                  263\n",
              "LX_PSC_P1FXC_UREA_SYSTEM_ERROR_COUNT_LOG             263\n",
              "LX_PSC_P1ATC_MAIN_LOG_CUSTOMER_VEHICLE_SPEE          263\n",
              "LX_PSC_P1ATD_MAIN_LOG_ECONOMICAL_TIME                263\n",
              "X_PSC_P1B99_AIR_PRODUCTION_MODULATOR_TOTAL           263\n",
              "X_PSC_P1BVS_IDLE_SHUTDOWN_IDLE_TIMER_VALUE           263\n",
              "X_PSC_P1EZH_TOTAL_NUMBER_OF_TRAILER_TEST_A           263\n",
              "LX_PST_P1E0L_1072_MV3                                263\n",
              "LX_PSC_P1FXD_TIME_WITH_UREA_SYSTEM_ERROR_LO          263\n",
              "SLX_PSC_P1ASW_MAIN_LOG_IDLE_FUEL                     263\n",
              "LX_PST_P1C3B_126_VDLOVERSPEEDFUEL_LOG                263\n",
              "LX_PST_P1C3B_127_VDLOVERSPEEDDISTANCE_LOG            263\n",
              "LX_PST_P1C3B_129_VDLOVERSPEEDMAX_LOG                 263\n",
              "LX_PSC_P1FY7_TOP_GEAR_1_MODE_TOTAL_DISTANCE          263\n",
              "LX_PST_P1E0L_1074_MV5                                263\n",
              "SLX_PSC_P1AS4_MAIN_LOG_ECON_DISTANCE                 263\n",
              "SLX_PSC_P1AS6_MAIN_LOG_PTO_DISTANCE                  263\n",
              "SLX_PSC_P1ASQ_MAIN_LOG_CRUISE_FUEL                   263\n",
              "SLX_PSC_P1ASR_MAIN_LOG_CRUISE_TIME                   263\n",
              "SLX_PSC_P1ATJ_MAIN_LOG_VTC_ENGINE_SPEED_TIME         263\n",
              "LX_PST_P1C3B_124_VDLOVERSPEEDCOUNTER_LOG             263\n",
              "SLX_PSC_P1ATN_MAIN_LOG_VTC_ENGINE_SPEED_FUEL         263\n",
              "SLX_PSC_P1BBX_TIME_IN_TOP_GEAR                       263\n",
              "SLX_PSC_P1E0O_TOTAL_NUMBER_OF_PARK_BRAKE_MAN         263\n",
              "SLX_PSC_P1E0P_TOTAL_NUMBER_OF_AUTOMATIC_PARK         263\n",
              "SLX_PSC_P1E0Q_TOTAL_NUMBER_OF_AUTOMATIC_PARK         263\n",
              "SLX_PSC_P1E8Y_TOTAL_NUMBER_OF_PARK_BRAKE_APP         263\n",
              "X_PST_P1E1D_1076_MILEAGE_CARTRIDGE_N1                263\n",
              "X_PST_P1E1D_1075_TAV_CARTRIDGE_N1                    263\n",
              "X_PST_P1C2O_365_VDLCOMPRTOTALTIME_LOG                263\n",
              "LX_PST_P1C3B_125_VDLOVERSPEEDTIME_LOG                263\n",
              "LX_PST_P1E0L_1073_MV4                                263\n",
              "LX_PST_P1C2O_364_VDLCOMPRCONJUNCTIONTRACTIONTIM      263\n",
              "X_PSC_P1F0I_ENGINE_INTAKE_AIR_MASS_FLOW_RA           263\n",
              "SLX_PSC_P1FXC_UREA_SYSTEM_ERROR_COUNT_LOG            263\n",
              "LX_PST_P1C2O_363_VDLCOMPRCONJUNCTIONNOTTRACTION      263\n",
              "LX_PSC_P1IV0_AIR_PRODUCTION_MODULATOR_HEATE          263\n",
              "LX_PSC_P1FY9_TOP_GEAR_1_MODE_TOTAL_TIME              263\n",
              "LX_PSC_P1FY8_TOP_GEAR_1_MODE_TOTAL_FUEL              263\n",
              "X_PSC_P1FXO_YAXIS_OF_EXHAUST_TEMPERATURE_1           263\n",
              "X_PSC_P1HUB_SOFT_CRUISE_ENABLE                       263\n",
              "LX_PST_P1C2O_362_VDLCOMPRDISJUNCTIONTIME_LOG         263\n",
              "LX_PSC_P1FYO_TOTAL_TIME_IN_IDLE_MODE_PTO             263\n",
              "LX_PST_P1E1E_813_OPERATION_TIME                      262\n",
              "SLX_PST_P1E1E_813_OPERATION_TIME                     262\n",
              "LX_PST_P1E1E_812_TAV_COMP                            262\n",
              "X_PST_P1E1E_811_COMP_DUTY_CYCLE                      262\n",
              "X_PST_P1ENC_19_PMLININGWEARAXLENUMBER_LOG            224\n",
              "X_PST_P1ENC_18_PMLININGWEARPREDICTIVEMILEAGE_        223\n",
              "LX_PST_P1B3A_2156_BCLVEHICLEMODEACCESSORYTIME_LO     178\n",
              "LX_PST_P1B3A_329_BCLVEHICLEMODELIVINGTIME_LOG        178\n",
              "LX_PST_P1B3A_331_BCLVEHICLEMODEPRERUNNINGTIME_L      178\n",
              "LX_PSC_P1EVS_CLUTCH_PLATE_WEAR                       100\n",
              "SLX_PSC_P1EVS_CLUTCH_PLATE_WEAR                      100\n",
              "X_PST_P1EM9_16_PMAIRDRYERCARTRIDGEMONITOR_LOG          1\n",
              "YEAR                                                   0\n",
              "LAST_RUN                                               0\n",
              "Malfunction_Label                                      0\n",
              "RUL                                                    0\n",
              "DAY                                                    0\n",
              "MONTH                                                  0\n",
              "LAST_RUN.1                                             0\n",
              "T_CHASSIS                                              0\n",
              "INT_BWSD                                               0\n",
              "DELIVERY_DATE                                          0\n",
              "VFE_0007_CAB_HEIGHT                                    0\n",
              "LX_PSC_P1AS9_MAIN_LOG_BRAKE_TIME                       0\n",
              "VAR_4QB_BODYBUILDER_EL_INTERFCAB_CHAS                  0\n",
              "VAR_7NA_FRONT_SUSPENSION_INSTALLATION                  0\n",
              "VAR_7PX_HYDRAULIC_PUMP_GEARBOX_MOUNTED                 0\n",
              "VAR_FDX_REAR_AXLE_ARRANGEMENT                          0\n",
              "VAR_H1B_TURBO_APPLICATION                              0\n",
              "VAR_VWX_COMPRESSOR_CAPACITY                            0\n",
              "VAR_FVX_FRONT_AXLE_LOAD                                0\n",
              "VAR_U4X_BRAKE_DRIVE_REAR                               0\n",
              "VAR_T2X_TRANSMISSIONRETARDER_COOLER                    0\n",
              "VAR_78X_TRANSPORT_CYCLE                                0\n",
              "VAR_REX_CRANK_CASE_VENTILATION                         0\n",
              "VAR_UBX_HYDRAULIC_PUMP_ENG_MTD                         0\n",
              "VAR_QWX_TURBO                                          0\n",
              "VAR_T4X_PTO_TRANSM_MOUNTED                             0\n",
              "VAR_U3X_BRAKE_FRONT                                    0\n",
              "VAR_RUX_GEAR_SHIFTING_SYSTEM                           0\n",
              "VAR_2LX_FRONT_CAB_SUSPENSION                           0\n",
              "VAR_A3A_IDLE_SHUTDOWN                                  0\n",
              "VAR_TAX_REAR_AXLE_RATIO                                0\n",
              "VAR_5NX_ENGINE_BLOCK_HEATER                            0\n",
              "VAR_2GB_CLUTCHABLE_AIR_COMPRESSOR                      0\n",
              "VAR_5CB_AIR_SUSP_FEATURE_SOFTWARE                      0\n",
              "VAR_FFX_PUSHER_AXLE_FEATURES                           0\n",
              "VAR_LKX_DRIVER_STATE_SENSING_SYSTEM                    0\n",
              "VAR_FZX_FRONT_AXLE_ARRANGEMENT                         0\n",
              "LX_PSC_P1AST_MAIN_LOG_DRIVE_DISTANCE                   0\n",
              "VAR_D9C_EMISSION_LEVEL                                 0\n",
              "VFE_0005_REAR_AXLE_RATIO_BIN                           0\n",
              "VFE_0004_REAR_AXLE_LOAD_BIN                            0\n",
              "VFE_0003_ENGINE_GENERATION                             0\n",
              "VFE_0002_GROSS_COMBINATION_WEIGHT_BIN                  0\n",
              "VFE_0001_HORSE_POWER                                   0\n",
              "VAR_N9C_ADR_CLASSIFICATION                             0\n",
              "VAR_J2A_ACTIVE_STEERING                                0\n",
              "VAR_33A_CAB_HEIGHT                                     0\n",
              "VAR_O8A_ENGINE_PTO_TORQUE_CAPACITY                     0\n",
              "VAR_DDX_CHASSIS_TYPE                                   0\n",
              "VAR_2EX_CAB_TILT_PUMP                                  0\n",
              "VAR_V6X_RETARDER                                       0\n",
              "VAR_DHX_ROAD_CONDITION                                 0\n",
              "VAR_RWX_TRANSMISSION                                   0\n",
              "VAR_5JB_TELEMATICS_COMMUNICAT_GATEWAYS                 0\n",
              "VAR_D7C_WHOLE_VEHICLE_TYPE_APPROVAL                    0\n",
              "VAR_41X_PARKING_HEATER                                 0\n",
              "VAR_PJX_ALTERNATOR_CAPACITY                            0\n",
              "VAR_T3X_PTO_ENGINE_REAR_MOUNTED                        0\n",
              "VAR_YKX_FRONT_SUSPENSION_SYSTEM                        0\n",
              "VAR_0RA_REGENERATION_CONTROLS_DPF                      0\n",
              "VAR_K4C_VEHICLE_UPTIME_SETTINGS                        0\n",
              "VAR_GSX_CHASSIS_HEIGHT                                 0\n",
              "VAR_2DX_REAR_CAB_SUSPENSION                            0\n",
              "VAR_2CX_CAB_VERSION                                    0\n",
              "LX_PST_P1EM9_12_PMAIRDRYERCARTRIDGERESETVEHICL         0\n",
              "SLX_PSC_P1ASV_MAIN_LOG_DRIVE_TIME                      0\n",
              "SLX_PSC_P1AS9_MAIN_LOG_BRAKE_TIME                      0\n",
              "AGE_YEARS                                              0\n",
              "AGE_MONTHS                                             0\n",
              "X_PSC_P1E0I_AIR_PRODUCTION_MODULATOR_CARTR             0\n",
              "X_PST_P1EM9_14_PMAIRDRYERCARTRIDGEPREDICTIVEM          0\n",
              "X_PST_P1EM9_15_PMAIRDRYERCARTRIDGEPERCENTAGEW          0\n",
              "LX_TOTAL_VEHICLE_DISTANCE_RULE_BASED                   0\n",
              "VFE_0009_LTVF_TYPE                                     0\n",
              "LX_PST_P1EM9_13_PMAIRDRYERCARTRIDGERESETENGINE         0\n",
              "LX_PST_P1EM9_11_PMAIRDRYERCARTRIDGERESETCALEND         0\n",
              "VAR_FAX_STEERING_WHEEL_POS                             0\n",
              "LX_PST_P1B3A_332_BCLVEHICLEMODECRANKINGTIME_LOG        0\n",
              "LX_PSC_P1IPV_INJECTED_UREA_TOTAL_MASS                  0\n",
              "LX_PSC_P1FUO_NUMBER_OF_STARTER_ACTIVATION_D            0\n",
              "LX_PSC_P1FUN_NUMBER_OF_ENGINE_STARTS_DURING            0\n",
              "LX_PSC_P1BB0_TOTAL_ENGINE_TIME                         0\n",
              "LX_PSC_P1ATO_MAIN_LOG_TOTAL_ENERGY                     0\n",
              "LX_PSC_P1ATH_MAIN_LOG_PTO_TIME                         0\n",
              "LX_PSC_P1ATF_MAIN_LOG_KEY_ON_TIME                      0\n",
              "LX_PSC_P1ATE_MAIN_LOG_IDLE_TIME                        0\n",
              "LX_PSC_P1ASV_MAIN_LOG_DRIVE_TIME                       0\n",
              "SLX_PSC_P1ATE_MAIN_LOG_IDLE_TIME                       0\n",
              "SLX_PSC_P1ATH_MAIN_LOG_PTO_TIME                        0\n",
              "SLX_PSC_P1BB0_TOTAL_ENGINE_TIME                        0\n",
              "SLX_PSC_P1BBY_TOTAL_FUEL_CONSUMPTION                   0\n",
              "VAR_2RB_BATTERY_MAINTENANCE                            0\n",
              "VAR_DKX_GROSS_COMBINATION_WEIGHT                       0\n",
              "VAR_YLX_REAR_SUSPENSION_SYSTEM                         0\n",
              "VAR_QCX_TOPOGRAPHY                                     0\n",
              "VAR_3ZB_TRANSMISSION_PTO_TORQUE_CAP                    0\n",
              "VAR_KTX_ENGINE_EMISSION_CONTROL                        0\n",
              "VAR_CKX_VEHICLE_PROFILE                                0\n",
              "VAR_FTX_GROUND_CLEARANCE_FA                            0\n",
              "VAR_F1X_REAR_AXLE_LOAD                                 0\n",
              "VAR_4DX_FRONT_BUMPER                                   0\n",
              "VAR_T1X_PTO_ENGINE_MOUNTED_REAR                        0\n",
              "VAR_DPX_ENGINE_TYPE                                    0\n",
              "VAR_7MA_FRONT_AXLE_TYPE                                0\n",
              "COUNTRY_OF_OPERATION                                   0\n",
              "VAR_DAX_AXLE_ARRANGEMENT                               0\n",
              "VFE_0008_HAS_PTO                                       0\n",
              "VFE_0006_VEHICLE_OPERATION_DIGIT2                      0\n",
              "VFE_0005_VEHICLE_OPERATION_DIGIT1                      0\n",
              "LX_PSC_P1BBY_TOTAL_FUEL_CONSUMPTION                    0\n",
              "SLX_TOTAL_VEHICLE_DISTANCE_RULE_BASED                  0\n",
              "SLX_PSC_P1IPV_INJECTED_UREA_TOTAL_MASS                 0\n",
              "BIWEEK_SEND_DATE                                       0\n",
              "dtype: int64"
            ]
          },
          "metadata": {
            "tags": []
          },
          "execution_count": 8
        }
      ]
    },
    {
      "cell_type": "code",
      "metadata": {
        "id": "YJ-Gn5mC9Hp-",
        "colab_type": "code",
        "colab": {}
      },
      "source": [
        "# using interativeimputer\n",
        "from sklearn.experimental import enable_iterative_imputer\n",
        "from sklearn.impute import IterativeImputer"
      ],
      "execution_count": 0,
      "outputs": []
    },
    {
      "cell_type": "code",
      "metadata": {
        "id": "UTa_K-wR9lED",
        "colab_type": "code",
        "colab": {}
      },
      "source": [
        "# this feature ['LX_PST_P1B3A_332_BCLVEHICLEMODECRANKINGTIME_LOG'] has a good relationship with -\n",
        "# - LX_PSC_P1FUO_NUMBER_OF_STARTER_ACTIVATION_D, LX_PSC_P1FUN_NUMBER_OF_ENGINE_STARTS_DURING\n",
        "# data['LX_PST_P1B3A_332_BCLVEHICLEMODECRANKINGTIME_LOG'].isnull().value_counts()"
      ],
      "execution_count": 0,
      "outputs": []
    },
    {
      "cell_type": "code",
      "metadata": {
        "id": "UdcjTQmU9ITA",
        "colab_type": "code",
        "colab": {}
      },
      "source": [
        "data_reg_1 = data[['LX_PSC_P1FUO_NUMBER_OF_STARTER_ACTIVATION_D', 'LX_PSC_P1FUN_NUMBER_OF_ENGINE_STARTS_DURING', 'LX_PST_P1B3A_332_BCLVEHICLEMODECRANKINGTIME_LOG']]\n"
      ],
      "execution_count": 0,
      "outputs": []
    },
    {
      "cell_type": "code",
      "metadata": {
        "id": "Uw9jfPry9UmR",
        "colab_type": "code",
        "outputId": "a29e0da7-15ea-43f5-b66f-0423b7f44ea0",
        "colab": {
          "base_uri": "https://localhost:8080/",
          "height": 86
        }
      },
      "source": [
        "data_reg_1.isnull().sum().sort_values(ascending=False)"
      ],
      "execution_count": 12,
      "outputs": [
        {
          "output_type": "execute_result",
          "data": {
            "text/plain": [
              "LX_PST_P1B3A_332_BCLVEHICLEMODECRANKINGTIME_LOG    0\n",
              "LX_PSC_P1FUN_NUMBER_OF_ENGINE_STARTS_DURING        0\n",
              "LX_PSC_P1FUO_NUMBER_OF_STARTER_ACTIVATION_D        0\n",
              "dtype: int64"
            ]
          },
          "metadata": {
            "tags": []
          },
          "execution_count": 12
        }
      ]
    },
    {
      "cell_type": "code",
      "metadata": {
        "id": "Sc-bZdT19aTM",
        "colab_type": "code",
        "colab": {}
      },
      "source": [
        "imp = IterativeImputer(max_iter=10, random_state=42)\n"
      ],
      "execution_count": 0,
      "outputs": []
    },
    {
      "cell_type": "code",
      "metadata": {
        "id": "glOpvcOW9x5h",
        "colab_type": "code",
        "colab": {}
      },
      "source": [
        "# perform imputation ont the missing values\n",
        "result = pd.DataFrame(imp.fit_transform(data_reg_1.values), columns=data_reg_1.columns)"
      ],
      "execution_count": 0,
      "outputs": []
    },
    {
      "cell_type": "code",
      "metadata": {
        "id": "eQx5lhuh982x",
        "colab_type": "code",
        "outputId": "260051e2-a4cc-4f44-b721-febdb69bb9a7",
        "colab": {
          "base_uri": "https://localhost:8080/",
          "height": 86
        }
      },
      "source": [
        "result.isnull().sum().sort_values(ascending=False)"
      ],
      "execution_count": 15,
      "outputs": [
        {
          "output_type": "execute_result",
          "data": {
            "text/plain": [
              "LX_PST_P1B3A_332_BCLVEHICLEMODECRANKINGTIME_LOG    0\n",
              "LX_PSC_P1FUN_NUMBER_OF_ENGINE_STARTS_DURING        0\n",
              "LX_PSC_P1FUO_NUMBER_OF_STARTER_ACTIVATION_D        0\n",
              "dtype: int64"
            ]
          },
          "metadata": {
            "tags": []
          },
          "execution_count": 15
        }
      ]
    },
    {
      "cell_type": "code",
      "metadata": {
        "id": "p1VyLKv69qbp",
        "colab_type": "code",
        "colab": {}
      },
      "source": [
        "# updates the dataframe\n",
        "data[['LX_PSC_P1FUO_NUMBER_OF_STARTER_ACTIVATION_D', 'LX_PSC_P1FUN_NUMBER_OF_ENGINE_STARTS_DURING', 'LX_PST_P1B3A_332_BCLVEHICLEMODECRANKINGTIME_LOG']] = result"
      ],
      "execution_count": 0,
      "outputs": []
    },
    {
      "cell_type": "code",
      "metadata": {
        "id": "yBrjs-igxNoR",
        "colab_type": "code",
        "colab": {}
      },
      "source": [
        "# updated the current database with this new changes\n",
        "# save new data frame\n",
        "# data.to_csv(\"drive/My Drive/Thesis/data/Data_Engineering/Edited_Raw_Data/v2_feature_engineering_data.csv\", sep=',', index=False)\n"
      ],
      "execution_count": 0,
      "outputs": []
    },
    {
      "cell_type": "code",
      "metadata": {
        "id": "Nak-kN-F--sD",
        "colab_type": "code",
        "outputId": "8a2ce7c8-836d-4d94-a31f-48b5e9c71982",
        "colab": {
          "base_uri": "https://localhost:8080/",
          "height": 1000
        }
      },
      "source": [
        "#100 * (data.isnull().sum().sort_values(ascending=False) / data.shape[0])\n",
        "data.isnull().sum().sort_values(ascending=False)"
      ],
      "execution_count": 17,
      "outputs": [
        {
          "output_type": "execute_result",
          "data": {
            "text/plain": [
              "LX_PSC_P1MNF_COMPRESSOR_LOAD_PHASE_COUNTER          1583\n",
              "LX_PSC_P1ASH_COOLANT_PUMP_NUMBER_OF_ACTIVAT          988\n",
              "LX_PSC_P1ASI_COOLANT_PUMP_ACTIVATION_TIME            988\n",
              "LX_PSC_P1I80_TOP_VALUE_OF_ENGINE_SPEED_IN_O          987\n",
              "X_PSC_P1ATR_OIL_DEGRADATION_LAST_OLC_DISTA           941\n",
              "X_PSC_P1ATS_OIL_DEGRADATION_LAST_OLC_HOURS           941\n",
              "X_PSC_P1ATV_OIL_LIFE_AT_PAST_DUE                     941\n",
              "X_PSC_P1IOY_SOOT_MASS_REPORTED_BY_KALMAN_F           897\n",
              "X_PSC_P1JBT_SCR_OPERATOR_INDUCEMENT_REASON           897\n",
              "X_PSC_P1IT7_NUMBER_OF_TIMES_THE_ESTIMATED_           897\n",
              "X_PSC_P1JAZ_RATED_ENGINE_POWER                       897\n",
              "X_PSC_P1ITY_NUMBER_OF_PARKED_REGENERATIONS           897\n",
              "X_PSC_P1LJQ_ADBLUE_ADAPTION_FACTOR_INITIAL           897\n",
              "SX_PSC_P1ITY_NUMBER_OF_PARKED_REGENERATIONS          897\n",
              "X_PSC_P1JR0_AUTOMATIC_CRYSTALS_REGENERATIO           896\n",
              "X_PSC_P1IT2_AFTERTREATMENT_REGENERATION_IN           896\n",
              "LX_PSC_P1IT1_AFTERTREATMENT_REGENERATION_IN          896\n",
              "LX_PSC_P1IT0_AFTERTREATMENT_REGENERATION_IN          896\n",
              "X_PSC_P1K8T_NUMBER_OF_SUCCESSIVE_INTERRUPT           896\n",
              "SLX_PFE_0005_CLUTCH_OVER_MILEAGE                     798\n",
              "LX_PMU_P1FH1_SLOPE_X_INDEX_5                         792\n",
              "LX_PMU_P1FH1_SLOPE_X_INDEX_30                        792\n",
              "LX_PMU_P1FH1_SLOPE_X_INDEX_31                        792\n",
              "LX_PMU_P1FH1_SLOPE_X_INDEX_4                         792\n",
              "LX_PMU_P1FH1_SLOPE_X_INDEX_9                         792\n",
              "LX_PMU_P1FH1_SLOPE_X_INDEX_6                         792\n",
              "LX_PMU_P1FH1_SLOPE_X_INDEX_7                         792\n",
              "LX_PMU_P1FH1_SLOPE_X_INDEX_8                         792\n",
              "LX_PMU_P1FH1_SLOPE_X_INDEX_28                        792\n",
              "LX_PMU_P1FH1_SLOPE_X_INDEX_29                        792\n",
              "LX_PMU_P1FH1_SLOPE_X_INDEX_3                         792\n",
              "LX_PMU_P1FH1_SLOPE_X_INDEX_27                        792\n",
              "LX_PMU_P1FH1_SLOPE_X_INDEX_18                        792\n",
              "X_PMU_P1FH1_SLOPE_X_INDEX_32                         792\n",
              "X_PMU_P1FH1_SLOPE_X_INDEX_1                          792\n",
              "LX_PMU_P1FH1_SLOPE_X_INDEX_10                        792\n",
              "LX_PMU_P1FH1_SLOPE_X_INDEX_11                        792\n",
              "LX_PMU_P1FH1_SLOPE_X_INDEX_12                        792\n",
              "LX_PMU_P1FH1_SLOPE_X_INDEX_26                        792\n",
              "LX_PMU_P1FH1_SLOPE_X_INDEX_14                        792\n",
              "LX_PMU_P1FH1_SLOPE_X_INDEX_15                        792\n",
              "LX_PMU_P1FH1_SLOPE_X_INDEX_16                        792\n",
              "LX_PMU_P1FH1_SLOPE_X_INDEX_17                        792\n",
              "LX_PMU_P1FH1_SLOPE_X_INDEX_13                        792\n",
              "LX_PMU_P1FH1_SLOPE_X_INDEX_2                         792\n",
              "LX_PMU_P1FH1_SLOPE_X_INDEX_20                        792\n",
              "LX_PMU_P1FH1_SLOPE_X_INDEX_21                        792\n",
              "LX_PMU_P1FH1_SLOPE_X_INDEX_22                        792\n",
              "LX_PMU_P1FH1_SLOPE_X_INDEX_23                        792\n",
              "LX_PMU_P1FH1_SLOPE_X_INDEX_24                        792\n",
              "LX_PMU_P1FH1_SLOPE_X_INDEX_19                        792\n",
              "LX_PMU_P1FH1_SLOPE_X_INDEX_25                        792\n",
              "X_PSC_P1K8S_NUMBER_OF_SUCCESSIVE_FAILED_RE           731\n",
              "X_PSC_P1I9E_NUMBER_OF_TIMES_THE_WATER_IN_F           731\n",
              "SLX_PFE_0006_PARK_OVER_MILAGE                        701\n",
              "X_PMU_P1FWM_ENGINE_SPEED_TORQUE_H_X_INDEX_18         678\n",
              "X_PMU_P1FWM_ENGINE_SPEED_TORQUE_H_Y_INDEX_18         678\n",
              "LX_PMU_P1FWM_ENGINE_SPEED_TORQUE_H_Y_INDEX_4         678\n",
              "LX_PMU_P1FWM_ENGINE_SPEED_TORQUE_H_Y_INDEX_5         678\n",
              "LX_PMU_P1FWM_ENGINE_SPEED_TORQUE_H_Y_INDEX_6         678\n",
              "X_PMU_P1FWM_ENGINE_SPEED_TORQUE_H_Y_INDEX_20         678\n",
              "LX_PMU_P1FWM_ENGINE_SPEED_TORQUE_H_Y_INDEX_17        678\n",
              "LX_PMU_P1FWM_ENGINE_SPEED_TORQUE_H_Y_INDEX_7         678\n",
              "X_PMU_P1FWM_ENGINE_SPEED_TORQUE_H_Y_INDEX_19         678\n",
              "LX_PMU_P1FWM_ENGINE_SPEED_TORQUE_H_Y_INDEX_8         678\n",
              "LX_PMU_P1FWM_ENGINE_SPEED_TORQUE_H_Y_INDEX_9         678\n",
              "LX_PMU_P1FWM_ENGINE_SPEED_TORQUE_H_Y_INDEX_2         678\n",
              "LX_PMU_P1FWM_ENGINE_SPEED_TORQUE_H_Y_INDEX_3         678\n",
              "LX_PMU_P1FWM_ENGINE_SPEED_TORQUE_H_Y_INDEX_16        678\n",
              "LX_PMU_P1FWM_ENGINE_SPEED_TORQUE_H_X_INDEX_17        678\n",
              "LX_PMU_P1FWM_ENGINE_SPEED_TORQUE_H_X_INDEX_8         678\n",
              "LX_PMU_P1FWM_ENGINE_SPEED_TORQUE_H_X_INDEX_7         678\n",
              "LX_PMU_P1FWM_ENGINE_SPEED_TORQUE_H_X_INDEX_6         678\n",
              "LX_PMU_P1FWM_ENGINE_SPEED_TORQUE_H_X_INDEX_5         678\n",
              "LX_PMU_P1FWM_ENGINE_SPEED_TORQUE_H_X_INDEX_4         678\n",
              "LX_PMU_P1FWM_ENGINE_SPEED_TORQUE_H_X_INDEX_3         678\n",
              "LX_PMU_P1FWM_ENGINE_SPEED_TORQUE_H_Y_INDEX_15        678\n",
              "LX_PMU_P1FWM_ENGINE_SPEED_TORQUE_H_X_INDEX_16        678\n",
              "LX_PMU_P1FWM_ENGINE_SPEED_TORQUE_H_Y_INDEX_1         678\n",
              "LX_PMU_P1FWM_ENGINE_SPEED_TORQUE_H_X_INDEX_15        678\n",
              "LX_PMU_P1FWM_ENGINE_SPEED_TORQUE_H_X_INDEX_14        678\n",
              "LX_PMU_P1FWM_ENGINE_SPEED_TORQUE_H_X_INDEX_13        678\n",
              "LX_PMU_P1FWM_ENGINE_SPEED_TORQUE_H_X_INDEX_12        678\n",
              "LX_PMU_P1FWM_ENGINE_SPEED_TORQUE_H_X_INDEX_11        678\n",
              "LX_PMU_P1FWM_ENGINE_SPEED_TORQUE_H_X_INDEX_10        678\n",
              "LX_PMU_P1FWM_ENGINE_SPEED_TORQUE_H_X_INDEX_1         678\n",
              "LX_PMU_P1FWM_ENGINE_SPEED_TORQUE_H_X_INDEX_9         678\n",
              "LX_PMU_P1FWM_ENGINE_SPEED_TORQUE_H_X_INDEX_2         678\n",
              "X_PMU_P1FWM_ENGINE_SPEED_TORQUE_H_X_INDEX_19         678\n",
              "LX_PMU_P1FWM_ENGINE_SPEED_TORQUE_H_Y_INDEX_14        678\n",
              "LX_PMU_P1FWM_ENGINE_SPEED_TORQUE_H_Y_INDEX_13        678\n",
              "LX_PMU_P1FWM_ENGINE_SPEED_TORQUE_H_Y_INDEX_12        678\n",
              "LX_PMU_P1FWM_ENGINE_SPEED_TORQUE_H_Y_INDEX_10        678\n",
              "LX_PMU_P1FWM_ENGINE_SPEED_TORQUE_H_Y_INDEX_11        678\n",
              "X_PSC_P1IPO_MINIMUM_UREA_QUALITY_MASS__AT_           634\n",
              "X_PSC_P1JBB_UREA_ADAPTION_NWM_PARAMERTER_4           634\n",
              "X_PSC_P1JBA_UREA_ADAPTION_NWM_PARAMERTER_3           634\n",
              "LX_PST_P1H6B_138_NCATCOND                            634\n",
              "X_PSC_P1JA9_UREA_ADAPTION_NWM_PARAMERTER_2           634\n",
              "X_PSC_P1JA8_UREA_ADAPTION_NWM_PARAMERTER_1           634\n",
              "X_PSC_P1ITW_FUEL_CONSUMPTION_DURING_PARKED           634\n",
              "LX_PST_P1H6B_137_NCATCOMP                            634\n",
              "X_PSC_P1IPM_UREA_QUALITY_MASS_SAVED_AT_POW           634\n",
              "X_PSC_P1IPN_MAXIMUM_UREA_QUALITY_MASS__AT_           634\n",
              "X_PSC_P1JBD_UREA_ADAPTION_NWM_PARAMERTER_6           634\n",
              "LX_PST_P1H6B_136_HCCATCOND                           634\n",
              "X_PSC_P1HTM_SOOT_LEVEL                               634\n",
              "LX_PST_P1H6B_134_IGNCNTR                             634\n",
              "LX_PST_P1H6B_133_OBDCOND                             634\n",
              "LX_PSC_P1JR3_AUTOMATIC_SULPHUR_FUEL_REGENER          634\n",
              "LX_PSC_P1ITX_FUEL_CONSUMPTION_DURING_MOVING          634\n",
              "LX_PSC_P1IPX_TOTAL_INJECTED_UREA__L                  634\n",
              "X_PSC_P1JBC_UREA_ADAPTION_NWM_PARAMERTER_5           634\n",
              "X_PST_P1H6B_135_HCCATCOMP                            634\n",
              "LX_PST_P1H6B_150_FUELCOND                            634\n",
              "X_PSC_P1JRQ_PARKED_SOOT_REGENERATION_TRIGG           634\n",
              "LX_PST_P1H6B_149_FUELCOMP                            634\n",
              "LX_PST_P1H6B_148_BPCOND                              634\n",
              "X_PSC_P1KOA_SPECIFIC_NOX_EMISSIONS_AT_EXHA           634\n",
              "LX_PST_P1H6B_147_BPCOMP                              634\n",
              "LX_PST_P1H6B_145_EGRCOMP                             634\n",
              "LX_PST_P1H6B_144_EGSCOND                             634\n",
              "X_PSC_P1JRY_AUTOMATIC_SOOT_KF_REGENERATION           634\n",
              "X_PSC_P1JRX_AUTOMATIC_SOOT_PM_REGENERATION           634\n",
              "X_PSC_P1JRW_AUTOMATIC_SOOT_TIME_REGENERATI           634\n",
              "X_PSC_P1JRT_PARKED_SULPHUR_REGENERATION_TR           634\n",
              "LX_PST_P1H6B_143_EGSCOMP                             634\n",
              "X_PSC_P1JBF_UREA_ADAPTION_NWM_PARAMERTER_8           634\n",
              "LX_PST_P1H6B_142_PMCOND                              634\n",
              "LX_PST_P1H6B_141_PMCOMP                              634\n",
              "X_PSC_P1JBN_UREA_ADAPTION_FACTOR_NWM_PARAM           634\n",
              "X_PSC_P1JBM_UREA_ADAPTION_NWM_PARAMERTER_1           634\n",
              "X_PSC_P1JBL_UREA_ADAPTION_NWM_PARAMERTER_1           634\n",
              "X_PSC_P1JBK_UREA_ADAPTION_NWM_PARAMERTER_1           634\n",
              "X_PSC_P1JBJ_UREA_ADAPTION_NWM_PARAMERTER_1           634\n",
              "X_PSC_P1JBI_UREA_ADAPTION_NWM_PARAMERTER_1           634\n",
              "X_PSC_P1JBH_UREA_ADAPTION_NWM_PARAMERTER_1           634\n",
              "X_PSC_P1JBG_UREA_ADAPTION_NWM_PARAMERTER_9           634\n",
              "X_PSC_P1JBE_UREA_ADAPTION_NWM_PARAMERTER_7           634\n",
              "LX_PST_P1H6B_146_EGRCOND                             634\n",
              "SLX_PSC_P1ITX_FUEL_CONSUMPTION_DURING_MOVING         634\n",
              "SLX_PSC_P1JR3_AUTOMATIC_SULPHUR_FUEL_REGENER         634\n",
              "SX_PSC_P1ITW_FUEL_CONSUMPTION_DURING_PARKED          634\n",
              "SLX_PSC_P1IPX_TOTAL_INJECTED_UREA__L                 634\n",
              "SLX_PFE_0004_UREA_OVER_FUEL                          446\n",
              "SLX_PFE_0001_FUEL_OVER_MILEAGE                       445\n",
              "SLX_PFE_0002_PTO_OVER_ENGINETIME                     445\n",
              "SLX_PFE_0003_IDLE_OVER_ENGINETIME                    445\n",
              "LX_PST_P1B3C_66_ELENGINEGREENAREATORQUEFUEL_LO       403\n",
              "LX_PST_P1B3C_62_ELENGINEGREENAREATIME_LOG            403\n",
              "LX_PST_P1B3C_63_ELENGINEGREENAREAFUEL_LOG            403\n",
              "LX_PST_P1B3C_64_ELENGINEGREENAREADISTANCE_LOG        403\n",
              "LX_PST_P1B3R_60_ELFUELCONSUMPTIONVEHICLERUNNIN       403\n",
              "LX_PST_P1B3C_67_ELENGINEGREENAREATORQUEDISTANC       403\n",
              "LX_PST_P1B3R_59_ELFUELCONSUMPTIONPTO_LOG             403\n",
              "LX_PST_P1B2W_87_ELLOWIDLESPEEDVEHICLESTOPPEDTI       403\n",
              "LX_PST_P1B3R_61_ELFUELCONSUMPTIONVEHICLESTOPPE       403\n",
              "LX_PST_P1B2W_88_ELLOWIDLESPEEDVEHICLESTOPPEDFU       403\n",
              "LX_PST_P1B3C_65_ELENGINEGREENAREATORQUETIME_LO       403\n",
              "SLX_PFE_0007_PCT_DISTANCE_IN_AUTOMATIC_MODE          394\n",
              "SX_PSC_P1AQ8_ENTERED_NO_SPEED_MODE                   363\n",
              "LX_PSC_P1ARB_ECONOMY_MODE_TIME                       363\n",
              "LX_PSC_P1AQZ_ENTERED_BRAKE_MODE                      363\n",
              "LX_PSC_P1AQY_ENTERED_POWER_MODE                      363\n",
              "LX_PSC_P1AQX_ENTERED_ECONOMY_MODE                    363\n",
              "SX_PSC_P1AQ0_ENTERED_KICKDOWN_MODE                   363\n",
              "SX_PSC_P1AQ6_ENTERED_LIMPHOME_MODE                   363\n",
              "LX_PSC_P1AQ7_ENTERED_BACKUP_MODE                     363\n",
              "LX_PSC_P1AQK_GEARBOX_MOVEMENT_SPLIT_INDIREC          363\n",
              "SLX_PFE_0008_NBR_OF_GEARSHIFTS                       363\n",
              "SX_PSC_P1AQS_KICKDOWN_MODE_TIME                      363\n",
              "SX_PSC_P1ARA_ENTERED_DYNAMOMETER_MODE                363\n",
              "LX_PSC_P1AQ5_PRESS_DOWN_MANUAL                       363\n",
              "LX_PSC_P1AQW_ECOROLL_ACTIVE_DISTANCE                 363\n",
              "LX_PSC_P1AQ4_PRESS_UP_MANUAL                         363\n",
              "LX_PSC_P1AQ3_PRESS_DOWN_AUTO                         363\n",
              "LX_PSC_P1AQV_ECOROLL_ENABLED_DISTANCE                363\n",
              "SX_PSC_P1AQ9_ENTERED_FAULTY_GEARBOX_MODE             363\n",
              "LX_PSC_P1AQD_GEARBOX_MOVEMENT_GEAR1R_GEAR1           363\n",
              "LX_PSC_P1AQJ_GEARBOX_MOVEMENT_SPLIT_DIRECT           363\n",
              "LX_PSC_P1AQP_POWER_MODE_DISTANCE                     363\n",
              "LX_PSC_P1AQI_GEARBOX_MOVEMENT_GEAR23_NEUTRA          363\n",
              "LX_PSC_P1AQH_GEARBOX_MOVEMENT_GEAR23_GEAR3           363\n",
              "LX_PSC_P1AQL_GEARBOX_MOVEMENT_SPLIT_NEUTRAL          363\n",
              "LX_PSC_P1AQM_GEARBOX_MOVEMENT_RANGE_LOW              363\n",
              "LX_PSC_P1AQG_GEARBOX_MOVEMENT_GEAR23_GEAR2           363\n",
              "LX_PSC_P1AQN_GEARBOX_MOVEMENT_RANGE_HIGH             363\n",
              "LX_PSC_P1AQO_POWER_MODE_TIME                         363\n",
              "LX_PSC_P1AQQ_POWER_MODE_FUEL                         363\n",
              "LX_PSC_P1AQE_GEARBOX_MOVEMENT_GEAR1R_GEARR           363\n",
              "LX_PSC_P1AQR_BRAKE_MODE_TIME                         363\n",
              "LX_PSC_P1ARN_CLUTCH_NUMBER_SLIP_ABUSE                363\n",
              "LX_PSC_P1ARL_BRAKE_MODE_DISTANCE                     363\n",
              "LX_PSC_P1ARD_ECONOMY_MODE_FUEL                       363\n",
              "LX_PSC_P1ARC_ECONOMY_MODE_DISTANCE                   363\n",
              "LX_PSC_P1APU_CLUTCH_NUMBER_DISENGAGES                363\n",
              "LX_PSC_P1AQF_GEARBOX_MOVEMENT_GEAR1R_NEUTRA          363\n",
              "LX_PSC_P1AQ1_LEVER_MOVED_FROM_AUTO_TO_MAN            363\n",
              "LX_PSC_P1AQU_ECOROLL_ACTIVE_TIME                     363\n",
              "LX_PSC_P1APQ_GEAR_LEVER_MANUAL_TIME                  363\n",
              "LX_PSC_P1AP6_GEAR_LEVER_MANUAL_DISTANCE              363\n",
              "SLX_PSC_P1APU_CLUTCH_NUMBER_DISENGAGES               363\n",
              "LX_PSC_P1APP_GEAR_LEVER_AUTOMATIC_TIME               363\n",
              "SLX_PSC_P1AQG_GEARBOX_MOVEMENT_GEAR23_GEAR2          363\n",
              "SLX_PSC_P1AQ1_LEVER_MOVED_FROM_AUTO_TO_MAN           363\n",
              "SLX_PSC_P1ARN_CLUTCH_NUMBER_SLIP_ABUSE               363\n",
              "SLX_PSC_P1ARL_BRAKE_MODE_DISTANCE                    363\n",
              "SLX_PSC_P1ARB_ECONOMY_MODE_TIME                      363\n",
              "LX_PSC_P1AQ2_PRESS_UP_AUTO                           363\n",
              "SLX_PSC_P1AQZ_ENTERED_BRAKE_MODE                     363\n",
              "SLX_PSC_P1AQ7_ENTERED_BACKUP_MODE                    363\n",
              "SLX_PSC_P1AQE_GEARBOX_MOVEMENT_GEAR1R_GEARR          363\n",
              "LX_PSC_P1AQT_ECOROLL_ENABLED_TIME                    363\n",
              "SLX_PSC_P1AQY_ENTERED_POWER_MODE                     363\n",
              "SLX_PSC_P1AQX_ENTERED_ECONOMY_MODE                   363\n",
              "SLX_PSC_P1AQU_ECOROLL_ACTIVE_TIME                    363\n",
              "SLX_PSC_P1AQR_BRAKE_MODE_TIME                        363\n",
              "SLX_PSC_P1AQQ_POWER_MODE_FUEL                        363\n",
              "LX_PSC_P1APL_CLUTCH_TIME_DISENGAGED                  363\n",
              "SLX_PSC_P1AQP_POWER_MODE_DISTANCE                    363\n",
              "X_PSC_P1AQ9_ENTERED_FAULTY_GEARBOX_MODE              363\n",
              "X_PSC_P1AQS_KICKDOWN_MODE_TIME                       363\n",
              "LX_PSC_P1AP5_GEAR_LEVER_AUTOMATIC_DISTANCE           363\n",
              "X_PSC_P1ARA_ENTERED_DYNAMOMETER_MODE                 363\n",
              "X_PSC_P1ARM_KICKDOWN_MODE_DISTANCE                   363\n",
              "X_PSC_P1AQ0_ENTERED_KICKDOWN_MODE                    363\n",
              "X_PSC_P1AQ6_ENTERED_LIMPHOME_MODE                    363\n",
              "X_PSC_P1AQ8_ENTERED_NO_SPEED_MODE                    363\n",
              "SLX_PSC_P1APL_CLUTCH_TIME_DISENGAGED                 363\n",
              "LX_PSC_P1J63_ELECTRONIC_STABILITY_PROGRAMES          326\n",
              "LX_PSC_P1C5K_BRAKING_WITH_BIG_DECELERATION           326\n",
              "X_PSC_P1C04_VEHICLE_WEIGHT_WITH_TRAILER_ME           326\n",
              "LX_PSC_P1J65_BRAKE_ASSIST_DATA                       326\n",
              "SLX_PFE_0009_PCT_TOP_GEAR                            283\n",
              "X_PST_P1ENC_21_PMLININGWEARMONITOR_LOG               283\n",
              "LX_PSC_P1BBZ_TOTAL_ENGINE_REVOLUTIONS                263\n",
              "LX_PSC_P1ATK_MAIN_LOG_ECONOMICAL_FUEL                263\n",
              "LX_PSC_P1E8Y_TOTAL_NUMBER_OF_PARK_BRAKE_APP          263\n",
              "X_PSC_P1EII_WFACTOR                                  263\n",
              "LX_PSC_P1ATJ_MAIN_LOG_VTC_ENGINE_SPEED_TIME          263\n",
              "LX_PSC_P1ATN_MAIN_LOG_VTC_ENGINE_SPEED_FUEL          263\n",
              "LX_PSC_P1ATL_MAIN_LOG_PEDAL_FUEL                     263\n",
              "LX_PSC_P1ATM_MAIN_LOG_ROAD_SPEED_LIMIT_FUEL          263\n",
              "X_PSC_P1E09_VEHICLE_AIR_LEAKAGE_ESTIMATED            263\n",
              "LX_PSC_P1E0Q_TOTAL_NUMBER_OF_AUTOMATIC_PARK          263\n",
              "LX_PSC_P1E0P_TOTAL_NUMBER_OF_AUTOMATIC_PARK          263\n",
              "LX_PSC_P1E0O_TOTAL_NUMBER_OF_PARK_BRAKE_MAN          263\n",
              "LX_PSC_P1BBV_DISTANCE_IN_TOP_GEAR                    263\n",
              "LX_PSC_P1E0N_TOTAL_NUMBER_OF_PARK_BRAKE_MAN          263\n",
              "LX_PSC_P1BBW_FUEL_IN_TOP_GEAR                        263\n",
              "LX_PSC_P1BBX_TIME_IN_TOP_GEAR                        263\n",
              "SLX_PSC_P1FY7_TOP_GEAR_1_MODE_TOTAL_DISTANCE         263\n",
              "LX_PSC_P1ATB_MAIN_LOG_CUSTOMER_ENGINE_SPEED          263\n",
              "LX_PSC_P1ATI_MAIN_LOG_ROAD_SPEED_LIMIT_TIME          263\n",
              "LX_PSC_P1ATG_MAIN_LOG_PEDAL_TIME                     263\n",
              "X_PSC_P1AFR_OUTDOOR_TEMPERATURE                      263\n",
              "X_PSC_P1AOD_DIFF_RSL_MAX_VSPD_NEXT_HIGHEST           263\n",
              "LX_PSC_P1AS2_MAIN_LOG_BRAKE_DISTANCE                 263\n",
              "LX_PSC_P1AS3_MAIN_LOG_COASTING_DISTANCE              263\n",
              "LX_PSC_P1AS4_MAIN_LOG_ECON_DISTANCE                  263\n",
              "LX_PSC_P1AS5_MAIN_LOG_PEDAL_DISTANCE                 263\n",
              "LX_PSC_P1AS6_MAIN_LOG_PTO_DISTANCE                   263\n",
              "LX_PSC_P1AS7_MAIN_LOG_ROAD_SPEED_LIMIT_DIST          263\n",
              "LX_PSC_P1ASP_MAIN_LOG_CRUISE_DISTANCE                263\n",
              "LX_PSC_P1ASQ_MAIN_LOG_CRUISE_FUEL                    263\n",
              "LX_PSC_P1ASR_MAIN_LOG_CRUISE_TIME                    263\n",
              "LX_PSC_P1ASU_MAIN_LOG_DRIVE_FUEL                     263\n",
              "X_PSC_P1ATX_OIL_STATUS                               263\n",
              "LX_PSC_P1ASW_MAIN_LOG_IDLE_FUEL                      263\n",
              "LX_PSC_P1ASX_MAIN_LOG_PTO_FUEL                       263\n",
              "LX_PSC_P1ATA_MAIN_LOG_COASTING_TIME                  263\n",
              "LX_PSC_P1FXC_UREA_SYSTEM_ERROR_COUNT_LOG             263\n",
              "LX_PSC_P1ATC_MAIN_LOG_CUSTOMER_VEHICLE_SPEE          263\n",
              "LX_PSC_P1ATD_MAIN_LOG_ECONOMICAL_TIME                263\n",
              "X_PSC_P1B99_AIR_PRODUCTION_MODULATOR_TOTAL           263\n",
              "X_PSC_P1BVS_IDLE_SHUTDOWN_IDLE_TIMER_VALUE           263\n",
              "X_PSC_P1EZH_TOTAL_NUMBER_OF_TRAILER_TEST_A           263\n",
              "LX_PST_P1E0L_1072_MV3                                263\n",
              "LX_PSC_P1FXD_TIME_WITH_UREA_SYSTEM_ERROR_LO          263\n",
              "SLX_PSC_P1ASW_MAIN_LOG_IDLE_FUEL                     263\n",
              "LX_PST_P1C3B_126_VDLOVERSPEEDFUEL_LOG                263\n",
              "LX_PST_P1C3B_127_VDLOVERSPEEDDISTANCE_LOG            263\n",
              "LX_PST_P1C3B_129_VDLOVERSPEEDMAX_LOG                 263\n",
              "LX_PSC_P1FY7_TOP_GEAR_1_MODE_TOTAL_DISTANCE          263\n",
              "LX_PST_P1E0L_1074_MV5                                263\n",
              "SLX_PSC_P1AS4_MAIN_LOG_ECON_DISTANCE                 263\n",
              "SLX_PSC_P1AS6_MAIN_LOG_PTO_DISTANCE                  263\n",
              "SLX_PSC_P1ASQ_MAIN_LOG_CRUISE_FUEL                   263\n",
              "SLX_PSC_P1ASR_MAIN_LOG_CRUISE_TIME                   263\n",
              "SLX_PSC_P1ATJ_MAIN_LOG_VTC_ENGINE_SPEED_TIME         263\n",
              "LX_PST_P1C3B_124_VDLOVERSPEEDCOUNTER_LOG             263\n",
              "SLX_PSC_P1ATN_MAIN_LOG_VTC_ENGINE_SPEED_FUEL         263\n",
              "SLX_PSC_P1BBX_TIME_IN_TOP_GEAR                       263\n",
              "SLX_PSC_P1E0O_TOTAL_NUMBER_OF_PARK_BRAKE_MAN         263\n",
              "SLX_PSC_P1E0P_TOTAL_NUMBER_OF_AUTOMATIC_PARK         263\n",
              "SLX_PSC_P1E0Q_TOTAL_NUMBER_OF_AUTOMATIC_PARK         263\n",
              "SLX_PSC_P1E8Y_TOTAL_NUMBER_OF_PARK_BRAKE_APP         263\n",
              "X_PST_P1E1D_1076_MILEAGE_CARTRIDGE_N1                263\n",
              "X_PST_P1E1D_1075_TAV_CARTRIDGE_N1                    263\n",
              "X_PST_P1C2O_365_VDLCOMPRTOTALTIME_LOG                263\n",
              "LX_PST_P1C3B_125_VDLOVERSPEEDTIME_LOG                263\n",
              "LX_PST_P1E0L_1073_MV4                                263\n",
              "LX_PST_P1C2O_364_VDLCOMPRCONJUNCTIONTRACTIONTIM      263\n",
              "X_PSC_P1F0I_ENGINE_INTAKE_AIR_MASS_FLOW_RA           263\n",
              "SLX_PSC_P1FXC_UREA_SYSTEM_ERROR_COUNT_LOG            263\n",
              "LX_PST_P1C2O_363_VDLCOMPRCONJUNCTIONNOTTRACTION      263\n",
              "LX_PSC_P1IV0_AIR_PRODUCTION_MODULATOR_HEATE          263\n",
              "LX_PSC_P1FY9_TOP_GEAR_1_MODE_TOTAL_TIME              263\n",
              "LX_PSC_P1FY8_TOP_GEAR_1_MODE_TOTAL_FUEL              263\n",
              "X_PSC_P1FXO_YAXIS_OF_EXHAUST_TEMPERATURE_1           263\n",
              "X_PSC_P1HUB_SOFT_CRUISE_ENABLE                       263\n",
              "LX_PST_P1C2O_362_VDLCOMPRDISJUNCTIONTIME_LOG         263\n",
              "LX_PSC_P1FYO_TOTAL_TIME_IN_IDLE_MODE_PTO             263\n",
              "LX_PST_P1E1E_813_OPERATION_TIME                      262\n",
              "SLX_PST_P1E1E_813_OPERATION_TIME                     262\n",
              "LX_PST_P1E1E_812_TAV_COMP                            262\n",
              "X_PST_P1E1E_811_COMP_DUTY_CYCLE                      262\n",
              "X_PST_P1ENC_19_PMLININGWEARAXLENUMBER_LOG            224\n",
              "X_PST_P1ENC_18_PMLININGWEARPREDICTIVEMILEAGE_        223\n",
              "LX_PST_P1B3A_2156_BCLVEHICLEMODEACCESSORYTIME_LO     178\n",
              "LX_PST_P1B3A_329_BCLVEHICLEMODELIVINGTIME_LOG        178\n",
              "LX_PST_P1B3A_331_BCLVEHICLEMODEPRERUNNINGTIME_L      178\n",
              "LX_PSC_P1EVS_CLUTCH_PLATE_WEAR                       100\n",
              "SLX_PSC_P1EVS_CLUTCH_PLATE_WEAR                      100\n",
              "X_PST_P1EM9_16_PMAIRDRYERCARTRIDGEMONITOR_LOG          1\n",
              "YEAR                                                   0\n",
              "LAST_RUN                                               0\n",
              "Malfunction_Label                                      0\n",
              "RUL                                                    0\n",
              "DAY                                                    0\n",
              "MONTH                                                  0\n",
              "LAST_RUN.1                                             0\n",
              "T_CHASSIS                                              0\n",
              "INT_BWSD                                               0\n",
              "DELIVERY_DATE                                          0\n",
              "VFE_0007_CAB_HEIGHT                                    0\n",
              "LX_PSC_P1AS9_MAIN_LOG_BRAKE_TIME                       0\n",
              "VAR_4QB_BODYBUILDER_EL_INTERFCAB_CHAS                  0\n",
              "VAR_7NA_FRONT_SUSPENSION_INSTALLATION                  0\n",
              "VAR_7PX_HYDRAULIC_PUMP_GEARBOX_MOUNTED                 0\n",
              "VAR_FDX_REAR_AXLE_ARRANGEMENT                          0\n",
              "VAR_H1B_TURBO_APPLICATION                              0\n",
              "VAR_VWX_COMPRESSOR_CAPACITY                            0\n",
              "VAR_FVX_FRONT_AXLE_LOAD                                0\n",
              "VAR_U4X_BRAKE_DRIVE_REAR                               0\n",
              "VAR_T2X_TRANSMISSIONRETARDER_COOLER                    0\n",
              "VAR_78X_TRANSPORT_CYCLE                                0\n",
              "VAR_REX_CRANK_CASE_VENTILATION                         0\n",
              "VAR_UBX_HYDRAULIC_PUMP_ENG_MTD                         0\n",
              "VAR_QWX_TURBO                                          0\n",
              "VAR_T4X_PTO_TRANSM_MOUNTED                             0\n",
              "VAR_U3X_BRAKE_FRONT                                    0\n",
              "VAR_RUX_GEAR_SHIFTING_SYSTEM                           0\n",
              "VAR_2LX_FRONT_CAB_SUSPENSION                           0\n",
              "VAR_A3A_IDLE_SHUTDOWN                                  0\n",
              "VAR_TAX_REAR_AXLE_RATIO                                0\n",
              "VAR_5NX_ENGINE_BLOCK_HEATER                            0\n",
              "VAR_2GB_CLUTCHABLE_AIR_COMPRESSOR                      0\n",
              "VAR_5CB_AIR_SUSP_FEATURE_SOFTWARE                      0\n",
              "VAR_FFX_PUSHER_AXLE_FEATURES                           0\n",
              "VAR_LKX_DRIVER_STATE_SENSING_SYSTEM                    0\n",
              "VAR_FZX_FRONT_AXLE_ARRANGEMENT                         0\n",
              "LX_PSC_P1AST_MAIN_LOG_DRIVE_DISTANCE                   0\n",
              "VAR_D9C_EMISSION_LEVEL                                 0\n",
              "VFE_0005_REAR_AXLE_RATIO_BIN                           0\n",
              "VFE_0004_REAR_AXLE_LOAD_BIN                            0\n",
              "VFE_0003_ENGINE_GENERATION                             0\n",
              "VFE_0002_GROSS_COMBINATION_WEIGHT_BIN                  0\n",
              "VFE_0001_HORSE_POWER                                   0\n",
              "VAR_N9C_ADR_CLASSIFICATION                             0\n",
              "VAR_J2A_ACTIVE_STEERING                                0\n",
              "VAR_33A_CAB_HEIGHT                                     0\n",
              "VAR_O8A_ENGINE_PTO_TORQUE_CAPACITY                     0\n",
              "VAR_DDX_CHASSIS_TYPE                                   0\n",
              "VAR_2EX_CAB_TILT_PUMP                                  0\n",
              "VAR_V6X_RETARDER                                       0\n",
              "VAR_DHX_ROAD_CONDITION                                 0\n",
              "VAR_RWX_TRANSMISSION                                   0\n",
              "VAR_5JB_TELEMATICS_COMMUNICAT_GATEWAYS                 0\n",
              "VAR_D7C_WHOLE_VEHICLE_TYPE_APPROVAL                    0\n",
              "VAR_41X_PARKING_HEATER                                 0\n",
              "VAR_PJX_ALTERNATOR_CAPACITY                            0\n",
              "VAR_T3X_PTO_ENGINE_REAR_MOUNTED                        0\n",
              "VAR_YKX_FRONT_SUSPENSION_SYSTEM                        0\n",
              "VAR_0RA_REGENERATION_CONTROLS_DPF                      0\n",
              "VAR_K4C_VEHICLE_UPTIME_SETTINGS                        0\n",
              "VAR_GSX_CHASSIS_HEIGHT                                 0\n",
              "VAR_2DX_REAR_CAB_SUSPENSION                            0\n",
              "VAR_2CX_CAB_VERSION                                    0\n",
              "LX_PST_P1EM9_12_PMAIRDRYERCARTRIDGERESETVEHICL         0\n",
              "SLX_PSC_P1ASV_MAIN_LOG_DRIVE_TIME                      0\n",
              "SLX_PSC_P1AS9_MAIN_LOG_BRAKE_TIME                      0\n",
              "AGE_YEARS                                              0\n",
              "AGE_MONTHS                                             0\n",
              "X_PSC_P1E0I_AIR_PRODUCTION_MODULATOR_CARTR             0\n",
              "X_PST_P1EM9_14_PMAIRDRYERCARTRIDGEPREDICTIVEM          0\n",
              "X_PST_P1EM9_15_PMAIRDRYERCARTRIDGEPERCENTAGEW          0\n",
              "LX_TOTAL_VEHICLE_DISTANCE_RULE_BASED                   0\n",
              "VFE_0009_LTVF_TYPE                                     0\n",
              "LX_PST_P1EM9_13_PMAIRDRYERCARTRIDGERESETENGINE         0\n",
              "LX_PST_P1EM9_11_PMAIRDRYERCARTRIDGERESETCALEND         0\n",
              "VAR_FAX_STEERING_WHEEL_POS                             0\n",
              "LX_PST_P1B3A_332_BCLVEHICLEMODECRANKINGTIME_LOG        0\n",
              "LX_PSC_P1IPV_INJECTED_UREA_TOTAL_MASS                  0\n",
              "LX_PSC_P1FUO_NUMBER_OF_STARTER_ACTIVATION_D            0\n",
              "LX_PSC_P1FUN_NUMBER_OF_ENGINE_STARTS_DURING            0\n",
              "LX_PSC_P1BB0_TOTAL_ENGINE_TIME                         0\n",
              "LX_PSC_P1ATO_MAIN_LOG_TOTAL_ENERGY                     0\n",
              "LX_PSC_P1ATH_MAIN_LOG_PTO_TIME                         0\n",
              "LX_PSC_P1ATF_MAIN_LOG_KEY_ON_TIME                      0\n",
              "LX_PSC_P1ATE_MAIN_LOG_IDLE_TIME                        0\n",
              "LX_PSC_P1ASV_MAIN_LOG_DRIVE_TIME                       0\n",
              "SLX_PSC_P1ATE_MAIN_LOG_IDLE_TIME                       0\n",
              "SLX_PSC_P1ATH_MAIN_LOG_PTO_TIME                        0\n",
              "SLX_PSC_P1BB0_TOTAL_ENGINE_TIME                        0\n",
              "SLX_PSC_P1BBY_TOTAL_FUEL_CONSUMPTION                   0\n",
              "VAR_2RB_BATTERY_MAINTENANCE                            0\n",
              "VAR_DKX_GROSS_COMBINATION_WEIGHT                       0\n",
              "VAR_YLX_REAR_SUSPENSION_SYSTEM                         0\n",
              "VAR_QCX_TOPOGRAPHY                                     0\n",
              "VAR_3ZB_TRANSMISSION_PTO_TORQUE_CAP                    0\n",
              "VAR_KTX_ENGINE_EMISSION_CONTROL                        0\n",
              "VAR_CKX_VEHICLE_PROFILE                                0\n",
              "VAR_FTX_GROUND_CLEARANCE_FA                            0\n",
              "VAR_F1X_REAR_AXLE_LOAD                                 0\n",
              "VAR_4DX_FRONT_BUMPER                                   0\n",
              "VAR_T1X_PTO_ENGINE_MOUNTED_REAR                        0\n",
              "VAR_DPX_ENGINE_TYPE                                    0\n",
              "VAR_7MA_FRONT_AXLE_TYPE                                0\n",
              "COUNTRY_OF_OPERATION                                   0\n",
              "VAR_DAX_AXLE_ARRANGEMENT                               0\n",
              "VFE_0008_HAS_PTO                                       0\n",
              "VFE_0006_VEHICLE_OPERATION_DIGIT2                      0\n",
              "VFE_0005_VEHICLE_OPERATION_DIGIT1                      0\n",
              "LX_PSC_P1BBY_TOTAL_FUEL_CONSUMPTION                    0\n",
              "SLX_TOTAL_VEHICLE_DISTANCE_RULE_BASED                  0\n",
              "SLX_PSC_P1IPV_INJECTED_UREA_TOTAL_MASS                 0\n",
              "BIWEEK_SEND_DATE                                       0\n",
              "dtype: int64"
            ]
          },
          "metadata": {
            "tags": []
          },
          "execution_count": 17
        }
      ]
    },
    {
      "cell_type": "code",
      "metadata": {
        "id": "pDzMGSgQy7pb",
        "colab_type": "code",
        "outputId": "532f0274-7eef-444d-a979-5dbb0c1d2e7f",
        "colab": {
          "base_uri": "https://localhost:8080/",
          "height": 34
        }
      },
      "source": [
        "data.isnull().sum(axis=1)[data.isnull().sum(axis=1) > 0].shape[0]"
      ],
      "execution_count": 18,
      "outputs": [
        {
          "output_type": "execute_result",
          "data": {
            "text/plain": [
              "4092"
            ]
          },
          "metadata": {
            "tags": []
          },
          "execution_count": 18
        }
      ]
    },
    {
      "cell_type": "code",
      "metadata": {
        "id": "Aywxgh4gQkay",
        "colab_type": "code",
        "outputId": "05946963-4e26-4bbf-88ad-a68d155812b2",
        "colab": {
          "base_uri": "https://localhost:8080/",
          "height": 54
        }
      },
      "source": [
        "############ \n",
        "# Analzing this features\n",
        "'''\n",
        "LX_PMU_P1FH1_SLOPE_X_INDEX_5                         792\n",
        "LX_PMU_P1FH1_SLOPE_X_INDEX_30                        792\n",
        "LX_PMU_P1FH1_SLOPE_X_INDEX_31                        792\n",
        "LX_PMU_P1FH1_SLOPE_X_INDEX_4                         792\n",
        "LX_PMU_P1FH1_SLOPE_X_INDEX_9                         792\n",
        "LX_PMU_P1FH1_SLOPE_X_INDEX_6                         792\n",
        "LX_PMU_P1FH1_SLOPE_X_INDEX_7                         792\n",
        "LX_PMU_P1FH1_SLOPE_X_INDEX_8                         792\n",
        "LX_PMU_P1FH1_SLOPE_X_INDEX_28                        792\n",
        "LX_PMU_P1FH1_SLOPE_X_INDEX_29                        792\n",
        "LX_PMU_P1FH1_SLOPE_X_INDEX_3                         792\n",
        "LX_PMU_P1FH1_SLOPE_X_INDEX_27                        792\n",
        "LX_PMU_P1FH1_SLOPE_X_INDEX_18                        792\n",
        "X_PMU_P1FH1_SLOPE_X_INDEX_32                         792\n",
        "X_PMU_P1FH1_SLOPE_X_INDEX_1                          792\n",
        "LX_PMU_P1FH1_SLOPE_X_INDEX_10                        792\n",
        "LX_PMU_P1FH1_SLOPE_X_INDEX_11                        792\n",
        "LX_PMU_P1FH1_SLOPE_X_INDEX_12                        792\n",
        "LX_PMU_P1FH1_SLOPE_X_INDEX_26                        792\n",
        "LX_PMU_P1FH1_SLOPE_X_INDEX_14                        792\n",
        "LX_PMU_P1FH1_SLOPE_X_INDEX_15                        792\n",
        "LX_PMU_P1FH1_SLOPE_X_INDEX_16                        792\n",
        "LX_PMU_P1FH1_SLOPE_X_INDEX_17                        792\n",
        "LX_PMU_P1FH1_SLOPE_X_INDEX_13                        792\n",
        "LX_PMU_P1FH1_SLOPE_X_INDEX_2                         792\n",
        "LX_PMU_P1FH1_SLOPE_X_INDEX_20                        792\n",
        "LX_PMU_P1FH1_SLOPE_X_INDEX_21                        792\n",
        "LX_PMU_P1FH1_SLOPE_X_INDEX_22                        792\n",
        "LX_PMU_P1FH1_SLOPE_X_INDEX_23                        792\n",
        "LX_PMU_P1FH1_SLOPE_X_INDEX_24                        792\n",
        "LX_PMU_P1FH1_SLOPE_X_INDEX_19                        792\n",
        "LX_PMU_P1FH1_SLOPE_X_INDEX_25                        792\n",
        "'''"
      ],
      "execution_count": 19,
      "outputs": [
        {
          "output_type": "execute_result",
          "data": {
            "text/plain": [
              "'\\nLX_PMU_P1FH1_SLOPE_X_INDEX_5                         792\\nLX_PMU_P1FH1_SLOPE_X_INDEX_30                        792\\nLX_PMU_P1FH1_SLOPE_X_INDEX_31                        792\\nLX_PMU_P1FH1_SLOPE_X_INDEX_4                         792\\nLX_PMU_P1FH1_SLOPE_X_INDEX_9                         792\\nLX_PMU_P1FH1_SLOPE_X_INDEX_6                         792\\nLX_PMU_P1FH1_SLOPE_X_INDEX_7                         792\\nLX_PMU_P1FH1_SLOPE_X_INDEX_8                         792\\nLX_PMU_P1FH1_SLOPE_X_INDEX_28                        792\\nLX_PMU_P1FH1_SLOPE_X_INDEX_29                        792\\nLX_PMU_P1FH1_SLOPE_X_INDEX_3                         792\\nLX_PMU_P1FH1_SLOPE_X_INDEX_27                        792\\nLX_PMU_P1FH1_SLOPE_X_INDEX_18                        792\\nX_PMU_P1FH1_SLOPE_X_INDEX_32                         792\\nX_PMU_P1FH1_SLOPE_X_INDEX_1                          792\\nLX_PMU_P1FH1_SLOPE_X_INDEX_10                        792\\nLX_PMU_P1FH1_SLOPE_X_INDEX_11                        792\\nLX_PMU_P1FH1_SLOPE_X_INDEX_12                        792\\nLX_PMU_P1FH1_SLOPE_X_INDEX_26                        792\\nLX_PMU_P1FH1_SLOPE_X_INDEX_14                        792\\nLX_PMU_P1FH1_SLOPE_X_INDEX_15                        792\\nLX_PMU_P1FH1_SLOPE_X_INDEX_16                        792\\nLX_PMU_P1FH1_SLOPE_X_INDEX_17                        792\\nLX_PMU_P1FH1_SLOPE_X_INDEX_13                        792\\nLX_PMU_P1FH1_SLOPE_X_INDEX_2                         792\\nLX_PMU_P1FH1_SLOPE_X_INDEX_20                        792\\nLX_PMU_P1FH1_SLOPE_X_INDEX_21                        792\\nLX_PMU_P1FH1_SLOPE_X_INDEX_22                        792\\nLX_PMU_P1FH1_SLOPE_X_INDEX_23                        792\\nLX_PMU_P1FH1_SLOPE_X_INDEX_24                        792\\nLX_PMU_P1FH1_SLOPE_X_INDEX_19                        792\\nLX_PMU_P1FH1_SLOPE_X_INDEX_25                        792\\n'"
            ]
          },
          "metadata": {
            "tags": []
          },
          "execution_count": 19
        }
      ]
    },
    {
      "cell_type": "code",
      "metadata": {
        "id": "Hfq3KhBA_NNT",
        "colab_type": "code",
        "outputId": "ea8c8780-c07f-4b56-af41-0229dbb917a4",
        "colab": {
          "base_uri": "https://localhost:8080/",
          "height": 381
        }
      },
      "source": [
        "data.corr()['LX_PSC_P1ASU_MAIN_LOG_DRIVE_FUEL'].sort_values(ascending=False)[:20]"
      ],
      "execution_count": 20,
      "outputs": [
        {
          "output_type": "execute_result",
          "data": {
            "text/plain": [
              "LX_PSC_P1ASU_MAIN_LOG_DRIVE_FUEL                  1.000000\n",
              "LX_PSC_P1ATK_MAIN_LOG_ECONOMICAL_FUEL             0.991111\n",
              "LX_PSC_P1BBY_TOTAL_FUEL_CONSUMPTION               0.986170\n",
              "LX_PSC_P1ATO_MAIN_LOG_TOTAL_ENERGY                0.984915\n",
              "LX_PSC_P1BBZ_TOTAL_ENGINE_REVOLUTIONS             0.972804\n",
              "LX_PSC_P1IPX_TOTAL_INJECTED_UREA__L               0.964001\n",
              "LX_PSC_P1ATD_MAIN_LOG_ECONOMICAL_TIME             0.961468\n",
              "LX_PST_P1B3R_60_ELFUELCONSUMPTIONVEHICLERUNNIN    0.960346\n",
              "LX_PMU_P1FWM_ENGINE_SPEED_TORQUE_H_Y_INDEX_11     0.954588\n",
              "LX_PSC_P1AST_MAIN_LOG_DRIVE_DISTANCE              0.951978\n",
              "LX_PSC_P1ASV_MAIN_LOG_DRIVE_TIME                  0.950810\n",
              "LX_PMU_P1FWM_ENGINE_SPEED_TORQUE_H_Y_INDEX_10     0.950553\n",
              "LX_PSC_P1AS4_MAIN_LOG_ECON_DISTANCE               0.946402\n",
              "LX_PMU_P1FWM_ENGINE_SPEED_TORQUE_H_Y_INDEX_9      0.945302\n",
              "LX_PSC_P1BB0_TOTAL_ENGINE_TIME                    0.945157\n",
              "LX_PMU_P1FWM_ENGINE_SPEED_TORQUE_H_Y_INDEX_12     0.944903\n",
              "LX_TOTAL_VEHICLE_DISTANCE_RULE_BASED              0.941532\n",
              "LX_PMU_P1FWM_ENGINE_SPEED_TORQUE_H_Y_INDEX_8      0.935977\n",
              "LX_PMU_P1FWM_ENGINE_SPEED_TORQUE_H_Y_INDEX_7      0.924152\n",
              "LX_PST_P1B3C_63_ELENGINEGREENAREAFUEL_LOG         0.923241\n",
              "Name: LX_PSC_P1ASU_MAIN_LOG_DRIVE_FUEL, dtype: float64"
            ]
          },
          "metadata": {
            "tags": []
          },
          "execution_count": 20
        }
      ]
    },
    {
      "cell_type": "code",
      "metadata": {
        "id": "eUMop6jqiqTC",
        "colab_type": "code",
        "outputId": "803963db-87eb-4e0a-e65d-a64c0d8bc024",
        "colab": {
          "base_uri": "https://localhost:8080/",
          "height": 173
        }
      },
      "source": [
        "data['LX_PSC_P1MNF_COMPRESSOR_LOAD_PHASE_COUNTER'].describe()"
      ],
      "execution_count": 21,
      "outputs": [
        {
          "output_type": "execute_result",
          "data": {
            "text/plain": [
              "count     18371.000000\n",
              "mean     168062.936369\n",
              "std      114455.285430\n",
              "min           0.000000\n",
              "25%       80869.335329\n",
              "50%      152352.147059\n",
              "75%      239138.422606\n",
              "max      825688.786517\n",
              "Name: LX_PSC_P1MNF_COMPRESSOR_LOAD_PHASE_COUNTER, dtype: float64"
            ]
          },
          "metadata": {
            "tags": []
          },
          "execution_count": 21
        }
      ]
    },
    {
      "cell_type": "code",
      "metadata": {
        "id": "9zXmcYWiJCV6",
        "colab_type": "code",
        "colab": {}
      },
      "source": [
        "# analyzing LX_PMU_P1FH1_SLOPE_X_INDEX_5"
      ],
      "execution_count": 0,
      "outputs": []
    },
    {
      "cell_type": "code",
      "metadata": {
        "id": "S93MqPx4JO6o",
        "colab_type": "code",
        "outputId": "1d5f697c-b54a-4a3b-984b-675cb79a2cff",
        "colab": {
          "base_uri": "https://localhost:8080/",
          "height": 173
        }
      },
      "source": [
        "data['LX_PSC_P1ASH_COOLANT_PUMP_NUMBER_OF_ACTIVAT'].describe()"
      ],
      "execution_count": 23,
      "outputs": [
        {
          "output_type": "execute_result",
          "data": {
            "text/plain": [
              "count     18966.000000\n",
              "mean     117182.619757\n",
              "std       78318.406665\n",
              "min           0.000000\n",
              "25%       59051.656007\n",
              "50%      104580.046729\n",
              "75%      160621.548077\n",
              "max      666247.404494\n",
              "Name: LX_PSC_P1ASH_COOLANT_PUMP_NUMBER_OF_ACTIVAT, dtype: float64"
            ]
          },
          "metadata": {
            "tags": []
          },
          "execution_count": 23
        }
      ]
    },
    {
      "cell_type": "code",
      "metadata": {
        "id": "s6POFrRcPVNr",
        "colab_type": "code",
        "outputId": "56d2d5f1-9417-4f98-8aaa-ee5fd1ebf930",
        "colab": {
          "base_uri": "https://localhost:8080/",
          "height": 173
        }
      },
      "source": [
        "data['LX_PMU_P1FH1_SLOPE_X_INDEX_4'].describe()"
      ],
      "execution_count": 24,
      "outputs": [
        {
          "output_type": "execute_result",
          "data": {
            "text/plain": [
              "count    1.916200e+04\n",
              "mean     1.145499e+04\n",
              "std      5.461554e+04\n",
              "min      0.000000e+00\n",
              "25%      4.310000e+02\n",
              "50%      1.738335e+03\n",
              "75%      6.123958e+03\n",
              "max      2.167276e+06\n",
              "Name: LX_PMU_P1FH1_SLOPE_X_INDEX_4, dtype: float64"
            ]
          },
          "metadata": {
            "tags": []
          },
          "execution_count": 24
        }
      ]
    },
    {
      "cell_type": "code",
      "metadata": {
        "id": "KD_SPwplHvQr",
        "colab_type": "code",
        "colab": {}
      },
      "source": [
        "temp = data[data['T_CHASSIS'] == 'O-695072']"
      ],
      "execution_count": 0,
      "outputs": []
    },
    {
      "cell_type": "code",
      "metadata": {
        "id": "bfoCqG2mJ_Z4",
        "colab_type": "code",
        "outputId": "8cdcb3f0-b77d-492e-aea4-50cb89770320",
        "colab": {
          "base_uri": "https://localhost:8080/",
          "height": 381
        }
      },
      "source": [
        "temp.corr()['LX_PMU_P1FH1_SLOPE_X_INDEX_2'].sort_values(ascending=False)[:20]"
      ],
      "execution_count": 26,
      "outputs": [
        {
          "output_type": "execute_result",
          "data": {
            "text/plain": [
              "DAY                             NaN\n",
              "MONTH                           NaN\n",
              "YEAR                            NaN\n",
              "Malfunction_Label               NaN\n",
              "RUL                             NaN\n",
              "INT_BWSD                        NaN\n",
              "LX_PMU_P1FH1_SLOPE_X_INDEX_10   NaN\n",
              "LX_PMU_P1FH1_SLOPE_X_INDEX_11   NaN\n",
              "LX_PMU_P1FH1_SLOPE_X_INDEX_12   NaN\n",
              "LX_PMU_P1FH1_SLOPE_X_INDEX_13   NaN\n",
              "LX_PMU_P1FH1_SLOPE_X_INDEX_14   NaN\n",
              "LX_PMU_P1FH1_SLOPE_X_INDEX_15   NaN\n",
              "LX_PMU_P1FH1_SLOPE_X_INDEX_16   NaN\n",
              "LX_PMU_P1FH1_SLOPE_X_INDEX_17   NaN\n",
              "LX_PMU_P1FH1_SLOPE_X_INDEX_18   NaN\n",
              "LX_PMU_P1FH1_SLOPE_X_INDEX_19   NaN\n",
              "LX_PMU_P1FH1_SLOPE_X_INDEX_2    NaN\n",
              "LX_PMU_P1FH1_SLOPE_X_INDEX_20   NaN\n",
              "LX_PMU_P1FH1_SLOPE_X_INDEX_21   NaN\n",
              "LX_PMU_P1FH1_SLOPE_X_INDEX_22   NaN\n",
              "Name: LX_PMU_P1FH1_SLOPE_X_INDEX_2, dtype: float64"
            ]
          },
          "metadata": {
            "tags": []
          },
          "execution_count": 26
        }
      ]
    },
    {
      "cell_type": "code",
      "metadata": {
        "id": "riH4b-rCLkMI",
        "colab_type": "code",
        "outputId": "e7c39a8e-0c1e-4ac2-f5c7-dd9fd65dc573",
        "colab": {
          "base_uri": "https://localhost:8080/",
          "height": 282
        }
      },
      "source": [
        "data[['LX_PSC_P1ASH_COOLANT_PUMP_NUMBER_OF_ACTIVAT', 'LX_PSC_P1BBY_TOTAL_FUEL_CONSUMPTION', 'LX_PSC_P1ASU_MAIN_LOG_DRIVE_FUEL', ]][:1000].plot()"
      ],
      "execution_count": 27,
      "outputs": [
        {
          "output_type": "execute_result",
          "data": {
            "text/plain": [
              "<matplotlib.axes._subplots.AxesSubplot at 0x7f63c86a6400>"
            ]
          },
          "metadata": {
            "tags": []
          },
          "execution_count": 27
        },
        {
          "output_type": "display_data",
          "data": {
            "image/png": "[encoded data removed]",
            "text/plain": [
              "<Figure size 432x288 with 1 Axes>"
            ]
          },
          "metadata": {
            "tags": []
          }
        }
      ]
    },
    {
      "cell_type": "markdown",
      "metadata": {
        "id": "-yQR7bwI8SH5",
        "colab_type": "text"
      },
      "source": [
        "\n",
        "### Updating LX_PSC_P1ASU_MAIN_LOG_DRIVE_FUEL and LX_PSC_P1ATK_MAIN_LOG_ECONOMICAL_FUEL"
      ]
    },
    {
      "cell_type": "code",
      "metadata": {
        "id": "nzcQE9_FsnTV",
        "colab_type": "code",
        "outputId": "0734b079-3200-40da-fec6-934fb170bcb7",
        "colab": {
          "base_uri": "https://localhost:8080/",
          "height": 445
        }
      },
      "source": [
        "data[['LX_PSC_P1ASU_MAIN_LOG_DRIVE_FUEL', 'LX_PSC_P1BBY_TOTAL_FUEL_CONSUMPTION', 'LX_PSC_P1ATK_MAIN_LOG_ECONOMICAL_FUEL']][:1000].plot(figsize=(12,7))"
      ],
      "execution_count": 28,
      "outputs": [
        {
          "output_type": "execute_result",
          "data": {
            "text/plain": [
              "<matplotlib.axes._subplots.AxesSubplot at 0x7f63c81b3a58>"
            ]
          },
          "metadata": {
            "tags": []
          },
          "execution_count": 28
        },
        {
          "output_type": "display_data",
          "data": {
            "image/png": "[encoded data removed]",
            "text/plain": [
              "<Figure size 864x504 with 1 Axes>"
            ]
          },
          "metadata": {
            "tags": []
          }
        }
      ]
    },
    {
      "cell_type": "code",
      "metadata": {
        "id": "5WuThN4ge0BJ",
        "colab_type": "code",
        "colab": {}
      },
      "source": [
        "from copy import copy"
      ],
      "execution_count": 0,
      "outputs": []
    },
    {
      "cell_type": "code",
      "metadata": {
        "id": "iuTXJtZGXBqQ",
        "colab_type": "code",
        "colab": {}
      },
      "source": [
        "# imputer\n",
        "data_index = data[['LX_PSC_P1ASU_MAIN_LOG_DRIVE_FUEL', 'LX_PSC_P1BBY_TOTAL_FUEL_CONSUMPTION', 'LX_PSC_P1ATO_MAIN_LOG_TOTAL_ENERGY', 'LX_PSC_P1ATK_MAIN_LOG_ECONOMICAL_FUEL']]"
      ],
      "execution_count": 0,
      "outputs": []
    },
    {
      "cell_type": "code",
      "metadata": {
        "id": "T2oc8HjT8-SD",
        "colab_type": "code",
        "outputId": "144bf7ba-c787-44c0-d0b6-d7eeee8732cd",
        "colab": {
          "base_uri": "https://localhost:8080/",
          "height": 34
        }
      },
      "source": [
        "data.shape"
      ],
      "execution_count": 31,
      "outputs": [
        {
          "output_type": "execute_result",
          "data": {
            "text/plain": [
              "(19954, 438)"
            ]
          },
          "metadata": {
            "tags": []
          },
          "execution_count": 31
        }
      ]
    },
    {
      "cell_type": "code",
      "metadata": {
        "id": "MrjY6x27XI5P",
        "colab_type": "code",
        "colab": {}
      },
      "source": [
        "train = data_index.dropna()"
      ],
      "execution_count": 0,
      "outputs": []
    },
    {
      "cell_type": "code",
      "metadata": {
        "id": "xnwalVgdefk-",
        "colab_type": "code",
        "outputId": "3aba0804-dfc5-400e-c039-6b9eb23d390b",
        "colab": {
          "base_uri": "https://localhost:8080/",
          "height": 34
        }
      },
      "source": [
        "train.shape"
      ],
      "execution_count": 33,
      "outputs": [
        {
          "output_type": "execute_result",
          "data": {
            "text/plain": [
              "(19691, 4)"
            ]
          },
          "metadata": {
            "tags": []
          },
          "execution_count": 33
        }
      ]
    },
    {
      "cell_type": "code",
      "metadata": {
        "id": "-aaMnQYNebDx",
        "colab_type": "code",
        "colab": {}
      },
      "source": [
        "X_train, X_test = train[:15000], train[-1000:]"
      ],
      "execution_count": 0,
      "outputs": []
    },
    {
      "cell_type": "code",
      "metadata": {
        "id": "uCFdHoAner_2",
        "colab_type": "code",
        "colab": {}
      },
      "source": [
        "X_test2 = copy(X_test)\n",
        "X_test2['LX_PSC_P1ASU_MAIN_LOG_DRIVE_FUEL'] = np.nan"
      ],
      "execution_count": 0,
      "outputs": []
    },
    {
      "cell_type": "code",
      "metadata": {
        "id": "y5Ay-CZ-fGe7",
        "colab_type": "code",
        "outputId": "9da34c0e-e358-4469-98c8-0dc33d51da6e",
        "colab": {
          "base_uri": "https://localhost:8080/",
          "height": 104
        }
      },
      "source": [
        "data_index.isnull().sum()"
      ],
      "execution_count": 36,
      "outputs": [
        {
          "output_type": "execute_result",
          "data": {
            "text/plain": [
              "LX_PSC_P1ASU_MAIN_LOG_DRIVE_FUEL         263\n",
              "LX_PSC_P1BBY_TOTAL_FUEL_CONSUMPTION        0\n",
              "LX_PSC_P1ATO_MAIN_LOG_TOTAL_ENERGY         0\n",
              "LX_PSC_P1ATK_MAIN_LOG_ECONOMICAL_FUEL    263\n",
              "dtype: int64"
            ]
          },
          "metadata": {
            "tags": []
          },
          "execution_count": 36
        }
      ]
    },
    {
      "cell_type": "code",
      "metadata": {
        "id": "OUiA4uttXdIb",
        "colab_type": "code",
        "colab": {}
      },
      "source": [
        "imp = IterativeImputer(max_iter=10, random_state=42)"
      ],
      "execution_count": 0,
      "outputs": []
    },
    {
      "cell_type": "code",
      "metadata": {
        "id": "hFH9CnTdfNaH",
        "colab_type": "code",
        "colab": {}
      },
      "source": [
        "# find the missing values for this two features: LX_PSC_P1ASU_MAIN_LOG_DRIVE_FUEL and LX_PSC_P1ATK_MAIN_LOG_ECONOMICAL_FUEL\n",
        "results = pd.DataFrame(imp.fit_transform(data_index.values), columns=data_index.columns)"
      ],
      "execution_count": 0,
      "outputs": []
    },
    {
      "cell_type": "code",
      "metadata": {
        "id": "zahh0enz9KDb",
        "colab_type": "code",
        "colab": {}
      },
      "source": [
        "# update the main dataframe with this two new features:\n",
        "data.update(results)"
      ],
      "execution_count": 0,
      "outputs": []
    },
    {
      "cell_type": "code",
      "metadata": {
        "id": "HEnzfzNmfVxy",
        "colab_type": "code",
        "colab": {}
      },
      "source": [
        "pred = imp.transform(X_test2.values)"
      ],
      "execution_count": 0,
      "outputs": []
    },
    {
      "cell_type": "code",
      "metadata": {
        "id": "HdCrx1OYrckn",
        "colab_type": "code",
        "colab": {
          "base_uri": "https://localhost:8080/",
          "height": 104
        },
        "outputId": "724cd5da-69c5-4170-9d91-2492a0e33033"
      },
      "source": [
        "data[['LX_PSC_P1ASU_MAIN_LOG_DRIVE_FUEL', 'LX_PSC_P1BBY_TOTAL_FUEL_CONSUMPTION', 'LX_PSC_P1ATO_MAIN_LOG_TOTAL_ENERGY', 'LX_PSC_P1ATK_MAIN_LOG_ECONOMICAL_FUEL']].isnull().sum()"
      ],
      "execution_count": 49,
      "outputs": [
        {
          "output_type": "execute_result",
          "data": {
            "text/plain": [
              "LX_PSC_P1ASU_MAIN_LOG_DRIVE_FUEL         0\n",
              "LX_PSC_P1BBY_TOTAL_FUEL_CONSUMPTION      0\n",
              "LX_PSC_P1ATO_MAIN_LOG_TOTAL_ENERGY       0\n",
              "LX_PSC_P1ATK_MAIN_LOG_ECONOMICAL_FUEL    0\n",
              "dtype: int64"
            ]
          },
          "metadata": {
            "tags": []
          },
          "execution_count": 49
        }
      ]
    },
    {
      "cell_type": "code",
      "metadata": {
        "id": "Qp_S0mnzruDz",
        "colab_type": "code",
        "colab": {}
      },
      "source": [
        "# save the new changes as v3 -\n",
        "# updated the current database with this new changes\n",
        "# save new data frame\n",
        "# data.to_csv(\"drive/My Drive/Thesis/data/Data_Engineering/Edited_Raw_Data/v3_feature_engineering_data.csv\", sep=',', index=False)\n"
      ],
      "execution_count": 0,
      "outputs": []
    },
    {
      "cell_type": "code",
      "metadata": {
        "id": "UPQagWxU_HHN",
        "colab_type": "code",
        "outputId": "90b8e428-92bb-4a9e-a32e-b9ff87686911",
        "colab": {
          "base_uri": "https://localhost:8080/",
          "height": 34
        }
      },
      "source": [
        "##############\n",
        "##########3\n",
        "##########\n",
        "data.isnull().sum(axis=1)[data.isnull().sum(axis=1) > 0].shape[0]"
      ],
      "execution_count": 41,
      "outputs": [
        {
          "output_type": "execute_result",
          "data": {
            "text/plain": [
              "4092"
            ]
          },
          "metadata": {
            "tags": []
          },
          "execution_count": 41
        }
      ]
    },
    {
      "cell_type": "code",
      "metadata": {
        "id": "hJ76nyla_hHh",
        "colab_type": "code",
        "outputId": "69b93f28-8a3d-48ca-e169-9fa600f944a5",
        "colab": {
          "base_uri": "https://localhost:8080/",
          "height": 1000
        }
      },
      "source": [
        "data.isnull().sum().sort_values(ascending=False)"
      ],
      "execution_count": 42,
      "outputs": [
        {
          "output_type": "execute_result",
          "data": {
            "text/plain": [
              "LX_PSC_P1MNF_COMPRESSOR_LOAD_PHASE_COUNTER          1583\n",
              "LX_PSC_P1ASH_COOLANT_PUMP_NUMBER_OF_ACTIVAT          988\n",
              "LX_PSC_P1ASI_COOLANT_PUMP_ACTIVATION_TIME            988\n",
              "LX_PSC_P1I80_TOP_VALUE_OF_ENGINE_SPEED_IN_O          987\n",
              "X_PSC_P1ATV_OIL_LIFE_AT_PAST_DUE                     941\n",
              "X_PSC_P1ATR_OIL_DEGRADATION_LAST_OLC_DISTA           941\n",
              "X_PSC_P1ATS_OIL_DEGRADATION_LAST_OLC_HOURS           941\n",
              "SX_PSC_P1ITY_NUMBER_OF_PARKED_REGENERATIONS          897\n",
              "X_PSC_P1LJQ_ADBLUE_ADAPTION_FACTOR_INITIAL           897\n",
              "X_PSC_P1IOY_SOOT_MASS_REPORTED_BY_KALMAN_F           897\n",
              "X_PSC_P1IT7_NUMBER_OF_TIMES_THE_ESTIMATED_           897\n",
              "X_PSC_P1JBT_SCR_OPERATOR_INDUCEMENT_REASON           897\n",
              "X_PSC_P1ITY_NUMBER_OF_PARKED_REGENERATIONS           897\n",
              "X_PSC_P1JAZ_RATED_ENGINE_POWER                       897\n",
              "LX_PSC_P1IT1_AFTERTREATMENT_REGENERATION_IN          896\n",
              "LX_PSC_P1IT0_AFTERTREATMENT_REGENERATION_IN          896\n",
              "X_PSC_P1K8T_NUMBER_OF_SUCCESSIVE_INTERRUPT           896\n",
              "X_PSC_P1JR0_AUTOMATIC_CRYSTALS_REGENERATIO           896\n",
              "X_PSC_P1IT2_AFTERTREATMENT_REGENERATION_IN           896\n",
              "SLX_PFE_0005_CLUTCH_OVER_MILEAGE                     798\n",
              "LX_PMU_P1FH1_SLOPE_X_INDEX_4                         792\n",
              "LX_PMU_P1FH1_SLOPE_X_INDEX_30                        792\n",
              "LX_PMU_P1FH1_SLOPE_X_INDEX_31                        792\n",
              "LX_PMU_P1FH1_SLOPE_X_INDEX_7                         792\n",
              "LX_PMU_P1FH1_SLOPE_X_INDEX_5                         792\n",
              "LX_PMU_P1FH1_SLOPE_X_INDEX_6                         792\n",
              "LX_PMU_P1FH1_SLOPE_X_INDEX_8                         792\n",
              "LX_PMU_P1FH1_SLOPE_X_INDEX_9                         792\n",
              "LX_PMU_P1FH1_SLOPE_X_INDEX_28                        792\n",
              "LX_PMU_P1FH1_SLOPE_X_INDEX_29                        792\n",
              "LX_PMU_P1FH1_SLOPE_X_INDEX_3                         792\n",
              "LX_PMU_P1FH1_SLOPE_X_INDEX_27                        792\n",
              "LX_PMU_P1FH1_SLOPE_X_INDEX_26                        792\n",
              "X_PMU_P1FH1_SLOPE_X_INDEX_32                         792\n",
              "X_PMU_P1FH1_SLOPE_X_INDEX_1                          792\n",
              "LX_PMU_P1FH1_SLOPE_X_INDEX_10                        792\n",
              "LX_PMU_P1FH1_SLOPE_X_INDEX_11                        792\n",
              "LX_PMU_P1FH1_SLOPE_X_INDEX_12                        792\n",
              "LX_PMU_P1FH1_SLOPE_X_INDEX_13                        792\n",
              "LX_PMU_P1FH1_SLOPE_X_INDEX_14                        792\n",
              "LX_PMU_P1FH1_SLOPE_X_INDEX_15                        792\n",
              "LX_PMU_P1FH1_SLOPE_X_INDEX_16                        792\n",
              "LX_PMU_P1FH1_SLOPE_X_INDEX_17                        792\n",
              "LX_PMU_P1FH1_SLOPE_X_INDEX_18                        792\n",
              "LX_PMU_P1FH1_SLOPE_X_INDEX_19                        792\n",
              "LX_PMU_P1FH1_SLOPE_X_INDEX_2                         792\n",
              "LX_PMU_P1FH1_SLOPE_X_INDEX_20                        792\n",
              "LX_PMU_P1FH1_SLOPE_X_INDEX_21                        792\n",
              "LX_PMU_P1FH1_SLOPE_X_INDEX_22                        792\n",
              "LX_PMU_P1FH1_SLOPE_X_INDEX_24                        792\n",
              "LX_PMU_P1FH1_SLOPE_X_INDEX_25                        792\n",
              "LX_PMU_P1FH1_SLOPE_X_INDEX_23                        792\n",
              "X_PSC_P1K8S_NUMBER_OF_SUCCESSIVE_FAILED_RE           731\n",
              "X_PSC_P1I9E_NUMBER_OF_TIMES_THE_WATER_IN_F           731\n",
              "SLX_PFE_0006_PARK_OVER_MILAGE                        701\n",
              "LX_PMU_P1FWM_ENGINE_SPEED_TORQUE_H_Y_INDEX_8         678\n",
              "LX_PMU_P1FWM_ENGINE_SPEED_TORQUE_H_Y_INDEX_9         678\n",
              "X_PMU_P1FWM_ENGINE_SPEED_TORQUE_H_Y_INDEX_20         678\n",
              "LX_PMU_P1FWM_ENGINE_SPEED_TORQUE_H_Y_INDEX_17        678\n",
              "LX_PMU_P1FWM_ENGINE_SPEED_TORQUE_H_Y_INDEX_7         678\n",
              "X_PMU_P1FWM_ENGINE_SPEED_TORQUE_H_Y_INDEX_19         678\n",
              "X_PMU_P1FWM_ENGINE_SPEED_TORQUE_H_X_INDEX_18         678\n",
              "LX_PMU_P1FWM_ENGINE_SPEED_TORQUE_H_Y_INDEX_6         678\n",
              "LX_PMU_P1FWM_ENGINE_SPEED_TORQUE_H_Y_INDEX_5         678\n",
              "LX_PMU_P1FWM_ENGINE_SPEED_TORQUE_H_Y_INDEX_4         678\n",
              "X_PMU_P1FWM_ENGINE_SPEED_TORQUE_H_Y_INDEX_18         678\n",
              "LX_PMU_P1FWM_ENGINE_SPEED_TORQUE_H_Y_INDEX_2         678\n",
              "LX_PMU_P1FWM_ENGINE_SPEED_TORQUE_H_Y_INDEX_3         678\n",
              "LX_PMU_P1FWM_ENGINE_SPEED_TORQUE_H_Y_INDEX_16        678\n",
              "LX_PMU_P1FWM_ENGINE_SPEED_TORQUE_H_X_INDEX_17        678\n",
              "LX_PMU_P1FWM_ENGINE_SPEED_TORQUE_H_X_INDEX_8         678\n",
              "LX_PMU_P1FWM_ENGINE_SPEED_TORQUE_H_X_INDEX_7         678\n",
              "LX_PMU_P1FWM_ENGINE_SPEED_TORQUE_H_X_INDEX_6         678\n",
              "LX_PMU_P1FWM_ENGINE_SPEED_TORQUE_H_X_INDEX_5         678\n",
              "LX_PMU_P1FWM_ENGINE_SPEED_TORQUE_H_X_INDEX_4         678\n",
              "LX_PMU_P1FWM_ENGINE_SPEED_TORQUE_H_X_INDEX_3         678\n",
              "LX_PMU_P1FWM_ENGINE_SPEED_TORQUE_H_Y_INDEX_15        678\n",
              "LX_PMU_P1FWM_ENGINE_SPEED_TORQUE_H_X_INDEX_16        678\n",
              "LX_PMU_P1FWM_ENGINE_SPEED_TORQUE_H_Y_INDEX_1         678\n",
              "LX_PMU_P1FWM_ENGINE_SPEED_TORQUE_H_X_INDEX_15        678\n",
              "LX_PMU_P1FWM_ENGINE_SPEED_TORQUE_H_X_INDEX_14        678\n",
              "LX_PMU_P1FWM_ENGINE_SPEED_TORQUE_H_X_INDEX_13        678\n",
              "LX_PMU_P1FWM_ENGINE_SPEED_TORQUE_H_X_INDEX_12        678\n",
              "LX_PMU_P1FWM_ENGINE_SPEED_TORQUE_H_X_INDEX_11        678\n",
              "LX_PMU_P1FWM_ENGINE_SPEED_TORQUE_H_X_INDEX_10        678\n",
              "LX_PMU_P1FWM_ENGINE_SPEED_TORQUE_H_X_INDEX_1         678\n",
              "LX_PMU_P1FWM_ENGINE_SPEED_TORQUE_H_X_INDEX_9         678\n",
              "LX_PMU_P1FWM_ENGINE_SPEED_TORQUE_H_X_INDEX_2         678\n",
              "X_PMU_P1FWM_ENGINE_SPEED_TORQUE_H_X_INDEX_19         678\n",
              "LX_PMU_P1FWM_ENGINE_SPEED_TORQUE_H_Y_INDEX_14        678\n",
              "LX_PMU_P1FWM_ENGINE_SPEED_TORQUE_H_Y_INDEX_13        678\n",
              "LX_PMU_P1FWM_ENGINE_SPEED_TORQUE_H_Y_INDEX_12        678\n",
              "LX_PMU_P1FWM_ENGINE_SPEED_TORQUE_H_Y_INDEX_10        678\n",
              "LX_PMU_P1FWM_ENGINE_SPEED_TORQUE_H_Y_INDEX_11        678\n",
              "X_PSC_P1IPO_MINIMUM_UREA_QUALITY_MASS__AT_           634\n",
              "X_PSC_P1JBB_UREA_ADAPTION_NWM_PARAMERTER_4           634\n",
              "X_PSC_P1JBA_UREA_ADAPTION_NWM_PARAMERTER_3           634\n",
              "LX_PST_P1H6B_138_NCATCOND                            634\n",
              "X_PSC_P1JA9_UREA_ADAPTION_NWM_PARAMERTER_2           634\n",
              "X_PSC_P1JA8_UREA_ADAPTION_NWM_PARAMERTER_1           634\n",
              "X_PSC_P1ITW_FUEL_CONSUMPTION_DURING_PARKED           634\n",
              "LX_PST_P1H6B_137_NCATCOMP                            634\n",
              "X_PSC_P1IPM_UREA_QUALITY_MASS_SAVED_AT_POW           634\n",
              "X_PSC_P1IPN_MAXIMUM_UREA_QUALITY_MASS__AT_           634\n",
              "X_PSC_P1JBD_UREA_ADAPTION_NWM_PARAMERTER_6           634\n",
              "LX_PST_P1H6B_136_HCCATCOND                           634\n",
              "X_PSC_P1HTM_SOOT_LEVEL                               634\n",
              "LX_PST_P1H6B_134_IGNCNTR                             634\n",
              "LX_PST_P1H6B_133_OBDCOND                             634\n",
              "LX_PSC_P1JR3_AUTOMATIC_SULPHUR_FUEL_REGENER          634\n",
              "LX_PSC_P1ITX_FUEL_CONSUMPTION_DURING_MOVING          634\n",
              "LX_PSC_P1IPX_TOTAL_INJECTED_UREA__L                  634\n",
              "X_PSC_P1JBC_UREA_ADAPTION_NWM_PARAMERTER_5           634\n",
              "X_PST_P1H6B_135_HCCATCOMP                            634\n",
              "LX_PST_P1H6B_150_FUELCOND                            634\n",
              "X_PSC_P1JRQ_PARKED_SOOT_REGENERATION_TRIGG           634\n",
              "LX_PST_P1H6B_149_FUELCOMP                            634\n",
              "LX_PST_P1H6B_148_BPCOND                              634\n",
              "X_PSC_P1KOA_SPECIFIC_NOX_EMISSIONS_AT_EXHA           634\n",
              "LX_PST_P1H6B_147_BPCOMP                              634\n",
              "LX_PST_P1H6B_145_EGRCOMP                             634\n",
              "LX_PST_P1H6B_144_EGSCOND                             634\n",
              "X_PSC_P1JRY_AUTOMATIC_SOOT_KF_REGENERATION           634\n",
              "X_PSC_P1JRX_AUTOMATIC_SOOT_PM_REGENERATION           634\n",
              "X_PSC_P1JRW_AUTOMATIC_SOOT_TIME_REGENERATI           634\n",
              "X_PSC_P1JRT_PARKED_SULPHUR_REGENERATION_TR           634\n",
              "LX_PST_P1H6B_143_EGSCOMP                             634\n",
              "X_PSC_P1JBF_UREA_ADAPTION_NWM_PARAMERTER_8           634\n",
              "LX_PST_P1H6B_142_PMCOND                              634\n",
              "LX_PST_P1H6B_141_PMCOMP                              634\n",
              "X_PSC_P1JBN_UREA_ADAPTION_FACTOR_NWM_PARAM           634\n",
              "X_PSC_P1JBM_UREA_ADAPTION_NWM_PARAMERTER_1           634\n",
              "X_PSC_P1JBL_UREA_ADAPTION_NWM_PARAMERTER_1           634\n",
              "X_PSC_P1JBK_UREA_ADAPTION_NWM_PARAMERTER_1           634\n",
              "X_PSC_P1JBJ_UREA_ADAPTION_NWM_PARAMERTER_1           634\n",
              "X_PSC_P1JBI_UREA_ADAPTION_NWM_PARAMERTER_1           634\n",
              "X_PSC_P1JBH_UREA_ADAPTION_NWM_PARAMERTER_1           634\n",
              "X_PSC_P1JBG_UREA_ADAPTION_NWM_PARAMERTER_9           634\n",
              "X_PSC_P1JBE_UREA_ADAPTION_NWM_PARAMERTER_7           634\n",
              "LX_PST_P1H6B_146_EGRCOND                             634\n",
              "SLX_PSC_P1ITX_FUEL_CONSUMPTION_DURING_MOVING         634\n",
              "SLX_PSC_P1JR3_AUTOMATIC_SULPHUR_FUEL_REGENER         634\n",
              "SX_PSC_P1ITW_FUEL_CONSUMPTION_DURING_PARKED          634\n",
              "SLX_PSC_P1IPX_TOTAL_INJECTED_UREA__L                 634\n",
              "SLX_PFE_0004_UREA_OVER_FUEL                          446\n",
              "SLX_PFE_0001_FUEL_OVER_MILEAGE                       445\n",
              "SLX_PFE_0002_PTO_OVER_ENGINETIME                     445\n",
              "SLX_PFE_0003_IDLE_OVER_ENGINETIME                    445\n",
              "LX_PST_P1B3C_66_ELENGINEGREENAREATORQUEFUEL_LO       403\n",
              "LX_PST_P1B3C_62_ELENGINEGREENAREATIME_LOG            403\n",
              "LX_PST_P1B3C_63_ELENGINEGREENAREAFUEL_LOG            403\n",
              "LX_PST_P1B3C_64_ELENGINEGREENAREADISTANCE_LOG        403\n",
              "LX_PST_P1B3R_60_ELFUELCONSUMPTIONVEHICLERUNNIN       403\n",
              "LX_PST_P1B3C_67_ELENGINEGREENAREATORQUEDISTANC       403\n",
              "LX_PST_P1B3R_59_ELFUELCONSUMPTIONPTO_LOG             403\n",
              "LX_PST_P1B2W_87_ELLOWIDLESPEEDVEHICLESTOPPEDTI       403\n",
              "LX_PST_P1B3R_61_ELFUELCONSUMPTIONVEHICLESTOPPE       403\n",
              "LX_PST_P1B2W_88_ELLOWIDLESPEEDVEHICLESTOPPEDFU       403\n",
              "LX_PST_P1B3C_65_ELENGINEGREENAREATORQUETIME_LO       403\n",
              "SLX_PFE_0007_PCT_DISTANCE_IN_AUTOMATIC_MODE          394\n",
              "SX_PSC_P1AQ8_ENTERED_NO_SPEED_MODE                   363\n",
              "LX_PSC_P1ARD_ECONOMY_MODE_FUEL                       363\n",
              "LX_PSC_P1ARC_ECONOMY_MODE_DISTANCE                   363\n",
              "LX_PSC_P1ARB_ECONOMY_MODE_TIME                       363\n",
              "LX_PSC_P1AQZ_ENTERED_BRAKE_MODE                      363\n",
              "SX_PSC_P1AQ0_ENTERED_KICKDOWN_MODE                   363\n",
              "SX_PSC_P1AQ6_ENTERED_LIMPHOME_MODE                   363\n",
              "LX_PSC_P1AQ7_ENTERED_BACKUP_MODE                     363\n",
              "LX_PSC_P1AQK_GEARBOX_MOVEMENT_SPLIT_INDIREC          363\n",
              "SLX_PFE_0008_NBR_OF_GEARSHIFTS                       363\n",
              "SX_PSC_P1AQS_KICKDOWN_MODE_TIME                      363\n",
              "SX_PSC_P1ARA_ENTERED_DYNAMOMETER_MODE                363\n",
              "LX_PSC_P1AQ5_PRESS_DOWN_MANUAL                       363\n",
              "LX_PSC_P1AQY_ENTERED_POWER_MODE                      363\n",
              "LX_PSC_P1AQ4_PRESS_UP_MANUAL                         363\n",
              "LX_PSC_P1AQ3_PRESS_DOWN_AUTO                         363\n",
              "LX_PSC_P1AQX_ENTERED_ECONOMY_MODE                    363\n",
              "SX_PSC_P1AQ9_ENTERED_FAULTY_GEARBOX_MODE             363\n",
              "LX_PSC_P1AQD_GEARBOX_MOVEMENT_GEAR1R_GEAR1           363\n",
              "LX_PSC_P1AQJ_GEARBOX_MOVEMENT_SPLIT_DIRECT           363\n",
              "LX_PSC_P1AQP_POWER_MODE_DISTANCE                     363\n",
              "LX_PSC_P1AQI_GEARBOX_MOVEMENT_GEAR23_NEUTRA          363\n",
              "LX_PSC_P1AQH_GEARBOX_MOVEMENT_GEAR23_GEAR3           363\n",
              "LX_PSC_P1AQL_GEARBOX_MOVEMENT_SPLIT_NEUTRAL          363\n",
              "LX_PSC_P1AQM_GEARBOX_MOVEMENT_RANGE_LOW              363\n",
              "LX_PSC_P1AQG_GEARBOX_MOVEMENT_GEAR23_GEAR2           363\n",
              "LX_PSC_P1AQN_GEARBOX_MOVEMENT_RANGE_HIGH             363\n",
              "LX_PSC_P1AQO_POWER_MODE_TIME                         363\n",
              "LX_PSC_P1AQQ_POWER_MODE_FUEL                         363\n",
              "LX_PSC_P1AQE_GEARBOX_MOVEMENT_GEAR1R_GEARR           363\n",
              "LX_PSC_P1AQR_BRAKE_MODE_TIME                         363\n",
              "LX_PSC_P1AQT_ECOROLL_ENABLED_TIME                    363\n",
              "LX_PSC_P1AQU_ECOROLL_ACTIVE_TIME                     363\n",
              "LX_PSC_P1ARN_CLUTCH_NUMBER_SLIP_ABUSE                363\n",
              "LX_PSC_P1ARL_BRAKE_MODE_DISTANCE                     363\n",
              "LX_PSC_P1APU_CLUTCH_NUMBER_DISENGAGES                363\n",
              "LX_PSC_P1AQF_GEARBOX_MOVEMENT_GEAR1R_NEUTRA          363\n",
              "LX_PSC_P1AQ1_LEVER_MOVED_FROM_AUTO_TO_MAN            363\n",
              "LX_PSC_P1AQW_ECOROLL_ACTIVE_DISTANCE                 363\n",
              "LX_PSC_P1APQ_GEAR_LEVER_MANUAL_TIME                  363\n",
              "LX_PSC_P1APL_CLUTCH_TIME_DISENGAGED                  363\n",
              "SLX_PSC_P1APL_CLUTCH_TIME_DISENGAGED                 363\n",
              "SLX_PSC_P1AQP_POWER_MODE_DISTANCE                    363\n",
              "SLX_PSC_P1APU_CLUTCH_NUMBER_DISENGAGES               363\n",
              "SLX_PSC_P1AQ1_LEVER_MOVED_FROM_AUTO_TO_MAN           363\n",
              "SLX_PSC_P1ARN_CLUTCH_NUMBER_SLIP_ABUSE               363\n",
              "SLX_PSC_P1ARL_BRAKE_MODE_DISTANCE                    363\n",
              "SLX_PSC_P1ARB_ECONOMY_MODE_TIME                      363\n",
              "LX_PSC_P1AQ2_PRESS_UP_AUTO                           363\n",
              "SLX_PSC_P1AQZ_ENTERED_BRAKE_MODE                     363\n",
              "SLX_PSC_P1AQ7_ENTERED_BACKUP_MODE                    363\n",
              "LX_PSC_P1AQV_ECOROLL_ENABLED_DISTANCE                363\n",
              "SLX_PSC_P1AQE_GEARBOX_MOVEMENT_GEAR1R_GEARR          363\n",
              "SLX_PSC_P1AQG_GEARBOX_MOVEMENT_GEAR23_GEAR2          363\n",
              "SLX_PSC_P1AQY_ENTERED_POWER_MODE                     363\n",
              "SLX_PSC_P1AQX_ENTERED_ECONOMY_MODE                   363\n",
              "SLX_PSC_P1AQU_ECOROLL_ACTIVE_TIME                    363\n",
              "SLX_PSC_P1AQR_BRAKE_MODE_TIME                        363\n",
              "LX_PSC_P1APP_GEAR_LEVER_AUTOMATIC_TIME               363\n",
              "SLX_PSC_P1AQQ_POWER_MODE_FUEL                        363\n",
              "LX_PSC_P1AP6_GEAR_LEVER_MANUAL_DISTANCE              363\n",
              "X_PSC_P1AQ0_ENTERED_KICKDOWN_MODE                    363\n",
              "X_PSC_P1ARA_ENTERED_DYNAMOMETER_MODE                 363\n",
              "X_PSC_P1AQS_KICKDOWN_MODE_TIME                       363\n",
              "X_PSC_P1ARM_KICKDOWN_MODE_DISTANCE                   363\n",
              "LX_PSC_P1AP5_GEAR_LEVER_AUTOMATIC_DISTANCE           363\n",
              "X_PSC_P1AQ9_ENTERED_FAULTY_GEARBOX_MODE              363\n",
              "X_PSC_P1AQ8_ENTERED_NO_SPEED_MODE                    363\n",
              "X_PSC_P1AQ6_ENTERED_LIMPHOME_MODE                    363\n",
              "X_PSC_P1C04_VEHICLE_WEIGHT_WITH_TRAILER_ME           326\n",
              "LX_PSC_P1J65_BRAKE_ASSIST_DATA                       326\n",
              "LX_PSC_P1C5K_BRAKING_WITH_BIG_DECELERATION           326\n",
              "LX_PSC_P1J63_ELECTRONIC_STABILITY_PROGRAMES          326\n",
              "X_PST_P1ENC_21_PMLININGWEARMONITOR_LOG               283\n",
              "SLX_PFE_0009_PCT_TOP_GEAR                            283\n",
              "LX_PSC_P1ATM_MAIN_LOG_ROAD_SPEED_LIMIT_FUEL          263\n",
              "X_PSC_P1EII_WFACTOR                                  263\n",
              "X_PSC_P1EZH_TOTAL_NUMBER_OF_TRAILER_TEST_A           263\n",
              "LX_PSC_P1ATL_MAIN_LOG_PEDAL_FUEL                     263\n",
              "LX_PSC_P1E0Q_TOTAL_NUMBER_OF_AUTOMATIC_PARK          263\n",
              "LX_PSC_P1ATN_MAIN_LOG_VTC_ENGINE_SPEED_FUEL          263\n",
              "X_PSC_P1E09_VEHICLE_AIR_LEAKAGE_ESTIMATED            263\n",
              "LX_PSC_P1E8Y_TOTAL_NUMBER_OF_PARK_BRAKE_APP          263\n",
              "LX_PSC_P1BBX_TIME_IN_TOP_GEAR                        263\n",
              "LX_PSC_P1BBV_DISTANCE_IN_TOP_GEAR                    263\n",
              "LX_PSC_P1BBW_FUEL_IN_TOP_GEAR                        263\n",
              "LX_PSC_P1E0P_TOTAL_NUMBER_OF_AUTOMATIC_PARK          263\n",
              "LX_PSC_P1E0O_TOTAL_NUMBER_OF_PARK_BRAKE_MAN          263\n",
              "LX_PSC_P1E0N_TOTAL_NUMBER_OF_PARK_BRAKE_MAN          263\n",
              "LX_PSC_P1BBZ_TOTAL_ENGINE_REVOLUTIONS                263\n",
              "SLX_PSC_P1FY7_TOP_GEAR_1_MODE_TOTAL_DISTANCE         263\n",
              "LX_PSC_P1ATC_MAIN_LOG_CUSTOMER_VEHICLE_SPEE          263\n",
              "LX_PSC_P1ATJ_MAIN_LOG_VTC_ENGINE_SPEED_TIME          263\n",
              "LX_PSC_P1ATI_MAIN_LOG_ROAD_SPEED_LIMIT_TIME          263\n",
              "X_PSC_P1AFR_OUTDOOR_TEMPERATURE                      263\n",
              "X_PSC_P1AOD_DIFF_RSL_MAX_VSPD_NEXT_HIGHEST           263\n",
              "LX_PSC_P1AS2_MAIN_LOG_BRAKE_DISTANCE                 263\n",
              "LX_PSC_P1AS3_MAIN_LOG_COASTING_DISTANCE              263\n",
              "LX_PSC_P1AS4_MAIN_LOG_ECON_DISTANCE                  263\n",
              "LX_PSC_P1AS5_MAIN_LOG_PEDAL_DISTANCE                 263\n",
              "LX_PSC_P1AS6_MAIN_LOG_PTO_DISTANCE                   263\n",
              "LX_PSC_P1AS7_MAIN_LOG_ROAD_SPEED_LIMIT_DIST          263\n",
              "LX_PSC_P1ASP_MAIN_LOG_CRUISE_DISTANCE                263\n",
              "LX_PSC_P1ASQ_MAIN_LOG_CRUISE_FUEL                    263\n",
              "LX_PSC_P1ASR_MAIN_LOG_CRUISE_TIME                    263\n",
              "LX_PSC_P1ASW_MAIN_LOG_IDLE_FUEL                      263\n",
              "LX_PSC_P1ASX_MAIN_LOG_PTO_FUEL                       263\n",
              "LX_PSC_P1ATA_MAIN_LOG_COASTING_TIME                  263\n",
              "LX_PSC_P1ATB_MAIN_LOG_CUSTOMER_ENGINE_SPEED          263\n",
              "LX_PSC_P1FXD_TIME_WITH_UREA_SYSTEM_ERROR_LO          263\n",
              "LX_PSC_P1ATD_MAIN_LOG_ECONOMICAL_TIME                263\n",
              "X_PSC_P1ATX_OIL_STATUS                               263\n",
              "X_PSC_P1B99_AIR_PRODUCTION_MODULATOR_TOTAL           263\n",
              "LX_PSC_P1ATG_MAIN_LOG_PEDAL_TIME                     263\n",
              "X_PSC_P1BVS_IDLE_SHUTDOWN_IDLE_TIMER_VALUE           263\n",
              "LX_PSC_P1FXC_UREA_SYSTEM_ERROR_COUNT_LOG             263\n",
              "LX_PST_P1E0L_1073_MV4                                263\n",
              "LX_PSC_P1FY7_TOP_GEAR_1_MODE_TOTAL_DISTANCE          263\n",
              "LX_PST_P1C3B_125_VDLOVERSPEEDTIME_LOG                263\n",
              "LX_PST_P1C3B_127_VDLOVERSPEEDDISTANCE_LOG            263\n",
              "LX_PST_P1C3B_129_VDLOVERSPEEDMAX_LOG                 263\n",
              "LX_PST_P1E0L_1072_MV3                                263\n",
              "LX_PSC_P1FY8_TOP_GEAR_1_MODE_TOTAL_FUEL              263\n",
              "SLX_PSC_P1AS4_MAIN_LOG_ECON_DISTANCE                 263\n",
              "SLX_PSC_P1AS6_MAIN_LOG_PTO_DISTANCE                  263\n",
              "SLX_PSC_P1ASQ_MAIN_LOG_CRUISE_FUEL                   263\n",
              "SLX_PSC_P1ASR_MAIN_LOG_CRUISE_TIME                   263\n",
              "SLX_PSC_P1ASW_MAIN_LOG_IDLE_FUEL                     263\n",
              "SLX_PSC_P1ATJ_MAIN_LOG_VTC_ENGINE_SPEED_TIME         263\n",
              "SLX_PSC_P1ATN_MAIN_LOG_VTC_ENGINE_SPEED_FUEL         263\n",
              "SLX_PSC_P1BBX_TIME_IN_TOP_GEAR                       263\n",
              "SLX_PSC_P1E0O_TOTAL_NUMBER_OF_PARK_BRAKE_MAN         263\n",
              "SLX_PSC_P1E0P_TOTAL_NUMBER_OF_AUTOMATIC_PARK         263\n",
              "SLX_PSC_P1E0Q_TOTAL_NUMBER_OF_AUTOMATIC_PARK         263\n",
              "SLX_PSC_P1E8Y_TOTAL_NUMBER_OF_PARK_BRAKE_APP         263\n",
              "X_PST_P1E1D_1076_MILEAGE_CARTRIDGE_N1                263\n",
              "X_PST_P1E1D_1075_TAV_CARTRIDGE_N1                    263\n",
              "X_PST_P1C2O_365_VDLCOMPRTOTALTIME_LOG                263\n",
              "LX_PST_P1C3B_126_VDLOVERSPEEDFUEL_LOG                263\n",
              "LX_PST_P1E0L_1074_MV5                                263\n",
              "LX_PST_P1C3B_124_VDLOVERSPEEDCOUNTER_LOG             263\n",
              "X_PSC_P1F0I_ENGINE_INTAKE_AIR_MASS_FLOW_RA           263\n",
              "LX_PST_P1C2O_363_VDLCOMPRCONJUNCTIONNOTTRACTION      263\n",
              "LX_PST_P1C2O_362_VDLCOMPRDISJUNCTIONTIME_LOG         263\n",
              "X_PSC_P1HUB_SOFT_CRUISE_ENABLE                       263\n",
              "LX_PSC_P1FYO_TOTAL_TIME_IN_IDLE_MODE_PTO             263\n",
              "SLX_PSC_P1FXC_UREA_SYSTEM_ERROR_COUNT_LOG            263\n",
              "LX_PST_P1C2O_364_VDLCOMPRCONJUNCTIONTRACTIONTIM      263\n",
              "LX_PSC_P1IV0_AIR_PRODUCTION_MODULATOR_HEATE          263\n",
              "LX_PSC_P1FY9_TOP_GEAR_1_MODE_TOTAL_TIME              263\n",
              "X_PSC_P1FXO_YAXIS_OF_EXHAUST_TEMPERATURE_1           263\n",
              "X_PST_P1E1E_811_COMP_DUTY_CYCLE                      262\n",
              "SLX_PST_P1E1E_813_OPERATION_TIME                     262\n",
              "LX_PST_P1E1E_813_OPERATION_TIME                      262\n",
              "LX_PST_P1E1E_812_TAV_COMP                            262\n",
              "X_PST_P1ENC_19_PMLININGWEARAXLENUMBER_LOG            224\n",
              "X_PST_P1ENC_18_PMLININGWEARPREDICTIVEMILEAGE_        223\n",
              "LX_PST_P1B3A_2156_BCLVEHICLEMODEACCESSORYTIME_LO     178\n",
              "LX_PST_P1B3A_329_BCLVEHICLEMODELIVINGTIME_LOG        178\n",
              "LX_PST_P1B3A_331_BCLVEHICLEMODEPRERUNNINGTIME_L      178\n",
              "LX_PSC_P1EVS_CLUTCH_PLATE_WEAR                       100\n",
              "SLX_PSC_P1EVS_CLUTCH_PLATE_WEAR                      100\n",
              "X_PST_P1EM9_16_PMAIRDRYERCARTRIDGEMONITOR_LOG          1\n",
              "YEAR                                                   0\n",
              "DAY                                                    0\n",
              "Malfunction_Label                                      0\n",
              "RUL                                                    0\n",
              "DELIVERY_DATE                                          0\n",
              "MONTH                                                  0\n",
              "LAST_RUN.1                                             0\n",
              "T_CHASSIS                                              0\n",
              "INT_BWSD                                               0\n",
              "LAST_RUN                                               0\n",
              "VFE_0007_CAB_HEIGHT                                    0\n",
              "LX_PSC_P1AS9_MAIN_LOG_BRAKE_TIME                       0\n",
              "LX_PSC_P1AST_MAIN_LOG_DRIVE_DISTANCE                   0\n",
              "VAR_7NA_FRONT_SUSPENSION_INSTALLATION                  0\n",
              "VAR_7PX_HYDRAULIC_PUMP_GEARBOX_MOUNTED                 0\n",
              "VAR_FDX_REAR_AXLE_ARRANGEMENT                          0\n",
              "VAR_H1B_TURBO_APPLICATION                              0\n",
              "VAR_VWX_COMPRESSOR_CAPACITY                            0\n",
              "VAR_FVX_FRONT_AXLE_LOAD                                0\n",
              "VAR_U4X_BRAKE_DRIVE_REAR                               0\n",
              "VAR_T2X_TRANSMISSIONRETARDER_COOLER                    0\n",
              "VAR_78X_TRANSPORT_CYCLE                                0\n",
              "VAR_REX_CRANK_CASE_VENTILATION                         0\n",
              "VAR_4QB_BODYBUILDER_EL_INTERFCAB_CHAS                  0\n",
              "VAR_UBX_HYDRAULIC_PUMP_ENG_MTD                         0\n",
              "VAR_T4X_PTO_TRANSM_MOUNTED                             0\n",
              "VAR_U3X_BRAKE_FRONT                                    0\n",
              "VAR_RUX_GEAR_SHIFTING_SYSTEM                           0\n",
              "VAR_2LX_FRONT_CAB_SUSPENSION                           0\n",
              "VAR_A3A_IDLE_SHUTDOWN                                  0\n",
              "VAR_TAX_REAR_AXLE_RATIO                                0\n",
              "VAR_5NX_ENGINE_BLOCK_HEATER                            0\n",
              "VAR_2GB_CLUTCHABLE_AIR_COMPRESSOR                      0\n",
              "VAR_5CB_AIR_SUSP_FEATURE_SOFTWARE                      0\n",
              "VAR_FFX_PUSHER_AXLE_FEATURES                           0\n",
              "VAR_GSX_CHASSIS_HEIGHT                                 0\n",
              "VAR_LKX_DRIVER_STATE_SENSING_SYSTEM                    0\n",
              "VAR_QWX_TURBO                                          0\n",
              "VAR_FZX_FRONT_AXLE_ARRANGEMENT                         0\n",
              "VAR_D9C_EMISSION_LEVEL                                 0\n",
              "VFE_0005_REAR_AXLE_RATIO_BIN                           0\n",
              "VFE_0004_REAR_AXLE_LOAD_BIN                            0\n",
              "VFE_0003_ENGINE_GENERATION                             0\n",
              "VFE_0002_GROSS_COMBINATION_WEIGHT_BIN                  0\n",
              "VFE_0001_HORSE_POWER                                   0\n",
              "VAR_N9C_ADR_CLASSIFICATION                             0\n",
              "VAR_J2A_ACTIVE_STEERING                                0\n",
              "VAR_33A_CAB_HEIGHT                                     0\n",
              "VAR_O8A_ENGINE_PTO_TORQUE_CAPACITY                     0\n",
              "VAR_DDX_CHASSIS_TYPE                                   0\n",
              "VAR_2EX_CAB_TILT_PUMP                                  0\n",
              "VAR_V6X_RETARDER                                       0\n",
              "VAR_DHX_ROAD_CONDITION                                 0\n",
              "VAR_RWX_TRANSMISSION                                   0\n",
              "VAR_5JB_TELEMATICS_COMMUNICAT_GATEWAYS                 0\n",
              "VAR_D7C_WHOLE_VEHICLE_TYPE_APPROVAL                    0\n",
              "VAR_41X_PARKING_HEATER                                 0\n",
              "VAR_PJX_ALTERNATOR_CAPACITY                            0\n",
              "VAR_T3X_PTO_ENGINE_REAR_MOUNTED                        0\n",
              "VAR_YKX_FRONT_SUSPENSION_SYSTEM                        0\n",
              "VAR_0RA_REGENERATION_CONTROLS_DPF                      0\n",
              "VAR_K4C_VEHICLE_UPTIME_SETTINGS                        0\n",
              "VAR_2DX_REAR_CAB_SUSPENSION                            0\n",
              "VAR_2CX_CAB_VERSION                                    0\n",
              "VAR_FAX_STEERING_WHEEL_POS                             0\n",
              "LX_PST_P1B3A_332_BCLVEHICLEMODECRANKINGTIME_LOG        0\n",
              "AGE_YEARS                                              0\n",
              "AGE_MONTHS                                             0\n",
              "X_PSC_P1E0I_AIR_PRODUCTION_MODULATOR_CARTR             0\n",
              "X_PST_P1EM9_14_PMAIRDRYERCARTRIDGEPREDICTIVEM          0\n",
              "X_PST_P1EM9_15_PMAIRDRYERCARTRIDGEPERCENTAGEW          0\n",
              "LX_TOTAL_VEHICLE_DISTANCE_RULE_BASED                   0\n",
              "VFE_0009_LTVF_TYPE                                     0\n",
              "LX_PST_P1EM9_13_PMAIRDRYERCARTRIDGERESETENGINE         0\n",
              "LX_PST_P1EM9_12_PMAIRDRYERCARTRIDGERESETVEHICL         0\n",
              "LX_PST_P1EM9_11_PMAIRDRYERCARTRIDGERESETCALEND         0\n",
              "LX_PSC_P1IPV_INJECTED_UREA_TOTAL_MASS                  0\n",
              "SLX_PSC_P1ASV_MAIN_LOG_DRIVE_TIME                      0\n",
              "LX_PSC_P1FUO_NUMBER_OF_STARTER_ACTIVATION_D            0\n",
              "LX_PSC_P1FUN_NUMBER_OF_ENGINE_STARTS_DURING            0\n",
              "LX_PSC_P1BB0_TOTAL_ENGINE_TIME                         0\n",
              "LX_PSC_P1ATO_MAIN_LOG_TOTAL_ENERGY                     0\n",
              "LX_PSC_P1ATK_MAIN_LOG_ECONOMICAL_FUEL                  0\n",
              "LX_PSC_P1ATH_MAIN_LOG_PTO_TIME                         0\n",
              "LX_PSC_P1ATF_MAIN_LOG_KEY_ON_TIME                      0\n",
              "LX_PSC_P1ATE_MAIN_LOG_IDLE_TIME                        0\n",
              "LX_PSC_P1ASV_MAIN_LOG_DRIVE_TIME                       0\n",
              "LX_PSC_P1ASU_MAIN_LOG_DRIVE_FUEL                       0\n",
              "SLX_PSC_P1AS9_MAIN_LOG_BRAKE_TIME                      0\n",
              "SLX_PSC_P1ATE_MAIN_LOG_IDLE_TIME                       0\n",
              "VAR_2RB_BATTERY_MAINTENANCE                            0\n",
              "VAR_DPX_ENGINE_TYPE                                    0\n",
              "VAR_DKX_GROSS_COMBINATION_WEIGHT                       0\n",
              "VAR_YLX_REAR_SUSPENSION_SYSTEM                         0\n",
              "VAR_QCX_TOPOGRAPHY                                     0\n",
              "VAR_3ZB_TRANSMISSION_PTO_TORQUE_CAP                    0\n",
              "VAR_KTX_ENGINE_EMISSION_CONTROL                        0\n",
              "VAR_CKX_VEHICLE_PROFILE                                0\n",
              "VAR_FTX_GROUND_CLEARANCE_FA                            0\n",
              "VAR_F1X_REAR_AXLE_LOAD                                 0\n",
              "VAR_4DX_FRONT_BUMPER                                   0\n",
              "VAR_T1X_PTO_ENGINE_MOUNTED_REAR                        0\n",
              "VAR_7MA_FRONT_AXLE_TYPE                                0\n",
              "SLX_PSC_P1ATH_MAIN_LOG_PTO_TIME                        0\n",
              "COUNTRY_OF_OPERATION                                   0\n",
              "VAR_DAX_AXLE_ARRANGEMENT                               0\n",
              "VFE_0008_HAS_PTO                                       0\n",
              "VFE_0006_VEHICLE_OPERATION_DIGIT2                      0\n",
              "VFE_0005_VEHICLE_OPERATION_DIGIT1                      0\n",
              "LX_PSC_P1BBY_TOTAL_FUEL_CONSUMPTION                    0\n",
              "SLX_TOTAL_VEHICLE_DISTANCE_RULE_BASED                  0\n",
              "SLX_PSC_P1IPV_INJECTED_UREA_TOTAL_MASS                 0\n",
              "SLX_PSC_P1BBY_TOTAL_FUEL_CONSUMPTION                   0\n",
              "SLX_PSC_P1BB0_TOTAL_ENGINE_TIME                        0\n",
              "BIWEEK_SEND_DATE                                       0\n",
              "dtype: int64"
            ]
          },
          "metadata": {
            "tags": []
          },
          "execution_count": 42
        }
      ]
    },
    {
      "cell_type": "markdown",
      "metadata": {
        "id": "aDKzh0N2w_uj",
        "colab_type": "text"
      },
      "source": [
        ""
      ]
    },
    {
      "cell_type": "code",
      "metadata": {
        "id": "KlbUvWKVw4HL",
        "colab_type": "code",
        "colab": {}
      },
      "source": [
        ""
      ],
      "execution_count": 0,
      "outputs": []
    },
    {
      "cell_type": "markdown",
      "metadata": {
        "id": "zRhA6pwRxQ2h",
        "colab_type": "text"
      },
      "source": [
        "### Updating LOG Distance data\n",
        "LX_PSC_P1AS2_MAIN_LOG_BRAKE_DISTANCE                 263\n",
        "LX_PSC_P1AS3_MAIN_LOG_COASTING_DISTANCE              263\n",
        "LX_PSC_P1AS4_MAIN_LOG_ECON_DISTANCE                  263\n",
        "LX_PSC_P1AS5_MAIN_LOG_PEDAL_DISTANCE                 263\n",
        "LX_PSC_P1AS6_MAIN_LOG_PTO_DISTANCE                   263\n",
        "LX_PSC_P1AS7_MAIN_LOG_ROAD_SPEED_LIMIT_DIST          263\n",
        "LX_PSC_P1ASP_MAIN_LOG_CRUISE_DISTANCE                263\n",
        "LX_PSC_P1ASQ_MAIN_LOG_CRUISE_FUEL                    263\n",
        "LX_PSC_P1ASR_MAIN_LOG_CRUISE_TIME                    263\n",
        "LX_PSC_P1ASW_MAIN_LOG_IDLE_FUEL                      263\n",
        "LX_PSC_P1ASX_MAIN_LOG_PTO_FUEL                       263\n",
        "LX_PSC_P1ATA_MAIN_LOG_COASTING_TIME                  263\n",
        "LX_PSC_P1ATB_MAIN_LOG_CUSTOMER_ENGINE_SPEED          263"
      ]
    },
    {
      "cell_type": "code",
      "metadata": {
        "id": "7qvkIYrvz_xs",
        "colab_type": "code",
        "outputId": "c1a9355b-fa30-47ba-fc2f-2061ce9edf38",
        "colab": {
          "base_uri": "https://localhost:8080/",
          "height": 282
        }
      },
      "source": [
        "data[['LX_PSC_P1AS2_MAIN_LOG_BRAKE_DISTANCE', 'LX_PSC_P1AS9_MAIN_LOG_BRAKE_TIME', 'LX_PSC_P1AS3_MAIN_LOG_COASTING_DISTANCE']][:1000].plot()"
      ],
      "execution_count": 43,
      "outputs": [
        {
          "output_type": "execute_result",
          "data": {
            "text/plain": [
              "<matplotlib.axes._subplots.AxesSubplot at 0x7f63c5666be0>"
            ]
          },
          "metadata": {
            "tags": []
          },
          "execution_count": 43
        },
        {
          "output_type": "display_data",
          "data": {
            "image/png": "[encoded data removed]",
            "text/plain": [
              "<Figure size 432x288 with 1 Axes>"
            ]
          },
          "metadata": {
            "tags": []
          }
        }
      ]
    },
    {
      "cell_type": "code",
      "metadata": {
        "id": "6ZQIp0fm4Ear",
        "colab_type": "code",
        "outputId": "42c48100-02bc-43aa-a8cc-a2bb090739b1",
        "colab": {
          "base_uri": "https://localhost:8080/",
          "height": 282
        }
      },
      "source": [
        "data['LX_PSC_P1AS9_MAIN_LOG_BRAKE_TIME'][:1000].plot()"
      ],
      "execution_count": 44,
      "outputs": [
        {
          "output_type": "execute_result",
          "data": {
            "text/plain": [
              "<matplotlib.axes._subplots.AxesSubplot at 0x7f63c55e8ba8>"
            ]
          },
          "metadata": {
            "tags": []
          },
          "execution_count": 44
        },
        {
          "output_type": "display_data",
          "data": {
            "image/png": "[encoded data removed]",
            "text/plain": [
              "<Figure size 432x288 with 1 Axes>"
            ]
          },
          "metadata": {
            "tags": []
          }
        }
      ]
    },
    {
      "cell_type": "code",
      "metadata": {
        "id": "IBxDaWYu06sz",
        "colab_type": "code",
        "outputId": "0c2ee82c-7cdf-4b6d-dcbb-b68ded72dd60",
        "colab": {
          "base_uri": "https://localhost:8080/",
          "height": 381
        }
      },
      "source": [
        "data.corr()['LX_PSC_P1AS2_MAIN_LOG_BRAKE_DISTANCE'].sort_values(ascending=False)[:20]"
      ],
      "execution_count": 45,
      "outputs": [
        {
          "output_type": "execute_result",
          "data": {
            "text/plain": [
              "LX_PSC_P1AS2_MAIN_LOG_BRAKE_DISTANCE              1.000000\n",
              "LX_PSC_P1AS9_MAIN_LOG_BRAKE_TIME                  0.971596\n",
              "LX_PSC_P1AS3_MAIN_LOG_COASTING_DISTANCE           0.921914\n",
              "LX_PMU_P1FH1_SLOPE_X_INDEX_14                     0.908355\n",
              "LX_PMU_P1FH1_SLOPE_X_INDEX_19                     0.907425\n",
              "LX_PMU_P1FH1_SLOPE_X_INDEX_20                     0.902729\n",
              "LX_PMU_P1FH1_SLOPE_X_INDEX_13                     0.892194\n",
              "LX_PSC_P1ATA_MAIN_LOG_COASTING_TIME               0.883916\n",
              "LX_PSC_P1IPX_TOTAL_INJECTED_UREA__L               0.875505\n",
              "LX_PMU_P1FH1_SLOPE_X_INDEX_15                     0.871813\n",
              "LX_PMU_P1FWM_ENGINE_SPEED_TORQUE_H_Y_INDEX_12     0.871668\n",
              "LX_PMU_P1FH1_SLOPE_X_INDEX_18                     0.869868\n",
              "LX_PSC_P1ATK_MAIN_LOG_ECONOMICAL_FUEL             0.864227\n",
              "LX_PMU_P1FWM_ENGINE_SPEED_TORQUE_H_Y_INDEX_11     0.861669\n",
              "LX_PSC_P1ASU_MAIN_LOG_DRIVE_FUEL                  0.859392\n",
              "LX_PSC_P1ATD_MAIN_LOG_ECONOMICAL_TIME             0.848989\n",
              "LX_PMU_P1FWM_ENGINE_SPEED_TORQUE_H_Y_INDEX_10     0.843534\n",
              "LX_PSC_P1BBY_TOTAL_FUEL_CONSUMPTION               0.842087\n",
              "LX_PSC_P1ATO_MAIN_LOG_TOTAL_ENERGY                0.839763\n",
              "LX_PST_P1B3C_67_ELENGINEGREENAREATORQUEDISTANC    0.837820\n",
              "Name: LX_PSC_P1AS2_MAIN_LOG_BRAKE_DISTANCE, dtype: float64"
            ]
          },
          "metadata": {
            "tags": []
          },
          "execution_count": 45
        }
      ]
    },
    {
      "cell_type": "markdown",
      "metadata": {
        "id": "HXzpR66R4PZ3",
        "colab_type": "text"
      },
      "source": [
        "So there is a clear relationship between LX_PSC_P1AS9_MAIN_LOG_BRAKE_TIME and LX_PSC_P1AS2_MAIN_LOG_BRAKE_DISTANCE. \n",
        "\n",
        "So there is a clear relationship between LX_PSC_P1ATA_MAIN_LOG_COASTING_TIME and LX_PSC_P1AS3_MAIN_LOG_COASTING_DISTANCE. "
      ]
    },
    {
      "cell_type": "code",
      "metadata": {
        "id": "aOf9vRRB5El0",
        "colab_type": "code",
        "outputId": "f57928f2-e145-49e7-c8db-f29332f556ac",
        "colab": {
          "base_uri": "https://localhost:8080/",
          "height": 381
        }
      },
      "source": [
        "data.corr()['LX_PSC_P1AS3_MAIN_LOG_COASTING_DISTANCE'].sort_values(ascending=False)[:20]"
      ],
      "execution_count": 46,
      "outputs": [
        {
          "output_type": "execute_result",
          "data": {
            "text/plain": [
              "LX_PSC_P1AS3_MAIN_LOG_COASTING_DISTANCE            1.000000\n",
              "LX_PSC_P1ATA_MAIN_LOG_COASTING_TIME                0.981716\n",
              "LX_PMU_P1FH1_SLOPE_X_INDEX_19                      0.929612\n",
              "LX_PMU_P1FWM_ENGINE_SPEED_TORQUE_H_Y_INDEX_12      0.928890\n",
              "LX_PMU_P1FH1_SLOPE_X_INDEX_14                      0.926032\n",
              "LX_PSC_P1AS2_MAIN_LOG_BRAKE_DISTANCE               0.921914\n",
              "LX_PMU_P1FWM_ENGINE_SPEED_TORQUE_H_Y_INDEX_11      0.921368\n",
              "LX_PST_P1C2O_363_VDLCOMPRCONJUNCTIONNOTTRACTION    0.916823\n",
              "LX_PMU_P1FWM_ENGINE_SPEED_TORQUE_H_Y_INDEX_13      0.914897\n",
              "LX_PMU_P1FH1_SLOPE_X_INDEX_18                      0.913245\n",
              "LX_PSC_P1BBZ_TOTAL_ENGINE_REVOLUTIONS              0.912829\n",
              "LX_PSC_P1IPX_TOTAL_INJECTED_UREA__L                0.911253\n",
              "LX_PSC_P1ASV_MAIN_LOG_DRIVE_TIME                   0.910763\n",
              "LX_PMU_P1FH1_SLOPE_X_INDEX_15                      0.910554\n",
              "LX_PSC_P1ATD_MAIN_LOG_ECONOMICAL_TIME              0.910370\n",
              "LX_PMU_P1FWM_ENGINE_SPEED_TORQUE_H_Y_INDEX_1       0.909544\n",
              "LX_PSC_P1ASU_MAIN_LOG_DRIVE_FUEL                   0.909343\n",
              "LX_PMU_P1FWM_ENGINE_SPEED_TORQUE_H_Y_INDEX_10      0.907613\n",
              "LX_PMU_P1FH1_SLOPE_X_INDEX_20                      0.904260\n",
              "LX_PSC_P1AS9_MAIN_LOG_BRAKE_TIME                   0.903209\n",
              "Name: LX_PSC_P1AS3_MAIN_LOG_COASTING_DISTANCE, dtype: float64"
            ]
          },
          "metadata": {
            "tags": []
          },
          "execution_count": 46
        }
      ]
    },
    {
      "cell_type": "code",
      "metadata": {
        "id": "Pu0hZ9-t575o",
        "colab_type": "code",
        "outputId": "8e0bee5e-cd6d-4350-e3c8-8988c5d19741",
        "colab": {
          "base_uri": "https://localhost:8080/",
          "height": 138
        }
      },
      "source": [
        "data[['LX_PSC_P1AS9_MAIN_LOG_BRAKE_TIME', 'LX_PSC_P1AS2_MAIN_LOG_BRAKE_DISTANCE', 'LX_PSC_P1AS3_MAIN_LOG_COASTING_DISTANCE', 'LX_PSC_P1ATA_MAIN_LOG_COASTING_TIME', 'LX_PSC_P1ASV_MAIN_LOG_DRIVE_TIME', 'LX_PSC_P1ATD_MAIN_LOG_ECONOMICAL_TIME']].isnull().sum()"
      ],
      "execution_count": 47,
      "outputs": [
        {
          "output_type": "execute_result",
          "data": {
            "text/plain": [
              "LX_PSC_P1AS9_MAIN_LOG_BRAKE_TIME             0\n",
              "LX_PSC_P1AS2_MAIN_LOG_BRAKE_DISTANCE       263\n",
              "LX_PSC_P1AS3_MAIN_LOG_COASTING_DISTANCE    263\n",
              "LX_PSC_P1ATA_MAIN_LOG_COASTING_TIME        263\n",
              "LX_PSC_P1ASV_MAIN_LOG_DRIVE_TIME             0\n",
              "LX_PSC_P1ATD_MAIN_LOG_ECONOMICAL_TIME      263\n",
              "dtype: int64"
            ]
          },
          "metadata": {
            "tags": []
          },
          "execution_count": 47
        }
      ]
    },
    {
      "cell_type": "code",
      "metadata": {
        "id": "2D0vM6UwrDtG",
        "colab_type": "code",
        "colab": {}
      },
      "source": [
        ""
      ],
      "execution_count": 0,
      "outputs": []
    },
    {
      "cell_type": "code",
      "metadata": {
        "id": "dd8nUFqT7hOI",
        "colab_type": "code",
        "outputId": "02301991-34fa-4ad5-b9e8-7d1cc1a8e056",
        "colab": {
          "base_uri": "https://localhost:8080/",
          "height": 282
        }
      },
      "source": [
        "data['LX_PSC_P1BB0_TOTAL_ENGINE_TIME'][:1000].plot()"
      ],
      "execution_count": 48,
      "outputs": [
        {
          "output_type": "execute_result",
          "data": {
            "text/plain": [
              "<matplotlib.axes._subplots.AxesSubplot at 0x7f63c55aa470>"
            ]
          },
          "metadata": {
            "tags": []
          },
          "execution_count": 48
        },
        {
          "output_type": "display_data",
          "data": {
            "image/png": "[encoded data removed]",
            "text/plain": [
              "<Figure size 432x288 with 1 Axes>"
            ]
          },
          "metadata": {
            "tags": []
          }
        }
      ]
    },
    {
      "cell_type": "markdown",
      "metadata": {
        "id": "lC4VST0MrE2n",
        "colab_type": "text"
      },
      "source": [
        "## Observation\n",
        "One major observation from attempting to analyze noise from the data is that a couple of the features have high correlation with each others which makes them redundant in nature. \n",
        "\n",
        "We can evaluate the impact of droping some of the redundant features and see if it helps or worse the model predictive mainteance. \n",
        "\n",
        "Fro example: this feature: LX_PSC_P1AS3_MAIN_LOG_COASTING_DISTANCE have a 90% corelation with the following features:\n",
        "LX_PSC_P1ATA_MAIN_LOG_COASTING_TIME                0.981716\n",
        "LX_PMU_P1FH1_SLOPE_X_INDEX_19                      0.929612\n",
        "LX_PMU_P1FWM_ENGINE_SPEED_TORQUE_H_Y_INDEX_12      0.928890\n",
        "LX_PMU_P1FH1_SLOPE_X_INDEX_14                      0.926032\n",
        "LX_PSC_P1AS2_MAIN_LOG_BRAKE_DISTANCE               0.921914\n",
        "LX_PMU_P1FWM_ENGINE_SPEED_TORQUE_H_Y_INDEX_11      0.921368\n",
        "LX_PST_P1C2O_363_VDLCOMPRCONJUNCTIONNOTTRACTION    0.916823\n",
        "LX_PMU_P1FWM_ENGINE_SPEED_TORQUE_H_Y_INDEX_13      0.914897\n",
        "LX_PMU_P1FH1_SLOPE_X_INDEX_18                      0.913245\n",
        "LX_PSC_P1BBZ_TOTAL_ENGINE_REVOLUTIONS              0.912829\n",
        "LX_PSC_P1IPX_TOTAL_INJECTED_UREA__L                0.911253\n",
        "LX_PSC_P1ASV_MAIN_LOG_DRIVE_TIME                   0.910763\n",
        "LX_PMU_P1FH1_SLOPE_X_INDEX_15                      0.910554\n",
        "LX_PSC_P1ATD_MAIN_LOG_ECONOMICAL_TIME              0.910370\n",
        "LX_PMU_P1FWM_ENGINE_SPEED_TORQUE_H_Y_INDEX_1       0.909544\n",
        "LX_PSC_P1ASU_MAIN_LOG_DRIVE_FUEL                   0.909343\n",
        "LX_PMU_P1FWM_ENGINE_SPEED_TORQUE_H_Y_INDEX_10      0.907613\n",
        "LX_PMU_P1FH1_SLOPE_X_INDEX_20                      0.904260\n",
        "LX_PSC_P1AS9_MAIN_LOG_BRAKE_TIME                   0.903209\n",
        "\n",
        "and even doing a plot of those features shows some level of similar measurement."
      ]
    },
    {
      "cell_type": "code",
      "metadata": {
        "id": "ncwSYVUFrbZU",
        "colab_type": "code",
        "colab": {}
      },
      "source": [
        ""
      ],
      "execution_count": 0,
      "outputs": []
    }
  ]
}