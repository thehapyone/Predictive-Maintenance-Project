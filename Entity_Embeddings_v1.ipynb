{
  "nbformat": 4,
  "nbformat_minor": 0,
  "metadata": {
    "colab": {
      "name": "Entity Embeddings_v1.ipynb",
      "provenance": [],
      "mount_file_id": "1dNbjhBsFetQAx_cu72cb-256k1TR8XEl",
      "authorship_tag": "ABX9TyPLjH3f2fcJvcq+A3tf0i1I",
      "include_colab_link": true
    },
    "kernelspec": {
      "name": "python3",
      "display_name": "Python 3"
    }
  },
  "cells": [
    {
      "cell_type": "markdown",
      "metadata": {
        "id": "view-in-github",
        "colab_type": "text"
      },
      "source": [
        "<a href=\"https://colab.research.google.com/github/thehapyone/Thesis_Project/blob/master/Entity_Embeddings_v1.ipynb\" target=\"_parent\"><img src=\"https://colab.research.google.com/assets/colab-badge.svg\" alt=\"Open In Colab\"/></a>"
      ]
    },
    {
      "cell_type": "markdown",
      "metadata": {
        "id": "UBH4RjYX1OGw",
        "colab_type": "text"
      },
      "source": [
        "# Learned Embeddings\n",
        "This program will attempt to create embeddings for the categorical features."
      ]
    },
    {
      "cell_type": "code",
      "metadata": {
        "id": "R7mCtb7J1TX8",
        "colab_type": "code",
        "outputId": "ba650b23-d397-4e79-8401-e4347aa02ddd",
        "colab": {
          "base_uri": "https://localhost:8080/",
          "height": 34
        }
      },
      "source": [
        "from google.colab import drive\n",
        "drive.mount('/content/drive')"
      ],
      "execution_count": 2,
      "outputs": [
        {
          "output_type": "stream",
          "text": [
            "Drive already mounted at /content/drive; to attempt to forcibly remount, call drive.mount(\"/content/drive\", force_remount=True).\n"
          ],
          "name": "stdout"
        }
      ]
    },
    {
      "cell_type": "code",
      "metadata": {
        "id": "kc1JPb4v074V",
        "colab_type": "code",
        "colab": {}
      },
      "source": [
        "import pandas as pd\n",
        "import numpy as np\n",
        "import seaborn as sns\n",
        "import matplotlib.pyplot as plt"
      ],
      "execution_count": 0,
      "outputs": []
    },
    {
      "cell_type": "code",
      "metadata": {
        "id": "OjSOi7PZ1VFx",
        "colab_type": "code",
        "colab": {}
      },
      "source": [
        "# using the latest updated file\n",
        "data = pd.read_csv(\"drive/My Drive/Thesis/data/Data_Engineering/Edited_Raw_Data/v3_feature_engineering_data.csv\", sep=',', low_memory=False)\n",
        "#data = pd.read_csv(\"drive/My Drive/Thesis/data/Feature_Engineering/KNN_Imputed_Datasets/KNN_Imputed_k_40.csv\", sep=',', low_memory=False)\n",
        "\n",
        "#data = pd.read_csv(\"drive/My Drive/Thesis/data/Data_Engineering/Edited_Raw_Data/v2_Sorted_Database.csv\", sep=',', low_memory=False)"
      ],
      "execution_count": 0,
      "outputs": []
    },
    {
      "cell_type": "code",
      "metadata": {
        "id": "Bu3oJqxA1520",
        "colab_type": "code",
        "outputId": "e8a73784-1b1e-456b-f975-62f0873f9ad8",
        "colab": {
          "base_uri": "https://localhost:8080/",
          "height": 34
        }
      },
      "source": [
        "data.shape"
      ],
      "execution_count": 136,
      "outputs": [
        {
          "output_type": "execute_result",
          "data": {
            "text/plain": [
              "(19954, 435)"
            ]
          },
          "metadata": {
            "tags": []
          },
          "execution_count": 136
        }
      ]
    },
    {
      "cell_type": "code",
      "metadata": {
        "id": "H0r47atm2DYT",
        "colab_type": "code",
        "colab": {}
      },
      "source": [
        "# the BIWEEK_SEND_DATE is a datetime feature and not just normal object date\n",
        "data['BIWEEK_SEND_DATE'] = pd.to_datetime(data['BIWEEK_SEND_DATE'])"
      ],
      "execution_count": 0,
      "outputs": []
    },
    {
      "cell_type": "markdown",
      "metadata": {
        "id": "l5_VX2KR1-s6",
        "colab_type": "text"
      },
      "source": [
        "# Categorical Features\n",
        "We have 70 categorical features inlcuding the Chassis feature.\n",
        "\n",
        "The quesion pondering my mind is? Should the chassis feature be discared or used?"
      ]
    },
    {
      "cell_type": "code",
      "metadata": {
        "id": "dG7bzFuM17UU",
        "colab_type": "code",
        "outputId": "2c8b7d5c-78f5-43f0-a082-18c56ec4b345",
        "colab": {
          "base_uri": "https://localhost:8080/",
          "height": 436
        }
      },
      "source": [
        "# find all categorical features.\n",
        "data_cat = data.select_dtypes(include='object')\n",
        "data_cat"
      ],
      "execution_count": 138,
      "outputs": [
        {
          "output_type": "execute_result",
          "data": {
            "text/html": [
              "<div>\n",
              "<style scoped>\n",
              "    .dataframe tbody tr th:only-of-type {\n",
              "        vertical-align: middle;\n",
              "    }\n",
              "\n",
              "    .dataframe tbody tr th {\n",
              "        vertical-align: top;\n",
              "    }\n",
              "\n",
              "    .dataframe thead th {\n",
              "        text-align: right;\n",
              "    }\n",
              "</style>\n",
              "<table border=\"1\" class=\"dataframe\">\n",
              "  <thead>\n",
              "    <tr style=\"text-align: right;\">\n",
              "      <th></th>\n",
              "      <th>T_CHASSIS</th>\n",
              "      <th>VAR_DAX_AXLE_ARRANGEMENT</th>\n",
              "      <th>COUNTRY_OF_OPERATION</th>\n",
              "      <th>VAR_7MA_FRONT_AXLE_TYPE</th>\n",
              "      <th>VAR_DPX_ENGINE_TYPE</th>\n",
              "      <th>VAR_T1X_PTO_ENGINE_MOUNTED_REAR</th>\n",
              "      <th>VAR_4DX_FRONT_BUMPER</th>\n",
              "      <th>VAR_F1X_REAR_AXLE_LOAD</th>\n",
              "      <th>VAR_FTX_GROUND_CLEARANCE_FA</th>\n",
              "      <th>VAR_CKX_VEHICLE_PROFILE</th>\n",
              "      <th>VAR_KTX_ENGINE_EMISSION_CONTROL</th>\n",
              "      <th>VAR_3ZB_TRANSMISSION_PTO_TORQUE_CAP</th>\n",
              "      <th>VAR_QCX_TOPOGRAPHY</th>\n",
              "      <th>VAR_YLX_REAR_SUSPENSION_SYSTEM</th>\n",
              "      <th>VAR_DKX_GROSS_COMBINATION_WEIGHT</th>\n",
              "      <th>VAR_2RB_BATTERY_MAINTENANCE</th>\n",
              "      <th>VAR_FAX_STEERING_WHEEL_POS</th>\n",
              "      <th>VAR_2CX_CAB_VERSION</th>\n",
              "      <th>VAR_2DX_REAR_CAB_SUSPENSION</th>\n",
              "      <th>VAR_GSX_CHASSIS_HEIGHT</th>\n",
              "      <th>VAR_FFX_PUSHER_AXLE_FEATURES</th>\n",
              "      <th>VAR_5CB_AIR_SUSP_FEATURE_SOFTWARE</th>\n",
              "      <th>VAR_2GB_CLUTCHABLE_AIR_COMPRESSOR</th>\n",
              "      <th>VAR_5NX_ENGINE_BLOCK_HEATER</th>\n",
              "      <th>VAR_TAX_REAR_AXLE_RATIO</th>\n",
              "      <th>VAR_A3A_IDLE_SHUTDOWN</th>\n",
              "      <th>VAR_2LX_FRONT_CAB_SUSPENSION</th>\n",
              "      <th>VAR_RUX_GEAR_SHIFTING_SYSTEM</th>\n",
              "      <th>VAR_U3X_BRAKE_FRONT</th>\n",
              "      <th>VAR_T4X_PTO_TRANSM_MOUNTED</th>\n",
              "      <th>VAR_UBX_HYDRAULIC_PUMP_ENG_MTD</th>\n",
              "      <th>VAR_4QB_BODYBUILDER_EL_INTERFCAB_CHAS</th>\n",
              "      <th>VAR_REX_CRANK_CASE_VENTILATION</th>\n",
              "      <th>VAR_78X_TRANSPORT_CYCLE</th>\n",
              "      <th>VAR_T2X_TRANSMISSIONRETARDER_COOLER</th>\n",
              "      <th>VAR_U4X_BRAKE_DRIVE_REAR</th>\n",
              "      <th>VAR_FVX_FRONT_AXLE_LOAD</th>\n",
              "      <th>VAR_VWX_COMPRESSOR_CAPACITY</th>\n",
              "      <th>VAR_H1B_TURBO_APPLICATION</th>\n",
              "      <th>VAR_FDX_REAR_AXLE_ARRANGEMENT</th>\n",
              "      <th>VAR_7PX_HYDRAULIC_PUMP_GEARBOX_MOUNTED</th>\n",
              "      <th>VAR_7NA_FRONT_SUSPENSION_INSTALLATION</th>\n",
              "      <th>VAR_LKX_DRIVER_STATE_SENSING_SYSTEM</th>\n",
              "      <th>VAR_QWX_TURBO</th>\n",
              "      <th>VAR_FZX_FRONT_AXLE_ARRANGEMENT</th>\n",
              "      <th>VAR_V6X_RETARDER</th>\n",
              "      <th>VAR_K4C_VEHICLE_UPTIME_SETTINGS</th>\n",
              "      <th>VAR_0RA_REGENERATION_CONTROLS_DPF</th>\n",
              "      <th>VAR_YKX_FRONT_SUSPENSION_SYSTEM</th>\n",
              "      <th>VAR_T3X_PTO_ENGINE_REAR_MOUNTED</th>\n",
              "      <th>VAR_PJX_ALTERNATOR_CAPACITY</th>\n",
              "      <th>VAR_41X_PARKING_HEATER</th>\n",
              "      <th>VAR_D7C_WHOLE_VEHICLE_TYPE_APPROVAL</th>\n",
              "      <th>VAR_5JB_TELEMATICS_COMMUNICAT_GATEWAYS</th>\n",
              "      <th>VAR_RWX_TRANSMISSION</th>\n",
              "      <th>VAR_DHX_ROAD_CONDITION</th>\n",
              "      <th>VAR_2EX_CAB_TILT_PUMP</th>\n",
              "      <th>VAR_D9C_EMISSION_LEVEL</th>\n",
              "      <th>VAR_DDX_CHASSIS_TYPE</th>\n",
              "      <th>VAR_O8A_ENGINE_PTO_TORQUE_CAPACITY</th>\n",
              "      <th>VAR_33A_CAB_HEIGHT</th>\n",
              "      <th>VAR_J2A_ACTIVE_STEERING</th>\n",
              "      <th>VAR_N9C_ADR_CLASSIFICATION</th>\n",
              "      <th>VFE_0001_HORSE_POWER</th>\n",
              "      <th>VFE_0002_GROSS_COMBINATION_WEIGHT_BIN</th>\n",
              "      <th>VFE_0003_ENGINE_GENERATION</th>\n",
              "      <th>VFE_0004_REAR_AXLE_LOAD_BIN</th>\n",
              "      <th>VFE_0005_REAR_AXLE_RATIO_BIN</th>\n",
              "      <th>VFE_0009_LTVF_TYPE</th>\n",
              "      <th>VFE_0007_CAB_HEIGHT</th>\n",
              "    </tr>\n",
              "  </thead>\n",
              "  <tbody>\n",
              "    <tr>\n",
              "      <th>0</th>\n",
              "      <td>N-767941</td>\n",
              "      <td>6*4</td>\n",
              "      <td>DEU</td>\n",
              "      <td>FAT-RIG</td>\n",
              "      <td>ENG-VE16</td>\n",
              "      <td>WPTER</td>\n",
              "      <td>BUMP-B2</td>\n",
              "      <td>RAL26</td>\n",
              "      <td>FA-HIGH</td>\n",
              "      <td>TYPE-FH</td>\n",
              "      <td>EM-EU6</td>\n",
              "      <td>UTPTT</td>\n",
              "      <td>T-PFLAT</td>\n",
              "      <td>RSS-AIR</td>\n",
              "      <td>GCW44.0</td>\n",
              "      <td>UBAMAFRE</td>\n",
              "      <td>STWPOS-L</td>\n",
              "      <td>CAB-HSLP</td>\n",
              "      <td>RCABS-A</td>\n",
              "      <td>CHH-HIGH</td>\n",
              "      <td>UPAXLE</td>\n",
              "      <td>ASF-DL1</td>\n",
              "      <td>CLU-AIRC</td>\n",
              "      <td>UEBHEAT</td>\n",
              "      <td>RAT3.61</td>\n",
              "      <td>UEIDLESD</td>\n",
              "      <td>FCABS-M</td>\n",
              "      <td>GSS-AGS</td>\n",
              "      <td>BF-DIBAS</td>\n",
              "      <td>UPTOTR</td>\n",
              "      <td>UHPE</td>\n",
              "      <td>UBBCHAS</td>\n",
              "      <td>CCV-C</td>\n",
              "      <td>TC-CONST</td>\n",
              "      <td>WTCOOL</td>\n",
              "      <td>BR-DIBAS</td>\n",
              "      <td>FAL9.0</td>\n",
              "      <td>2COMP900</td>\n",
              "      <td>TURBO-D</td>\n",
              "      <td>RAA22</td>\n",
              "      <td>UHPG</td>\n",
              "      <td>FSI-LEAF</td>\n",
              "      <td>UDAS</td>\n",
              "      <td>TURB-HD</td>\n",
              "      <td>FAA1</td>\n",
              "      <td>URETARD</td>\n",
              "      <td>VUPT-A2</td>\n",
              "      <td>NONE</td>\n",
              "      <td>FSS-LEAF</td>\n",
              "      <td>PTOENG-R</td>\n",
              "      <td>24AL150B</td>\n",
              "      <td>PH-CAB2</td>\n",
              "      <td>WVTA-EC</td>\n",
              "      <td>TGW-3GWL</td>\n",
              "      <td>ATO35</td>\n",
              "      <td>RC-ROUGH</td>\n",
              "      <td>CTILTP-E</td>\n",
              "      <td>EML-BAS</td>\n",
              "      <td>TRACTOR</td>\n",
              "      <td>EPTT650</td>\n",
              "      <td>CABH215</td>\n",
              "      <td>UACTST</td>\n",
              "      <td>UADRC</td>\n",
              "      <td>High</td>\n",
              "      <td>Med</td>\n",
              "      <td>K</td>\n",
              "      <td>HIGH</td>\n",
              "      <td>RAL26</td>\n",
              "      <td>HEAVY_CONSTR</td>\n",
              "      <td>CABH215</td>\n",
              "    </tr>\n",
              "    <tr>\n",
              "      <th>1</th>\n",
              "      <td>N-767941</td>\n",
              "      <td>6*4</td>\n",
              "      <td>DEU</td>\n",
              "      <td>FAT-RIG</td>\n",
              "      <td>ENG-VE16</td>\n",
              "      <td>WPTER</td>\n",
              "      <td>BUMP-B2</td>\n",
              "      <td>RAL26</td>\n",
              "      <td>FA-HIGH</td>\n",
              "      <td>TYPE-FH</td>\n",
              "      <td>EM-EU6</td>\n",
              "      <td>UTPTT</td>\n",
              "      <td>T-PFLAT</td>\n",
              "      <td>RSS-AIR</td>\n",
              "      <td>GCW44.0</td>\n",
              "      <td>UBAMAFRE</td>\n",
              "      <td>STWPOS-L</td>\n",
              "      <td>CAB-HSLP</td>\n",
              "      <td>RCABS-A</td>\n",
              "      <td>CHH-HIGH</td>\n",
              "      <td>UPAXLE</td>\n",
              "      <td>ASF-DL1</td>\n",
              "      <td>CLU-AIRC</td>\n",
              "      <td>UEBHEAT</td>\n",
              "      <td>RAT3.61</td>\n",
              "      <td>UEIDLESD</td>\n",
              "      <td>FCABS-M</td>\n",
              "      <td>GSS-AGS</td>\n",
              "      <td>BF-DIBAS</td>\n",
              "      <td>UPTOTR</td>\n",
              "      <td>UHPE</td>\n",
              "      <td>UBBCHAS</td>\n",
              "      <td>CCV-C</td>\n",
              "      <td>TC-CONST</td>\n",
              "      <td>WTCOOL</td>\n",
              "      <td>BR-DIBAS</td>\n",
              "      <td>FAL9.0</td>\n",
              "      <td>2COMP900</td>\n",
              "      <td>TURBO-D</td>\n",
              "      <td>RAA22</td>\n",
              "      <td>UHPG</td>\n",
              "      <td>FSI-LEAF</td>\n",
              "      <td>UDAS</td>\n",
              "      <td>TURB-HD</td>\n",
              "      <td>FAA1</td>\n",
              "      <td>URETARD</td>\n",
              "      <td>VUPT-A2</td>\n",
              "      <td>NONE</td>\n",
              "      <td>FSS-LEAF</td>\n",
              "      <td>PTOENG-R</td>\n",
              "      <td>24AL150B</td>\n",
              "      <td>PH-CAB2</td>\n",
              "      <td>WVTA-EC</td>\n",
              "      <td>TGW-3GWL</td>\n",
              "      <td>ATO35</td>\n",
              "      <td>RC-ROUGH</td>\n",
              "      <td>CTILTP-E</td>\n",
              "      <td>EML-BAS</td>\n",
              "      <td>TRACTOR</td>\n",
              "      <td>EPTT650</td>\n",
              "      <td>CABH215</td>\n",
              "      <td>UACTST</td>\n",
              "      <td>UADRC</td>\n",
              "      <td>High</td>\n",
              "      <td>Med</td>\n",
              "      <td>K</td>\n",
              "      <td>HIGH</td>\n",
              "      <td>RAL26</td>\n",
              "      <td>HEAVY_CONSTR</td>\n",
              "      <td>CABH215</td>\n",
              "    </tr>\n",
              "    <tr>\n",
              "      <th>2</th>\n",
              "      <td>N-767941</td>\n",
              "      <td>6*4</td>\n",
              "      <td>DEU</td>\n",
              "      <td>FAT-RIG</td>\n",
              "      <td>ENG-VE16</td>\n",
              "      <td>WPTER</td>\n",
              "      <td>BUMP-B2</td>\n",
              "      <td>RAL26</td>\n",
              "      <td>FA-HIGH</td>\n",
              "      <td>TYPE-FH</td>\n",
              "      <td>EM-EU6</td>\n",
              "      <td>UTPTT</td>\n",
              "      <td>T-PFLAT</td>\n",
              "      <td>RSS-AIR</td>\n",
              "      <td>GCW44.0</td>\n",
              "      <td>UBAMAFRE</td>\n",
              "      <td>STWPOS-L</td>\n",
              "      <td>CAB-HSLP</td>\n",
              "      <td>RCABS-A</td>\n",
              "      <td>CHH-HIGH</td>\n",
              "      <td>UPAXLE</td>\n",
              "      <td>ASF-DL1</td>\n",
              "      <td>CLU-AIRC</td>\n",
              "      <td>UEBHEAT</td>\n",
              "      <td>RAT3.61</td>\n",
              "      <td>UEIDLESD</td>\n",
              "      <td>FCABS-M</td>\n",
              "      <td>GSS-AGS</td>\n",
              "      <td>BF-DIBAS</td>\n",
              "      <td>UPTOTR</td>\n",
              "      <td>UHPE</td>\n",
              "      <td>UBBCHAS</td>\n",
              "      <td>CCV-C</td>\n",
              "      <td>TC-CONST</td>\n",
              "      <td>WTCOOL</td>\n",
              "      <td>BR-DIBAS</td>\n",
              "      <td>FAL9.0</td>\n",
              "      <td>2COMP900</td>\n",
              "      <td>TURBO-D</td>\n",
              "      <td>RAA22</td>\n",
              "      <td>UHPG</td>\n",
              "      <td>FSI-LEAF</td>\n",
              "      <td>UDAS</td>\n",
              "      <td>TURB-HD</td>\n",
              "      <td>FAA1</td>\n",
              "      <td>URETARD</td>\n",
              "      <td>VUPT-A2</td>\n",
              "      <td>NONE</td>\n",
              "      <td>FSS-LEAF</td>\n",
              "      <td>PTOENG-R</td>\n",
              "      <td>24AL150B</td>\n",
              "      <td>PH-CAB2</td>\n",
              "      <td>WVTA-EC</td>\n",
              "      <td>TGW-3GWL</td>\n",
              "      <td>ATO35</td>\n",
              "      <td>RC-ROUGH</td>\n",
              "      <td>CTILTP-E</td>\n",
              "      <td>EML-BAS</td>\n",
              "      <td>TRACTOR</td>\n",
              "      <td>EPTT650</td>\n",
              "      <td>CABH215</td>\n",
              "      <td>UACTST</td>\n",
              "      <td>UADRC</td>\n",
              "      <td>High</td>\n",
              "      <td>Med</td>\n",
              "      <td>K</td>\n",
              "      <td>HIGH</td>\n",
              "      <td>RAL26</td>\n",
              "      <td>HEAVY_CONSTR</td>\n",
              "      <td>CABH215</td>\n",
              "    </tr>\n",
              "    <tr>\n",
              "      <th>3</th>\n",
              "      <td>O-731397</td>\n",
              "      <td>6*2</td>\n",
              "      <td>DEU</td>\n",
              "      <td>FAT-RIG</td>\n",
              "      <td>ENG-VE11</td>\n",
              "      <td>WPTER</td>\n",
              "      <td>BUMP-B</td>\n",
              "      <td>RAL19</td>\n",
              "      <td>FA-LOW</td>\n",
              "      <td>TYPE-FM</td>\n",
              "      <td>EM-EU6</td>\n",
              "      <td>UTPTT</td>\n",
              "      <td>T-PFLAT</td>\n",
              "      <td>RSS-AIR</td>\n",
              "      <td>GCW44.0</td>\n",
              "      <td>UBAMAFRE</td>\n",
              "      <td>STWPOS-L</td>\n",
              "      <td>CAB-DAY</td>\n",
              "      <td>RCABS-M</td>\n",
              "      <td>CHH-MED</td>\n",
              "      <td>UPAXLE</td>\n",
              "      <td>ASF-DL3</td>\n",
              "      <td>UCLUAIRC</td>\n",
              "      <td>UEBHEAT</td>\n",
              "      <td>RAT2.85</td>\n",
              "      <td>UEIDLESD</td>\n",
              "      <td>FCABS-M</td>\n",
              "      <td>GSS-AGS</td>\n",
              "      <td>BF-DIBAS</td>\n",
              "      <td>UPTOTR</td>\n",
              "      <td>UHPE</td>\n",
              "      <td>BBCHAS3</td>\n",
              "      <td>CCV-C</td>\n",
              "      <td>TC-DISTR</td>\n",
              "      <td>UTCOOL</td>\n",
              "      <td>BR-DIBAS</td>\n",
              "      <td>FAL8.0</td>\n",
              "      <td>2COM1100</td>\n",
              "      <td>TURBO-S</td>\n",
              "      <td>RAA21T</td>\n",
              "      <td>UHPG</td>\n",
              "      <td>FSI-REAC</td>\n",
              "      <td>UDAS</td>\n",
              "      <td>TURB-HD</td>\n",
              "      <td>FAA1</td>\n",
              "      <td>URETARD</td>\n",
              "      <td>VUPT-A2</td>\n",
              "      <td>NONE</td>\n",
              "      <td>FSS-AIR</td>\n",
              "      <td>PTOENG-R</td>\n",
              "      <td>24AL150B</td>\n",
              "      <td>PH-CAB2</td>\n",
              "      <td>WVTA-EC</td>\n",
              "      <td>TGW-3GWL</td>\n",
              "      <td>AT261</td>\n",
              "      <td>RC-SMOOT</td>\n",
              "      <td>CTILTP-M</td>\n",
              "      <td>EML-BAS</td>\n",
              "      <td>RIGID</td>\n",
              "      <td>EPTT650</td>\n",
              "      <td>CABH165</td>\n",
              "      <td>UACTST</td>\n",
              "      <td>UADRC</td>\n",
              "      <td>Med</td>\n",
              "      <td>Med</td>\n",
              "      <td>K</td>\n",
              "      <td>RAL19</td>\n",
              "      <td>RAL19</td>\n",
              "      <td>INTERREG_HAUL</td>\n",
              "      <td>CABH165</td>\n",
              "    </tr>\n",
              "    <tr>\n",
              "      <th>4</th>\n",
              "      <td>O-731397</td>\n",
              "      <td>6*2</td>\n",
              "      <td>DEU</td>\n",
              "      <td>FAT-RIG</td>\n",
              "      <td>ENG-VE11</td>\n",
              "      <td>WPTER</td>\n",
              "      <td>BUMP-B</td>\n",
              "      <td>RAL19</td>\n",
              "      <td>FA-LOW</td>\n",
              "      <td>TYPE-FM</td>\n",
              "      <td>EM-EU6</td>\n",
              "      <td>UTPTT</td>\n",
              "      <td>T-PFLAT</td>\n",
              "      <td>RSS-AIR</td>\n",
              "      <td>GCW44.0</td>\n",
              "      <td>UBAMAFRE</td>\n",
              "      <td>STWPOS-L</td>\n",
              "      <td>CAB-DAY</td>\n",
              "      <td>RCABS-M</td>\n",
              "      <td>CHH-MED</td>\n",
              "      <td>UPAXLE</td>\n",
              "      <td>ASF-DL3</td>\n",
              "      <td>UCLUAIRC</td>\n",
              "      <td>UEBHEAT</td>\n",
              "      <td>RAT2.85</td>\n",
              "      <td>UEIDLESD</td>\n",
              "      <td>FCABS-M</td>\n",
              "      <td>GSS-AGS</td>\n",
              "      <td>BF-DIBAS</td>\n",
              "      <td>UPTOTR</td>\n",
              "      <td>UHPE</td>\n",
              "      <td>BBCHAS3</td>\n",
              "      <td>CCV-C</td>\n",
              "      <td>TC-DISTR</td>\n",
              "      <td>UTCOOL</td>\n",
              "      <td>BR-DIBAS</td>\n",
              "      <td>FAL8.0</td>\n",
              "      <td>2COM1100</td>\n",
              "      <td>TURBO-S</td>\n",
              "      <td>RAA21T</td>\n",
              "      <td>UHPG</td>\n",
              "      <td>FSI-REAC</td>\n",
              "      <td>UDAS</td>\n",
              "      <td>TURB-HD</td>\n",
              "      <td>FAA1</td>\n",
              "      <td>URETARD</td>\n",
              "      <td>VUPT-A2</td>\n",
              "      <td>NONE</td>\n",
              "      <td>FSS-AIR</td>\n",
              "      <td>PTOENG-R</td>\n",
              "      <td>24AL150B</td>\n",
              "      <td>PH-CAB2</td>\n",
              "      <td>WVTA-EC</td>\n",
              "      <td>TGW-3GWL</td>\n",
              "      <td>AT261</td>\n",
              "      <td>RC-SMOOT</td>\n",
              "      <td>CTILTP-M</td>\n",
              "      <td>EML-BAS</td>\n",
              "      <td>RIGID</td>\n",
              "      <td>EPTT650</td>\n",
              "      <td>CABH165</td>\n",
              "      <td>UACTST</td>\n",
              "      <td>UADRC</td>\n",
              "      <td>Med</td>\n",
              "      <td>Med</td>\n",
              "      <td>K</td>\n",
              "      <td>RAL19</td>\n",
              "      <td>RAL19</td>\n",
              "      <td>INTERREG_HAUL</td>\n",
              "      <td>CABH165</td>\n",
              "    </tr>\n",
              "    <tr>\n",
              "      <th>...</th>\n",
              "      <td>...</td>\n",
              "      <td>...</td>\n",
              "      <td>...</td>\n",
              "      <td>...</td>\n",
              "      <td>...</td>\n",
              "      <td>...</td>\n",
              "      <td>...</td>\n",
              "      <td>...</td>\n",
              "      <td>...</td>\n",
              "      <td>...</td>\n",
              "      <td>...</td>\n",
              "      <td>...</td>\n",
              "      <td>...</td>\n",
              "      <td>...</td>\n",
              "      <td>...</td>\n",
              "      <td>...</td>\n",
              "      <td>...</td>\n",
              "      <td>...</td>\n",
              "      <td>...</td>\n",
              "      <td>...</td>\n",
              "      <td>...</td>\n",
              "      <td>...</td>\n",
              "      <td>...</td>\n",
              "      <td>...</td>\n",
              "      <td>...</td>\n",
              "      <td>...</td>\n",
              "      <td>...</td>\n",
              "      <td>...</td>\n",
              "      <td>...</td>\n",
              "      <td>...</td>\n",
              "      <td>...</td>\n",
              "      <td>...</td>\n",
              "      <td>...</td>\n",
              "      <td>...</td>\n",
              "      <td>...</td>\n",
              "      <td>...</td>\n",
              "      <td>...</td>\n",
              "      <td>...</td>\n",
              "      <td>...</td>\n",
              "      <td>...</td>\n",
              "      <td>...</td>\n",
              "      <td>...</td>\n",
              "      <td>...</td>\n",
              "      <td>...</td>\n",
              "      <td>...</td>\n",
              "      <td>...</td>\n",
              "      <td>...</td>\n",
              "      <td>...</td>\n",
              "      <td>...</td>\n",
              "      <td>...</td>\n",
              "      <td>...</td>\n",
              "      <td>...</td>\n",
              "      <td>...</td>\n",
              "      <td>...</td>\n",
              "      <td>...</td>\n",
              "      <td>...</td>\n",
              "      <td>...</td>\n",
              "      <td>...</td>\n",
              "      <td>...</td>\n",
              "      <td>...</td>\n",
              "      <td>...</td>\n",
              "      <td>...</td>\n",
              "      <td>...</td>\n",
              "      <td>...</td>\n",
              "      <td>...</td>\n",
              "      <td>...</td>\n",
              "      <td>...</td>\n",
              "      <td>...</td>\n",
              "      <td>...</td>\n",
              "      <td>...</td>\n",
              "    </tr>\n",
              "    <tr>\n",
              "      <th>19949</th>\n",
              "      <td>O-845569</td>\n",
              "      <td>8*4</td>\n",
              "      <td>DEU</td>\n",
              "      <td>FAT-RIG</td>\n",
              "      <td>ENG-VE13</td>\n",
              "      <td>WPTER</td>\n",
              "      <td>BUMP-B</td>\n",
              "      <td>RAL32</td>\n",
              "      <td>FA-HIGH</td>\n",
              "      <td>TYPE-FH</td>\n",
              "      <td>EM-EU6</td>\n",
              "      <td>UTPTT</td>\n",
              "      <td>T-PFLAT</td>\n",
              "      <td>RSS-AIR</td>\n",
              "      <td>GCW70.0</td>\n",
              "      <td>UBAMAFRE</td>\n",
              "      <td>STWPOS-L</td>\n",
              "      <td>CAB-XHSL</td>\n",
              "      <td>RCABS-A</td>\n",
              "      <td>CHH-HIGH</td>\n",
              "      <td>PA-HYDRS</td>\n",
              "      <td>ASF-DL1</td>\n",
              "      <td>UCLUAIRC</td>\n",
              "      <td>UEBHEAT</td>\n",
              "      <td>RAT3.09</td>\n",
              "      <td>EIDLESD</td>\n",
              "      <td>FCABS-A</td>\n",
              "      <td>GSS-AGS</td>\n",
              "      <td>BF-DIBAS</td>\n",
              "      <td>UPTOTR</td>\n",
              "      <td>With HPE</td>\n",
              "      <td>BBCHAS1</td>\n",
              "      <td>CCV-C</td>\n",
              "      <td>TC-LONGD</td>\n",
              "      <td>WTCOOL</td>\n",
              "      <td>BR-DIBAS</td>\n",
              "      <td>FAL9.0</td>\n",
              "      <td>2COM1100</td>\n",
              "      <td>TURBO-S</td>\n",
              "      <td>RAA32P</td>\n",
              "      <td>UHPG</td>\n",
              "      <td>FSI-LEAF</td>\n",
              "      <td>UDAS</td>\n",
              "      <td>TURB-HD</td>\n",
              "      <td>FAA1</td>\n",
              "      <td>RET-TH</td>\n",
              "      <td>VUPT-A1</td>\n",
              "      <td>DRC-AMII</td>\n",
              "      <td>FSS-LEAF</td>\n",
              "      <td>PTOENG-R</td>\n",
              "      <td>24AL150B</td>\n",
              "      <td>PH-CAB2</td>\n",
              "      <td>UWVTAPPR</td>\n",
              "      <td>TGW-3GWL</td>\n",
              "      <td>AT261</td>\n",
              "      <td>RC-SMOOT</td>\n",
              "      <td>CTILTP-M</td>\n",
              "      <td>EML-BAS</td>\n",
              "      <td>TRACTOR</td>\n",
              "      <td>EPTT650</td>\n",
              "      <td>CABH230</td>\n",
              "      <td>UACTST</td>\n",
              "      <td>UADRC</td>\n",
              "      <td>High</td>\n",
              "      <td>High</td>\n",
              "      <td>K</td>\n",
              "      <td>HIGH</td>\n",
              "      <td>RAL32</td>\n",
              "      <td>HEAVY_CONSTR</td>\n",
              "      <td>CABH230</td>\n",
              "    </tr>\n",
              "    <tr>\n",
              "      <th>19950</th>\n",
              "      <td>O-845569</td>\n",
              "      <td>8*4</td>\n",
              "      <td>DEU</td>\n",
              "      <td>FAT-RIG</td>\n",
              "      <td>ENG-VE13</td>\n",
              "      <td>WPTER</td>\n",
              "      <td>BUMP-B</td>\n",
              "      <td>RAL32</td>\n",
              "      <td>FA-HIGH</td>\n",
              "      <td>TYPE-FH</td>\n",
              "      <td>EM-EU6</td>\n",
              "      <td>UTPTT</td>\n",
              "      <td>T-PFLAT</td>\n",
              "      <td>RSS-AIR</td>\n",
              "      <td>GCW70.0</td>\n",
              "      <td>UBAMAFRE</td>\n",
              "      <td>STWPOS-L</td>\n",
              "      <td>CAB-XHSL</td>\n",
              "      <td>RCABS-A</td>\n",
              "      <td>CHH-HIGH</td>\n",
              "      <td>PA-HYDRS</td>\n",
              "      <td>ASF-DL1</td>\n",
              "      <td>UCLUAIRC</td>\n",
              "      <td>UEBHEAT</td>\n",
              "      <td>RAT3.09</td>\n",
              "      <td>EIDLESD</td>\n",
              "      <td>FCABS-A</td>\n",
              "      <td>GSS-AGS</td>\n",
              "      <td>BF-DIBAS</td>\n",
              "      <td>UPTOTR</td>\n",
              "      <td>With HPE</td>\n",
              "      <td>BBCHAS1</td>\n",
              "      <td>CCV-C</td>\n",
              "      <td>TC-LONGD</td>\n",
              "      <td>WTCOOL</td>\n",
              "      <td>BR-DIBAS</td>\n",
              "      <td>FAL9.0</td>\n",
              "      <td>2COM1100</td>\n",
              "      <td>TURBO-S</td>\n",
              "      <td>RAA32P</td>\n",
              "      <td>UHPG</td>\n",
              "      <td>FSI-LEAF</td>\n",
              "      <td>UDAS</td>\n",
              "      <td>TURB-HD</td>\n",
              "      <td>FAA1</td>\n",
              "      <td>RET-TH</td>\n",
              "      <td>VUPT-A1</td>\n",
              "      <td>DRC-AMII</td>\n",
              "      <td>FSS-LEAF</td>\n",
              "      <td>PTOENG-R</td>\n",
              "      <td>24AL150B</td>\n",
              "      <td>PH-CAB2</td>\n",
              "      <td>UWVTAPPR</td>\n",
              "      <td>TGW-3GWL</td>\n",
              "      <td>AT261</td>\n",
              "      <td>RC-SMOOT</td>\n",
              "      <td>CTILTP-M</td>\n",
              "      <td>EML-BAS</td>\n",
              "      <td>TRACTOR</td>\n",
              "      <td>EPTT650</td>\n",
              "      <td>CABH230</td>\n",
              "      <td>UACTST</td>\n",
              "      <td>UADRC</td>\n",
              "      <td>High</td>\n",
              "      <td>High</td>\n",
              "      <td>K</td>\n",
              "      <td>HIGH</td>\n",
              "      <td>RAL32</td>\n",
              "      <td>HEAVY_CONSTR</td>\n",
              "      <td>CABH230</td>\n",
              "    </tr>\n",
              "    <tr>\n",
              "      <th>19951</th>\n",
              "      <td>O-884023</td>\n",
              "      <td>4*2</td>\n",
              "      <td>DEU</td>\n",
              "      <td>FAT-RIG</td>\n",
              "      <td>ENG-VE13</td>\n",
              "      <td>UPTER</td>\n",
              "      <td>BUMP-B</td>\n",
              "      <td>RAL13</td>\n",
              "      <td>FA-MED</td>\n",
              "      <td>TYPE-FH</td>\n",
              "      <td>EM-EU6</td>\n",
              "      <td>UTPTT</td>\n",
              "      <td>T-PFLAT</td>\n",
              "      <td>RSS-AIR</td>\n",
              "      <td>GCW44.0</td>\n",
              "      <td>UBAMAFRE</td>\n",
              "      <td>STWPOS-L</td>\n",
              "      <td>CAB-XHSL</td>\n",
              "      <td>RCABS-A</td>\n",
              "      <td>CHH-MED</td>\n",
              "      <td>UPAXLE</td>\n",
              "      <td>ASF-DL3</td>\n",
              "      <td>UCLUAIRC</td>\n",
              "      <td>UEBHEAT</td>\n",
              "      <td>RAT2.64</td>\n",
              "      <td>UEIDLESD</td>\n",
              "      <td>FCABS-M</td>\n",
              "      <td>GSS-AGS</td>\n",
              "      <td>BF-DIBAS</td>\n",
              "      <td>UPTOTR</td>\n",
              "      <td>UHPE</td>\n",
              "      <td>UBBCHAS</td>\n",
              "      <td>CCV-OX</td>\n",
              "      <td>TC-LONGD</td>\n",
              "      <td>UTCOOL</td>\n",
              "      <td>BR-DIBAS</td>\n",
              "      <td>FAL7.5</td>\n",
              "      <td>2COMP900</td>\n",
              "      <td>TURBO-S</td>\n",
              "      <td>RAA11</td>\n",
              "      <td>UHPG</td>\n",
              "      <td>FSI-LEAF</td>\n",
              "      <td>UDAS</td>\n",
              "      <td>TURB-HD</td>\n",
              "      <td>FAA1</td>\n",
              "      <td>URETARD</td>\n",
              "      <td>VUPT-A1</td>\n",
              "      <td>DRC-AMII</td>\n",
              "      <td>FSS-LEAF</td>\n",
              "      <td>UPTOENGR</td>\n",
              "      <td>24AL150B</td>\n",
              "      <td>PH-CAB2</td>\n",
              "      <td>WVTA-EC</td>\n",
              "      <td>TGW-3GWL</td>\n",
              "      <td>AT261</td>\n",
              "      <td>RC-SMOOT</td>\n",
              "      <td>CTILTP-M</td>\n",
              "      <td>EML-BAS</td>\n",
              "      <td>TRACTOR</td>\n",
              "      <td>UEPTT</td>\n",
              "      <td>CABH230</td>\n",
              "      <td>UACTST</td>\n",
              "      <td>UADRC</td>\n",
              "      <td>Med</td>\n",
              "      <td>Med</td>\n",
              "      <td>K</td>\n",
              "      <td>RAL13</td>\n",
              "      <td>RAL13</td>\n",
              "      <td>DEMAND_LONG_HAUL</td>\n",
              "      <td>CABH230</td>\n",
              "    </tr>\n",
              "    <tr>\n",
              "      <th>19952</th>\n",
              "      <td>O-684939</td>\n",
              "      <td>6*2</td>\n",
              "      <td>DEU</td>\n",
              "      <td>FAT-RIG</td>\n",
              "      <td>ENG-VE13</td>\n",
              "      <td>UPTER</td>\n",
              "      <td>BUMP-B</td>\n",
              "      <td>RAL19</td>\n",
              "      <td>FA-LOW</td>\n",
              "      <td>TYPE-FH</td>\n",
              "      <td>EM-EU6</td>\n",
              "      <td>UTPTT</td>\n",
              "      <td>T-PFLAT</td>\n",
              "      <td>RSS-AIR</td>\n",
              "      <td>GCW44.0</td>\n",
              "      <td>UBAMAFRE</td>\n",
              "      <td>STWPOS-L</td>\n",
              "      <td>CAB-HSLP</td>\n",
              "      <td>RCABS-A</td>\n",
              "      <td>CHH-HIGH</td>\n",
              "      <td>UPAXLE</td>\n",
              "      <td>ASF-DL3</td>\n",
              "      <td>CLU-AIRC</td>\n",
              "      <td>UEBHEAT</td>\n",
              "      <td>RAT2.79</td>\n",
              "      <td>EIDLESD</td>\n",
              "      <td>FCABS-M</td>\n",
              "      <td>GSS-AGS</td>\n",
              "      <td>BF-DIBAS</td>\n",
              "      <td>UPTOTR</td>\n",
              "      <td>UHPE</td>\n",
              "      <td>BBCHAS3</td>\n",
              "      <td>CCV-C</td>\n",
              "      <td>TC-LONGD</td>\n",
              "      <td>WTCOOL</td>\n",
              "      <td>BR-DIBAS</td>\n",
              "      <td>FAL8.0</td>\n",
              "      <td>2COMP900</td>\n",
              "      <td>TURBO-S</td>\n",
              "      <td>RAA21T</td>\n",
              "      <td>UHPG</td>\n",
              "      <td>FSI-REAC</td>\n",
              "      <td>DAS-W</td>\n",
              "      <td>TURB-HD</td>\n",
              "      <td>FAA1</td>\n",
              "      <td>RET-TH</td>\n",
              "      <td>VUPT-A1</td>\n",
              "      <td>NONE</td>\n",
              "      <td>FSS-AIR</td>\n",
              "      <td>UPTOENGR</td>\n",
              "      <td>24AL150B</td>\n",
              "      <td>PH-CAB2</td>\n",
              "      <td>UWVTAPPR</td>\n",
              "      <td>TGW-3GWL</td>\n",
              "      <td>AT261</td>\n",
              "      <td>RC-SMOOT</td>\n",
              "      <td>CTILTP-M</td>\n",
              "      <td>EML-BAS</td>\n",
              "      <td>RIGID</td>\n",
              "      <td>UEPTT</td>\n",
              "      <td>CABH215</td>\n",
              "      <td>UACTST</td>\n",
              "      <td>UADRC</td>\n",
              "      <td>Med</td>\n",
              "      <td>Med</td>\n",
              "      <td>K</td>\n",
              "      <td>RAL19</td>\n",
              "      <td>RAL19</td>\n",
              "      <td>DEMAND_LONG_HAUL</td>\n",
              "      <td>CABH215</td>\n",
              "    </tr>\n",
              "    <tr>\n",
              "      <th>19953</th>\n",
              "      <td>O-694033</td>\n",
              "      <td>4*2</td>\n",
              "      <td>DEU</td>\n",
              "      <td>FAT-RIG</td>\n",
              "      <td>ENG-VE13</td>\n",
              "      <td>UPTER</td>\n",
              "      <td>BUMP-B</td>\n",
              "      <td>RAL13</td>\n",
              "      <td>FA-MED</td>\n",
              "      <td>TYPE-FH</td>\n",
              "      <td>EM-EU6</td>\n",
              "      <td>UTPTT</td>\n",
              "      <td>T-PFLAT</td>\n",
              "      <td>RSS-AIR</td>\n",
              "      <td>GCW44.0</td>\n",
              "      <td>UBAMAFRE</td>\n",
              "      <td>STWPOS-L</td>\n",
              "      <td>CAB-XHSL</td>\n",
              "      <td>RCABS-A</td>\n",
              "      <td>CHH-MED</td>\n",
              "      <td>UPAXLE</td>\n",
              "      <td>ASF-DL3</td>\n",
              "      <td>UCLUAIRC</td>\n",
              "      <td>UEBHEAT</td>\n",
              "      <td>RAT2.64</td>\n",
              "      <td>UEIDLESD</td>\n",
              "      <td>FCABS-M</td>\n",
              "      <td>GSS-AGS</td>\n",
              "      <td>BF-DIBAS</td>\n",
              "      <td>UPTOTR</td>\n",
              "      <td>UHPE</td>\n",
              "      <td>UBBCHAS</td>\n",
              "      <td>CCV-C</td>\n",
              "      <td>TC-LONGD</td>\n",
              "      <td>UTCOOL</td>\n",
              "      <td>BR-DIBAS</td>\n",
              "      <td>FAL7.5</td>\n",
              "      <td>2COMP900</td>\n",
              "      <td>TURBO-S</td>\n",
              "      <td>RAA11</td>\n",
              "      <td>UHPG</td>\n",
              "      <td>FSI-LEAF</td>\n",
              "      <td>UDAS</td>\n",
              "      <td>TURB-HD</td>\n",
              "      <td>FAA1</td>\n",
              "      <td>URETARD</td>\n",
              "      <td>VUPT-A2</td>\n",
              "      <td>NONE</td>\n",
              "      <td>FSS-LEAF</td>\n",
              "      <td>UPTOENGR</td>\n",
              "      <td>24AL150B</td>\n",
              "      <td>PH-CAB2</td>\n",
              "      <td>WVTA-EC</td>\n",
              "      <td>TGW-3GWL</td>\n",
              "      <td>AT261</td>\n",
              "      <td>RC-SMOOT</td>\n",
              "      <td>CTILTP-M</td>\n",
              "      <td>EML-BAS</td>\n",
              "      <td>TRACTOR</td>\n",
              "      <td>UEPTT</td>\n",
              "      <td>CABH230</td>\n",
              "      <td>UACTST</td>\n",
              "      <td>UADRC</td>\n",
              "      <td>Med</td>\n",
              "      <td>Med</td>\n",
              "      <td>K</td>\n",
              "      <td>RAL13</td>\n",
              "      <td>RAL13</td>\n",
              "      <td>DEMAND_LONG_HAUL</td>\n",
              "      <td>CABH230</td>\n",
              "    </tr>\n",
              "  </tbody>\n",
              "</table>\n",
              "<p>19954 rows × 70 columns</p>\n",
              "</div>"
            ],
            "text/plain": [
              "      T_CHASSIS VAR_DAX_AXLE_ARRANGEMENT  ... VFE_0009_LTVF_TYPE VFE_0007_CAB_HEIGHT\n",
              "0      N-767941                      6*4  ...       HEAVY_CONSTR             CABH215\n",
              "1      N-767941                      6*4  ...       HEAVY_CONSTR             CABH215\n",
              "2      N-767941                      6*4  ...       HEAVY_CONSTR             CABH215\n",
              "3      O-731397                      6*2  ...      INTERREG_HAUL             CABH165\n",
              "4      O-731397                      6*2  ...      INTERREG_HAUL             CABH165\n",
              "...         ...                      ...  ...                ...                 ...\n",
              "19949  O-845569                      8*4  ...       HEAVY_CONSTR             CABH230\n",
              "19950  O-845569                      8*4  ...       HEAVY_CONSTR             CABH230\n",
              "19951  O-884023                      4*2  ...   DEMAND_LONG_HAUL             CABH230\n",
              "19952  O-684939                      6*2  ...   DEMAND_LONG_HAUL             CABH215\n",
              "19953  O-694033                      4*2  ...   DEMAND_LONG_HAUL             CABH230\n",
              "\n",
              "[19954 rows x 70 columns]"
            ]
          },
          "metadata": {
            "tags": []
          },
          "execution_count": 138
        }
      ]
    },
    {
      "cell_type": "markdown",
      "metadata": {
        "id": "xl2hC2FnxVyn",
        "colab_type": "text"
      },
      "source": [
        "### No missing values in the categorical data\n"
      ]
    },
    {
      "cell_type": "code",
      "metadata": {
        "id": "E3EcAM3axIQ8",
        "colab_type": "code",
        "colab": {
          "base_uri": "https://localhost:8080/",
          "height": 34
        },
        "outputId": "bfd99157-9f11-476f-cc30-c7d5b813d312"
      },
      "source": [
        "# check if we have any missing values in the categorical data\n",
        "data_cat.isnull().sum().sum()"
      ],
      "execution_count": 18,
      "outputs": [
        {
          "output_type": "execute_result",
          "data": {
            "text/plain": [
              "0"
            ]
          },
          "metadata": {
            "tags": []
          },
          "execution_count": 18
        }
      ]
    },
    {
      "cell_type": "code",
      "metadata": {
        "id": "mWK1L0g93rxA",
        "colab_type": "code",
        "outputId": "9bbab8fd-e20f-40ef-c77b-b4fec749051b",
        "colab": {
          "base_uri": "https://localhost:8080/",
          "height": 34
        }
      },
      "source": [
        "# it seems some categorical features have the same values i.e std of 0\n",
        "data_cat['VAR_2RB_BATTERY_MAINTENANCE'].unique()"
      ],
      "execution_count": 10,
      "outputs": [
        {
          "output_type": "execute_result",
          "data": {
            "text/plain": [
              "array(['UBAMAFRE', 'BAMAFREE'], dtype=object)"
            ]
          },
          "metadata": {
            "tags": []
          },
          "execution_count": 10
        }
      ]
    },
    {
      "cell_type": "code",
      "metadata": {
        "id": "FcRnl6T059fW",
        "colab_type": "code",
        "outputId": "19949089-05fe-4a26-bde8-fb3820796304",
        "colab": {
          "base_uri": "https://localhost:8080/",
          "height": 1000
        }
      },
      "source": [
        "## find categorical features with zero variance - Will don't need those features.\n",
        "data_cat.columns\n",
        "var_1_categories = []\n",
        "for col in data_cat.columns:\n",
        "  unique_Values = data_cat.loc[:, col].nunique()\n",
        "  print (col, unique_Values)\n",
        "  if unique_Values == 1:\n",
        "    var_1_categories.append(col)\n"
      ],
      "execution_count": 11,
      "outputs": [
        {
          "output_type": "stream",
          "text": [
            "T_CHASSIS 445\n",
            "VAR_DAX_AXLE_ARRANGEMENT 4\n",
            "COUNTRY_OF_OPERATION 1\n",
            "VAR_7MA_FRONT_AXLE_TYPE 2\n",
            "VAR_DPX_ENGINE_TYPE 3\n",
            "VAR_T1X_PTO_ENGINE_MOUNTED_REAR 2\n",
            "VAR_4DX_FRONT_BUMPER 3\n",
            "VAR_F1X_REAR_AXLE_LOAD 9\n",
            "VAR_FTX_GROUND_CLEARANCE_FA 3\n",
            "VAR_CKX_VEHICLE_PROFILE 2\n",
            "VAR_KTX_ENGINE_EMISSION_CONTROL 2\n",
            "VAR_3ZB_TRANSMISSION_PTO_TORQUE_CAP 5\n",
            "VAR_QCX_TOPOGRAPHY 3\n",
            "VAR_YLX_REAR_SUSPENSION_SYSTEM 2\n",
            "VAR_DKX_GROSS_COMBINATION_WEIGHT 9\n",
            "VAR_2RB_BATTERY_MAINTENANCE 2\n",
            "VAR_FAX_STEERING_WHEEL_POS 1\n",
            "VAR_2CX_CAB_VERSION 5\n",
            "VAR_2DX_REAR_CAB_SUSPENSION 2\n",
            "VAR_GSX_CHASSIS_HEIGHT 4\n",
            "VAR_FFX_PUSHER_AXLE_FEATURES 2\n",
            "VAR_5CB_AIR_SUSP_FEATURE_SOFTWARE 3\n",
            "VAR_2GB_CLUTCHABLE_AIR_COMPRESSOR 2\n",
            "VAR_5NX_ENGINE_BLOCK_HEATER 2\n",
            "VAR_TAX_REAR_AXLE_RATIO 22\n",
            "VAR_A3A_IDLE_SHUTDOWN 2\n",
            "VAR_2LX_FRONT_CAB_SUSPENSION 2\n",
            "VAR_RUX_GEAR_SHIFTING_SYSTEM 3\n",
            "VAR_U3X_BRAKE_FRONT 3\n",
            "VAR_T4X_PTO_TRANSM_MOUNTED 2\n",
            "VAR_UBX_HYDRAULIC_PUMP_ENG_MTD 2\n",
            "VAR_4QB_BODYBUILDER_EL_INTERFCAB_CHAS 3\n",
            "VAR_REX_CRANK_CASE_VENTILATION 3\n",
            "VAR_78X_TRANSPORT_CYCLE 3\n",
            "VAR_T2X_TRANSMISSIONRETARDER_COOLER 2\n",
            "VAR_U4X_BRAKE_DRIVE_REAR 3\n",
            "VAR_FVX_FRONT_AXLE_LOAD 7\n",
            "VAR_VWX_COMPRESSOR_CAPACITY 3\n",
            "VAR_H1B_TURBO_APPLICATION 2\n",
            "VAR_FDX_REAR_AXLE_ARRANGEMENT 6\n",
            "VAR_7PX_HYDRAULIC_PUMP_GEARBOX_MOUNTED 2\n",
            "VAR_7NA_FRONT_SUSPENSION_INSTALLATION 4\n",
            "VAR_LKX_DRIVER_STATE_SENSING_SYSTEM 2\n",
            "VAR_QWX_TURBO 2\n",
            "VAR_FZX_FRONT_AXLE_ARRANGEMENT 2\n",
            "VAR_V6X_RETARDER 2\n",
            "VAR_K4C_VEHICLE_UPTIME_SETTINGS 3\n",
            "VAR_0RA_REGENERATION_CONTROLS_DPF 4\n",
            "VAR_YKX_FRONT_SUSPENSION_SYSTEM 2\n",
            "VAR_T3X_PTO_ENGINE_REAR_MOUNTED 2\n",
            "VAR_PJX_ALTERNATOR_CAPACITY 3\n",
            "VAR_41X_PARKING_HEATER 3\n",
            "VAR_D7C_WHOLE_VEHICLE_TYPE_APPROVAL 2\n",
            "VAR_5JB_TELEMATICS_COMMUNICAT_GATEWAYS 2\n",
            "VAR_RWX_TRANSMISSION 7\n",
            "VAR_DHX_ROAD_CONDITION 2\n",
            "VAR_2EX_CAB_TILT_PUMP 2\n",
            "VAR_D9C_EMISSION_LEVEL 3\n",
            "VAR_DDX_CHASSIS_TYPE 2\n",
            "VAR_O8A_ENGINE_PTO_TORQUE_CAPACITY 3\n",
            "VAR_33A_CAB_HEIGHT 7\n",
            "VAR_J2A_ACTIVE_STEERING 2\n",
            "VAR_N9C_ADR_CLASSIFICATION 2\n",
            "VFE_0001_HORSE_POWER 3\n",
            "VFE_0002_GROSS_COMBINATION_WEIGHT_BIN 2\n",
            "VFE_0003_ENGINE_GENERATION 3\n",
            "VFE_0004_REAR_AXLE_LOAD_BIN 7\n",
            "VFE_0005_REAR_AXLE_RATIO_BIN 10\n",
            "VFE_0009_LTVF_TYPE 5\n",
            "VFE_0007_CAB_HEIGHT 7\n"
          ],
          "name": "stdout"
        }
      ]
    },
    {
      "cell_type": "code",
      "metadata": {
        "id": "Pmk29fm58Puq",
        "colab_type": "code",
        "outputId": "2c895d56-465f-4fd9-8c14-01104ce502ff",
        "colab": {
          "base_uri": "https://localhost:8080/",
          "height": 34
        }
      },
      "source": [
        "# Categorical Variables with only 1 value. i.e std is 0\n",
        "var_1_categories"
      ],
      "execution_count": 12,
      "outputs": [
        {
          "output_type": "execute_result",
          "data": {
            "text/plain": [
              "['COUNTRY_OF_OPERATION', 'VAR_FAX_STEERING_WHEEL_POS']"
            ]
          },
          "metadata": {
            "tags": []
          },
          "execution_count": 12
        }
      ]
    },
    {
      "cell_type": "code",
      "metadata": {
        "id": "N3kFVvGO2Gm6",
        "colab_type": "code",
        "colab": {}
      },
      "source": [
        ""
      ],
      "execution_count": 0,
      "outputs": []
    },
    {
      "cell_type": "markdown",
      "metadata": {
        "id": "pXfQPjtd2Heq",
        "colab_type": "text"
      },
      "source": [
        "## Embeddings"
      ]
    },
    {
      "cell_type": "markdown",
      "metadata": {
        "id": "ODkykfeJQUuB",
        "colab_type": "text"
      },
      "source": [
        "In order to apply embeddings for out categorical variables. We need to first determine which features are categorical variable and which are not. We need to ensure we caputure all possible cases of the categorical features. \n",
        "\n",
        "Okay, then for each categorical variable we need to capture the cardinalty of the feature iteself."
      ]
    },
    {
      "cell_type": "code",
      "metadata": {
        "id": "GD_Ia3g3RFLp",
        "colab_type": "code",
        "colab": {}
      },
      "source": [
        "# we are going to discard the T_CHASSIS feature\n",
        "categorical_features = data_cat.columns[1:]\n",
        "categorical_features"
      ],
      "execution_count": 0,
      "outputs": []
    },
    {
      "cell_type": "code",
      "metadata": {
        "id": "hfAYBQEmQvRm",
        "colab_type": "code",
        "colab": {
          "base_uri": "https://localhost:8080/",
          "height": 1000
        },
        "outputId": "8541e1b0-e8a1-4185-a0c6-ea277f1d5581"
      },
      "source": [
        "# fetch cardinality of out categorical variables.\n",
        "cat_cardinality = [(cols, data_cat[cols].nunique()) for cols in categorical_features]\n",
        "cat_cardinality"
      ],
      "execution_count": 163,
      "outputs": [
        {
          "output_type": "execute_result",
          "data": {
            "text/plain": [
              "[('VAR_DAX_AXLE_ARRANGEMENT', 4),\n",
              " ('COUNTRY_OF_OPERATION', 1),\n",
              " ('VAR_7MA_FRONT_AXLE_TYPE', 2),\n",
              " ('VAR_DPX_ENGINE_TYPE', 3),\n",
              " ('VAR_T1X_PTO_ENGINE_MOUNTED_REAR', 2),\n",
              " ('VAR_4DX_FRONT_BUMPER', 3),\n",
              " ('VAR_F1X_REAR_AXLE_LOAD', 9),\n",
              " ('VAR_FTX_GROUND_CLEARANCE_FA', 3),\n",
              " ('VAR_CKX_VEHICLE_PROFILE', 2),\n",
              " ('VAR_KTX_ENGINE_EMISSION_CONTROL', 2),\n",
              " ('VAR_3ZB_TRANSMISSION_PTO_TORQUE_CAP', 5),\n",
              " ('VAR_QCX_TOPOGRAPHY', 3),\n",
              " ('VAR_YLX_REAR_SUSPENSION_SYSTEM', 2),\n",
              " ('VAR_DKX_GROSS_COMBINATION_WEIGHT', 9),\n",
              " ('VAR_2RB_BATTERY_MAINTENANCE', 2),\n",
              " ('VAR_FAX_STEERING_WHEEL_POS', 1),\n",
              " ('VAR_2CX_CAB_VERSION', 5),\n",
              " ('VAR_2DX_REAR_CAB_SUSPENSION', 2),\n",
              " ('VAR_GSX_CHASSIS_HEIGHT', 4),\n",
              " ('VAR_FFX_PUSHER_AXLE_FEATURES', 2),\n",
              " ('VAR_5CB_AIR_SUSP_FEATURE_SOFTWARE', 3),\n",
              " ('VAR_2GB_CLUTCHABLE_AIR_COMPRESSOR', 2),\n",
              " ('VAR_5NX_ENGINE_BLOCK_HEATER', 2),\n",
              " ('VAR_TAX_REAR_AXLE_RATIO', 22),\n",
              " ('VAR_A3A_IDLE_SHUTDOWN', 2),\n",
              " ('VAR_2LX_FRONT_CAB_SUSPENSION', 2),\n",
              " ('VAR_RUX_GEAR_SHIFTING_SYSTEM', 3),\n",
              " ('VAR_U3X_BRAKE_FRONT', 3),\n",
              " ('VAR_T4X_PTO_TRANSM_MOUNTED', 2),\n",
              " ('VAR_UBX_HYDRAULIC_PUMP_ENG_MTD', 2),\n",
              " ('VAR_4QB_BODYBUILDER_EL_INTERFCAB_CHAS', 3),\n",
              " ('VAR_REX_CRANK_CASE_VENTILATION', 3),\n",
              " ('VAR_78X_TRANSPORT_CYCLE', 3),\n",
              " ('VAR_T2X_TRANSMISSIONRETARDER_COOLER', 2),\n",
              " ('VAR_U4X_BRAKE_DRIVE_REAR', 3),\n",
              " ('VAR_FVX_FRONT_AXLE_LOAD', 7),\n",
              " ('VAR_VWX_COMPRESSOR_CAPACITY', 3),\n",
              " ('VAR_H1B_TURBO_APPLICATION', 2),\n",
              " ('VAR_FDX_REAR_AXLE_ARRANGEMENT', 6),\n",
              " ('VAR_7PX_HYDRAULIC_PUMP_GEARBOX_MOUNTED', 2),\n",
              " ('VAR_7NA_FRONT_SUSPENSION_INSTALLATION', 4),\n",
              " ('VAR_LKX_DRIVER_STATE_SENSING_SYSTEM', 2),\n",
              " ('VAR_QWX_TURBO', 2),\n",
              " ('VAR_FZX_FRONT_AXLE_ARRANGEMENT', 2),\n",
              " ('VAR_V6X_RETARDER', 2),\n",
              " ('VAR_K4C_VEHICLE_UPTIME_SETTINGS', 3),\n",
              " ('VAR_0RA_REGENERATION_CONTROLS_DPF', 4),\n",
              " ('VAR_YKX_FRONT_SUSPENSION_SYSTEM', 2),\n",
              " ('VAR_T3X_PTO_ENGINE_REAR_MOUNTED', 2),\n",
              " ('VAR_PJX_ALTERNATOR_CAPACITY', 3),\n",
              " ('VAR_41X_PARKING_HEATER', 3),\n",
              " ('VAR_D7C_WHOLE_VEHICLE_TYPE_APPROVAL', 2),\n",
              " ('VAR_5JB_TELEMATICS_COMMUNICAT_GATEWAYS', 2),\n",
              " ('VAR_RWX_TRANSMISSION', 7),\n",
              " ('VAR_DHX_ROAD_CONDITION', 2),\n",
              " ('VAR_2EX_CAB_TILT_PUMP', 2),\n",
              " ('VAR_D9C_EMISSION_LEVEL', 3),\n",
              " ('VAR_DDX_CHASSIS_TYPE', 2),\n",
              " ('VAR_O8A_ENGINE_PTO_TORQUE_CAPACITY', 3),\n",
              " ('VAR_33A_CAB_HEIGHT', 7),\n",
              " ('VAR_J2A_ACTIVE_STEERING', 2),\n",
              " ('VAR_N9C_ADR_CLASSIFICATION', 2),\n",
              " ('VFE_0001_HORSE_POWER', 3),\n",
              " ('VFE_0002_GROSS_COMBINATION_WEIGHT_BIN', 2),\n",
              " ('VFE_0003_ENGINE_GENERATION', 3),\n",
              " ('VFE_0004_REAR_AXLE_LOAD_BIN', 7),\n",
              " ('VFE_0005_REAR_AXLE_RATIO_BIN', 10),\n",
              " ('VFE_0009_LTVF_TYPE', 5),\n",
              " ('VFE_0007_CAB_HEIGHT', 7)]"
            ]
          },
          "metadata": {
            "tags": []
          },
          "execution_count": 163
        }
      ]
    },
    {
      "cell_type": "code",
      "metadata": {
        "id": "viuQxcGJTDFS",
        "colab_type": "code",
        "colab": {
          "base_uri": "https://localhost:8080/",
          "height": 34
        },
        "outputId": "a951a2d8-a287-4b62-9f9f-e241e34ba318"
      },
      "source": [
        "# check out which feature has the maximum cardinality\n",
        "#max_cardinality = max(np.array(cat_cardinality)[:,1])\n",
        "max_cad_feature = np.argmax(np.array(cat_cardinality)[:,1].astype(int))\n",
        "max_cardinality = cat_cardinality[max_cad_feature]\n",
        "max_cardinality\n"
      ],
      "execution_count": 170,
      "outputs": [
        {
          "output_type": "execute_result",
          "data": {
            "text/plain": [
              "('VAR_TAX_REAR_AXLE_RATIO', 22)"
            ]
          },
          "metadata": {
            "tags": []
          },
          "execution_count": 170
        }
      ]
    },
    {
      "cell_type": "code",
      "metadata": {
        "id": "pQVmdRFsSYJZ",
        "colab_type": "code",
        "colab": {
          "base_uri": "https://localhost:8080/",
          "height": 34
        },
        "outputId": "c5650ab4-f155-4668-beb2-849897f882e8"
      },
      "source": [
        "# I use the cardinality of each variable to decide how large its embedding matrix should be.\n",
        "# max size of 10\n",
        "embedding_size = np.array([(col_names, c, min(10, (c+1)//2)) for col_names,c in cat_cardinality])\n",
        "embedding_size.shape"
      ],
      "execution_count": 216,
      "outputs": [
        {
          "output_type": "execute_result",
          "data": {
            "text/plain": [
              "(69, 3)"
            ]
          },
          "metadata": {
            "tags": []
          },
          "execution_count": 216
        }
      ]
    },
    {
      "cell_type": "code",
      "metadata": {
        "id": "Ngw0pIU-bS0D",
        "colab_type": "code",
        "colab": {
          "base_uri": "https://localhost:8080/",
          "height": 416
        },
        "outputId": "0cce7a9d-f4ed-4ba2-ebe8-e158ba045bd2"
      },
      "source": [
        "# create a dataframe of the features and their sizes\n",
        "cat_features_df = pd.DataFrame(data=embedding_size, columns=['Feature', 'Cardinality', 'Embedding_Size'])\n",
        "# transform the dtypes\n",
        "cat_features_df = cat_features_df.astype({'Cardinality': 'int32', 'Embedding_Size': 'int32'}, copy=False)\n",
        "cat_features_df"
      ],
      "execution_count": 230,
      "outputs": [
        {
          "output_type": "execute_result",
          "data": {
            "text/html": [
              "<div>\n",
              "<style scoped>\n",
              "    .dataframe tbody tr th:only-of-type {\n",
              "        vertical-align: middle;\n",
              "    }\n",
              "\n",
              "    .dataframe tbody tr th {\n",
              "        vertical-align: top;\n",
              "    }\n",
              "\n",
              "    .dataframe thead th {\n",
              "        text-align: right;\n",
              "    }\n",
              "</style>\n",
              "<table border=\"1\" class=\"dataframe\">\n",
              "  <thead>\n",
              "    <tr style=\"text-align: right;\">\n",
              "      <th></th>\n",
              "      <th>Feature</th>\n",
              "      <th>Cardinality</th>\n",
              "      <th>Embedding_Size</th>\n",
              "    </tr>\n",
              "  </thead>\n",
              "  <tbody>\n",
              "    <tr>\n",
              "      <th>0</th>\n",
              "      <td>VAR_DAX_AXLE_ARRANGEMENT</td>\n",
              "      <td>4</td>\n",
              "      <td>2</td>\n",
              "    </tr>\n",
              "    <tr>\n",
              "      <th>1</th>\n",
              "      <td>COUNTRY_OF_OPERATION</td>\n",
              "      <td>1</td>\n",
              "      <td>1</td>\n",
              "    </tr>\n",
              "    <tr>\n",
              "      <th>2</th>\n",
              "      <td>VAR_7MA_FRONT_AXLE_TYPE</td>\n",
              "      <td>2</td>\n",
              "      <td>1</td>\n",
              "    </tr>\n",
              "    <tr>\n",
              "      <th>3</th>\n",
              "      <td>VAR_DPX_ENGINE_TYPE</td>\n",
              "      <td>3</td>\n",
              "      <td>2</td>\n",
              "    </tr>\n",
              "    <tr>\n",
              "      <th>4</th>\n",
              "      <td>VAR_T1X_PTO_ENGINE_MOUNTED_REAR</td>\n",
              "      <td>2</td>\n",
              "      <td>1</td>\n",
              "    </tr>\n",
              "    <tr>\n",
              "      <th>...</th>\n",
              "      <td>...</td>\n",
              "      <td>...</td>\n",
              "      <td>...</td>\n",
              "    </tr>\n",
              "    <tr>\n",
              "      <th>64</th>\n",
              "      <td>VFE_0003_ENGINE_GENERATION</td>\n",
              "      <td>3</td>\n",
              "      <td>2</td>\n",
              "    </tr>\n",
              "    <tr>\n",
              "      <th>65</th>\n",
              "      <td>VFE_0004_REAR_AXLE_LOAD_BIN</td>\n",
              "      <td>7</td>\n",
              "      <td>4</td>\n",
              "    </tr>\n",
              "    <tr>\n",
              "      <th>66</th>\n",
              "      <td>VFE_0005_REAR_AXLE_RATIO_BIN</td>\n",
              "      <td>10</td>\n",
              "      <td>5</td>\n",
              "    </tr>\n",
              "    <tr>\n",
              "      <th>67</th>\n",
              "      <td>VFE_0009_LTVF_TYPE</td>\n",
              "      <td>5</td>\n",
              "      <td>3</td>\n",
              "    </tr>\n",
              "    <tr>\n",
              "      <th>68</th>\n",
              "      <td>VFE_0007_CAB_HEIGHT</td>\n",
              "      <td>7</td>\n",
              "      <td>4</td>\n",
              "    </tr>\n",
              "  </tbody>\n",
              "</table>\n",
              "<p>69 rows × 3 columns</p>\n",
              "</div>"
            ],
            "text/plain": [
              "                            Feature  Cardinality  Embedding_Size\n",
              "0          VAR_DAX_AXLE_ARRANGEMENT            4               2\n",
              "1              COUNTRY_OF_OPERATION            1               1\n",
              "2           VAR_7MA_FRONT_AXLE_TYPE            2               1\n",
              "3               VAR_DPX_ENGINE_TYPE            3               2\n",
              "4   VAR_T1X_PTO_ENGINE_MOUNTED_REAR            2               1\n",
              "..                              ...          ...             ...\n",
              "64       VFE_0003_ENGINE_GENERATION            3               2\n",
              "65      VFE_0004_REAR_AXLE_LOAD_BIN            7               4\n",
              "66     VFE_0005_REAR_AXLE_RATIO_BIN           10               5\n",
              "67               VFE_0009_LTVF_TYPE            5               3\n",
              "68              VFE_0007_CAB_HEIGHT            7               4\n",
              "\n",
              "[69 rows x 3 columns]"
            ]
          },
          "metadata": {
            "tags": []
          },
          "execution_count": 230
        }
      ]
    },
    {
      "cell_type": "code",
      "metadata": {
        "id": "JARBMR-ypZ5b",
        "colab_type": "code",
        "colab": {
          "base_uri": "https://localhost:8080/",
          "height": 69
        },
        "outputId": "72542c84-85e7-4706-8222-2bfbd76ecc80"
      },
      "source": [
        "for feature in cat_features_df:\n",
        "  print (feature)"
      ],
      "execution_count": 295,
      "outputs": [
        {
          "output_type": "stream",
          "text": [
            "Feature\n",
            "Cardinality\n",
            "Embedding_Size\n"
          ],
          "name": "stdout"
        }
      ]
    },
    {
      "cell_type": "code",
      "metadata": {
        "id": "RAZb5vWk2Je9",
        "colab_type": "code",
        "colab": {
          "base_uri": "https://localhost:8080/",
          "height": 34
        },
        "outputId": "83271ee2-9a51-4f88-d937-26f34a38b1a9"
      },
      "source": [
        "# use tensorflow version 2\n",
        "%tensorflow_version 2.x"
      ],
      "execution_count": 20,
      "outputs": [
        {
          "output_type": "stream",
          "text": [
            "TensorFlow 2.x selected.\n"
          ],
          "name": "stdout"
        }
      ]
    },
    {
      "cell_type": "code",
      "metadata": {
        "id": "t0-PSyCt2P6e",
        "colab_type": "code",
        "colab": {}
      },
      "source": [
        "from tensorflow.keras.models import Sequential, Model\n",
        "from tensorflow.keras.layers import Embedding, Input, Reshape, Concatenate"
      ],
      "execution_count": 0,
      "outputs": []
    },
    {
      "cell_type": "markdown",
      "metadata": {
        "id": "Iov6tDfPg6-G",
        "colab_type": "text"
      },
      "source": [
        "### Creating the Keras Embeddings"
      ]
    },
    {
      "cell_type": "code",
      "metadata": {
        "id": "f6JUt7abZXbW",
        "colab_type": "code",
        "colab": {}
      },
      "source": [
        "### Creating the Keras Embeddings\n",
        "\n",
        "# Integer IDs representing 1-hot encodings\n",
        "prior_in = Input(shape=(1,), name='Emb_Input_layer')\n",
        "\n",
        "# Embeddings for the first cat feature\n",
        "id_feature = 0\n",
        "# create an array of embeddings layers\n",
        "cat_embedding_layers = []\n",
        "# interate through categorical varaibles\n",
        "for id_feature in range(cat_features_df.shape[0]):\n",
        "  embedded_layer = Embedding(input_dim=cat_features_df.loc[id_feature, 'Cardinality'], output_dim=cat_features_df.loc[id_feature, 'Embedding_Size'], name=\"Embedding_layer_\"+cat_features_df.loc[id_feature, 'Feature'])(prior_in)\n",
        "  cat_embedding_layers.append(embedded_layer)\n",
        "\n",
        "cat_embedding_layers"
      ],
      "execution_count": 0,
      "outputs": []
    },
    {
      "cell_type": "code",
      "metadata": {
        "id": "Sn_eGYrxgyph",
        "colab_type": "code",
        "colab": {
          "base_uri": "https://localhost:8080/",
          "height": 34
        },
        "outputId": "69da291f-5fc0-488f-9384-0bbe725983ef"
      },
      "source": [
        "embedded_layer.shape"
      ],
      "execution_count": 242,
      "outputs": [
        {
          "output_type": "execute_result",
          "data": {
            "text/plain": [
              "TensorShape([None, 1, 2])"
            ]
          },
          "metadata": {
            "tags": []
          },
          "execution_count": 242
        }
      ]
    },
    {
      "cell_type": "code",
      "metadata": {
        "id": "Ql-pud44J9vQ",
        "colab_type": "code",
        "colab": {}
      },
      "source": [
        "'''\n",
        "# Reshape and merge all embeddings together\n",
        "reshape = Reshape(target_shape=(10,))\n",
        "combined = Concatenate([reshape(prior), reshape(store), reshape(shopper)])\n",
        "'''"
      ],
      "execution_count": 0,
      "outputs": []
    },
    {
      "cell_type": "code",
      "metadata": {
        "id": "uhuUyAoJifJU",
        "colab_type": "code",
        "colab": {}
      },
      "source": [
        "### creating the embedding model\n",
        "model_emb = Model(inputs=prior_in, outputs=cat_embedding_layers, name=\"Categorical_Embeddings\")\n",
        "\n",
        "# compile the model\n",
        "model_emb.compile(optimizer='rmsprop', loss='mse')"
      ],
      "execution_count": 0,
      "outputs": []
    },
    {
      "cell_type": "code",
      "metadata": {
        "id": "hW4daKSQjJsZ",
        "colab_type": "code",
        "colab": {
          "base_uri": "https://localhost:8080/",
          "height": 1000
        },
        "outputId": "f6627ac8-ab86-4c1b-b3df-2630b0c44432"
      },
      "source": [
        "model_emb.summary()"
      ],
      "execution_count": 300,
      "outputs": [
        {
          "output_type": "stream",
          "text": [
            "Model: \"Categorical_Embeddings\"\n",
            "__________________________________________________________________________________________________\n",
            "Layer (type)                    Output Shape         Param #     Connected to                     \n",
            "==================================================================================================\n",
            "Emb_Input_layer (InputLayer)    [(None, 1)]          0                                            \n",
            "__________________________________________________________________________________________________\n",
            "Embedding_layer_VAR_DAX_AXLE_AR (None, 1, 2)         8           Emb_Input_layer[0][0]            \n",
            "__________________________________________________________________________________________________\n",
            "Embedding_layer_COUNTRY_OF_OPER (None, 1, 1)         1           Emb_Input_layer[0][0]            \n",
            "__________________________________________________________________________________________________\n",
            "Embedding_layer_VAR_7MA_FRONT_A (None, 1, 1)         2           Emb_Input_layer[0][0]            \n",
            "__________________________________________________________________________________________________\n",
            "Embedding_layer_VAR_DPX_ENGINE_ (None, 1, 2)         6           Emb_Input_layer[0][0]            \n",
            "__________________________________________________________________________________________________\n",
            "Embedding_layer_VAR_T1X_PTO_ENG (None, 1, 1)         2           Emb_Input_layer[0][0]            \n",
            "__________________________________________________________________________________________________\n",
            "Embedding_layer_VAR_4DX_FRONT_B (None, 1, 2)         6           Emb_Input_layer[0][0]            \n",
            "__________________________________________________________________________________________________\n",
            "Embedding_layer_VAR_F1X_REAR_AX (None, 1, 5)         45          Emb_Input_layer[0][0]            \n",
            "__________________________________________________________________________________________________\n",
            "Embedding_layer_VAR_FTX_GROUND_ (None, 1, 2)         6           Emb_Input_layer[0][0]            \n",
            "__________________________________________________________________________________________________\n",
            "Embedding_layer_VAR_CKX_VEHICLE (None, 1, 1)         2           Emb_Input_layer[0][0]            \n",
            "__________________________________________________________________________________________________\n",
            "Embedding_layer_VAR_KTX_ENGINE_ (None, 1, 1)         2           Emb_Input_layer[0][0]            \n",
            "__________________________________________________________________________________________________\n",
            "Embedding_layer_VAR_3ZB_TRANSMI (None, 1, 3)         15          Emb_Input_layer[0][0]            \n",
            "__________________________________________________________________________________________________\n",
            "Embedding_layer_VAR_QCX_TOPOGRA (None, 1, 2)         6           Emb_Input_layer[0][0]            \n",
            "__________________________________________________________________________________________________\n",
            "Embedding_layer_VAR_YLX_REAR_SU (None, 1, 1)         2           Emb_Input_layer[0][0]            \n",
            "__________________________________________________________________________________________________\n",
            "Embedding_layer_VAR_DKX_GROSS_C (None, 1, 5)         45          Emb_Input_layer[0][0]            \n",
            "__________________________________________________________________________________________________\n",
            "Embedding_layer_VAR_2RB_BATTERY (None, 1, 1)         2           Emb_Input_layer[0][0]            \n",
            "__________________________________________________________________________________________________\n",
            "Embedding_layer_VAR_FAX_STEERIN (None, 1, 1)         1           Emb_Input_layer[0][0]            \n",
            "__________________________________________________________________________________________________\n",
            "Embedding_layer_VAR_2CX_CAB_VER (None, 1, 3)         15          Emb_Input_layer[0][0]            \n",
            "__________________________________________________________________________________________________\n",
            "Embedding_layer_VAR_2DX_REAR_CA (None, 1, 1)         2           Emb_Input_layer[0][0]            \n",
            "__________________________________________________________________________________________________\n",
            "Embedding_layer_VAR_GSX_CHASSIS (None, 1, 2)         8           Emb_Input_layer[0][0]            \n",
            "__________________________________________________________________________________________________\n",
            "Embedding_layer_VAR_FFX_PUSHER_ (None, 1, 1)         2           Emb_Input_layer[0][0]            \n",
            "__________________________________________________________________________________________________\n",
            "Embedding_layer_VAR_5CB_AIR_SUS (None, 1, 2)         6           Emb_Input_layer[0][0]            \n",
            "__________________________________________________________________________________________________\n",
            "Embedding_layer_VAR_2GB_CLUTCHA (None, 1, 1)         2           Emb_Input_layer[0][0]            \n",
            "__________________________________________________________________________________________________\n",
            "Embedding_layer_VAR_5NX_ENGINE_ (None, 1, 1)         2           Emb_Input_layer[0][0]            \n",
            "__________________________________________________________________________________________________\n",
            "Embedding_layer_VAR_TAX_REAR_AX (None, 1, 10)        220         Emb_Input_layer[0][0]            \n",
            "__________________________________________________________________________________________________\n",
            "Embedding_layer_VAR_A3A_IDLE_SH (None, 1, 1)         2           Emb_Input_layer[0][0]            \n",
            "__________________________________________________________________________________________________\n",
            "Embedding_layer_VAR_2LX_FRONT_C (None, 1, 1)         2           Emb_Input_layer[0][0]            \n",
            "__________________________________________________________________________________________________\n",
            "Embedding_layer_VAR_RUX_GEAR_SH (None, 1, 2)         6           Emb_Input_layer[0][0]            \n",
            "__________________________________________________________________________________________________\n",
            "Embedding_layer_VAR_U3X_BRAKE_F (None, 1, 2)         6           Emb_Input_layer[0][0]            \n",
            "__________________________________________________________________________________________________\n",
            "Embedding_layer_VAR_T4X_PTO_TRA (None, 1, 1)         2           Emb_Input_layer[0][0]            \n",
            "__________________________________________________________________________________________________\n",
            "Embedding_layer_VAR_UBX_HYDRAUL (None, 1, 1)         2           Emb_Input_layer[0][0]            \n",
            "__________________________________________________________________________________________________\n",
            "Embedding_layer_VAR_4QB_BODYBUI (None, 1, 2)         6           Emb_Input_layer[0][0]            \n",
            "__________________________________________________________________________________________________\n",
            "Embedding_layer_VAR_REX_CRANK_C (None, 1, 2)         6           Emb_Input_layer[0][0]            \n",
            "__________________________________________________________________________________________________\n",
            "Embedding_layer_VAR_78X_TRANSPO (None, 1, 2)         6           Emb_Input_layer[0][0]            \n",
            "__________________________________________________________________________________________________\n",
            "Embedding_layer_VAR_T2X_TRANSMI (None, 1, 1)         2           Emb_Input_layer[0][0]            \n",
            "__________________________________________________________________________________________________\n",
            "Embedding_layer_VAR_U4X_BRAKE_D (None, 1, 2)         6           Emb_Input_layer[0][0]            \n",
            "__________________________________________________________________________________________________\n",
            "Embedding_layer_VAR_FVX_FRONT_A (None, 1, 4)         28          Emb_Input_layer[0][0]            \n",
            "__________________________________________________________________________________________________\n",
            "Embedding_layer_VAR_VWX_COMPRES (None, 1, 2)         6           Emb_Input_layer[0][0]            \n",
            "__________________________________________________________________________________________________\n",
            "Embedding_layer_VAR_H1B_TURBO_A (None, 1, 1)         2           Emb_Input_layer[0][0]            \n",
            "__________________________________________________________________________________________________\n",
            "Embedding_layer_VAR_FDX_REAR_AX (None, 1, 3)         18          Emb_Input_layer[0][0]            \n",
            "__________________________________________________________________________________________________\n",
            "Embedding_layer_VAR_7PX_HYDRAUL (None, 1, 1)         2           Emb_Input_layer[0][0]            \n",
            "__________________________________________________________________________________________________\n",
            "Embedding_layer_VAR_7NA_FRONT_S (None, 1, 2)         8           Emb_Input_layer[0][0]            \n",
            "__________________________________________________________________________________________________\n",
            "Embedding_layer_VAR_LKX_DRIVER_ (None, 1, 1)         2           Emb_Input_layer[0][0]            \n",
            "__________________________________________________________________________________________________\n",
            "Embedding_layer_VAR_QWX_TURBO ( (None, 1, 1)         2           Emb_Input_layer[0][0]            \n",
            "__________________________________________________________________________________________________\n",
            "Embedding_layer_VAR_FZX_FRONT_A (None, 1, 1)         2           Emb_Input_layer[0][0]            \n",
            "__________________________________________________________________________________________________\n",
            "Embedding_layer_VAR_V6X_RETARDE (None, 1, 1)         2           Emb_Input_layer[0][0]            \n",
            "__________________________________________________________________________________________________\n",
            "Embedding_layer_VAR_K4C_VEHICLE (None, 1, 2)         6           Emb_Input_layer[0][0]            \n",
            "__________________________________________________________________________________________________\n",
            "Embedding_layer_VAR_0RA_REGENER (None, 1, 2)         8           Emb_Input_layer[0][0]            \n",
            "__________________________________________________________________________________________________\n",
            "Embedding_layer_VAR_YKX_FRONT_S (None, 1, 1)         2           Emb_Input_layer[0][0]            \n",
            "__________________________________________________________________________________________________\n",
            "Embedding_layer_VAR_T3X_PTO_ENG (None, 1, 1)         2           Emb_Input_layer[0][0]            \n",
            "__________________________________________________________________________________________________\n",
            "Embedding_layer_VAR_PJX_ALTERNA (None, 1, 2)         6           Emb_Input_layer[0][0]            \n",
            "__________________________________________________________________________________________________\n",
            "Embedding_layer_VAR_41X_PARKING (None, 1, 2)         6           Emb_Input_layer[0][0]            \n",
            "__________________________________________________________________________________________________\n",
            "Embedding_layer_VAR_D7C_WHOLE_V (None, 1, 1)         2           Emb_Input_layer[0][0]            \n",
            "__________________________________________________________________________________________________\n",
            "Embedding_layer_VAR_5JB_TELEMAT (None, 1, 1)         2           Emb_Input_layer[0][0]            \n",
            "__________________________________________________________________________________________________\n",
            "Embedding_layer_VAR_RWX_TRANSMI (None, 1, 4)         28          Emb_Input_layer[0][0]            \n",
            "__________________________________________________________________________________________________\n",
            "Embedding_layer_VAR_DHX_ROAD_CO (None, 1, 1)         2           Emb_Input_layer[0][0]            \n",
            "__________________________________________________________________________________________________\n",
            "Embedding_layer_VAR_2EX_CAB_TIL (None, 1, 1)         2           Emb_Input_layer[0][0]            \n",
            "__________________________________________________________________________________________________\n",
            "Embedding_layer_VAR_D9C_EMISSIO (None, 1, 2)         6           Emb_Input_layer[0][0]            \n",
            "__________________________________________________________________________________________________\n",
            "Embedding_layer_VAR_DDX_CHASSIS (None, 1, 1)         2           Emb_Input_layer[0][0]            \n",
            "__________________________________________________________________________________________________\n",
            "Embedding_layer_VAR_O8A_ENGINE_ (None, 1, 2)         6           Emb_Input_layer[0][0]            \n",
            "__________________________________________________________________________________________________\n",
            "Embedding_layer_VAR_33A_CAB_HEI (None, 1, 4)         28          Emb_Input_layer[0][0]            \n",
            "__________________________________________________________________________________________________\n",
            "Embedding_layer_VAR_J2A_ACTIVE_ (None, 1, 1)         2           Emb_Input_layer[0][0]            \n",
            "__________________________________________________________________________________________________\n",
            "Embedding_layer_VAR_N9C_ADR_CLA (None, 1, 1)         2           Emb_Input_layer[0][0]            \n",
            "__________________________________________________________________________________________________\n",
            "Embedding_layer_VFE_0001_HORSE_ (None, 1, 2)         6           Emb_Input_layer[0][0]            \n",
            "__________________________________________________________________________________________________\n",
            "Embedding_layer_VFE_0002_GROSS_ (None, 1, 1)         2           Emb_Input_layer[0][0]            \n",
            "__________________________________________________________________________________________________\n",
            "Embedding_layer_VFE_0003_ENGINE (None, 1, 2)         6           Emb_Input_layer[0][0]            \n",
            "__________________________________________________________________________________________________\n",
            "Embedding_layer_VFE_0004_REAR_A (None, 1, 4)         28          Emb_Input_layer[0][0]            \n",
            "__________________________________________________________________________________________________\n",
            "Embedding_layer_VFE_0005_REAR_A (None, 1, 5)         50          Emb_Input_layer[0][0]            \n",
            "__________________________________________________________________________________________________\n",
            "Embedding_layer_VFE_0009_LTVF_T (None, 1, 3)         15          Emb_Input_layer[0][0]            \n",
            "__________________________________________________________________________________________________\n",
            "Embedding_layer_VFE_0007_CAB_HE (None, 1, 4)         28          Emb_Input_layer[0][0]            \n",
            "==================================================================================================\n",
            "Total params: 773\n",
            "Trainable params: 773\n",
            "Non-trainable params: 0\n",
            "__________________________________________________________________________________________________\n"
          ],
          "name": "stdout"
        }
      ]
    },
    {
      "cell_type": "code",
      "metadata": {
        "id": "YGck1qmSjYoh",
        "colab_type": "code",
        "colab": {
          "base_uri": "https://localhost:8080/",
          "height": 86
        },
        "outputId": "137099ee-26a5-4064-ffe0-a460188070bf"
      },
      "source": [
        "x = np.array([1,0,1,0]).reshape(4,1)\n",
        "x"
      ],
      "execution_count": 274,
      "outputs": [
        {
          "output_type": "execute_result",
          "data": {
            "text/plain": [
              "array([[1],\n",
              "       [0],\n",
              "       [1],\n",
              "       [0]])"
            ]
          },
          "metadata": {
            "tags": []
          },
          "execution_count": 274
        }
      ]
    },
    {
      "cell_type": "code",
      "metadata": {
        "id": "9pqH1cosktfp",
        "colab_type": "code",
        "colab": {
          "base_uri": "https://localhost:8080/",
          "height": 138
        },
        "outputId": "2090235b-e8e4-4390-91ef-08ae20297525"
      },
      "source": [
        "model_emb.predict(x)"
      ],
      "execution_count": 284,
      "outputs": [
        {
          "output_type": "execute_result",
          "data": {
            "text/plain": [
              "array([[[ 0.00607767, -0.02806324]],\n",
              "\n",
              "       [[ 0.008509  ,  0.00025522]],\n",
              "\n",
              "       [[ 0.00607767, -0.02806324]],\n",
              "\n",
              "       [[ 0.008509  ,  0.00025522]]], dtype=float32)"
            ]
          },
          "metadata": {
            "tags": []
          },
          "execution_count": 284
        }
      ]
    },
    {
      "cell_type": "code",
      "metadata": {
        "id": "GMEYk1Ym4UqX",
        "colab_type": "code",
        "colab": {}
      },
      "source": [
        "# creating the embedding model\n",
        "model = Sequential()\n",
        "\n",
        "# here\n",
        "'''\n",
        "input_dim = Means the vocabulary size of the vector. I.e the max of a possible values the vector can hold. In our test case, then randomint generates value from 0 - 1000. So the vocabulary size is 100\n",
        "output_dim = The dense vector dimension.\n",
        "input_length = The dimension of the input vector. For example, the size of the one hot encoding.\n",
        "'''\n",
        "# the model will take as input an integer matrix of size (batch, input_length).\n",
        "# the largest integer (i.e. word index) in the input should be\n",
        "# no larger than 999 (vocabulary size).\n",
        "# create the embedding layer\n",
        "model.add(Embedding(input_dim=2, output_dim=5, input_length=1, name=\"Embedding_Layer_1\"))\n",
        "# the output of this model : model.output_shape (None, 10, 64) where None is the batch dimension\n",
        "model.compile(optimizer='rmsprop', loss='mse')"
      ],
      "execution_count": 0,
      "outputs": []
    },
    {
      "cell_type": "code",
      "metadata": {
        "id": "suM6A1mg6ddU",
        "colab_type": "code",
        "colab": {
          "base_uri": "https://localhost:8080/",
          "height": 190
        },
        "outputId": "6e5f2340-a92a-41a1-c9f7-6204563b1ac1"
      },
      "source": [
        "# check the model summary\n",
        "model.summary()"
      ],
      "execution_count": 290,
      "outputs": [
        {
          "output_type": "stream",
          "text": [
            "Model: \"sequential_4\"\n",
            "_________________________________________________________________\n",
            "Layer (type)                 Output Shape              Param #   \n",
            "=================================================================\n",
            "Embedding_Layer_1 (Embedding (None, 1, 5)              5         \n",
            "=================================================================\n",
            "Total params: 5\n",
            "Trainable params: 5\n",
            "Non-trainable params: 0\n",
            "_________________________________________________________________\n"
          ],
          "name": "stdout"
        }
      ]
    },
    {
      "cell_type": "code",
      "metadata": {
        "id": "9o7Tlh9VkNGB",
        "colab_type": "code",
        "colab": {
          "base_uri": "https://localhost:8080/",
          "height": 34
        },
        "outputId": "f253dc8b-ce1c-4636-f9db-0edb15e8ce03"
      },
      "source": [
        "input_array.shape"
      ],
      "execution_count": 262,
      "outputs": [
        {
          "output_type": "execute_result",
          "data": {
            "text/plain": [
              "(32, 10)"
            ]
          },
          "metadata": {
            "tags": []
          },
          "execution_count": 262
        }
      ]
    },
    {
      "cell_type": "code",
      "metadata": {
        "id": "LeadfyxR6mvh",
        "colab_type": "code",
        "colab": {
          "base_uri": "https://localhost:8080/",
          "height": 208
        },
        "outputId": "7f2d822d-c810-493e-bfff-22e717ef14a7"
      },
      "source": [
        "output_array = model.predict(x)\n",
        "output_array"
      ],
      "execution_count": 294,
      "outputs": [
        {
          "output_type": "execute_result",
          "data": {
            "text/plain": [
              "array([[[ 0.02718652, -0.01959752, -0.02768045, -0.04441366,\n",
              "         -0.04159755]],\n",
              "\n",
              "       [[-0.0247982 ,  0.02577514,  0.00235901, -0.04838061,\n",
              "         -0.03712945]],\n",
              "\n",
              "       [[ 0.02718652, -0.01959752, -0.02768045, -0.04441366,\n",
              "         -0.04159755]],\n",
              "\n",
              "       [[-0.0247982 ,  0.02577514,  0.00235901, -0.04838061,\n",
              "         -0.03712945]]], dtype=float32)"
            ]
          },
          "metadata": {
            "tags": []
          },
          "execution_count": 294
        }
      ]
    },
    {
      "cell_type": "code",
      "metadata": {
        "id": "90VXOLsM7_1C",
        "colab_type": "code",
        "colab": {
          "base_uri": "https://localhost:8080/",
          "height": 34
        },
        "outputId": "d0d5e330-647d-4903-f223-8d6d8deb1025"
      },
      "source": [
        "x1 = input_array[0]\n",
        "x2 = input_array[1]\n",
        "\n",
        "# calculating the cosing similarity of two vectors in the orginal space\n",
        "a_dot = np.dot(x1, x2)\n",
        "similar = a_dot / (np.linalg.norm(x1) * np.linalg.norm(x2))\n",
        "similar"
      ],
      "execution_count": 72,
      "outputs": [
        {
          "output_type": "execute_result",
          "data": {
            "text/plain": [
              "1.0"
            ]
          },
          "metadata": {
            "tags": []
          },
          "execution_count": 72
        }
      ]
    },
    {
      "cell_type": "code",
      "metadata": {
        "id": "pQb8xhZv9snq",
        "colab_type": "code",
        "colab": {}
      },
      "source": [
        "output_array[0].reshape(64,)"
      ],
      "execution_count": 0,
      "outputs": []
    },
    {
      "cell_type": "code",
      "metadata": {
        "id": "32IZXT099lz9",
        "colab_type": "code",
        "colab": {
          "base_uri": "https://localhost:8080/",
          "height": 34
        },
        "outputId": "5a179bc9-1061-4bec-c09e-eb2de3bfd4e5"
      },
      "source": [
        "x1 = output_array[0].reshape(64,)\n",
        "x2 = output_array[1].reshape(64,)\n",
        "\n",
        "# calculating the cosing similarity of two vectors in the embedding space\n",
        "a_dot = np.dot(x1, x2)\n",
        "similar = a_dot / (np.linalg.norm(x1) * np.linalg.norm(x2))\n",
        "similar"
      ],
      "execution_count": 86,
      "outputs": [
        {
          "output_type": "execute_result",
          "data": {
            "text/plain": [
              "-0.1322437"
            ]
          },
          "metadata": {
            "tags": []
          },
          "execution_count": 86
        }
      ]
    },
    {
      "cell_type": "code",
      "metadata": {
        "id": "6wYbPRPo9fW5",
        "colab_type": "code",
        "colab": {}
      },
      "source": [
        ""
      ],
      "execution_count": 0,
      "outputs": []
    }
  ]
}