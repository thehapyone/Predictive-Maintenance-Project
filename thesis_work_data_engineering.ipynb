{
  "nbformat": 4,
  "nbformat_minor": 0,
  "metadata": {
    "colab": {
      "name": "thesis_work-data_engineering",
      "provenance": [],
      "collapsed_sections": [],
      "toc_visible": true,
      "machine_shape": "hm",
      "authorship_tag": "ABX9TyMoKj3M4QPdVb0def6oB2kZ",
      "include_colab_link": true
    },
    "kernelspec": {
      "name": "python3",
      "display_name": "Python 3"
    }
  },
  "cells": [
    {
      "cell_type": "markdown",
      "metadata": {
        "id": "view-in-github",
        "colab_type": "text"
      },
      "source": [
        "<a href=\"https://colab.research.google.com/github/thehapyone/Thesis_Project/blob/master/thesis_work_data_engineering.ipynb\" target=\"_parent\"><img src=\"https://colab.research.google.com/assets/colab-badge.svg\" alt=\"Open In Colab\"/></a>"
      ]
    },
    {
      "cell_type": "code",
      "metadata": {
        "id": "pw7KHib1BOW7",
        "colab_type": "code",
        "colab": {
          "base_uri": "https://localhost:8080/",
          "height": 125
        },
        "outputId": "4b320956-2a45-48e4-d811-ab4ed3d6c7a6"
      },
      "source": [
        "from google.colab import drive\n",
        "drive.mount('/content/drive')"
      ],
      "execution_count": 4,
      "outputs": [
        {
          "output_type": "stream",
          "text": [
            "Go to this URL in a browser: https://accounts.google.com/o/oauth2/auth?client_id=947318989803-6bn6qk8qdgf4n4g3pfee6491hc0brc4i.apps.googleusercontent.com&redirect_uri=urn%3aietf%3awg%3aoauth%3a2.0%3aoob&response_type=code&scope=email%20https%3a%2f%2fwww.googleapis.com%2fauth%2fdocs.test%20https%3a%2f%2fwww.googleapis.com%2fauth%2fdrive%20https%3a%2f%2fwww.googleapis.com%2fauth%2fdrive.photos.readonly%20https%3a%2f%2fwww.googleapis.com%2fauth%2fpeopleapi.readonly\n",
            "\n",
            "Enter your authorization code:\n",
            "··········\n",
            "Mounted at /content/drive\n"
          ],
          "name": "stdout"
        }
      ]
    },
    {
      "cell_type": "code",
      "metadata": {
        "id": "1sKsjEr_BloS",
        "colab_type": "code",
        "colab": {}
      },
      "source": [
        "import pandas as pd\n",
        "import numpy as np"
      ],
      "execution_count": 0,
      "outputs": []
    },
    {
      "cell_type": "markdown",
      "metadata": {
        "id": "wvbpEWqxBWNJ",
        "colab_type": "text"
      },
      "source": [
        "## Data Engineering"
      ]
    },
    {
      "cell_type": "code",
      "metadata": {
        "id": "EX-JRzUlFSt2",
        "colab_type": "code",
        "colab": {}
      },
      "source": [
        "# Loading the Thesis data"
      ],
      "execution_count": 0,
      "outputs": []
    },
    {
      "cell_type": "code",
      "metadata": {
        "id": "HF3nNj15BTAO",
        "colab_type": "code",
        "colab": {}
      },
      "source": [
        "data_repairs = pd.read_csv(\"drive/My Drive/Colab Notebooks/Thesis/data/PAC_REPAIRS_TRB_20190625_anonymized.csv\", low_memory=True)\n",
        "data1 = pd.read_csv(\"drive/My Drive/Colab Notebooks/Thesis/data/LVD_DL20190610_0_anonymized.csv\", sep=';', low_memory=False)\n",
        "data2 = pd.read_csv(\"drive/My Drive/Colab Notebooks/Thesis/data/LVD_DL20190610_1_anonymized.csv\", sep=';', low_memory=False)\n",
        "data3 = pd.read_csv(\"drive/My Drive/Colab Notebooks/Thesis/data/LVD_DL20190610_2_anonymized.csv\", sep=';', low_memory=False)\n",
        "data4 = pd.read_csv(\"drive/My Drive/Colab Notebooks/Thesis/data/LVD_DL20190610_3_anonymized.csv\", sep=';', low_memory=False)\n",
        "\n"
      ],
      "execution_count": 0,
      "outputs": []
    },
    {
      "cell_type": "code",
      "metadata": {
        "id": "o4mKw0RoCKPG",
        "colab_type": "code",
        "colab": {
          "base_uri": "https://localhost:8080/",
          "height": 167
        },
        "outputId": "1f50890e-9194-45bc-c15a-985f044d10f5"
      },
      "source": [
        "data_repairs.head(4)"
      ],
      "execution_count": 10,
      "outputs": [
        {
          "output_type": "execute_result",
          "data": {
            "text/html": [
              "<div>\n",
              "<style scoped>\n",
              "    .dataframe tbody tr th:only-of-type {\n",
              "        vertical-align: middle;\n",
              "    }\n",
              "\n",
              "    .dataframe tbody tr th {\n",
              "        vertical-align: top;\n",
              "    }\n",
              "\n",
              "    .dataframe thead th {\n",
              "        text-align: right;\n",
              "    }\n",
              "</style>\n",
              "<table border=\"1\" class=\"dataframe\">\n",
              "  <thead>\n",
              "    <tr style=\"text-align: right;\">\n",
              "      <th></th>\n",
              "      <th>Unnamed: 0;T_CHASSIS;PART_CODE;Record_Count;RepairDate</th>\n",
              "    </tr>\n",
              "  </thead>\n",
              "  <tbody>\n",
              "    <tr>\n",
              "      <th>0</th>\n",
              "      <td>0;O-717289;VO-23083776;1;2019-01-09 00:00:00.0...</td>\n",
              "    </tr>\n",
              "    <tr>\n",
              "      <th>1</th>\n",
              "      <td>1;O-667412;VO-85020372;1;2018-07-28 00:00:00.0...</td>\n",
              "    </tr>\n",
              "    <tr>\n",
              "      <th>2</th>\n",
              "      <td>2;O-736946;VO-20781146;1;2017-08-24 00:00:00.0...</td>\n",
              "    </tr>\n",
              "    <tr>\n",
              "      <th>3</th>\n",
              "      <td>3;O-884007;VO-20784537;1;2019-03-01 00:00:00.0...</td>\n",
              "    </tr>\n",
              "  </tbody>\n",
              "</table>\n",
              "</div>"
            ],
            "text/plain": [
              "  Unnamed: 0;T_CHASSIS;PART_CODE;Record_Count;RepairDate\n",
              "0  0;O-717289;VO-23083776;1;2019-01-09 00:00:00.0...    \n",
              "1  1;O-667412;VO-85020372;1;2018-07-28 00:00:00.0...    \n",
              "2  2;O-736946;VO-20781146;1;2017-08-24 00:00:00.0...    \n",
              "3  3;O-884007;VO-20784537;1;2019-03-01 00:00:00.0...    "
            ]
          },
          "metadata": {
            "tags": []
          },
          "execution_count": 10
        }
      ]
    },
    {
      "cell_type": "code",
      "metadata": {
        "id": "fY9VU2CwFPUq",
        "colab_type": "code",
        "outputId": "2f87395f-78d8-431f-ced1-ee90bf9a9db5",
        "colab": {
          "base_uri": "https://localhost:8080/",
          "height": 34
        }
      },
      "source": [
        "print (\"All data size - \", data1.shape, data2.shape, data3.shape, data4.shape)"
      ],
      "execution_count": 11,
      "outputs": [
        {
          "output_type": "stream",
          "text": [
            "All data size -  (100000, 447) (100000, 447) (100000, 447) (36677, 447)\n"
          ],
          "name": "stdout"
        }
      ]
    },
    {
      "cell_type": "code",
      "metadata": {
        "id": "bSxvYTtpHaAM",
        "colab_type": "code",
        "outputId": "19c85f84-b85d-4c18-e3f1-580258bcf344",
        "colab": {
          "base_uri": "https://localhost:8080/",
          "height": 34
        }
      },
      "source": [
        "# fusing all the data together\n",
        "raw_data = pd.concat([data1, data2, data3, data4])\n",
        "raw_data.shape"
      ],
      "execution_count": 12,
      "outputs": [
        {
          "output_type": "execute_result",
          "data": {
            "text/plain": [
              "(336677, 447)"
            ]
          },
          "metadata": {
            "tags": []
          },
          "execution_count": 12
        }
      ]
    },
    {
      "cell_type": "markdown",
      "metadata": {
        "id": "KkkpXGdgKyeX",
        "colab_type": "text"
      },
      "source": [
        "the new data contains a total (336677 by 477)"
      ]
    },
    {
      "cell_type": "code",
      "metadata": {
        "id": "ix4DFcEUKLqp",
        "colab_type": "code",
        "outputId": "5abed202-95ab-4591-f33d-2d9f07077180",
        "colab": {
          "base_uri": "https://localhost:8080/",
          "height": 141
        }
      },
      "source": [
        "print (raw_data.head(4))"
      ],
      "execution_count": 13,
      "outputs": [
        {
          "output_type": "stream",
          "text": [
            "  BIWEEK_SEND_DATE T_CHASSIS  ...  VFE_0008_HAS_PTO           LAST_RUN.1\n",
            "0       2018-10-01  O-689666  ...                 1  2019-05-14 10:32:00\n",
            "1       2019-02-01  N-809250  ...                 1  2019-05-14 10:32:00\n",
            "2       2017-04-15  N-756592  ...                 0  2019-05-14 10:32:00\n",
            "3       2018-07-01  O-693195  ...                 0  2019-05-14 10:32:00\n",
            "\n",
            "[4 rows x 447 columns]\n"
          ],
          "name": "stdout"
        }
      ]
    },
    {
      "cell_type": "code",
      "metadata": {
        "id": "8V2BuVBFCGMx",
        "colab_type": "code",
        "colab": {
          "base_uri": "https://localhost:8080/",
          "height": 34
        },
        "outputId": "818a1434-01d1-461f-c09a-3d86d9856c71"
      },
      "source": [
        "# check for missing values\n",
        "missing_cols = raw_data.isnull().sum()\n",
        "remaing_rols_after_na = raw_data.dropna(axis=0)\n",
        "remaing_rols_after_na.shape\n",
        "print ('No Samples with Missing values: ', raw_data.shape[0] - remaing_rols_after_na.shape[0])"
      ],
      "execution_count": 39,
      "outputs": [
        {
          "output_type": "stream",
          "text": [
            "No Samples with Missing values:  169719\n"
          ],
          "name": "stdout"
        }
      ]
    },
    {
      "cell_type": "code",
      "metadata": {
        "id": "-10eHXZCHsss",
        "colab_type": "code",
        "colab": {
          "base_uri": "https://localhost:8080/",
          "height": 34
        },
        "outputId": "1701e78c-b7aa-40ff-e97c-822f0e9254a8"
      },
      "source": [
        "# percentage of missing samples\n",
        "print (' Percentage of missing samples:{0:8.2f}%'.format(((raw_data.shape[0] - remaing_rols_after_na.shape[0])/raw_data.shape[0])*100))"
      ],
      "execution_count": 56,
      "outputs": [
        {
          "output_type": "stream",
          "text": [
            " Percentage of missing samples:   50.41%\n"
          ],
          "name": "stdout"
        }
      ]
    },
    {
      "cell_type": "code",
      "metadata": {
        "id": "LraHPhqaEcBx",
        "colab_type": "code",
        "colab": {
          "base_uri": "https://localhost:8080/",
          "height": 34
        },
        "outputId": "4d8210d8-4820-464a-c95c-40a3c6a7e8d3"
      },
      "source": [
        "# Find the columns with those missing values\n",
        "missing_cols = missing_cols[missing_cols > 0]\n",
        "missing_cols.shape"
      ],
      "execution_count": 35,
      "outputs": [
        {
          "output_type": "execute_result",
          "data": {
            "text/plain": [
              "(365,)"
            ]
          },
          "metadata": {
            "tags": []
          },
          "execution_count": 35
        }
      ]
    },
    {
      "cell_type": "markdown",
      "metadata": {
        "id": "EkshDornEIFX",
        "colab_type": "text"
      },
      "source": [
        "We currently have a total of '2521045' missing values in the data. We will need a way to sort that.\n",
        "'365' columns out of a total 447 columns have missing values.\n",
        "A total of 169719 out of 336677 samples have missing values.\n",
        " Percentage of missing samples:   50.41%"
      ]
    },
    {
      "cell_type": "code",
      "metadata": {
        "id": "tU0Y8ZEWJ83R",
        "colab_type": "code",
        "colab": {}
      },
      "source": [
        "# save combined data as a single csv file\n",
        "raw_data.to_csv(\"drive/My Drive/Colab Notebooks/Thesis/data/combined_data.csv\", sep=';', index=False)\n"
      ],
      "execution_count": 0,
      "outputs": []
    },
    {
      "cell_type": "code",
      "metadata": {
        "id": "LlUiHH_SKqQi",
        "colab_type": "code",
        "colab": {
          "base_uri": "https://localhost:8080/",
          "height": 34
        },
        "outputId": "39e58bdf-e6b0-4f6a-bf04-330537770d9c"
      },
      "source": [
        "# confirming the load the new data\n",
        "data5 = pd.read_csv(\"drive/My Drive/Colab Notebooks/Thesis/data/combined_data.csv\", sep=';', low_memory=False)\n",
        "data5.shape"
      ],
      "execution_count": 5,
      "outputs": [
        {
          "output_type": "execute_result",
          "data": {
            "text/plain": [
              "(336677, 447)"
            ]
          },
          "metadata": {
            "tags": []
          },
          "execution_count": 5
        }
      ]
    },
    {
      "cell_type": "code",
      "metadata": {
        "id": "n_Z4Qj2YK6R0",
        "colab_type": "code",
        "colab": {
          "base_uri": "https://localhost:8080/",
          "height": 34
        },
        "outputId": "4a91de0e-b82b-4c1f-a8db-31f5d15f523f"
      },
      "source": [
        "data5.isnull().sum().sum()"
      ],
      "execution_count": 6,
      "outputs": [
        {
          "output_type": "execute_result",
          "data": {
            "text/plain": [
              "2521045"
            ]
          },
          "metadata": {
            "tags": []
          },
          "execution_count": 6
        }
      ]
    }
  ]
}